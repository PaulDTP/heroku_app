{
 "cells": [
  {
   "cell_type": "markdown",
   "metadata": {},
   "source": [
    "# Binance Test Net API Research"
   ]
  },
  {
   "cell_type": "code",
   "execution_count": 7,
   "metadata": {},
   "outputs": [],
   "source": [
    "import pandas as pd\n",
    "import numpy as np\n",
    "from binance.client import Client\n",
    "import datetime\n",
    "\n",
    "import requests\n",
    "import matplotlib.pyplot as plt\n",
    "import matplotlib.animation as animation\n",
    "import websocket\n",
    "import json\n",
    "\n",
    "import plotly.graph_objs as go"
   ]
  },
  {
   "cell_type": "code",
   "execution_count": null,
   "metadata": {},
   "outputs": [],
   "source": [
    "### Testnet URLs\n",
    "# https://testnet.binance.vision/api\n",
    "# wss://testnet.binance.vision/ws-api/v3\n",
    "# wss://testnet.binance.vision/ws\n",
    "# wss://testnet.binance.vision/stream\n",
    "\n",
    "# Binance Spot Test Network: https://testnet.binance.vision/\n",
    "# API Key: odwF9bVsSsxjZnckgbSu3NfUgGqqJ2sow4OelwjEttIBB08r3Z5umQL0A03lp2Gd\n",
    "# Secret key: Q3bcPKvbvlVpzv5BQe3lj7EkWdRhevEp24Oi7TENce6xO0FiXUNQKDa47QTyyKcK"
   ]
  },
  {
   "cell_type": "code",
   "execution_count": 24,
   "metadata": {},
   "outputs": [
    {
     "name": "stdout",
     "output_type": "stream",
     "text": [
      "WebSocket connection opened\n"
     ]
    },
    {
     "data": {
      "text/plain": [
       "False"
      ]
     },
     "execution_count": 24,
     "metadata": {},
     "output_type": "execute_result"
    }
   ],
   "source": [
    "# Global variables for storing price data\n",
    "timestamps = []\n",
    "price = {'open':[], 'high':[], 'low':[], 'close':[]}\n",
    "max_messages = 5  # Maximum number of messages to receive before closing websocket\n",
    "\n",
    "# Initial dashboard graph\n",
    "fig = go.Figure()\n",
    "\n",
    "def time_conv(timestamp):\n",
    "    return datetime.datetime.fromtimestamp(timestamp/ 1000).strftime('%Y-%m-%d %H:%M:%S.%f')[:-4]\n",
    "\n",
    "def on_error(ws, error):\n",
    "    print(\"WebSocket error:\", error)\n",
    "\n",
    "def on_open(ws):\n",
    "    print(\"WebSocket connection opened\")\n",
    "\n",
    "def on_close(ws):\n",
    "    fig.show()\n",
    "    print('done')\n",
    "    print(\"WebSocket connection closed\")\n",
    "\n",
    "def on_message(ws, message):\n",
    "    global data\n",
    "    data = json.loads(message)\n",
    "    # Extract timestamp and price from the data\n",
    "    timestamp = data['E']\n",
    "\n",
    "    # Append timestamp and price to the lists\n",
    "    timestamps.append(time_conv(data['E']))\n",
    "    price['open'].append(data['o'])\n",
    "    price['high'].append(data['h'])\n",
    "    price['low'].append(data['l'])\n",
    "    price['close'].append(data['c'])\n",
    "\n",
    "    # Update dashboard graph with new data\n",
    "    update_graph()\n",
    "\n",
    "    # Terminate the WebSocket connection after reaching the maximum number of messages\n",
    "    if len(timestamps) >= max_messages:\n",
    "        ws.close()\n",
    "    \n",
    "'''# Define the callback to update the graph\n",
    "@app.callback(Output('live-graph', 'figure'),\n",
    "              events=[Event('interval', 'interval')])'''\n",
    "def update_graph():\n",
    "    # Update the graph\n",
    "    fig.update_xaxes(range=[min(timestamps), max(timestamps)])\n",
    "    fig.update_yaxes(range=[min(price['open']), max(price['open'])])\n",
    "    fig.update_traces(\n",
    "        x=timestamps,\n",
    "        open=price['open'],\n",
    "        high=price['high'],\n",
    "        low=price['low'],\n",
    "        close=price['close']\n",
    "    )\n",
    "    #return fig\n",
    "\n",
    "# Binance WebSocket API endpoint for BTCUSDT symbol\n",
    "ws_url = 'wss://testnet.binance.vision/ws/btcusdt@miniTicker'\n",
    "\n",
    "# Start WebSocket connection\n",
    "ws = websocket.WebSocketApp(\n",
    "        url=ws_url,\n",
    "        on_open=on_open,\n",
    "        on_message=on_message,\n",
    "        on_error=on_error,\n",
    "        on_close=on_close\n",
    "    )\n",
    "ws.run_forever()"
   ]
  },
  {
   "cell_type": "code",
   "execution_count": 29,
   "metadata": {},
   "outputs": [
    {
     "data": {
      "text/plain": [
       "False"
      ]
     },
     "execution_count": 29,
     "metadata": {},
     "output_type": "execute_result"
    }
   ],
   "source": [
    "ws.keep_running"
   ]
  },
  {
   "cell_type": "code",
   "execution_count": 10,
   "metadata": {},
   "outputs": [],
   "source": [
    "ws.close()"
   ]
  },
  {
   "cell_type": "code",
   "execution_count": 25,
   "metadata": {},
   "outputs": [
    {
     "data": {
      "text/plain": [
       "{'e': '24hrMiniTicker',\n",
       " 'E': 1685569253923,\n",
       " 's': 'BTCUSDT',\n",
       " 'c': '27083.51000000',\n",
       " 'o': '27791.84000000',\n",
       " 'h': '27831.69000000',\n",
       " 'l': '24050.00000000',\n",
       " 'v': '4067.73027800',\n",
       " 'q': '110648845.41496455'}"
      ]
     },
     "execution_count": 25,
     "metadata": {},
     "output_type": "execute_result"
    }
   ],
   "source": [
    "data"
   ]
  },
  {
   "cell_type": "code",
   "execution_count": 11,
   "metadata": {},
   "outputs": [
    {
     "data": {
      "text/plain": [
       "['2023-05-31 14:29:29.27',\n",
       " '2023-05-31 14:29:29.27',\n",
       " '2023-05-31 14:29:36.84',\n",
       " '2023-05-31 14:29:37.83',\n",
       " '2023-05-31 14:29:38.83']"
      ]
     },
     "execution_count": 11,
     "metadata": {},
     "output_type": "execute_result"
    }
   ],
   "source": [
    "timestamps"
   ]
  },
  {
   "cell_type": "code",
   "execution_count": 12,
   "metadata": {},
   "outputs": [
    {
     "data": {
      "text/plain": [
       "{'open': ['27819.79000000',\n",
       "  '27819.79000000',\n",
       "  '27819.79000000',\n",
       "  '27819.79000000',\n",
       "  '27819.79000000'],\n",
       " 'high': ['27831.69000000',\n",
       "  '27831.69000000',\n",
       "  '27831.69000000',\n",
       "  '27831.69000000',\n",
       "  '27831.69000000'],\n",
       " 'low': ['24050.00000000',\n",
       "  '24050.00000000',\n",
       "  '24050.00000000',\n",
       "  '24050.00000000',\n",
       "  '24050.00000000'],\n",
       " 'close': ['27049.26000000',\n",
       "  '27049.26000000',\n",
       "  '27049.26000000',\n",
       "  '27049.59000000',\n",
       "  '27050.01000000']}"
      ]
     },
     "execution_count": 12,
     "metadata": {},
     "output_type": "execute_result"
    }
   ],
   "source": [
    "price"
   ]
  },
  {
   "cell_type": "code",
   "execution_count": 28,
   "metadata": {},
   "outputs": [
    {
     "ename": "NameError",
     "evalue": "name 'response' is not defined",
     "output_type": "error",
     "traceback": [
      "\u001b[0;31m---------------------------------------------------------------------------\u001b[0m",
      "\u001b[0;31mNameError\u001b[0m                                 Traceback (most recent call last)",
      "Cell \u001b[0;32mIn[28], line 39\u001b[0m\n\u001b[1;32m      9\u001b[0m app\u001b[39m.\u001b[39mindex_string \u001b[39m=\u001b[39m \u001b[39m'''\u001b[39m\n\u001b[1;32m     10\u001b[0m \u001b[39m<!DOCTYPE html>\u001b[39m\n\u001b[1;32m     11\u001b[0m \u001b[39m<html>\u001b[39m\n\u001b[0;32m   (...)\u001b[0m\n\u001b[1;32m     35\u001b[0m \u001b[39m</html>\u001b[39m\n\u001b[1;32m     36\u001b[0m \u001b[39m'''\u001b[39m\n\u001b[1;32m     38\u001b[0m \u001b[39m# retrieving components for dashboard display\u001b[39;00m\n\u001b[0;32m---> 39\u001b[0m crypto_graph \u001b[39m=\u001b[39m backend\u001b[39m.\u001b[39;49mmake_graph(app)\n\u001b[1;32m     40\u001b[0m updated \u001b[39m=\u001b[39m backend\u001b[39m.\u001b[39mlast_updated()\n\u001b[1;32m     41\u001b[0m time_interval\u001b[39m=\u001b[39m\u001b[39m1000\u001b[39m\n",
      "File \u001b[0;32m~/Desktop/Zeppelin/z-algo/mysite/backend.py:104\u001b[0m, in \u001b[0;36mmake_graph\u001b[0;34m(app)\u001b[0m\n\u001b[1;32m     96\u001b[0m \u001b[39m# Make the API call\u001b[39;00m\n\u001b[1;32m     97\u001b[0m ws \u001b[39m=\u001b[39m websocket\u001b[39m.\u001b[39mWebSocketApp(\n\u001b[1;32m     98\u001b[0m     url\u001b[39m=\u001b[39mws_url,\n\u001b[1;32m     99\u001b[0m     on_open\u001b[39m=\u001b[39mon_open,\n\u001b[0;32m   (...)\u001b[0m\n\u001b[1;32m    102\u001b[0m     on_close\u001b[39m=\u001b[39mon_close\n\u001b[1;32m    103\u001b[0m )\n\u001b[0;32m--> 104\u001b[0m data \u001b[39m=\u001b[39m response\u001b[39m.\u001b[39mjson()\n\u001b[1;32m    105\u001b[0m \u001b[39m# need to access data somewhere here\u001b[39;00m\n\u001b[1;32m    106\u001b[0m \n\u001b[1;32m    107\u001b[0m \u001b[39m# Store the data in a Pandas dataframe\u001b[39;00m\n\u001b[1;32m    108\u001b[0m df \u001b[39m=\u001b[39m pd\u001b[39m.\u001b[39mDataFrame(data, index\u001b[39m=\u001b[39m[\u001b[39m0\u001b[39m])\n",
      "\u001b[0;31mNameError\u001b[0m: name 'response' is not defined"
     ]
    }
   ],
   "source": [
    "\n",
    "from dash import dash, html, dcc, Input, Output\n",
    "\n",
    "# custom files\n",
    "import backend\n",
    "\n",
    "app = dash.Dash(__name__)\n",
    "\n",
    "# Google Analytics tag\n",
    "app.index_string = '''\n",
    "<!DOCTYPE html>\n",
    "<html>\n",
    "    <head>\n",
    "        <!-- Google tag (gtag.js) -->\n",
    "        <script async src=\"https://www.googletagmanager.com/gtag/js?id=G-WMWKTVG0WM\"></script>\n",
    "        <script>\n",
    "        window.dataLayer = window.dataLayer || [];\n",
    "        function gtag(){dataLayer.push(arguments);}\n",
    "        gtag('js', new Date());\n",
    "\n",
    "        gtag('config', 'G-WMWKTVG0WM');\n",
    "        </script>\n",
    "        {%metas%}\n",
    "        <title>{%title%}</title>\n",
    "        {%favicon%}\n",
    "        {%css%}\n",
    "    </head>\n",
    "    <body>\n",
    "        {%app_entry%}\n",
    "        <footer>\n",
    "            {%config%}\n",
    "            {%scripts%}\n",
    "            {%renderer%}\n",
    "        </footer>\n",
    "    </body>\n",
    "</html>\n",
    "'''\n",
    "\n",
    "# retrieving components for dashboard display\n",
    "crypto_graph = make_graph(app)\n",
    "updated = last_updated()\n",
    "time_interval=1000\n",
    "\n",
    "# dashboard layout\n",
    "app.layout = html.Div(children=[\n",
    "    html.H2(children=f\"Last update: {updated} UTC\"),\n",
    "    #html.Div(children=\"Menu\"),\n",
    "    dcc.Dropdown(['Coin Prices (Real Time)', 'Our Trades', 'Our Returns'], 'Current Coin Prices'),\n",
    "    dcc.Graph(id='crypto-graph', figure=crypto_graph),\n",
    "    dcc.Interval(interval=time_interval)\n",
    "    #, generate_table(data)\n",
    "\n",
    "])\n",
    "\n",
    "# Run the app\n",
    "if __name__ == '__main__':\n",
    "    app.run_server(debug=True)"
   ]
  },
  {
   "cell_type": "code",
   "execution_count": 22,
   "metadata": {},
   "outputs": [
    {
     "name": "stdout",
     "output_type": "stream",
     "text": [
      "Figure({\n",
      "    'data': [],\n",
      "    'layout': {'template': '...',\n",
      "               'xaxis': {'range': ['2023-05-31 14:30:53.83', '2023-05-31 14:31:03.26']},\n",
      "               'yaxis': {'range': ['27819.78000000', '27819.79000000']}}\n",
      "})\n"
     ]
    }
   ],
   "source": [
    "print(fig)"
   ]
  },
  {
   "cell_type": "code",
   "execution_count": 23,
   "metadata": {},
   "outputs": [
    {
     "data": {
      "text/plain": [
       "{'open': ['27819.79000000',\n",
       "  '27819.79000000',\n",
       "  '27819.78000000',\n",
       "  '27819.78000000',\n",
       "  '27819.79000000'],\n",
       " 'high': ['27831.69000000',\n",
       "  '27831.69000000',\n",
       "  '27831.69000000',\n",
       "  '27831.69000000',\n",
       "  '27831.69000000'],\n",
       " 'low': ['24050.00000000',\n",
       "  '24050.00000000',\n",
       "  '24050.00000000',\n",
       "  '24050.00000000',\n",
       "  '24050.00000000'],\n",
       " 'close': ['27062.12000000',\n",
       "  '27062.14000000',\n",
       "  '27062.18000000',\n",
       "  '27062.18000000',\n",
       "  '27062.21000000']}"
      ]
     },
     "execution_count": 23,
     "metadata": {},
     "output_type": "execute_result"
    }
   ],
   "source": [
    "price"
   ]
  },
  {
   "cell_type": "code",
   "execution_count": null,
   "metadata": {},
   "outputs": [],
   "source": []
  }
 ],
 "metadata": {
  "kernelspec": {
   "display_name": "zeppelin",
   "language": "python",
   "name": "python3"
  },
  "language_info": {
   "codemirror_mode": {
    "name": "ipython",
    "version": 3
   },
   "file_extension": ".py",
   "mimetype": "text/x-python",
   "name": "python",
   "nbconvert_exporter": "python",
   "pygments_lexer": "ipython3",
   "version": "3.9.6"
  }
 },
 "nbformat": 4,
 "nbformat_minor": 2
}
