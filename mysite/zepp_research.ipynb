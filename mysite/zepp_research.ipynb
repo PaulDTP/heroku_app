{
 "cells": [
  {
   "cell_type": "markdown",
   "metadata": {},
   "source": [
    "# Binance Test Net API Research"
   ]
  },
  {
   "cell_type": "code",
   "execution_count": 1,
   "metadata": {},
   "outputs": [],
   "source": [
    "import pandas as pd\n",
    "import numpy as np\n",
    "from binance.client import Client\n",
    "import datetime\n",
    "\n",
    "import requests\n",
    "import matplotlib.pyplot as plt\n",
    "import matplotlib.animation as animation\n",
    "import websocket\n",
    "import json\n",
    "\n",
    "import plotly.graph_objs as go"
   ]
  },
  {
   "cell_type": "code",
   "execution_count": null,
   "metadata": {},
   "outputs": [],
   "source": [
    "### Testnet URLs\n",
    "# https://testnet.binance.vision/api\n",
    "# wss://testnet.binance.vision/ws-api/v3\n",
    "# wss://testnet.binance.vision/ws\n",
    "# wss://testnet.binance.vision/stream\n",
    "\n",
    "# Binance Spot Test Network: https://testnet.binance.vision/\n",
    "# API Key: odwF9bVsSsxjZnckgbSu3NfUgGqqJ2sow4OelwjEttIBB08r3Z5umQL0A03lp2Gd\n",
    "# Secret key: Q3bcPKvbvlVpzv5BQe3lj7EkWdRhevEp24Oi7TENce6xO0FiXUNQKDa47QTyyKcK"
   ]
  },
  {
   "cell_type": "code",
   "execution_count": null,
   "metadata": {},
   "outputs": [],
   "source": [
    "# Binance API endpoint for fetching historical kline data\n",
    "url = 'https://testnet.binance.vision/api/v3/klines'\n",
    "ws_url = 'wss://stream.binancefuture.com'\n",
    "\n",
    "# Parameters for the API request\n",
    "symbol = 'BTCUSDT'  # Bitcoin symbol\n",
    "interval = '1h'    # 1-hour intervals\n",
    "limit = 100        # Number of data points to fetch\n",
    "\n",
    "# Send GET request to the Binance API\n",
    "response = requests.get(url, params={'symbol': symbol, 'interval': interval, 'limit': limit})\n",
    "\n",
    "# Parse the response JSON\n",
    "data = response.json()\n",
    "\n",
    "# Extract the closing prices from the data\n",
    "prices = [float(entry[4]) for entry in data]\n",
    "\n",
    "# Create a list of timestamps (optional)\n",
    "\n",
    "timestamps = [entry[0] for entry in data]\n",
    "\n",
    "# Create a time series plot\n",
    "plt.plot(timestamps, prices)\n",
    "plt.xlabel('Timestamp')\n",
    "plt.ylabel('Price (USDT)')\n",
    "plt.title('Bitcoin Price')\n",
    "plt.xticks(rotation=45)\n",
    "plt.tight_layout()\n",
    "plt.show()"
   ]
  },
  {
   "cell_type": "code",
   "execution_count": 4,
   "metadata": {},
   "outputs": [
    {
     "name": "stdout",
     "output_type": "stream",
     "text": [
      "{'e': 'kline', 'E': 1685506317685, 's': 'BTCUSDT', 'k': {'t': 1685506260000, 'T': 1685506319999, 's': 'BTCUSDT', 'i': '1m', 'f': 3845916, 'L': 3845951, 'o': '27652.59000000', 'c': '27650.64000000', 'h': '27652.60000000', 'l': '27650.64000000', 'v': '0.59915900', 'n': 36, 'x': False, 'q': '16567.68244491', 'V': '0.01353700', 'Q': '374.33128620', 'B': '0'}}\n",
      "{'e': 'kline', 'E': 1685506320177, 's': 'BTCUSDT', 'k': {'t': 1685506260000, 'T': 1685506319999, 's': 'BTCUSDT', 'i': '1m', 'f': 3845916, 'L': 3845952, 'o': '27652.59000000', 'c': '27650.64000000', 'h': '27652.60000000', 'l': '27650.64000000', 'v': '0.60015900', 'n': 37, 'x': True, 'q': '16595.33308491', 'V': '0.01453700', 'Q': '401.98192620', 'B': '0'}}\n",
      "{'e': 'kline', 'E': 1685506322388, 's': 'BTCUSDT', 'k': {'t': 1685506320000, 'T': 1685506379999, 's': 'BTCUSDT', 'i': '1m', 'f': 3845953, 'L': 3845956, 'o': '27650.64000000', 'c': '27650.63000000', 'h': '27650.64000000', 'l': '27650.63000000', 'v': '0.00400000', 'n': 4, 'x': False, 'q': '110.60254000', 'V': '0.00200000', 'Q': '55.30128000', 'B': '0'}}\n",
      "{'e': 'kline', 'E': 1685506328155, 's': 'BTCUSDT', 'k': {'t': 1685506320000, 'T': 1685506379999, 's': 'BTCUSDT', 'i': '1m', 'f': 3845953, 'L': 3845957, 'o': '27650.64000000', 'c': '27650.64000000', 'h': '27650.64000000', 'l': '27650.63000000', 'v': '0.00408800', 'n': 5, 'x': False, 'q': '113.03579632', 'V': '0.00208800', 'Q': '57.73453632', 'B': '0'}}\n",
      "{'e': 'kline', 'E': 1685506330389, 's': 'BTCUSDT', 'k': {'t': 1685506320000, 'T': 1685506379999, 's': 'BTCUSDT', 'i': '1m', 'f': 3845953, 'L': 3845958, 'o': '27650.64000000', 'c': '27650.65000000', 'h': '27650.65000000', 'l': '27650.63000000', 'v': '0.00870100', 'n': 6, 'x': False, 'q': '240.58824477', 'V': '0.00670100', 'Q': '185.28698477', 'B': '0'}}\n"
     ]
    },
    {
     "data": {
      "text/plain": [
       "False"
      ]
     },
     "execution_count": 4,
     "metadata": {},
     "output_type": "execute_result"
    }
   ],
   "source": [
    "# Global variables for storing price data\n",
    "timestamps = []\n",
    "prices = []\n",
    "max_messages = 5  # Maximum number of messages to receive\n",
    "\n",
    "def time_conv(time_stamp):\n",
    "    return datetime.datetime.fromtimestamp(time_stamp/ 1000).strftime('%Y-%m-%d %H:%M:%S.%f')[:-5]\n",
    "\n",
    "\n",
    "def on_message(ws, message):\n",
    "    data = json.loads(message)\n",
    "    \n",
    "    # Extract timestamp and price from the data\n",
    "    timestamp = data['E']\n",
    "    price = data['k'] #float(data['k']['c'])\n",
    "    \n",
    "    '''p_open = data['o']\n",
    "    p_close = data['c']\n",
    "    p_high = data['h']\n",
    "    p_low = data['l']'''\n",
    "    \n",
    "    # Append timestamp and price to the lists\n",
    "    timestamps.append(datetime.datetime.fromtimestamp(timestamp / 1000).strftime('%Y-%m-%d %H:%M:%S.%f')[:-5])\n",
    "    #timestamps.append(timestamp) #uncomment for klines\n",
    "    prices.append(price)\n",
    "\n",
    "    # Terminate the WebSocket connection after reaching the maximum number of messages\n",
    "    if len(timestamps) >= max_messages:\n",
    "        ws.close()\n",
    "    \n",
    "    \n",
    "\n",
    "# Binance WebSocket API endpoint for BTCUSDT symbol\n",
    "ws_url = 'wss://testnet.binance.vision/ws/btcusdt@kline_1m'\n",
    "\n",
    "# Start WebSocket connection\n",
    "ws = websocket.WebSocketApp(ws_url, on_message=on_message)\n",
    "ws.run_forever()\n"
   ]
  },
  {
   "cell_type": "code",
   "execution_count": 18,
   "metadata": {},
   "outputs": [],
   "source": [
    "ws.close()"
   ]
  },
  {
   "cell_type": "code",
   "execution_count": 5,
   "metadata": {},
   "outputs": [
    {
     "ename": "NameError",
     "evalue": "name 'data' is not defined",
     "output_type": "error",
     "traceback": [
      "\u001b[0;31m---------------------------------------------------------------------------\u001b[0m",
      "\u001b[0;31mNameError\u001b[0m                                 Traceback (most recent call last)",
      "Cell \u001b[0;32mIn[5], line 1\u001b[0m\n\u001b[0;32m----> 1\u001b[0m \u001b[43mdata\u001b[49m\n",
      "\u001b[0;31mNameError\u001b[0m: name 'data' is not defined"
     ]
    }
   ],
   "source": [
    "data"
   ]
  },
  {
   "cell_type": "code",
   "execution_count": null,
   "metadata": {},
   "outputs": [
    {
     "data": {
      "text/plain": [
       "['2023-05-31 04:09:02.28900',\n",
       " '2023-05-31 04:09:05.10500',\n",
       " '2023-05-31 04:09:08.16500',\n",
       " '2023-05-31 04:09:11.47300',\n",
       " '2023-05-31 04:09:13.81400']"
      ]
     },
     "execution_count": 3,
     "metadata": {},
     "output_type": "execute_result"
    }
   ],
   "source": [
    "timestamps"
   ]
  },
  {
   "cell_type": "code",
   "execution_count": null,
   "metadata": {},
   "outputs": [],
   "source": []
  }
 ],
 "metadata": {
  "kernelspec": {
   "display_name": "zeppelin",
   "language": "python",
   "name": "python3"
  },
  "language_info": {
   "codemirror_mode": {
    "name": "ipython",
    "version": 3
   },
   "file_extension": ".py",
   "mimetype": "text/x-python",
   "name": "python",
   "nbconvert_exporter": "python",
   "pygments_lexer": "ipython3",
   "version": "3.10.5"
  }
 },
 "nbformat": 4,
 "nbformat_minor": 2
}
