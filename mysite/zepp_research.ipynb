{
 "cells": [
  {
   "cell_type": "markdown",
   "metadata": {},
   "source": [
    "# Binance Test Net API Research"
   ]
  },
  {
   "cell_type": "code",
   "execution_count": 1,
   "metadata": {},
   "outputs": [],
   "source": [
    "import os\n",
    "import datetime\n",
    "\n",
    "import pandas as pd\n",
    "import numpy as np\n",
    "from binance.client import Client\n",
    "import requests\n",
    "import matplotlib.pyplot as plt\n",
    "import matplotlib.animation as animation\n",
    "import websocket\n",
    "import json\n",
    "import plotly.graph_objs as go"
   ]
  },
  {
   "cell_type": "code",
   "execution_count": null,
   "metadata": {},
   "outputs": [],
   "source": [
    "### Testnet URLs\n",
    "# https://testnet.binance.vision/api\n",
    "# wss://testnet.binance.vision/ws-api/v3\n",
    "# wss://testnet.binance.vision/ws\n",
    "# wss://testnet.binance.vision/stream\n",
    "\n",
    "# Binance Spot Test Network: https://testnet.binance.vision/\n",
    "# API Key: odwF9bVsSsxjZnckgbSu3NfUgGqqJ2sow4OelwjEttIBB08r3Z5umQL0A03lp2Gd\n",
    "# Secret key: Q3bcPKvbvlVpzv5BQe3lj7EkWdRhevEp24Oi7TENce6xO0FiXUNQKDa47QTyyKcK"
   ]
  },
  {
   "cell_type": "code",
   "execution_count": 2,
   "metadata": {},
   "outputs": [
    {
     "name": "stdout",
     "output_type": "stream",
     "text": [
      "WebSocket connection opened\n"
     ]
    },
    {
     "data": {
      "application/vnd.plotly.v1+json": {
       "config": {
        "plotlyServerURL": "https://plot.ly"
       },
       "data": [
        {
         "close": [
          "27211.83000000",
          "27211.84000000",
          "27211.84000000",
          "27211.27000000",
          "27211.27000000"
         ],
         "high": [
          "27216.18000000",
          "27216.18000000",
          "27216.18000000",
          "27216.18000000",
          "27216.18000000"
         ],
         "low": [
          "27211.75000000",
          "27211.75000000",
          "27211.75000000",
          "27211.27000000",
          "27211.27000000"
         ],
         "open": [
          "27216.18000000",
          "27216.18000000",
          "27216.18000000",
          "27216.18000000",
          "27216.18000000"
         ],
         "type": "candlestick",
         "x": [
          "2023-06-04 14:32:34.48",
          "2023-06-04 14:32:36.86",
          "2023-06-04 14:32:39.63",
          "2023-06-04 14:32:42.25",
          "2023-06-04 14:32:44.39"
         ]
        }
       ],
       "layout": {
        "template": {
         "data": {
          "bar": [
           {
            "error_x": {
             "color": "#2a3f5f"
            },
            "error_y": {
             "color": "#2a3f5f"
            },
            "marker": {
             "line": {
              "color": "#E5ECF6",
              "width": 0.5
             },
             "pattern": {
              "fillmode": "overlay",
              "size": 10,
              "solidity": 0.2
             }
            },
            "type": "bar"
           }
          ],
          "barpolar": [
           {
            "marker": {
             "line": {
              "color": "#E5ECF6",
              "width": 0.5
             },
             "pattern": {
              "fillmode": "overlay",
              "size": 10,
              "solidity": 0.2
             }
            },
            "type": "barpolar"
           }
          ],
          "carpet": [
           {
            "aaxis": {
             "endlinecolor": "#2a3f5f",
             "gridcolor": "white",
             "linecolor": "white",
             "minorgridcolor": "white",
             "startlinecolor": "#2a3f5f"
            },
            "baxis": {
             "endlinecolor": "#2a3f5f",
             "gridcolor": "white",
             "linecolor": "white",
             "minorgridcolor": "white",
             "startlinecolor": "#2a3f5f"
            },
            "type": "carpet"
           }
          ],
          "choropleth": [
           {
            "colorbar": {
             "outlinewidth": 0,
             "ticks": ""
            },
            "type": "choropleth"
           }
          ],
          "contour": [
           {
            "colorbar": {
             "outlinewidth": 0,
             "ticks": ""
            },
            "colorscale": [
             [
              0,
              "#0d0887"
             ],
             [
              0.1111111111111111,
              "#46039f"
             ],
             [
              0.2222222222222222,
              "#7201a8"
             ],
             [
              0.3333333333333333,
              "#9c179e"
             ],
             [
              0.4444444444444444,
              "#bd3786"
             ],
             [
              0.5555555555555556,
              "#d8576b"
             ],
             [
              0.6666666666666666,
              "#ed7953"
             ],
             [
              0.7777777777777778,
              "#fb9f3a"
             ],
             [
              0.8888888888888888,
              "#fdca26"
             ],
             [
              1,
              "#f0f921"
             ]
            ],
            "type": "contour"
           }
          ],
          "contourcarpet": [
           {
            "colorbar": {
             "outlinewidth": 0,
             "ticks": ""
            },
            "type": "contourcarpet"
           }
          ],
          "heatmap": [
           {
            "colorbar": {
             "outlinewidth": 0,
             "ticks": ""
            },
            "colorscale": [
             [
              0,
              "#0d0887"
             ],
             [
              0.1111111111111111,
              "#46039f"
             ],
             [
              0.2222222222222222,
              "#7201a8"
             ],
             [
              0.3333333333333333,
              "#9c179e"
             ],
             [
              0.4444444444444444,
              "#bd3786"
             ],
             [
              0.5555555555555556,
              "#d8576b"
             ],
             [
              0.6666666666666666,
              "#ed7953"
             ],
             [
              0.7777777777777778,
              "#fb9f3a"
             ],
             [
              0.8888888888888888,
              "#fdca26"
             ],
             [
              1,
              "#f0f921"
             ]
            ],
            "type": "heatmap"
           }
          ],
          "heatmapgl": [
           {
            "colorbar": {
             "outlinewidth": 0,
             "ticks": ""
            },
            "colorscale": [
             [
              0,
              "#0d0887"
             ],
             [
              0.1111111111111111,
              "#46039f"
             ],
             [
              0.2222222222222222,
              "#7201a8"
             ],
             [
              0.3333333333333333,
              "#9c179e"
             ],
             [
              0.4444444444444444,
              "#bd3786"
             ],
             [
              0.5555555555555556,
              "#d8576b"
             ],
             [
              0.6666666666666666,
              "#ed7953"
             ],
             [
              0.7777777777777778,
              "#fb9f3a"
             ],
             [
              0.8888888888888888,
              "#fdca26"
             ],
             [
              1,
              "#f0f921"
             ]
            ],
            "type": "heatmapgl"
           }
          ],
          "histogram": [
           {
            "marker": {
             "pattern": {
              "fillmode": "overlay",
              "size": 10,
              "solidity": 0.2
             }
            },
            "type": "histogram"
           }
          ],
          "histogram2d": [
           {
            "colorbar": {
             "outlinewidth": 0,
             "ticks": ""
            },
            "colorscale": [
             [
              0,
              "#0d0887"
             ],
             [
              0.1111111111111111,
              "#46039f"
             ],
             [
              0.2222222222222222,
              "#7201a8"
             ],
             [
              0.3333333333333333,
              "#9c179e"
             ],
             [
              0.4444444444444444,
              "#bd3786"
             ],
             [
              0.5555555555555556,
              "#d8576b"
             ],
             [
              0.6666666666666666,
              "#ed7953"
             ],
             [
              0.7777777777777778,
              "#fb9f3a"
             ],
             [
              0.8888888888888888,
              "#fdca26"
             ],
             [
              1,
              "#f0f921"
             ]
            ],
            "type": "histogram2d"
           }
          ],
          "histogram2dcontour": [
           {
            "colorbar": {
             "outlinewidth": 0,
             "ticks": ""
            },
            "colorscale": [
             [
              0,
              "#0d0887"
             ],
             [
              0.1111111111111111,
              "#46039f"
             ],
             [
              0.2222222222222222,
              "#7201a8"
             ],
             [
              0.3333333333333333,
              "#9c179e"
             ],
             [
              0.4444444444444444,
              "#bd3786"
             ],
             [
              0.5555555555555556,
              "#d8576b"
             ],
             [
              0.6666666666666666,
              "#ed7953"
             ],
             [
              0.7777777777777778,
              "#fb9f3a"
             ],
             [
              0.8888888888888888,
              "#fdca26"
             ],
             [
              1,
              "#f0f921"
             ]
            ],
            "type": "histogram2dcontour"
           }
          ],
          "mesh3d": [
           {
            "colorbar": {
             "outlinewidth": 0,
             "ticks": ""
            },
            "type": "mesh3d"
           }
          ],
          "parcoords": [
           {
            "line": {
             "colorbar": {
              "outlinewidth": 0,
              "ticks": ""
             }
            },
            "type": "parcoords"
           }
          ],
          "pie": [
           {
            "automargin": true,
            "type": "pie"
           }
          ],
          "scatter": [
           {
            "fillpattern": {
             "fillmode": "overlay",
             "size": 10,
             "solidity": 0.2
            },
            "type": "scatter"
           }
          ],
          "scatter3d": [
           {
            "line": {
             "colorbar": {
              "outlinewidth": 0,
              "ticks": ""
             }
            },
            "marker": {
             "colorbar": {
              "outlinewidth": 0,
              "ticks": ""
             }
            },
            "type": "scatter3d"
           }
          ],
          "scattercarpet": [
           {
            "marker": {
             "colorbar": {
              "outlinewidth": 0,
              "ticks": ""
             }
            },
            "type": "scattercarpet"
           }
          ],
          "scattergeo": [
           {
            "marker": {
             "colorbar": {
              "outlinewidth": 0,
              "ticks": ""
             }
            },
            "type": "scattergeo"
           }
          ],
          "scattergl": [
           {
            "marker": {
             "colorbar": {
              "outlinewidth": 0,
              "ticks": ""
             }
            },
            "type": "scattergl"
           }
          ],
          "scattermapbox": [
           {
            "marker": {
             "colorbar": {
              "outlinewidth": 0,
              "ticks": ""
             }
            },
            "type": "scattermapbox"
           }
          ],
          "scatterpolar": [
           {
            "marker": {
             "colorbar": {
              "outlinewidth": 0,
              "ticks": ""
             }
            },
            "type": "scatterpolar"
           }
          ],
          "scatterpolargl": [
           {
            "marker": {
             "colorbar": {
              "outlinewidth": 0,
              "ticks": ""
             }
            },
            "type": "scatterpolargl"
           }
          ],
          "scatterternary": [
           {
            "marker": {
             "colorbar": {
              "outlinewidth": 0,
              "ticks": ""
             }
            },
            "type": "scatterternary"
           }
          ],
          "surface": [
           {
            "colorbar": {
             "outlinewidth": 0,
             "ticks": ""
            },
            "colorscale": [
             [
              0,
              "#0d0887"
             ],
             [
              0.1111111111111111,
              "#46039f"
             ],
             [
              0.2222222222222222,
              "#7201a8"
             ],
             [
              0.3333333333333333,
              "#9c179e"
             ],
             [
              0.4444444444444444,
              "#bd3786"
             ],
             [
              0.5555555555555556,
              "#d8576b"
             ],
             [
              0.6666666666666666,
              "#ed7953"
             ],
             [
              0.7777777777777778,
              "#fb9f3a"
             ],
             [
              0.8888888888888888,
              "#fdca26"
             ],
             [
              1,
              "#f0f921"
             ]
            ],
            "type": "surface"
           }
          ],
          "table": [
           {
            "cells": {
             "fill": {
              "color": "#EBF0F8"
             },
             "line": {
              "color": "white"
             }
            },
            "header": {
             "fill": {
              "color": "#C8D4E3"
             },
             "line": {
              "color": "white"
             }
            },
            "type": "table"
           }
          ]
         },
         "layout": {
          "annotationdefaults": {
           "arrowcolor": "#2a3f5f",
           "arrowhead": 0,
           "arrowwidth": 1
          },
          "autotypenumbers": "strict",
          "coloraxis": {
           "colorbar": {
            "outlinewidth": 0,
            "ticks": ""
           }
          },
          "colorscale": {
           "diverging": [
            [
             0,
             "#8e0152"
            ],
            [
             0.1,
             "#c51b7d"
            ],
            [
             0.2,
             "#de77ae"
            ],
            [
             0.3,
             "#f1b6da"
            ],
            [
             0.4,
             "#fde0ef"
            ],
            [
             0.5,
             "#f7f7f7"
            ],
            [
             0.6,
             "#e6f5d0"
            ],
            [
             0.7,
             "#b8e186"
            ],
            [
             0.8,
             "#7fbc41"
            ],
            [
             0.9,
             "#4d9221"
            ],
            [
             1,
             "#276419"
            ]
           ],
           "sequential": [
            [
             0,
             "#0d0887"
            ],
            [
             0.1111111111111111,
             "#46039f"
            ],
            [
             0.2222222222222222,
             "#7201a8"
            ],
            [
             0.3333333333333333,
             "#9c179e"
            ],
            [
             0.4444444444444444,
             "#bd3786"
            ],
            [
             0.5555555555555556,
             "#d8576b"
            ],
            [
             0.6666666666666666,
             "#ed7953"
            ],
            [
             0.7777777777777778,
             "#fb9f3a"
            ],
            [
             0.8888888888888888,
             "#fdca26"
            ],
            [
             1,
             "#f0f921"
            ]
           ],
           "sequentialminus": [
            [
             0,
             "#0d0887"
            ],
            [
             0.1111111111111111,
             "#46039f"
            ],
            [
             0.2222222222222222,
             "#7201a8"
            ],
            [
             0.3333333333333333,
             "#9c179e"
            ],
            [
             0.4444444444444444,
             "#bd3786"
            ],
            [
             0.5555555555555556,
             "#d8576b"
            ],
            [
             0.6666666666666666,
             "#ed7953"
            ],
            [
             0.7777777777777778,
             "#fb9f3a"
            ],
            [
             0.8888888888888888,
             "#fdca26"
            ],
            [
             1,
             "#f0f921"
            ]
           ]
          },
          "colorway": [
           "#636efa",
           "#EF553B",
           "#00cc96",
           "#ab63fa",
           "#FFA15A",
           "#19d3f3",
           "#FF6692",
           "#B6E880",
           "#FF97FF",
           "#FECB52"
          ],
          "font": {
           "color": "#2a3f5f"
          },
          "geo": {
           "bgcolor": "white",
           "lakecolor": "white",
           "landcolor": "#E5ECF6",
           "showlakes": true,
           "showland": true,
           "subunitcolor": "white"
          },
          "hoverlabel": {
           "align": "left"
          },
          "hovermode": "closest",
          "mapbox": {
           "style": "light"
          },
          "paper_bgcolor": "white",
          "plot_bgcolor": "#E5ECF6",
          "polar": {
           "angularaxis": {
            "gridcolor": "white",
            "linecolor": "white",
            "ticks": ""
           },
           "bgcolor": "#E5ECF6",
           "radialaxis": {
            "gridcolor": "white",
            "linecolor": "white",
            "ticks": ""
           }
          },
          "scene": {
           "xaxis": {
            "backgroundcolor": "#E5ECF6",
            "gridcolor": "white",
            "gridwidth": 2,
            "linecolor": "white",
            "showbackground": true,
            "ticks": "",
            "zerolinecolor": "white"
           },
           "yaxis": {
            "backgroundcolor": "#E5ECF6",
            "gridcolor": "white",
            "gridwidth": 2,
            "linecolor": "white",
            "showbackground": true,
            "ticks": "",
            "zerolinecolor": "white"
           },
           "zaxis": {
            "backgroundcolor": "#E5ECF6",
            "gridcolor": "white",
            "gridwidth": 2,
            "linecolor": "white",
            "showbackground": true,
            "ticks": "",
            "zerolinecolor": "white"
           }
          },
          "shapedefaults": {
           "line": {
            "color": "#2a3f5f"
           }
          },
          "ternary": {
           "aaxis": {
            "gridcolor": "white",
            "linecolor": "white",
            "ticks": ""
           },
           "baxis": {
            "gridcolor": "white",
            "linecolor": "white",
            "ticks": ""
           },
           "bgcolor": "#E5ECF6",
           "caxis": {
            "gridcolor": "white",
            "linecolor": "white",
            "ticks": ""
           }
          },
          "title": {
           "x": 0.05
          },
          "xaxis": {
           "automargin": true,
           "gridcolor": "white",
           "linecolor": "white",
           "ticks": "",
           "title": {
            "standoff": 15
           },
           "zerolinecolor": "white",
           "zerolinewidth": 2
          },
          "yaxis": {
           "automargin": true,
           "gridcolor": "white",
           "linecolor": "white",
           "ticks": "",
           "title": {
            "standoff": 15
           },
           "zerolinecolor": "white",
           "zerolinewidth": 2
          }
         }
        },
        "xaxis": {
         "range": [
          "2023-06-04 14:32:34.48",
          "2023-06-04 14:32:44.39"
         ],
         "tickformat": "%H:%M:%S %Y-%m-%d",
         "type": "date"
        },
        "yaxis": {
         "range": [
          "27211.27000000",
          "27216.18000000"
         ],
         "tickformat": ".2f"
        }
       }
      }
     },
     "metadata": {},
     "output_type": "display_data"
    }
   ],
   "source": [
    "# Global variables for storing price data\n",
    "timestamps = []\n",
    "price = {'open':[], 'high':[], 'low':[], 'close':[]}\n",
    "# Maximum number of messages to receive before closing websocket\n",
    "max_messages = 5 \n",
    "data = ''\n",
    "\n",
    "# Initial dashboard graph\n",
    "fig = go.Figure()\n",
    "\n",
    "def time_conv(timestamp):\n",
    "    return datetime.datetime.fromtimestamp(timestamp/ 1000).strftime('%Y-%m-%d %H:%M:%S.%f')[:-4]\n",
    "\n",
    "def update_graph():\n",
    "    fig.add_trace(go.Candlestick())\n",
    "\n",
    "    # Update the graph\n",
    "    fig.update_xaxes(range=[min(timestamps), max(timestamps)])\n",
    "    fig.update_yaxes(range=[min(price['low']), max(price['high'])])\n",
    "    fig.update_traces(\n",
    "        x=timestamps,\n",
    "        open=price['open'],\n",
    "        high=price['high'],\n",
    "        low=price['low'],\n",
    "        close=price['close']\n",
    "    )\n",
    "    fig.update_layout(\n",
    "        xaxis=dict(\n",
    "        type=\"date\",\n",
    "        tickformat=\"%H:%M:%S %Y-%m-%d\"  # Customize the date format\n",
    "        ),\n",
    "        yaxis=dict(\n",
    "            tickformat=\".2f\"\n",
    "        )\n",
    "    )\n",
    "    #return fig\n",
    "\n",
    "def on_error(ws, error):\n",
    "    print(\"WebSocket error:\", error)\n",
    "\n",
    "def on_open(ws):\n",
    "    print(\"WebSocket connection opened\")\n",
    "\n",
    "def on_close(ws):\n",
    "    if ws.sock and ws.sock.connected:\n",
    "        print(\"WebSocket connection closed.\")\n",
    "    else:\n",
    "        print(\"WebSocket connection is already closed.\")\n",
    "\n",
    "\n",
    "\n",
    "def on_message(ws, message):\n",
    "    global data, orig\n",
    "    orig = json.loads(message)\n",
    "\n",
    "    # Append timestamp and price to the lists\n",
    "    timestamps.append(time_conv(orig['E']))\n",
    "    data = orig['k']\n",
    "    price['open'].append(data['o'])\n",
    "    price['high'].append(data['h'])\n",
    "    price['low'].append(data['l'])\n",
    "    price['close'].append(data['c'])\n",
    "\n",
    "    # Update dashboard graph with new data\n",
    "    #update_graph()\n",
    "\n",
    "    # Terminate the WebSocket connection after reaching max number of messages\n",
    "    if len(timestamps) >= max_messages:\n",
    "        if ws.sock and ws.sock.connected:\n",
    "            ws.close()\n",
    "        else:\n",
    "            print(\"WebSocket connection is already closed.\")\n",
    "\n",
    "# Binance WebSocket API endpoint for BTCUSDT symbol\n",
    "ws_url = 'wss://testnet.binance.vision/ws/btcusdt@kline_1m'\n",
    "\n",
    "# Start WebSocket connection\n",
    "ws = websocket.WebSocketApp(\n",
    "        url=ws_url,\n",
    "        on_open=on_open,\n",
    "        on_message=on_message,\n",
    "        on_error=on_error,\n",
    "        on_close=on_close\n",
    "    )\n",
    "ws.run_forever()\n",
    "update_graph()\n",
    "fig.show()"
   ]
  },
  {
   "cell_type": "code",
   "execution_count": 12,
   "metadata": {},
   "outputs": [
    {
     "name": "stdout",
     "output_type": "stream",
     "text": [
      "WebSocket connection opened\n",
      "{\"e\":\"kline\",\"E\":1685914993985,\"s\":\"BTCUSDT\",\"k\":{\"t\":1685914980000,\"T\":1685915039999,\"s\":\"BTCUSDT\",\"i\":\"1m\",\"f\":4327724,\"L\":4327731,\"o\":\"27205.59000000\",\"c\":\"27205.99000000\",\"h\":\"27205.99000000\",\"l\":\"27205.59000000\",\"v\":\"0.18179600\",\"n\":8,\"x\":false,\"q\":\"4945.89660935\",\"V\":\"0.18051900\",\"Q\":\"4911.15460289\",\"B\":\"0\"}}\n",
      "{\"e\":\"kline\",\"E\":1685914996035,\"s\":\"BTCUSDT\",\"k\":{\"t\":1685914980000,\"T\":1685915039999,\"s\":\"BTCUSDT\",\"i\":\"1m\",\"f\":4327724,\"L\":4327732,\"o\":\"27205.59000000\",\"c\":\"27205.99000000\",\"h\":\"27205.99000000\",\"l\":\"27205.59000000\",\"v\":\"0.24240300\",\"n\":9,\"x\":false,\"q\":\"6594.77004528\",\"V\":\"0.24112600\",\"Q\":\"6560.02803882\",\"B\":\"0\"}}\n",
      "{\"e\":\"kline\",\"E\":1685914998535,\"s\":\"BTCUSDT\",\"k\":{\"t\":1685914980000,\"T\":1685915039999,\"s\":\"BTCUSDT\",\"i\":\"1m\",\"f\":4327724,\"L\":4327736,\"o\":\"27205.59000000\",\"c\":\"27205.87000000\",\"h\":\"27206.03000000\",\"l\":\"27205.59000000\",\"v\":\"0.39206500\",\"n\":13,\"x\":false,\"q\":\"10666.47084659\",\"V\":\"0.28051900\",\"Q\":\"7631.75517861\",\"B\":\"0\"}}\n",
      "{\"e\":\"kline\",\"E\":1685915013041,\"s\":\"BTCUSDT\",\"k\":{\"t\":1685914980000,\"T\":1685915039999,\"s\":\"BTCUSDT\",\"i\":\"1m\",\"f\":4327724,\"L\":4327737,\"o\":\"27205.59000000\",\"c\":\"27205.99000000\",\"h\":\"27206.03000000\",\"l\":\"27205.59000000\",\"v\":\"0.46851900\",\"n\":14,\"x\":false,\"q\":\"12746.47760605\",\"V\":\"0.35697300\",\"Q\":\"9711.76193807\",\"B\":\"0\"}}\n"
     ]
    }
   ],
   "source": [
    "count = 0\n",
    "def on_message(ws, message):\n",
    "    print(message)\n",
    "    global count\n",
    "    count +=1 \n",
    "    # Terminate the WebSocket connection after reaching max number of messages\n",
    "    if count >= max_messages:\n",
    "        if ws.sock and ws.sock.connected:\n",
    "            ws.close()\n",
    "        else:\n",
    "            print(\"WebSocket connection is already closed.\")\n",
    "\n",
    "# Binance WebSocket API endpoint for BTCUSDT symbol\n",
    "ws_url = 'wss://testnet.binance.vision/ws/btcusdt@kline_1m'\n",
    "\n",
    "# Start WebSocket connection\n",
    "ws = websocket.WebSocketApp(\n",
    "        url=ws_url,\n",
    "        on_open=on_open,\n",
    "        on_message=on_message,\n",
    "        on_error=on_error,\n",
    "        on_close=on_close\n",
    "    )\n",
    "ws.run_forever()"
   ]
  },
  {
   "cell_type": "code",
   "execution_count": 3,
   "metadata": {},
   "outputs": [
    {
     "name": "stdout",
     "output_type": "stream",
     "text": [
      "Range: ('2023-06-04 14:32:34.48', '2023-06-04 14:32:44.39')\n",
      "Range: ('27211.27000000', '27216.18000000')\n"
     ]
    }
   ],
   "source": [
    "print(\"Range:\", fig.layout.xaxis.range)\n",
    "print(\"Range:\", fig.layout.yaxis.range)\n"
   ]
  },
  {
   "cell_type": "code",
   "execution_count": 4,
   "metadata": {},
   "outputs": [
    {
     "data": {
      "text/plain": [
       "{'open': ['27216.18000000',\n",
       "  '27216.18000000',\n",
       "  '27216.18000000',\n",
       "  '27216.18000000',\n",
       "  '27216.18000000'],\n",
       " 'high': ['27216.18000000',\n",
       "  '27216.18000000',\n",
       "  '27216.18000000',\n",
       "  '27216.18000000',\n",
       "  '27216.18000000'],\n",
       " 'low': ['27211.75000000',\n",
       "  '27211.75000000',\n",
       "  '27211.75000000',\n",
       "  '27211.27000000',\n",
       "  '27211.27000000'],\n",
       " 'close': ['27211.83000000',\n",
       "  '27211.84000000',\n",
       "  '27211.84000000',\n",
       "  '27211.27000000',\n",
       "  '27211.27000000']}"
      ]
     },
     "execution_count": 4,
     "metadata": {},
     "output_type": "execute_result"
    }
   ],
   "source": [
    "price"
   ]
  },
  {
   "cell_type": "code",
   "execution_count": 6,
   "metadata": {},
   "outputs": [],
   "source": [
    "ws.close()"
   ]
  },
  {
   "cell_type": "code",
   "execution_count": 7,
   "metadata": {},
   "outputs": [
    {
     "data": {
      "text/plain": [
       "{'t': 1685914320000,\n",
       " 'T': 1685914379999,\n",
       " 's': 'BTCUSDT',\n",
       " 'i': '1m',\n",
       " 'f': 4327081,\n",
       " 'L': 4327128,\n",
       " 'o': '27216.18000000',\n",
       " 'c': '27211.27000000',\n",
       " 'h': '27216.18000000',\n",
       " 'l': '27211.27000000',\n",
       " 'v': '0.91279700',\n",
       " 'n': 48,\n",
       " 'x': False,\n",
       " 'q': '24840.89642342',\n",
       " 'V': '0.15392800',\n",
       " 'Q': '4189.08144566',\n",
       " 'B': '0'}"
      ]
     },
     "execution_count": 7,
     "metadata": {},
     "output_type": "execute_result"
    }
   ],
   "source": [
    "data"
   ]
  },
  {
   "cell_type": "code",
   "execution_count": 8,
   "metadata": {},
   "outputs": [
    {
     "data": {
      "text/plain": [
       "['2023-06-04 14:32:34.48',\n",
       " '2023-06-04 14:32:36.86',\n",
       " '2023-06-04 14:32:39.63',\n",
       " '2023-06-04 14:32:42.25',\n",
       " '2023-06-04 14:32:44.39']"
      ]
     },
     "execution_count": 8,
     "metadata": {},
     "output_type": "execute_result"
    }
   ],
   "source": [
    "timestamps"
   ]
  },
  {
   "cell_type": "code",
   "execution_count": 2,
   "metadata": {},
   "outputs": [
    {
     "name": "stdout",
     "output_type": "stream",
     "text": [
      "environ({'COMMAND_MODE': 'unix2003', 'HOME': '/Users/isaiahtp', 'LOGNAME': 'isaiahtp', 'MallocNanoZone': '0', 'OLDPWD': '/', 'ORIGINAL_XDG_CURRENT_DESKTOP': 'undefined', 'PATH': '/Users/isaiahtp/Desktop/Zeppelin/z-algo/.venv/bin:/Users/paulterrell-perica/opt/anaconda3/bin:/usr/local/bin:/System/Cryptexes/App/usr/bin:/usr/bin:/bin:/usr/sbin:/sbin:/Users/isaiahtp/Library/Python/3.9/lib/python/site-packages:/Users/isaiahtp/Library/Python/3.9/bin:/Applications/VMware Fusion.app/Contents/Public:/Library/TeX/texbin:/usr/local/share/dotnet:~/.dotnet/tools:/Library/Apple/usr/bin', 'PWD': '/', 'SHELL': '/bin/zsh', 'SHLVL': '1', 'SSH_AUTH_SOCK': '/private/tmp/com.apple.launchd.0FhPER2ADO/Listeners', 'TMPDIR': '/var/folders/jn/6_8h_cj14rv1f9p8_j_fhxfh0000gn/T/', 'USER': 'isaiahtp', 'VSCODE_AMD_ENTRYPOINT': 'vs/workbench/api/node/extensionHostProcess', 'VSCODE_CODE_CACHE_PATH': '/Users/isaiahtp/Library/Application Support/Code/CachedData/b3e4e68a0bc097f0ae7907b217c1119af9e03435', 'VSCODE_CRASH_REPORTER_PROCESS_TYPE': 'extensionHost', 'VSCODE_CWD': '/', 'VSCODE_HANDLES_UNCAUGHT_ERRORS': 'true', 'VSCODE_IPC_HOOK': '/Users/isaiahtp/Library/Application Support/Code/1.78-main.sock', 'VSCODE_NLS_CONFIG': '{\"locale\":\"en-us\",\"osLocale\":\"en-us\",\"availableLanguages\":{},\"_languagePackSupport\":true}', 'VSCODE_PID': '5960', 'XPC_FLAGS': '0x0', 'XPC_SERVICE_NAME': '0', '_': '/Users/isaiahtp/Desktop/Zeppelin/z-algo/.venv/bin/python', '__CFBundleIdentifier': 'com.microsoft.VSCode', '__CF_USER_TEXT_ENCODING': '0x1F5:0x0:0x0', 'ELECTRON_RUN_AS_NODE': '1', 'PYTHONUNBUFFERED': '1', 'PYTHONIOENCODING': 'utf-8', 'VIRTUAL_ENV': '/Users/isaiahtp/Desktop/Zeppelin/z-algo/.venv', 'PS1': '(.venv) ', 'LC_CTYPE': 'UTF-8', 'PYDEVD_IPYTHON_COMPATIBLE_DEBUGGING': '1', 'PYDEVD_USE_FRAME_EVAL': 'NO', 'TERM': 'xterm-color', 'CLICOLOR': '1', 'FORCE_COLOR': '1', 'CLICOLOR_FORCE': '1', 'PAGER': 'cat', 'GIT_PAGER': 'cat', 'MPLBACKEND': 'module://matplotlib_inline.backend_inline'})\n"
     ]
    }
   ],
   "source": [
    "print(os.environ)"
   ]
  },
  {
   "cell_type": "code",
   "execution_count": null,
   "metadata": {},
   "outputs": [],
   "source": []
  }
 ],
 "metadata": {
  "kernelspec": {
   "display_name": "zeppelin",
   "language": "python",
   "name": "python3"
  },
  "language_info": {
   "codemirror_mode": {
    "name": "ipython",
    "version": 3
   },
   "file_extension": ".py",
   "mimetype": "text/x-python",
   "name": "python",
   "nbconvert_exporter": "python",
   "pygments_lexer": "ipython3",
   "version": "3.9.6"
  }
 },
 "nbformat": 4,
 "nbformat_minor": 2
}
