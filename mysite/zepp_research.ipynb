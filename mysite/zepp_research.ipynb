{
 "cells": [
  {
   "cell_type": "markdown",
   "metadata": {},
   "source": [
    "# Binance Test Net API Research"
   ]
  },
  {
   "cell_type": "code",
   "execution_count": null,
   "metadata": {},
   "outputs": [
    {
     "ename": "",
     "evalue": "",
     "output_type": "error",
     "traceback": [
      "\u001b[1;31mRunning cells with 'zeppelin' requires the ipykernel package.\n",
      "\u001b[1;31mRun the following command to install 'ipykernel' into the Python environment. \n",
      "\u001b[1;31mCommand: '/home/pauldtp/.virtualenvs/zeppelin/bin/python -m pip install ipykernel -U --force-reinstall'"
     ]
    }
   ],
   "source": [
    "import pandas as pd\n",
    "import numpy as np\n",
    "from binance.client import Client\n",
    "import datetime\n",
    "\n",
    "import requests\n",
    "import matplotlib.pyplot as plt\n",
    "import matplotlib.animation as animation\n",
    "import websocket\n",
    "import json\n",
    "\n",
    "import plotly.graph_objs as go"
   ]
  },
  {
   "cell_type": "code",
   "execution_count": null,
   "metadata": {},
   "outputs": [],
   "source": [
    "### Testnet URLs\n",
    "# https://testnet.binance.vision/api\n",
    "# wss://testnet.binance.vision/ws-api/v3\n",
    "# wss://testnet.binance.vision/ws\n",
    "# wss://testnet.binance.vision/stream\n",
    "\n",
    "# Binance Spot Test Network: https://testnet.binance.vision/\n",
    "# API Key: odwF9bVsSsxjZnckgbSu3NfUgGqqJ2sow4OelwjEttIBB08r3Z5umQL0A03lp2Gd\n",
    "# Secret key: Q3bcPKvbvlVpzv5BQe3lj7EkWdRhevEp24Oi7TENce6xO0FiXUNQKDa47QTyyKcK"
   ]
  },
  {
   "cell_type": "code",
   "execution_count": 33,
   "metadata": {},
   "outputs": [
    {
     "name": "stdout",
     "output_type": "stream",
     "text": [
      "WebSocket connection opened\n"
     ]
    },
    {
     "data": {
      "text/plain": [
       "False"
      ]
     },
     "execution_count": 33,
     "metadata": {},
     "output_type": "execute_result"
    }
   ],
   "source": [
    "# Global variables for storing price data\n",
    "timestamps = []\n",
    "price = {'open':[], 'high':[], 'low':[], 'close':[]}\n",
    "max_messages = 5  # Maximum number of messages to receive before closing websocket\n",
    "\n",
    "# Initial dashboard graph\n",
    "fig = go.Figure()\n",
    "\n",
    "def time_conv(timestamp):\n",
    "    return datetime.datetime.fromtimestamp(timestamp/ 1000).strftime('%Y-%m-%d %H:%M:%S.%f')[:-4]\n",
    "\n",
    "def on_error(ws, error):\n",
    "    print(\"WebSocket error:\", error)\n",
    "\n",
    "def on_open(ws):\n",
    "    print(\"WebSocket connection opened\")\n",
    "\n",
    "def on_close(ws, message):\n",
    "    fig.show()\n",
    "    print(\"WebSocket connection closed\")\n",
    "\n",
    "def on_message(ws, message):\n",
    "    global data\n",
    "    data = json.loads(message)\n",
    "    # Extract timestamp and price from the data\n",
    "    timestamp = data['E']\n",
    "\n",
    "    # Append timestamp and price to the lists\n",
    "    timestamps.append(time_conv(data['E']))\n",
    "    price['open'].append(data['o'])\n",
    "    price['high'].append(data['h'])\n",
    "    price['low'].append(data['l'])\n",
    "    price['close'].append(data['c'])\n",
    "\n",
    "    # Update dashboard graph with new data\n",
    "    update_graph()\n",
    "\n",
    "    # Terminate the WebSocket connection after reaching the maximum number of messages\n",
    "    if len(timestamps) >= max_messages:\n",
    "        ws.close()\n",
    "    \n",
    "'''# Define the callback to update the graph\n",
    "@app.callback(Output('live-graph', 'figure'),\n",
    "              events=[Event('interval', 'interval')])'''\n",
    "def update_graph():\n",
    "    # Update the graph\n",
    "    fig.update_xaxes(range=[min(timestamps), max(timestamps)])\n",
    "    fig.update_yaxes(range=[min(price['open']), max(price['open'])])\n",
    "    fig.update_traces(\n",
    "        x=timestamps,\n",
    "        open=price['open'],\n",
    "        high=price['high'],\n",
    "        low=price['low'],\n",
    "        close=price['close']\n",
    "    )\n",
    "    #return fig\n",
    "\n",
    "# Binance WebSocket API endpoint for BTCUSDT symbol\n",
    "ws_url = 'wss://testnet.binance.vision/ws/btcusdt@miniTicker'\n",
    "\n",
    "# Start WebSocket connection\n",
    "ws = websocket.WebSocketApp(\n",
    "        url=ws_url,\n",
    "        on_open=on_open,\n",
    "        on_message=on_message,\n",
    "        on_error=on_error,\n",
    "        on_close=on_close\n",
    "    )\n",
    "ws.run_forever()"
   ]
  },
  {
   "cell_type": "code",
   "execution_count": 34,
   "metadata": {},
   "outputs": [
    {
     "data": {
      "text/plain": [
       "False"
      ]
     },
     "execution_count": 34,
     "metadata": {},
     "output_type": "execute_result"
    }
   ],
   "source": [
    "ws.keep_running"
   ]
  },
  {
   "cell_type": "code",
   "execution_count": 35,
   "metadata": {},
   "outputs": [],
   "source": [
    "ws.close()"
   ]
  },
  {
   "cell_type": "code",
   "execution_count": 4,
   "metadata": {},
   "outputs": [
    {
     "data": {
      "text/plain": [
       "{'e': 'kline',\n",
       " 'E': 1685512488852,\n",
       " 's': 'BTCUSDT',\n",
       " 'k': {'t': 1685512440000,\n",
       "  'T': 1685512499999,\n",
       "  's': 'BTCUSDT',\n",
       "  'i': '1m',\n",
       "  'f': 3860977,\n",
       "  'L': 3861086,\n",
       "  'o': '27070.14000000',\n",
       "  'c': '27081.51000000',\n",
       "  'h': '27081.51000000',\n",
       "  'l': '27064.40000000',\n",
       "  'v': '3.52532900',\n",
       "  'n': 110,\n",
       "  'x': False,\n",
       "  'q': '95428.95098110',\n",
       "  'V': '3.24225800',\n",
       "  'Q': '87767.02404531',\n",
       "  'B': '0'}}"
      ]
     },
     "execution_count": 4,
     "metadata": {},
     "output_type": "execute_result"
    }
   ],
   "source": [
    "data"
   ]
  },
  {
   "cell_type": "code",
   "execution_count": 37,
   "metadata": {},
   "outputs": [
    {
     "data": {
      "text/plain": [
       "['2023-05-31 19:03:15.62',\n",
       " '2023-05-31 19:03:16.25',\n",
       " '2023-05-31 19:03:26.22',\n",
       " '2023-05-31 19:03:28.81',\n",
       " '2023-05-31 19:03:30.31']"
      ]
     },
     "execution_count": 37,
     "metadata": {},
     "output_type": "execute_result"
    }
   ],
   "source": [
    "timestamps"
   ]
  },
  {
   "cell_type": "code",
   "execution_count": 39,
   "metadata": {},
   "outputs": [
    {
     "data": {
      "text/plain": [
       "{'open': ['27754.31000000',\n",
       "  '27754.31000000',\n",
       "  '27754.31000000',\n",
       "  '27754.31000000',\n",
       "  '27754.30000000'],\n",
       " 'high': ['27858.00000000',\n",
       "  '27858.00000000',\n",
       "  '27858.00000000',\n",
       "  '27858.00000000',\n",
       "  '27858.00000000'],\n",
       " 'low': ['24050.00000000',\n",
       "  '24050.00000000',\n",
       "  '24050.00000000',\n",
       "  '24050.00000000',\n",
       "  '24050.00000000'],\n",
       " 'close': ['27021.98000000',\n",
       "  '27021.98000000',\n",
       "  '27021.96000000',\n",
       "  '27021.96000000',\n",
       "  '27021.95000000']}"
      ]
     },
     "execution_count": 39,
     "metadata": {},
     "output_type": "execute_result"
    }
   ],
   "source": [
    "price"
   ]
  },
  {
   "cell_type": "code",
   "execution_count": null,
   "metadata": {},
   "outputs": [],
   "source": []
  }
 ],
 "metadata": {
  "kernelspec": {
   "display_name": "zeppelin",
   "language": "python",
   "name": "python3"
  },
  "language_info": {
   "codemirror_mode": {
    "name": "ipython",
    "version": 3
   },
   "file_extension": ".py",
   "mimetype": "text/x-python",
   "name": "python",
   "nbconvert_exporter": "python",
   "pygments_lexer": "ipython3",
   "version": "3.10.5"
  }
 },
 "nbformat": 4,
 "nbformat_minor": 2
}
