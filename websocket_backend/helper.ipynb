{
 "cells": [
  {
   "cell_type": "code",
   "execution_count": 1,
   "id": "initial_id",
   "metadata": {
    "collapsed": true,
    "ExecuteTime": {
     "end_time": "2024-02-02T21:22:28.610547Z",
     "start_time": "2024-02-02T21:22:28.568982Z"
    }
   },
   "outputs": [],
   "source": [
    "import redis\n",
    "from decimal import Decimal\n",
    "import json"
   ]
  },
  {
   "cell_type": "code",
   "outputs": [],
   "source": [
    "client = redis.Redis(host='localhost', port=6379)"
   ],
   "metadata": {
    "collapsed": false,
    "ExecuteTime": {
     "end_time": "2024-02-02T21:22:29.179166Z",
     "start_time": "2024-02-02T21:22:29.166942Z"
    }
   },
   "id": "701a4093af4e3f0d",
   "execution_count": 2
  },
  {
   "cell_type": "code",
   "outputs": [],
   "source": [
    "data = [{'info': {'e': 'trade',\n",
    "   'E': 1706219496443,\n",
    "   's': 'BTCUSDT',\n",
    "   't': 2460025,\n",
    "   'p': '39886.18000000',\n",
    "   'q': '0.00025000',\n",
    "   'b': 10417446,\n",
    "   'a': 10417502,\n",
    "   'T': 1706219496442,\n",
    "   'm': True,\n",
    "   'M': True},\n",
    "  'timestamp': 1706219496442,\n",
    "  'datetime': '2024-01-25T21:51:36.442Z',\n",
    "  'symbol': 'BTC/USDT',\n",
    "  'id': '2460025',\n",
    "  'order': None,\n",
    "  'type': None,\n",
    "  'side': 'sell',\n",
    "  'takerOrMaker': None,\n",
    "  'price': Decimal('39886.18000000'),\n",
    "  'amount': Decimal('0.00025000'),\n",
    "  'cost': Decimal('9.971545'),\n",
    "  'fee': None,\n",
    "  'fees': []},\n",
    " {'info': {'e': 'trade',\n",
    "   'E': 1706219516475,\n",
    "   's': 'BTCUSDT',\n",
    "   't': 2460026,\n",
    "   'p': '39886.00000000',\n",
    "   'q': '0.00100000',\n",
    "   'b': 10417607,\n",
    "   'a': 10417611,\n",
    "   'T': 1706219516474,\n",
    "   'm': True,\n",
    "   'M': True},\n",
    "  'timestamp': 1706219516474,\n",
    "  'datetime': '2024-01-25T21:51:56.474Z',\n",
    "  'symbol': 'BTC/USDT',\n",
    "  'id': '2460026',\n",
    "  'order': None,\n",
    "  'type': None,\n",
    "  'side': 'sell',\n",
    "  'takerOrMaker': None,\n",
    "  'price': Decimal('39886.00000000'),\n",
    "  'amount': Decimal('0.00100000'),\n",
    "  'cost': Decimal('39.886'),\n",
    "  'fee': None,\n",
    "  'fees': []},\n",
    " {'info': {'e': 'trade',\n",
    "   'E': 1706219516530,\n",
    "   's': 'BTCUSDT',\n",
    "   't': 2460027,\n",
    "   'p': '39886.00000000',\n",
    "   'q': '0.00100000',\n",
    "   'b': 10417607,\n",
    "   'a': 10417612,\n",
    "   'T': 1706219516530,\n",
    "   'm': True,\n",
    "   'M': True},\n",
    "  'timestamp': 1706219516530,\n",
    "  'datetime': '2024-01-25T21:51:56.530Z',\n",
    "  'symbol': 'BTC/USDT',\n",
    "  'id': '2460027',\n",
    "  'order': None,\n",
    "  'type': None,\n",
    "  'side': 'sell',\n",
    "  'takerOrMaker': None,\n",
    "  'price': Decimal('39886.00000000'),\n",
    "  'amount': Decimal('0.00100000'),\n",
    "  'cost': Decimal('39.886'),\n",
    "  'fee': None,\n",
    "  'fees': []},\n",
    " {'info': {'e': 'trade',\n",
    "   'E': 1706219520222,\n",
    "   's': 'BTCUSDT',\n",
    "   't': 2460028,\n",
    "   'p': '39886.01000000',\n",
    "   'q': '0.00100000',\n",
    "   'b': 10417628,\n",
    "   'a': 10417571,\n",
    "   'T': 1706219520221,\n",
    "   'm': False,\n",
    "   'M': True},\n",
    "  'timestamp': 1706219520221,\n",
    "  'datetime': '2024-01-25T21:52:00.221Z',\n",
    "  'symbol': 'BTC/USDT',\n",
    "  'id': '2460028',\n",
    "  'order': None,\n",
    "  'type': None,\n",
    "  'side': 'buy',\n",
    "  'takerOrMaker': None,\n",
    "  'price': Decimal('39886.01000000'),\n",
    "  'amount': Decimal('0.00100000'),\n",
    "  'cost': Decimal('39.88601'),\n",
    "  'fee': None,\n",
    "  'fees': []}]"
   ],
   "metadata": {
    "collapsed": false,
    "ExecuteTime": {
     "end_time": "2024-02-02T22:08:56.846331Z",
     "start_time": "2024-02-02T22:08:56.837765Z"
    }
   },
   "id": "7d93efde2c0c4cf3",
   "execution_count": 68
  },
  {
   "cell_type": "code",
   "outputs": [],
   "source": [
    "class DecimalEncoder(json.JSONEncoder):\n",
    "    def default(self, o):\n",
    "        if isinstance(o, Decimal):\n",
    "            return str(o)\n",
    "        return super(DecimalEncoder, self).default(o)"
   ],
   "metadata": {
    "collapsed": false,
    "ExecuteTime": {
     "end_time": "2024-02-02T21:22:31.187447Z",
     "start_time": "2024-02-02T21:22:31.184022Z"
    }
   },
   "id": "1102a8651bb026c3",
   "execution_count": 4
  },
  {
   "cell_type": "code",
   "outputs": [
    {
     "data": {
      "text/plain": "1"
     },
     "execution_count": 22,
     "metadata": {},
     "output_type": "execute_result"
    }
   ],
   "source": [
    "client.rpush('test', json.dumps(data, cls=DecimalEncoder))"
   ],
   "metadata": {
    "collapsed": false,
    "ExecuteTime": {
     "end_time": "2024-02-02T21:33:09.675130Z",
     "start_time": "2024-02-02T21:33:09.663344Z"
    }
   },
   "id": "af47121bcf557b71",
   "execution_count": 22
  },
  {
   "cell_type": "code",
   "outputs": [
    {
     "data": {
      "text/plain": "[b'test',\n b'_kombu.binding.celery',\n b'_kombu.binding.celeryev',\n b'_kombu.binding.celery.pidbox']"
     },
     "execution_count": 6,
     "metadata": {},
     "output_type": "execute_result"
    }
   ],
   "source": [
    "client.keys('*')"
   ],
   "metadata": {
    "collapsed": false,
    "ExecuteTime": {
     "end_time": "2024-02-02T21:22:33.112180Z",
     "start_time": "2024-02-02T21:22:33.109827Z"
    }
   },
   "id": "65add3861d04a95b",
   "execution_count": 6
  },
  {
   "cell_type": "code",
   "outputs": [],
   "source": [
    "from celery_worker import process"
   ],
   "metadata": {
    "collapsed": false,
    "ExecuteTime": {
     "end_time": "2024-02-02T21:22:34.768348Z",
     "start_time": "2024-02-02T21:22:34.653964Z"
    }
   },
   "id": "8a16d934e7bc683",
   "execution_count": 7
  },
  {
   "cell_type": "code",
   "outputs": [
    {
     "name": "stdout",
     "output_type": "stream",
     "text": [
      "Task ID: db525958-373e-47e3-b288-de3ca22ba17f\n"
     ]
    }
   ],
   "source": [
    "result = process.delay(\"Your data to process\")\n",
    "print(f\"Task ID: {result.id}\")"
   ],
   "metadata": {
    "collapsed": false,
    "ExecuteTime": {
     "end_time": "2024-02-02T21:23:17.911306Z",
     "start_time": "2024-02-02T21:23:17.905468Z"
    }
   },
   "id": "9363ee0318dac390",
   "execution_count": 10
  },
  {
   "cell_type": "code",
   "outputs": [],
   "source": [
    "first_value = client.lindex('test', 0)"
   ],
   "metadata": {
    "collapsed": false,
    "ExecuteTime": {
     "end_time": "2024-02-02T21:24:18.874858Z",
     "start_time": "2024-02-02T21:24:18.870147Z"
    }
   },
   "id": "637997ac91e73b4d",
   "execution_count": 11
  },
  {
   "cell_type": "code",
   "outputs": [
    {
     "data": {
      "text/plain": "<AsyncResult: 6786a189-e4d3-4762-8b8a-514573c5687d>"
     },
     "execution_count": 83,
     "metadata": {},
     "output_type": "execute_result"
    }
   ],
   "source": [
    "process.delay(client.lpop(\"test\"))"
   ],
   "metadata": {
    "collapsed": false,
    "ExecuteTime": {
     "end_time": "2024-02-02T22:11:45.992390Z",
     "start_time": "2024-02-02T22:11:45.969342Z"
    }
   },
   "id": "a0e2f88d8fec5994",
   "execution_count": 83
  },
  {
   "cell_type": "code",
   "outputs": [
    {
     "data": {
      "text/plain": "1"
     },
     "execution_count": 82,
     "metadata": {},
     "output_type": "execute_result"
    }
   ],
   "source": [
    "client.llen('test')"
   ],
   "metadata": {
    "collapsed": false,
    "ExecuteTime": {
     "end_time": "2024-02-02T22:11:42.132193Z",
     "start_time": "2024-02-02T22:11:42.126967Z"
    }
   },
   "id": "798ff5a5fc9efe35",
   "execution_count": 82
  },
  {
   "cell_type": "code",
   "outputs": [
    {
     "data": {
      "text/plain": "3"
     },
     "execution_count": 76,
     "metadata": {},
     "output_type": "execute_result"
    }
   ],
   "source": [
    "client.rpush('test', json.dumps(data, cls=DecimalEncoder))"
   ],
   "metadata": {
    "collapsed": false,
    "ExecuteTime": {
     "end_time": "2024-02-02T22:09:40.993685Z",
     "start_time": "2024-02-02T22:09:40.989068Z"
    }
   },
   "id": "d65c012c7d10b496",
   "execution_count": 76
  },
  {
   "cell_type": "code",
   "outputs": [
    {
     "data": {
      "text/plain": "[{'info': {'e': 'trade',\n   'E': 1706219496443,\n   's': 'BTCUSDT',\n   't': 2460025,\n   'p': '39886.18000000',\n   'q': '0.00025000',\n   'b': 10417446,\n   'a': 10417502,\n   'T': 1706219496442,\n   'm': True,\n   'M': True},\n  'timestamp': 1706219496442,\n  'datetime': '2024-01-25T21:51:36.442Z',\n  'symbol': 'BTC/USDT',\n  'id': '2460025',\n  'order': None,\n  'type': None,\n  'side': 'sell',\n  'takerOrMaker': None,\n  'price': '39886.18000000',\n  'amount': '0.00025000',\n  'cost': '9.971545',\n  'fee': None,\n  'fees': []},\n {'info': {'e': 'trade',\n   'E': 1706219516475,\n   's': 'BTCUSDT',\n   't': 2460026,\n   'p': '39886.00000000',\n   'q': '0.00100000',\n   'b': 10417607,\n   'a': 10417611,\n   'T': 1706219516474,\n   'm': True,\n   'M': True},\n  'timestamp': 1706219516474,\n  'datetime': '2024-01-25T21:51:56.474Z',\n  'symbol': 'BTC/USDT',\n  'id': '2460026',\n  'order': None,\n  'type': None,\n  'side': 'sell',\n  'takerOrMaker': None,\n  'price': '39886.00000000',\n  'amount': '0.00100000',\n  'cost': '39.886',\n  'fee': None,\n  'fees': []},\n {'info': {'e': 'trade',\n   'E': 1706219516530,\n   's': 'BTCUSDT',\n   't': 2460027,\n   'p': '39886.00000000',\n   'q': '0.00100000',\n   'b': 10417607,\n   'a': 10417612,\n   'T': 1706219516530,\n   'm': True,\n   'M': True},\n  'timestamp': 1706219516530,\n  'datetime': '2024-01-25T21:51:56.530Z',\n  'symbol': 'BTC/USDT',\n  'id': '2460027',\n  'order': None,\n  'type': None,\n  'side': 'sell',\n  'takerOrMaker': None,\n  'price': '39886.00000000',\n  'amount': '0.00100000',\n  'cost': '39.886',\n  'fee': None,\n  'fees': []},\n {'info': {'e': 'trade',\n   'E': 1706219520222,\n   's': 'BTCUSDT',\n   't': 2460028,\n   'p': '39886.01000000',\n   'q': '0.00100000',\n   'b': 10417628,\n   'a': 10417571,\n   'T': 1706219520221,\n   'm': False,\n   'M': True},\n  'timestamp': 1706219520221,\n  'datetime': '2024-01-25T21:52:00.221Z',\n  'symbol': 'BTC/USDT',\n  'id': '2460028',\n  'order': None,\n  'type': None,\n  'side': 'buy',\n  'takerOrMaker': None,\n  'price': '39886.01000000',\n  'amount': '0.00100000',\n  'cost': '39.88601',\n  'fee': None,\n  'fees': []}]"
     },
     "execution_count": 81,
     "metadata": {},
     "output_type": "execute_result"
    }
   ],
   "source": [
    "json.loads(client.lpop('test'))"
   ],
   "metadata": {
    "collapsed": false,
    "ExecuteTime": {
     "end_time": "2024-02-02T22:10:49.504765Z",
     "start_time": "2024-02-02T22:10:49.487471Z"
    }
   },
   "id": "2c1991a6810e0afa",
   "execution_count": 81
  },
  {
   "cell_type": "code",
   "outputs": [
    {
     "data": {
      "text/plain": "'[{\"info\": {\"e\": \"trade\", \"E\": 1706219496443, \"s\": \"BTCUSDT\", \"t\": 2460025, \"p\": \"39886.18000000\", \"q\": \"0.00025000\", \"b\": 10417446, \"a\": 10417502, \"T\": 1706219496442, \"m\": true, \"M\": true}, \"timestamp\": 1706219496442, \"datetime\": \"2024-01-25T21:51:36.442Z\", \"symbol\": \"BTC/USDT\", \"id\": \"2460025\", \"order\": null, \"type\": null, \"side\": \"sell\", \"takerOrMaker\": null, \"price\": \"39886.18000000\", \"amount\": \"0.00025000\", \"cost\": \"9.971545\", \"fee\": null, \"fees\": []}, {\"info\": {\"e\": \"trade\", \"E\": 1706219516475, \"s\": \"BTCUSDT\", \"t\": 2460026, \"p\": \"39886.00000000\", \"q\": \"0.00100000\", \"b\": 10417607, \"a\": 10417611, \"T\": 1706219516474, \"m\": true, \"M\": true}, \"timestamp\": 1706219516474, \"datetime\": \"2024-01-25T21:51:56.474Z\", \"symbol\": \"BTC/USDT\", \"id\": \"2460026\", \"order\": null, \"type\": null, \"side\": \"sell\", \"takerOrMaker\": null, \"price\": \"39886.00000000\", \"amount\": \"0.00100000\", \"cost\": \"39.886\", \"fee\": null, \"fees\": []}, {\"info\": {\"e\": \"trade\", \"E\": 1706219516530, \"s\": \"BTCUSDT\", \"t\": 2460027, \"p\": \"39886.00000000\", \"q\": \"0.00100000\", \"b\": 10417607, \"a\": 10417612, \"T\": 1706219516530, \"m\": true, \"M\": true}, \"timestamp\": 1706219516530, \"datetime\": \"2024-01-25T21:51:56.530Z\", \"symbol\": \"BTC/USDT\", \"id\": \"2460027\", \"order\": null, \"type\": null, \"side\": \"sell\", \"takerOrMaker\": null, \"price\": \"39886.00000000\", \"amount\": \"0.00100000\", \"cost\": \"39.886\", \"fee\": null, \"fees\": []}, {\"info\": {\"e\": \"trade\", \"E\": 1706219520222, \"s\": \"BTCUSDT\", \"t\": 2460028, \"p\": \"39886.01000000\", \"q\": \"0.00100000\", \"b\": 10417628, \"a\": 10417571, \"T\": 1706219520221, \"m\": false, \"M\": true}, \"timestamp\": 1706219520221, \"datetime\": \"2024-01-25T21:52:00.221Z\", \"symbol\": \"BTC/USDT\", \"id\": \"2460028\", \"order\": null, \"type\": null, \"side\": \"buy\", \"takerOrMaker\": null, \"price\": \"39886.01000000\", \"amount\": \"0.00100000\", \"cost\": \"39.88601\", \"fee\": null, \"fees\": []}]'"
     },
     "execution_count": 79,
     "metadata": {},
     "output_type": "execute_result"
    }
   ],
   "source": [
    "json.dumps(data, cls=DecimalEncoder)"
   ],
   "metadata": {
    "collapsed": false,
    "ExecuteTime": {
     "end_time": "2024-02-02T22:09:59.384497Z",
     "start_time": "2024-02-02T22:09:59.358853Z"
    }
   },
   "id": "5fa13f21b1897a95",
   "execution_count": 79
  },
  {
   "cell_type": "code",
   "outputs": [],
   "source": [],
   "metadata": {
    "collapsed": false
   },
   "id": "71d7b7d53379588b"
  }
 ],
 "metadata": {
  "kernelspec": {
   "display_name": "Python 3",
   "language": "python",
   "name": "python3"
  },
  "language_info": {
   "codemirror_mode": {
    "name": "ipython",
    "version": 2
   },
   "file_extension": ".py",
   "mimetype": "text/x-python",
   "name": "python",
   "nbconvert_exporter": "python",
   "pygments_lexer": "ipython2",
   "version": "2.7.6"
  }
 },
 "nbformat": 4,
 "nbformat_minor": 5
}
