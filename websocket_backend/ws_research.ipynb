{
 "cells": [
  {
   "cell_type": "markdown",
   "source": [
    "# Websocket Help"
   ],
   "metadata": {
    "collapsed": false
   },
   "id": "629f4b6f4c7b528"
  },
  {
   "cell_type": "code",
   "outputs": [],
   "source": [
    "import decimal\n",
    "import os\n",
    "\n",
    "import ccxt.pro as pro\n",
    "import ccxt\n",
    "import dotenv\n",
    "\n",
    "dotenv.load_dotenv()\n",
    "apiKey = os.getenv('TEST_API_KEY')\n",
    "apiSecret = os.getenv('TEST_API_SECRET')"
   ],
   "metadata": {
    "collapsed": false
   },
   "id": "4c15101f0e2abb45"
  }
 ],
 "metadata": {
  "kernelspec": {
   "display_name": "Python 3",
   "language": "python",
   "name": "python3"
  },
  "language_info": {
   "codemirror_mode": {
    "name": "ipython",
    "version": 2
   },
   "file_extension": ".py",
   "mimetype": "text/x-python",
   "name": "python",
   "nbconvert_exporter": "python",
   "pygments_lexer": "ipython2",
   "version": "2.7.6"
  }
 },
 "nbformat": 4,
 "nbformat_minor": 5
}
