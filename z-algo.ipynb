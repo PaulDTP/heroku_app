{
 "cells": [
  {
   "cell_type": "code",
   "execution_count": 12,
   "metadata": {},
   "outputs": [],
   "source": [
    "%%capture\n",
    "%run 'initialization.ipynb'"
   ]
  },
  {
   "cell_type": "code",
   "execution_count": 28,
   "metadata": {},
   "outputs": [
    {
     "ename": "ModuleNotFoundError",
     "evalue": "No module named 'ib_insync'",
     "output_type": "error",
     "traceback": [
      "\u001b[0;31m---------------------------------------------------------------------------\u001b[0m",
      "\u001b[0;31mModuleNotFoundError\u001b[0m                       Traceback (most recent call last)",
      "\u001b[0;32m<ipython-input-28-7b08146f71cb>\u001b[0m in \u001b[0;36m<module>\u001b[0;34m\u001b[0m\n\u001b[0;32m----> 1\u001b[0;31m \u001b[0;32mfrom\u001b[0m \u001b[0mib_insync\u001b[0m \u001b[0;32mimport\u001b[0m \u001b[0;34m*\u001b[0m\u001b[0;34m\u001b[0m\u001b[0;34m\u001b[0m\u001b[0m\n\u001b[0m\u001b[1;32m      2\u001b[0m \u001b[0mutil\u001b[0m\u001b[0;34m.\u001b[0m\u001b[0mstartLoop\u001b[0m\u001b[0;34m(\u001b[0m\u001b[0;34m)\u001b[0m  \u001b[0;31m# uncomment this line when in a notebook\u001b[0m\u001b[0;34m\u001b[0m\u001b[0;34m\u001b[0m\u001b[0m\n\u001b[1;32m      3\u001b[0m \u001b[0;34m\u001b[0m\u001b[0m\n\u001b[1;32m      4\u001b[0m \u001b[0mib\u001b[0m \u001b[0;34m=\u001b[0m \u001b[0mIB\u001b[0m\u001b[0;34m(\u001b[0m\u001b[0;34m)\u001b[0m\u001b[0;34m\u001b[0m\u001b[0;34m\u001b[0m\u001b[0m\n\u001b[1;32m      5\u001b[0m \u001b[0mib\u001b[0m\u001b[0;34m.\u001b[0m\u001b[0mconnect\u001b[0m\u001b[0;34m(\u001b[0m\u001b[0;34m'127.0.0.1'\u001b[0m\u001b[0;34m,\u001b[0m \u001b[0;36m7497\u001b[0m\u001b[0;34m,\u001b[0m \u001b[0mclientId\u001b[0m\u001b[0;34m=\u001b[0m\u001b[0;36m1\u001b[0m\u001b[0;34m)\u001b[0m\u001b[0;34m\u001b[0m\u001b[0;34m\u001b[0m\u001b[0m\n",
      "\u001b[0;31mModuleNotFoundError\u001b[0m: No module named 'ib_insync'"
     ]
    }
   ],
   "source": [
    "from ib_insync import *\n",
    "util.startLoop()  # uncomment this line when in a notebook\n",
    "\n",
    "ib = IB()\n",
    "ib.connect('127.0.0.1', 7497, clientId=1)\n",
    "\n",
    "contract = Forex('EURUSD')\n",
    "bars = ib.reqHistoricalData(\n",
    "    contract, endDateTime='', durationStr='30 D',\n",
    "    barSizeSetting='1 hour', whatToShow='MIDPOINT', useRTH=True)\n",
    "\n",
    "# convert to pandas dataframe:\n",
    "df = util.df(bars)\n",
    "print(df)"
   ]
  },
  {
   "cell_type": "code",
   "execution_count": 25,
   "metadata": {},
   "outputs": [
    {
     "data": {
      "text/html": [
       "<div>\n",
       "<style scoped>\n",
       "    .dataframe tbody tr th:only-of-type {\n",
       "        vertical-align: middle;\n",
       "    }\n",
       "\n",
       "    .dataframe tbody tr th {\n",
       "        vertical-align: top;\n",
       "    }\n",
       "\n",
       "    .dataframe thead th {\n",
       "        text-align: right;\n",
       "    }\n",
       "</style>\n",
       "<table border=\"1\" class=\"dataframe\">\n",
       "  <thead>\n",
       "    <tr style=\"text-align: right;\">\n",
       "      <th></th>\n",
       "      <th>Day</th>\n",
       "      <th>Hour</th>\n",
       "      <th>Open</th>\n",
       "      <th>High</th>\n",
       "      <th>Low</th>\n",
       "      <th>Close</th>\n",
       "      <th>Volume</th>\n",
       "    </tr>\n",
       "  </thead>\n",
       "  <tbody>\n",
       "    <tr>\n",
       "      <th>0</th>\n",
       "      <td>2021-08-02</td>\n",
       "      <td>09:00:00</td>\n",
       "      <td>146.3607</td>\n",
       "      <td>146.4606</td>\n",
       "      <td>146.3607</td>\n",
       "      <td>146.4606</td>\n",
       "      <td>6475</td>\n",
       "    </tr>\n",
       "    <tr>\n",
       "      <th>1</th>\n",
       "      <td>2021-08-02</td>\n",
       "      <td>09:01:00</td>\n",
       "      <td>146.4506</td>\n",
       "      <td>146.5404</td>\n",
       "      <td>146.4007</td>\n",
       "      <td>146.5005</td>\n",
       "      <td>20827</td>\n",
       "    </tr>\n",
       "    <tr>\n",
       "      <th>2</th>\n",
       "      <td>2021-08-02</td>\n",
       "      <td>09:02:00</td>\n",
       "      <td>146.5005</td>\n",
       "      <td>146.5305</td>\n",
       "      <td>146.4805</td>\n",
       "      <td>146.5305</td>\n",
       "      <td>4227</td>\n",
       "    </tr>\n",
       "    <tr>\n",
       "      <th>3</th>\n",
       "      <td>2021-08-02</td>\n",
       "      <td>09:03:00</td>\n",
       "      <td>146.5404</td>\n",
       "      <td>146.5604</td>\n",
       "      <td>146.5105</td>\n",
       "      <td>146.5205</td>\n",
       "      <td>3198</td>\n",
       "    </tr>\n",
       "    <tr>\n",
       "      <th>4</th>\n",
       "      <td>2021-08-02</td>\n",
       "      <td>09:04:00</td>\n",
       "      <td>146.5205</td>\n",
       "      <td>146.5604</td>\n",
       "      <td>146.5205</td>\n",
       "      <td>146.5604</td>\n",
       "      <td>3503</td>\n",
       "    </tr>\n",
       "    <tr>\n",
       "      <th>...</th>\n",
       "      <td>...</td>\n",
       "      <td>...</td>\n",
       "      <td>...</td>\n",
       "      <td>...</td>\n",
       "      <td>...</td>\n",
       "      <td>...</td>\n",
       "      <td>...</td>\n",
       "    </tr>\n",
       "    <tr>\n",
       "      <th>415</th>\n",
       "      <td>2021-08-02</td>\n",
       "      <td>15:55:00</td>\n",
       "      <td>145.3772</td>\n",
       "      <td>145.3822</td>\n",
       "      <td>145.2873</td>\n",
       "      <td>145.2923</td>\n",
       "      <td>216938</td>\n",
       "    </tr>\n",
       "    <tr>\n",
       "      <th>416</th>\n",
       "      <td>2021-08-02</td>\n",
       "      <td>15:56:00</td>\n",
       "      <td>145.2923</td>\n",
       "      <td>145.3273</td>\n",
       "      <td>145.2424</td>\n",
       "      <td>145.2523</td>\n",
       "      <td>237200</td>\n",
       "    </tr>\n",
       "    <tr>\n",
       "      <th>417</th>\n",
       "      <td>2021-08-02</td>\n",
       "      <td>15:57:00</td>\n",
       "      <td>145.2424</td>\n",
       "      <td>145.3123</td>\n",
       "      <td>145.2324</td>\n",
       "      <td>145.3122</td>\n",
       "      <td>259082</td>\n",
       "    </tr>\n",
       "    <tr>\n",
       "      <th>418</th>\n",
       "      <td>2021-08-02</td>\n",
       "      <td>15:58:00</td>\n",
       "      <td>145.3023</td>\n",
       "      <td>145.3023</td>\n",
       "      <td>145.2424</td>\n",
       "      <td>145.2424</td>\n",
       "      <td>192529</td>\n",
       "    </tr>\n",
       "    <tr>\n",
       "      <th>419</th>\n",
       "      <td>2021-08-02</td>\n",
       "      <td>15:59:00</td>\n",
       "      <td>145.2474</td>\n",
       "      <td>145.3323</td>\n",
       "      <td>145.1525</td>\n",
       "      <td>145.3023</td>\n",
       "      <td>648594</td>\n",
       "    </tr>\n",
       "  </tbody>\n",
       "</table>\n",
       "<p>420 rows × 7 columns</p>\n",
       "</div>"
      ],
      "text/plain": [
       "            Day      Hour      Open      High       Low     Close  Volume\n",
       "0    2021-08-02  09:00:00  146.3607  146.4606  146.3607  146.4606    6475\n",
       "1    2021-08-02  09:01:00  146.4506  146.5404  146.4007  146.5005   20827\n",
       "2    2021-08-02  09:02:00  146.5005  146.5305  146.4805  146.5305    4227\n",
       "3    2021-08-02  09:03:00  146.5404  146.5604  146.5105  146.5205    3198\n",
       "4    2021-08-02  09:04:00  146.5205  146.5604  146.5205  146.5604    3503\n",
       "..          ...       ...       ...       ...       ...       ...     ...\n",
       "415  2021-08-02  15:55:00  145.3772  145.3822  145.2873  145.2923  216938\n",
       "416  2021-08-02  15:56:00  145.2923  145.3273  145.2424  145.2523  237200\n",
       "417  2021-08-02  15:57:00  145.2424  145.3123  145.2324  145.3122  259082\n",
       "418  2021-08-02  15:58:00  145.3023  145.3023  145.2424  145.2424  192529\n",
       "419  2021-08-02  15:59:00  145.2474  145.3323  145.1525  145.3023  648594\n",
       "\n",
       "[420 rows x 7 columns]"
      ]
     },
     "execution_count": 25,
     "metadata": {},
     "output_type": "execute_result"
    }
   ],
   "source": [
    "def volatility():\n",
    "    return 0\n",
    "\n",
    "\n",
    "aapl_days[0]"
   ]
  },
  {
   "cell_type": "code",
   "execution_count": 27,
   "metadata": {},
   "outputs": [
    {
     "data": {
      "text/plain": [
       "pandas.core.series.Series"
      ]
     },
     "execution_count": 27,
     "metadata": {},
     "output_type": "execute_result"
    }
   ],
   "source": [
    "((abs(aapl['Open'] - aapl['Close']) / aapl['Close']) * 100.0)"
   ]
  },
  {
   "cell_type": "code",
   "execution_count": null,
   "metadata": {},
   "outputs": [],
   "source": []
  }
 ],
 "metadata": {
  "interpreter": {
   "hash": "31f2aee4e71d21fbe5cf8b01ff0e069b9275f58929596ceb00d14d90e3e16cd6"
  },
  "kernelspec": {
   "display_name": "Python 3.8.2 64-bit",
   "language": "python",
   "name": "python3"
  },
  "language_info": {
   "codemirror_mode": {
    "name": "ipython",
    "version": 3
   },
   "file_extension": ".py",
   "mimetype": "text/x-python",
   "name": "python",
   "nbconvert_exporter": "python",
   "pygments_lexer": "ipython3",
   "version": "3.8.2"
  },
  "orig_nbformat": 4
 },
 "nbformat": 4,
 "nbformat_minor": 2
}
