{
 "cells": [
  {
   "cell_type": "code",
   "execution_count": 1,
   "metadata": {},
   "outputs": [],
   "source": [
    "%run 'init.ipynb'"
   ]
  },
  {
   "cell_type": "code",
   "execution_count": null,
   "metadata": {},
   "outputs": [],
   "source": [
    "ib.disconnect()"
   ]
  },
  {
   "cell_type": "code",
   "execution_count": 2,
   "metadata": {},
   "outputs": [
    {
     "data": {
      "text/plain": [
       "<IB connected to 127.0.0.1:7497 clientId=1>"
      ]
     },
     "execution_count": 2,
     "metadata": {},
     "output_type": "execute_result"
    }
   ],
   "source": [
    "from ib_insync import *\n",
    "util.startLoop()\n",
    "\n",
    "ib = IB()\n",
    "ib.connect('127.0.0.1', 7497, clientId=1)\n",
    "\n",
    "#import logging\n",
    "#util.logToConsole(logging.DEBUG)"
   ]
  },
  {
   "cell_type": "code",
   "execution_count": 3,
   "metadata": {},
   "outputs": [
    {
     "data": {
      "text/plain": [
       "[ContractDetails(contract=Contract(secType='STK', conId=4391, symbol='AMD', exchange='NYSE', primaryExchange='NASDAQ', currency='USD', localSymbol='AMD', tradingClass='NMS'), marketName='NMS', minTick=0.01, sizeMinTick=100.0, orderTypes='ACTIVETIM,AD,ADJUST,ALERT,ALLOC,AVGCOST,BASKET,BENCHPX,CASHQTY,COND,CONDORDER,DAY,DEACT,DEACTDIS,DEACTEOD,GAT,GTC,GTD,GTT,HID,IOC,LIT,LMT,MIT,MKT,MTL,NGCOMB,NONALGO,OCA,PEGBENCH,REL,RELPCTOFS,SCALE,SCALERST,SNAPMID,SNAPMKT,SNAPREL,STP,STPLMT,TRAIL,TRAILLIT,TRAILLMT,TRAILMIT,WHATIF', validExchanges='SMART,AMEX,NYSE,CBOE,PHLX,ISE,CHX,ARCA,ISLAND,DRCTEDGE,BEX,BATS,EDGEA,CSFBALGO,JEFFALGO,BYX,IEX,EDGX,FOXRIVER,PEARL,NYSENAT,LTSE,MEMX,PSX', priceMagnifier=1, underConId=0, longName='ADVANCED MICRO DEVICES', contractMonth='', industry='Technology', category='Semiconductors', subcategory='Electronic Compo-Semicon', timeZoneId='US/Eastern', tradingHours='20220508:CLOSED;20220509:0700-20220509:1600;20220510:0700-20220510:1600;20220511:0700-20220511:1600;20220512:0700-20220512:1600;20220513:0700-20220513:1600', liquidHours='20220508:CLOSED;20220509:0700-20220509:1600;20220510:0700-20220510:1600;20220511:0700-20220511:1600;20220512:0700-20220512:1600;20220513:0700-20220513:1600', evRule='', evMultiplier=0, mdSizeMultiplier=100, aggGroup=1, underSymbol='', underSecType='', marketRuleIds='26,26,26,26,26,26,26,26,26,26,26,26,26,26,26,26,26,26,26,26,26,26,26,26', secIdList=[TagValue(tag='ISIN', value='US0079031078')], realExpirationDate='', lastTradeTime='', stockType='COMMON', cusip='', ratings='', descAppend='', bondType='', couponType='', callable=False, putable=False, coupon=0, convertible=False, maturity='', issueDate='', nextOptionDate='', nextOptionType='', nextOptionPartial=False, notes='')]"
      ]
     },
     "execution_count": 3,
     "metadata": {},
     "output_type": "execute_result"
    }
   ],
   "source": [
    "ib.reqContractDetails(Stock(\"AMD\", \"NYSE\", \"USD\"))"
   ]
  },
  {
   "cell_type": "code",
   "execution_count": 4,
   "metadata": {},
   "outputs": [
    {
     "data": {
      "text/plain": [
       "Trade(contract=Stock(conId=4391, symbol='AMD', exchange='SMART', primaryExchange='NASDAQ', currency='USD', localSymbol='AMD', tradingClass='NMS'), order=MarketOrder(orderId=13, clientId=1, action='BUY', totalQuantity=5), orderStatus=OrderStatus(orderId=13, status='PendingSubmit', filled=0.0, remaining=0.0, avgFillPrice=0.0, permId=0, parentId=0, lastFillPrice=0.0, clientId=0, whyHeld='', mktCapPrice=0.0), fills=[], log=[TradeLogEntry(time=datetime.datetime(2022, 5, 8, 8, 26, 4, 90142, tzinfo=datetime.timezone.utc), status='PendingSubmit', message='', errorCode=0)])"
      ]
     },
     "execution_count": 4,
     "metadata": {},
     "output_type": "execute_result"
    }
   ],
   "source": [
    "### Ordering\n",
    "contract = Stock(\"AMD\", \"SMART\", \"USD\")\n",
    "ib.qualifyContracts(contract)\n",
    "order = MarketOrder('BUY', 5)\n",
    "ib.placeOrder(contract, order)\n"
   ]
  },
  {
   "cell_type": "code",
   "execution_count": 6,
   "metadata": {},
   "outputs": [
    {
     "data": {
      "text/html": [
       "<div>\n",
       "<style scoped>\n",
       "    .dataframe tbody tr th:only-of-type {\n",
       "        vertical-align: middle;\n",
       "    }\n",
       "\n",
       "    .dataframe tbody tr th {\n",
       "        vertical-align: top;\n",
       "    }\n",
       "\n",
       "    .dataframe thead th {\n",
       "        text-align: right;\n",
       "    }\n",
       "</style>\n",
       "<table border=\"1\" class=\"dataframe\">\n",
       "  <thead>\n",
       "    <tr style=\"text-align: right;\">\n",
       "      <th></th>\n",
       "      <th>Hour</th>\n",
       "      <th>Open</th>\n",
       "      <th>High</th>\n",
       "      <th>Low</th>\n",
       "      <th>Close</th>\n",
       "      <th>Volume</th>\n",
       "      <th>Ticker</th>\n",
       "    </tr>\n",
       "    <tr>\n",
       "      <th>Day</th>\n",
       "      <th></th>\n",
       "      <th></th>\n",
       "      <th></th>\n",
       "      <th></th>\n",
       "      <th></th>\n",
       "      <th></th>\n",
       "      <th></th>\n",
       "    </tr>\n",
       "  </thead>\n",
       "  <tbody>\n",
       "    <tr>\n",
       "      <th>2021-08-02</th>\n",
       "      <td>09:00:00</td>\n",
       "      <td>146.3607</td>\n",
       "      <td>146.4606</td>\n",
       "      <td>146.3607</td>\n",
       "      <td>146.4606</td>\n",
       "      <td>6475</td>\n",
       "      <td>AAPL</td>\n",
       "    </tr>\n",
       "    <tr>\n",
       "      <th>2021-08-02</th>\n",
       "      <td>09:01:00</td>\n",
       "      <td>146.4506</td>\n",
       "      <td>146.5404</td>\n",
       "      <td>146.4007</td>\n",
       "      <td>146.5005</td>\n",
       "      <td>20827</td>\n",
       "      <td>AAPL</td>\n",
       "    </tr>\n",
       "    <tr>\n",
       "      <th>2021-08-02</th>\n",
       "      <td>09:02:00</td>\n",
       "      <td>146.5005</td>\n",
       "      <td>146.5305</td>\n",
       "      <td>146.4805</td>\n",
       "      <td>146.5305</td>\n",
       "      <td>4227</td>\n",
       "      <td>AAPL</td>\n",
       "    </tr>\n",
       "    <tr>\n",
       "      <th>2021-08-02</th>\n",
       "      <td>09:03:00</td>\n",
       "      <td>146.5404</td>\n",
       "      <td>146.5604</td>\n",
       "      <td>146.5105</td>\n",
       "      <td>146.5205</td>\n",
       "      <td>3198</td>\n",
       "      <td>AAPL</td>\n",
       "    </tr>\n",
       "    <tr>\n",
       "      <th>2021-08-02</th>\n",
       "      <td>09:04:00</td>\n",
       "      <td>146.5205</td>\n",
       "      <td>146.5604</td>\n",
       "      <td>146.5205</td>\n",
       "      <td>146.5604</td>\n",
       "      <td>3503</td>\n",
       "      <td>AAPL</td>\n",
       "    </tr>\n",
       "    <tr>\n",
       "      <th>...</th>\n",
       "      <td>...</td>\n",
       "      <td>...</td>\n",
       "      <td>...</td>\n",
       "      <td>...</td>\n",
       "      <td>...</td>\n",
       "      <td>...</td>\n",
       "      <td>...</td>\n",
       "    </tr>\n",
       "    <tr>\n",
       "      <th>2021-08-02</th>\n",
       "      <td>15:55:00</td>\n",
       "      <td>145.3772</td>\n",
       "      <td>145.3822</td>\n",
       "      <td>145.2873</td>\n",
       "      <td>145.2923</td>\n",
       "      <td>216938</td>\n",
       "      <td>AAPL</td>\n",
       "    </tr>\n",
       "    <tr>\n",
       "      <th>2021-08-02</th>\n",
       "      <td>15:56:00</td>\n",
       "      <td>145.2923</td>\n",
       "      <td>145.3273</td>\n",
       "      <td>145.2424</td>\n",
       "      <td>145.2523</td>\n",
       "      <td>237200</td>\n",
       "      <td>AAPL</td>\n",
       "    </tr>\n",
       "    <tr>\n",
       "      <th>2021-08-02</th>\n",
       "      <td>15:57:00</td>\n",
       "      <td>145.2424</td>\n",
       "      <td>145.3123</td>\n",
       "      <td>145.2324</td>\n",
       "      <td>145.3122</td>\n",
       "      <td>259082</td>\n",
       "      <td>AAPL</td>\n",
       "    </tr>\n",
       "    <tr>\n",
       "      <th>2021-08-02</th>\n",
       "      <td>15:58:00</td>\n",
       "      <td>145.3023</td>\n",
       "      <td>145.3023</td>\n",
       "      <td>145.2424</td>\n",
       "      <td>145.2424</td>\n",
       "      <td>192529</td>\n",
       "      <td>AAPL</td>\n",
       "    </tr>\n",
       "    <tr>\n",
       "      <th>2021-08-02</th>\n",
       "      <td>15:59:00</td>\n",
       "      <td>145.2474</td>\n",
       "      <td>145.3323</td>\n",
       "      <td>145.1525</td>\n",
       "      <td>145.3023</td>\n",
       "      <td>648594</td>\n",
       "      <td>AAPL</td>\n",
       "    </tr>\n",
       "  </tbody>\n",
       "</table>\n",
       "<p>420 rows × 7 columns</p>\n",
       "</div>"
      ],
      "text/plain": [
       "                Hour      Open      High       Low     Close  Volume Ticker\n",
       "Day                                                                        \n",
       "2021-08-02  09:00:00  146.3607  146.4606  146.3607  146.4606    6475   AAPL\n",
       "2021-08-02  09:01:00  146.4506  146.5404  146.4007  146.5005   20827   AAPL\n",
       "2021-08-02  09:02:00  146.5005  146.5305  146.4805  146.5305    4227   AAPL\n",
       "2021-08-02  09:03:00  146.5404  146.5604  146.5105  146.5205    3198   AAPL\n",
       "2021-08-02  09:04:00  146.5205  146.5604  146.5205  146.5604    3503   AAPL\n",
       "...              ...       ...       ...       ...       ...     ...    ...\n",
       "2021-08-02  15:55:00  145.3772  145.3822  145.2873  145.2923  216938   AAPL\n",
       "2021-08-02  15:56:00  145.2923  145.3273  145.2424  145.2523  237200   AAPL\n",
       "2021-08-02  15:57:00  145.2424  145.3123  145.2324  145.3122  259082   AAPL\n",
       "2021-08-02  15:58:00  145.3023  145.3023  145.2424  145.2424  192529   AAPL\n",
       "2021-08-02  15:59:00  145.2474  145.3323  145.1525  145.3023  648594   AAPL\n",
       "\n",
       "[420 rows x 7 columns]"
      ]
     },
     "execution_count": 6,
     "metadata": {},
     "output_type": "execute_result"
    }
   ],
   "source": [
    "day = aapl_days[0].loc[:]\n",
    "day['Ticker'] = 'AAPL'\n",
    "day"
   ]
  },
  {
   "cell_type": "code",
   "execution_count": 7,
   "metadata": {},
   "outputs": [
    {
     "data": {
      "text/plain": [
       "Day\n",
       "2021-08-02    146.4606\n",
       "2021-08-02    146.5404\n",
       "2021-08-02    146.5305\n",
       "2021-08-02    146.5604\n",
       "2021-08-02    146.5604\n",
       "                ...   \n",
       "2021-08-02    145.3822\n",
       "2021-08-02    145.3273\n",
       "2021-08-02    145.3123\n",
       "2021-08-02    145.3023\n",
       "2021-08-02    145.3323\n",
       "Name: High, Length: 420, dtype: float64"
      ]
     },
     "execution_count": 7,
     "metadata": {},
     "output_type": "execute_result"
    }
   ],
   "source": [
    "day.iloc[:].High"
   ]
  },
  {
   "cell_type": "code",
   "execution_count": 8,
   "metadata": {},
   "outputs": [
    {
     "data": {
      "text/plain": [
       "' for i in day.iloc:\\n    buy(5, i.Ticker, i.Open) '"
      ]
     },
     "execution_count": 8,
     "metadata": {},
     "output_type": "execute_result"
    }
   ],
   "source": [
    "\"\"\" for i in day.iloc:\n",
    "    buy(5, i.Ticker, i.Open) \"\"\""
   ]
  },
  {
   "cell_type": "code",
   "execution_count": 9,
   "metadata": {},
   "outputs": [
    {
     "ename": "TypeError",
     "evalue": "__init__() takes from 1 to 4 positional arguments but 5 were given",
     "output_type": "error",
     "traceback": [
      "\u001b[0;31m---------------------------------------------------------------------------\u001b[0m",
      "\u001b[0;31mTypeError\u001b[0m                                 Traceback (most recent call last)",
      "\u001b[0;32m<ipython-input-9-6bcf8c537a2c>\u001b[0m in \u001b[0;36m<module>\u001b[0;34m\u001b[0m\n\u001b[0;32m----> 1\u001b[0;31m \u001b[0mbuy\u001b[0m\u001b[0;34m(\u001b[0m\u001b[0;36m5\u001b[0m\u001b[0;34m,\u001b[0m \u001b[0;34m'AAPL'\u001b[0m\u001b[0;34m,\u001b[0m \u001b[0;36m146.4\u001b[0m\u001b[0;34m)\u001b[0m\u001b[0;34m\u001b[0m\u001b[0;34m\u001b[0m\u001b[0m\n\u001b[0m",
      "\u001b[0;32m<ipython-input-1-d9b4fc9090ea>\u001b[0m in \u001b[0;36mbuy\u001b[0;34m(amount, ticker, price)\u001b[0m\n\u001b[1;32m      8\u001b[0m     \u001b[0;32mif\u001b[0m \u001b[0;34m(\u001b[0m\u001b[0mcapital\u001b[0m \u001b[0;34m>=\u001b[0m \u001b[0mprice\u001b[0m \u001b[0;34m*\u001b[0m \u001b[0mamount\u001b[0m\u001b[0;34m)\u001b[0m\u001b[0;34m:\u001b[0m\u001b[0;34m\u001b[0m\u001b[0;34m\u001b[0m\u001b[0m\n\u001b[1;32m      9\u001b[0m         \u001b[0mcapital\u001b[0m \u001b[0;34m-=\u001b[0m \u001b[0mprice\u001b[0m \u001b[0;34m*\u001b[0m \u001b[0mamount\u001b[0m\u001b[0;34m\u001b[0m\u001b[0;34m\u001b[0m\u001b[0m\n\u001b[0;32m---> 10\u001b[0;31m         \u001b[0mstocks_held\u001b[0m\u001b[0;34m.\u001b[0m\u001b[0mappend\u001b[0m\u001b[0;34m(\u001b[0m\u001b[0mStock\u001b[0m\u001b[0;34m(\u001b[0m\u001b[0mticker\u001b[0m\u001b[0;34m,\u001b[0m \u001b[0;34m'BUY'\u001b[0m\u001b[0;34m,\u001b[0m \u001b[0mprice\u001b[0m\u001b[0;34m,\u001b[0m \u001b[0mamount\u001b[0m\u001b[0;34m)\u001b[0m\u001b[0;34m)\u001b[0m\u001b[0;34m\u001b[0m\u001b[0;34m\u001b[0m\u001b[0m\n\u001b[0m\u001b[1;32m     11\u001b[0m     \u001b[0;32melse\u001b[0m\u001b[0;34m:\u001b[0m\u001b[0;34m\u001b[0m\u001b[0;34m\u001b[0m\u001b[0m\n\u001b[1;32m     12\u001b[0m         \u001b[0;31m# Can attempt to buy a lower amount of stock instead here\u001b[0m\u001b[0;34m\u001b[0m\u001b[0;34m\u001b[0m\u001b[0;34m\u001b[0m\u001b[0m\n",
      "\u001b[0;31mTypeError\u001b[0m: __init__() takes from 1 to 4 positional arguments but 5 were given"
     ]
    }
   ],
   "source": [
    "buy(5, 'AAPL', 146.4)"
   ]
  },
  {
   "cell_type": "code",
   "execution_count": null,
   "metadata": {},
   "outputs": [
    {
     "name": "stdout",
     "output_type": "stream",
     "text": [
      "AAPL 5 BUY 146.4\n"
     ]
    }
   ],
   "source": [
    "print(stocks_held[0])"
   ]
  },
  {
   "cell_type": "code",
   "execution_count": null,
   "metadata": {},
   "outputs": [],
   "source": [
    "## How far does the percent change deviate the overall mean?\n",
    "# Trade on this"
   ]
  },
  {
   "cell_type": "code",
   "execution_count": null,
   "metadata": {},
   "outputs": [],
   "source": [
    "from ib_insync import *\n",
    "util.startLoop()  # uncomment this line when in a notebook\n",
    "\n",
    "ib = IB()\n",
    "ib.connect('127.0.0.1', 7497, clientId=1)\n",
    "\n",
    "contract = Forex('EURUSD')\n",
    "bars = ib.reqHistoricalData(\n",
    "    contract, endDateTime='', durationStr='30 D',\n",
    "    barSizeSetting='1 hour', whatToShow='MIDPOINT', useRTH=True)\n",
    "\n",
    "# convert to pandas dataframe:\n",
    "df = util.df(bars)\n",
    "print(df)"
   ]
  }
 ],
 "metadata": {
  "interpreter": {
   "hash": "e2f8a8d1048687517b1cba4cc106ef6f246fc7f13a2b583744d0ae8464119364"
  },
  "kernelspec": {
   "display_name": "Python 3.8.8 ('base')",
   "language": "python",
   "name": "python3"
  },
  "language_info": {
   "codemirror_mode": {
    "name": "ipython",
    "version": 3
   },
   "file_extension": ".py",
   "mimetype": "text/x-python",
   "name": "python",
   "nbconvert_exporter": "python",
   "pygments_lexer": "ipython3",
   "version": "3.8.8"
  },
  "orig_nbformat": 4
 },
 "nbformat": 4,
 "nbformat_minor": 2
}
