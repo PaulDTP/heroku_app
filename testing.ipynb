{
 "cells": [
  {
   "cell_type": "code",
   "execution_count": null,
   "metadata": {},
   "outputs": [],
   "source": [
    "%run 'init.ipynb'"
   ]
  },
  {
   "cell_type": "code",
   "execution_count": 59,
   "metadata": {},
   "outputs": [],
   "source": [
    "from backtesting import Strategy\n",
    "from backtesting import Backtest\n",
    "from backtesting.lib import crossover\n",
    "\n",
    "class Zeppelin(Strategy):\n",
    "    # Called before Strategy is run; precompute indicators/signals Strategy relies on\n",
    "    # All data available\n",
    "    def init(self):\n",
    "        self.change = self.I(pct_change, self.data.Open)\n",
    "\n",
    "    # Called once for every data row \n",
    "    def next(self):\n",
    "        # if trending up\n",
    "        if trending(self.change[-1], self.change[-2]):\n",
    "            self.position.close()\n",
    "            self.buy()\n",
    "        # if trending down\n",
    "        elif trending(self.change[-2], self.change[-1]):\n",
    "            self.position.close()\n",
    "            self.sell(size=-.9999)\n",
    "# what is the length to reach 0.05 percent of current price\n",
    "def pct_change(values):\n",
    "    first = pd.Series(values)\n",
    "    second = pd.Series(values).shift(1) #period\n",
    "    return (first - second) / second * 100\n",
    "\n",
    "def instruction1(change):\n",
    "    if change > 0.3 and change < 0.35:\n",
    "        self.sell()\n",
    "\n",
    "def trending(current, previous):\n",
    "    if current >= 0:\n",
    "        if current > previous:\n",
    "            return True\n",
    "        return False"
   ]
  },
  {
   "cell_type": "code",
   "execution_count": 60,
   "metadata": {},
   "outputs": [
    {
     "name": "stderr",
     "output_type": "stream",
     "text": [
      "<ipython-input-60-cf43794ac9b8>:1: UserWarning: Data index is not datetime. Assuming simple periods, but `pd.DateTimeIndex` is advised.\n",
      "  bt = Backtest(aapl, Zeppelin, cash=100_000, commission=.002, exclusive_orders=True)\n"
     ]
    },
    {
     "data": {
      "text/plain": [
       "Start                                     0.0\n",
       "End                                    4049.0\n",
       "Duration                               4049.0\n",
       "Exposure Time [%]                   99.925926\n",
       "Equity Final [$]                   275.907756\n",
       "Equity Peak [$]                      100000.0\n",
       "Return [%]                         -99.724092\n",
       "Buy & Hold Return [%]                1.655326\n",
       "Return (Ann.) [%]                         0.0\n",
       "Volatility (Ann.) [%]                     NaN\n",
       "Sharpe Ratio                              NaN\n",
       "Sortino Ratio                             NaN\n",
       "Calmar Ratio                              0.0\n",
       "Max. Drawdown [%]                  -99.724092\n",
       "Avg. Drawdown [%]                  -99.724092\n",
       "Max. Drawdown Duration                 4047.0\n",
       "Avg. Drawdown Duration                 4047.0\n",
       "# Trades                               3101.0\n",
       "Win Rate [%]                         0.515963\n",
       "Best Trade [%]                       0.446714\n",
       "Worst Trade [%]                     -0.502693\n",
       "Avg. Trade [%]                      -0.200477\n",
       "Max. Trade Duration                      12.0\n",
       "Avg. Trade Duration                   1.30474\n",
       "Profit Factor                        0.002874\n",
       "Expectancy [%]                      -0.200464\n",
       "SQN                                -35.414223\n",
       "_strategy                            Zeppelin\n",
       "_equity_curve                          Equ...\n",
       "_trades                         Size  Entr...\n",
       "dtype: object"
      ]
     },
     "execution_count": 60,
     "metadata": {},
     "output_type": "execute_result"
    }
   ],
   "source": [
    "bt = Backtest(aapl, Zeppelin, cash=100_000, commission=.002, exclusive_orders=True)\n",
    "stats = bt.run()\n",
    "stats"
   ]
  },
  {
   "cell_type": "code",
   "execution_count": null,
   "metadata": {},
   "outputs": [],
   "source": [
    "bt.plot()"
   ]
  },
  {
   "cell_type": "code",
   "execution_count": null,
   "metadata": {},
   "outputs": [],
   "source": []
  }
 ],
 "metadata": {
  "interpreter": {
   "hash": "e2f8a8d1048687517b1cba4cc106ef6f246fc7f13a2b583744d0ae8464119364"
  },
  "kernelspec": {
   "display_name": "Python 3.8.8 ('base')",
   "language": "python",
   "name": "python3"
  },
  "language_info": {
   "codemirror_mode": {
    "name": "ipython",
    "version": 3
   },
   "file_extension": ".py",
   "mimetype": "text/x-python",
   "name": "python",
   "nbconvert_exporter": "python",
   "pygments_lexer": "ipython3",
   "version": "3.8.8"
  },
  "orig_nbformat": 4
 },
 "nbformat": 4,
 "nbformat_minor": 2
}
