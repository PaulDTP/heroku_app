{
 "cells": [
  {
   "cell_type": "markdown",
   "metadata": {},
   "source": [
    "# Binance Test Net API Research"
   ]
  },
  {
   "cell_type": "code",
   "outputs": [],
   "source": [
    "import decimal\n",
    "import os\n",
    "\n",
    "import ccxt.pro as pro\n",
    "import ccxt\n",
    "import dotenv"
   ],
   "metadata": {
    "collapsed": false,
    "ExecuteTime": {
     "end_time": "2024-01-25T04:56:11.274464Z",
     "start_time": "2024-01-25T04:56:10.334711Z"
    }
   },
   "execution_count": 2
  },
  {
   "cell_type": "code",
   "outputs": [],
   "source": [
    "dotenv.load_dotenv()\n",
    "apiKey = os.getenv('TEST_API_KEY')\n",
    "apiSecret = os.getenv('TEST_API_SECRET')"
   ],
   "metadata": {
    "collapsed": false,
    "ExecuteTime": {
     "end_time": "2024-01-25T04:56:12.167197Z",
     "start_time": "2024-01-25T04:56:12.162817Z"
    }
   },
   "execution_count": 3
  },
  {
   "cell_type": "code",
   "outputs": [],
   "source": [
    "exchange_class = getattr(pro, 'binanceus')\n",
    "exchange = exchange_class({'enableRateLimit': True,\n",
    "                           'apiKey': apiKey, 'secret': apiSecret})\n",
    "exchange.set_sandbox_mode(True)\n",
    "exchange.number = decimal.Decimal"
   ],
   "metadata": {
    "collapsed": false
   }
  },
  {
   "cell_type": "markdown",
   "source": [],
   "metadata": {
    "collapsed": false
   }
  },
  {
   "cell_type": "code",
   "outputs": [],
   "source": [
    "exch_class = getattr(pro, 'binanceus')\n",
    "exchange = exch_class({'apiKey': apiKey, 'secret': apiSecret})"
   ],
   "metadata": {
    "collapsed": false,
    "ExecuteTime": {
     "end_time": "2024-01-25T04:57:27.794201Z",
     "start_time": "2024-01-25T04:57:27.784840Z"
    }
   },
   "execution_count": 8
  },
  {
   "cell_type": "code",
   "outputs": [],
   "source": [
    "exchange.set_sandbox_mode(True)"
   ],
   "metadata": {
    "collapsed": false,
    "ExecuteTime": {
     "end_time": "2024-01-25T04:57:40.650431Z",
     "start_time": "2024-01-25T04:57:40.645057Z"
    }
   },
   "execution_count": 10
  },
  {
   "cell_type": "code",
   "outputs": [
    {
     "data": {
      "text/plain": "ccxt.async_support.binanceus()"
     },
     "execution_count": 27,
     "metadata": {},
     "output_type": "execute_result"
    }
   ],
   "source": [
    "exchange"
   ],
   "metadata": {
    "collapsed": false,
    "ExecuteTime": {
     "end_time": "2024-01-25T19:13:26.365710Z",
     "start_time": "2024-01-25T19:13:26.335556Z"
    }
   },
   "execution_count": 27
  },
  {
   "cell_type": "code",
   "outputs": [],
   "source": [
    "await exchange.close()"
   ],
   "metadata": {
    "collapsed": false,
    "ExecuteTime": {
     "end_time": "2024-01-25T19:21:12.297125Z",
     "start_time": "2024-01-25T19:21:12.294532Z"
    }
   },
   "execution_count": 33
  },
  {
   "cell_type": "code",
   "outputs": [
    {
     "data": {
      "text/plain": "['1000SATS/FDUSD',\n '1000SATS/TRY',\n '1000SATS/USDT',\n '1INCH/BTC',\n '1INCH/USDT',\n 'AAVE/BNB',\n 'AAVE/BTC',\n 'AAVE/ETH',\n 'AAVE/USDT',\n 'ACA/BTC',\n 'ACA/TRY',\n 'ACA/USDT',\n 'ACE/BNB',\n 'ACE/BTC',\n 'ACE/FDUSD',\n 'ACE/TRY',\n 'ACE/USDT',\n 'ACH/BTC',\n 'ACH/TRY',\n 'ACH/USDT',\n 'ACM/TRY',\n 'ACM/USDT',\n 'ADA/BNB',\n 'ADA/BRL',\n 'ADA/BTC',\n 'ADA/ETH',\n 'ADA/EUR',\n 'ADA/FDUSD',\n 'ADA/TRY',\n 'ADA/TUSD',\n 'ADA/USDC',\n 'ADA/USDT',\n 'ADX/BTC',\n 'ADX/ETH',\n 'ADX/USDT',\n 'AERGO/BTC',\n 'AERGO/USDT',\n 'AEUR/USDT',\n 'AGIX/BTC',\n 'AGIX/TRY',\n 'AGIX/USDT',\n 'AGLD/BTC',\n 'AGLD/USDT',\n 'AI/BNB',\n 'AI/BTC',\n 'AI/FDUSD',\n 'AI/TRY',\n 'AI/TUSD',\n 'AI/USDT',\n 'AKRO/USDT',\n 'ALCX/BTC',\n 'ALCX/USDT',\n 'ALGO/BNB',\n 'ALGO/BTC',\n 'ALGO/ETH',\n 'ALGO/FDUSD',\n 'ALGO/TRY',\n 'ALGO/USDT',\n 'ALICE/BTC',\n 'ALICE/TRY',\n 'ALICE/USDT',\n 'ALPACA/BTC',\n 'ALPACA/USDT',\n 'ALPHA/BTC',\n 'ALPHA/USDT',\n 'ALPINE/BTC',\n 'ALPINE/EUR',\n 'ALPINE/TRY',\n 'ALPINE/USDT',\n 'AMB/BTC',\n 'AMB/USDT',\n 'AMP/TRY',\n 'AMP/USDT',\n 'ANKR/BTC',\n 'ANKR/TRY',\n 'ANKR/USDT',\n 'ANT/BTC',\n 'ANT/USDT',\n 'APE/BTC',\n 'APE/ETH',\n 'APE/TRY',\n 'APE/USDT',\n 'API3/BTC',\n 'API3/TRY',\n 'API3/USDT',\n 'APT/BTC',\n 'APT/ETH',\n 'APT/EUR',\n 'APT/TRY',\n 'APT/USDT',\n 'AR/BTC',\n 'AR/USDT',\n 'ARB/BTC',\n 'ARB/ETH',\n 'ARB/EUR',\n 'ARB/FDUSD',\n 'ARB/TRY',\n 'ARB/TUSD',\n 'ARB/USDC',\n 'ARB/USDT',\n 'ARDR/BTC',\n 'ARDR/USDT',\n 'ARK/TRY',\n 'ARK/USDT',\n 'ARKM/BNB',\n 'ARKM/BTC',\n 'ARKM/TRY',\n 'ARKM/TUSD',\n 'ARKM/USDT',\n 'ARPA/BNB',\n 'ARPA/BTC',\n 'ARPA/TRY',\n 'ARPA/USDT',\n 'ASR/TRY',\n 'ASR/USDT',\n 'AST/BTC',\n 'AST/USDT',\n 'ASTR/BTC',\n 'ASTR/USDT',\n 'ATA/BTC',\n 'ATA/USDT',\n 'ATM/TRY',\n 'ATM/USDT',\n 'ATOM/BNB',\n 'ATOM/BTC',\n 'ATOM/ETH',\n 'ATOM/EUR',\n 'ATOM/FDUSD',\n 'ATOM/TRY',\n 'ATOM/USDT',\n 'AUCTION/BTC',\n 'AUCTION/FDUSD',\n 'AUCTION/USDT',\n 'AUDIO/BTC',\n 'AUDIO/TRY',\n 'AUDIO/USDT',\n 'AVA/BTC',\n 'AVA/USDT',\n 'AVAX/BNB',\n 'AVAX/BRL',\n 'AVAX/BTC',\n 'AVAX/ETH',\n 'AVAX/EUR',\n 'AVAX/FDUSD',\n 'AVAX/TRY',\n 'AVAX/TUSD',\n 'AVAX/USDC',\n 'AVAX/USDT',\n 'AXS/BNB',\n 'AXS/BTC',\n 'AXS/ETH',\n 'AXS/TRY',\n 'AXS/USDT',\n 'BADGER/BTC',\n 'BADGER/USDT',\n 'BAKE/BNB',\n 'BAKE/BTC',\n 'BAKE/USDT',\n 'BAL/BTC',\n 'BAL/USDT',\n 'BAND/BTC',\n 'BAND/TRY',\n 'BAND/USDT',\n 'BAR/TRY',\n 'BAR/USDT',\n 'BAT/BTC',\n 'BAT/USDT',\n 'BCH/BNB',\n 'BCH/BTC',\n 'BCH/EUR',\n 'BCH/FDUSD',\n 'BCH/TRY',\n 'BCH/TUSD',\n 'BCH/USDT',\n 'BEAMX/TRY',\n 'BEAMX/USDT',\n 'BEL/BTC',\n 'BEL/TRY',\n 'BEL/USDT',\n 'BETA/BTC',\n 'BETA/USDT',\n 'BICO/BTC',\n 'BICO/USDT',\n 'BIFI/USDT',\n 'BLUR/BTC',\n 'BLUR/FDUSD',\n 'BLUR/TRY',\n 'BLUR/USDT',\n 'BLZ/BTC',\n 'BLZ/FDUSD',\n 'BLZ/USDT',\n 'BNB/BRL',\n 'BNB/BTC',\n 'BNB/DAI',\n 'BNB/ETH',\n 'BNB/EUR',\n 'BNB/FDUSD',\n 'BNB/TRY',\n 'BNB/TUSD',\n 'BNB/UAH',\n 'BNB/USDC',\n 'BNB/USDT',\n 'BNT/BTC',\n 'BNT/ETH',\n 'BNT/USDT',\n 'BNX/BTC',\n 'BNX/USDT',\n 'BOND/BTC',\n 'BOND/USDT',\n 'BONK/FDUSD',\n 'BONK/TRY',\n 'BONK/USDT',\n 'BSW/BNB',\n 'BSW/TRY',\n 'BSW/USDT',\n 'BTC/AEUR',\n 'BTC/ARS',\n 'BTC/BIDR',\n 'BTC/BRL',\n 'BTC/DAI',\n 'BTC/EUR',\n 'BTC/FDUSD',\n 'BTC/NGN',\n 'BTC/PLN',\n 'BTC/RON',\n 'BTC/RUB',\n 'BTC/TRY',\n 'BTC/TUSD',\n 'BTC/UAH',\n 'BTC/USDC',\n 'BTC/USDT',\n 'BTC/ZAR',\n 'BTTC/TRY',\n 'BTTC/USDT',\n 'BURGER/USDT',\n 'C98/BTC',\n 'C98/USDT',\n 'CAKE/BNB',\n 'CAKE/BTC',\n 'CAKE/TRY',\n 'CAKE/TUSD',\n 'CAKE/USDT',\n 'CELO/BTC',\n 'CELO/USDT',\n 'CELR/BTC',\n 'CELR/USDT',\n 'CFX/BTC',\n 'CFX/TRY',\n 'CFX/TUSD',\n 'CFX/USDT',\n 'CHESS/BTC',\n 'CHESS/USDT',\n 'CHR/BNB',\n 'CHR/BTC',\n 'CHR/ETH',\n 'CHR/USDT',\n 'CHZ/BNB',\n 'CHZ/BRL',\n 'CHZ/BTC',\n 'CHZ/EUR',\n 'CHZ/TRY',\n 'CHZ/USDT',\n 'CITY/BTC',\n 'CITY/TRY',\n 'CITY/USDT',\n 'CKB/USDT',\n 'CLV/BTC',\n 'CLV/USDT',\n 'COMBO/BNB',\n 'COMBO/TRY',\n 'COMBO/USDT',\n 'COMP/BTC',\n 'COMP/TRY',\n 'COMP/TUSD',\n 'COMP/USDT',\n 'COS/BNB',\n 'COS/BTC',\n 'COS/TRY',\n 'COS/USDT',\n 'COTI/BNB',\n 'COTI/BTC',\n 'COTI/USDT',\n 'CREAM/USDT',\n 'CRV/BTC',\n 'CRV/ETH',\n 'CRV/USDT',\n 'CTK/BNB',\n 'CTK/BTC',\n 'CTK/USDT',\n 'CTSI/BNB',\n 'CTSI/BTC',\n 'CTSI/USDT',\n 'CTXC/BTC',\n 'CTXC/USDT',\n 'CVC/USDT',\n 'CVP/USDT',\n 'CVX/USDT',\n 'CYBER/BNB',\n 'CYBER/BTC',\n 'CYBER/ETH',\n 'CYBER/FDUSD',\n 'CYBER/TRY',\n 'CYBER/TUSD',\n 'CYBER/USDT',\n 'DAR/BNB',\n 'DAR/BTC',\n 'DAR/TRY',\n 'DAR/USDT',\n 'DASH/BTC',\n 'DASH/ETH',\n 'DASH/USDT',\n 'DATA/BTC',\n 'DATA/USDT',\n 'DCR/BTC',\n 'DCR/USDT',\n 'DEGO/BTC',\n 'DEGO/USDT',\n 'DENT/ETH',\n 'DENT/TRY',\n 'DENT/USDT',\n 'DEXE/ETH',\n 'DEXE/USDT',\n 'DF/USDT',\n 'DGB/BTC',\n 'DGB/USDT',\n 'DIA/BTC',\n 'DIA/USDT',\n 'DOCK/BTC',\n 'DOCK/USDT',\n 'DODO/BTC',\n 'DODO/USDT',\n 'DOGE/BRL',\n 'DOGE/BTC',\n 'DOGE/EUR',\n 'DOGE/FDUSD',\n 'DOGE/TRY',\n 'DOGE/TUSD',\n 'DOGE/USDT',\n 'DOT/BNB',\n 'DOT/BRL',\n 'DOT/BTC',\n 'DOT/ETH',\n 'DOT/EUR',\n 'DOT/FDUSD',\n 'DOT/TRY',\n 'DOT/TUSD',\n 'DOT/USDC',\n 'DOT/USDT',\n 'DREP/BTC',\n 'DREP/USDT',\n 'DUSK/BTC',\n 'DUSK/USDT',\n 'DYDX/BNB',\n 'DYDX/BTC',\n 'DYDX/FDUSD',\n 'DYDX/TRY',\n 'DYDX/USDT',\n 'EDU/BNB',\n 'EDU/BTC',\n 'EDU/TRY',\n 'EDU/TUSD',\n 'EDU/USDT',\n 'EGLD/BNB',\n 'EGLD/BTC',\n 'EGLD/ETH',\n 'EGLD/EUR',\n 'EGLD/FDUSD',\n 'EGLD/RON',\n 'EGLD/USDT',\n 'ELF/BTC',\n 'ELF/ETH',\n 'ELF/USDT',\n 'ENJ/BTC',\n 'ENJ/ETH',\n 'ENJ/TRY',\n 'ENJ/USDT',\n 'ENS/BTC',\n 'ENS/TRY',\n 'ENS/USDT',\n 'EOS/BTC',\n 'EOS/ETH',\n 'EOS/TRY',\n 'EOS/USDT',\n 'EPX/USDT',\n 'ERN/USDT',\n 'ETC/BNB',\n 'ETC/BTC',\n 'ETC/ETH',\n 'ETC/TRY',\n 'ETC/USDT',\n 'ETH/AEUR',\n 'ETH/BIDR',\n 'ETH/BRL',\n 'ETH/BTC',\n 'ETH/DAI',\n 'ETH/EUR',\n 'ETH/FDUSD',\n 'ETH/PLN',\n 'ETH/TRY',\n 'ETH/TUSD',\n 'ETH/UAH',\n 'ETH/USDC',\n 'ETH/USDT',\n 'ETH/ZAR',\n 'EUR/AEUR',\n 'EUR/USDT',\n 'FARM/BTC',\n 'FARM/USDT',\n 'FDUSD/TRY',\n 'FDUSD/USDT',\n 'FET/BNB',\n 'FET/BTC',\n 'FET/FDUSD',\n 'FET/TRY',\n 'FET/USDT',\n 'FIDA/BTC',\n 'FIDA/TRY',\n 'FIDA/USDT',\n 'FIL/BNB',\n 'FIL/BTC',\n 'FIL/ETH',\n 'FIL/FDUSD',\n 'FIL/TRY',\n 'FIL/USDT',\n 'FIO/BTC',\n 'FIO/USDT',\n 'FIRO/BTC',\n 'FIRO/USDT',\n 'FIS/BTC',\n 'FIS/USDT',\n 'FLM/BTC',\n 'FLM/USDT',\n 'FLOKI/TRY',\n 'FLOKI/TUSD',\n 'FLOKI/USDT',\n 'FLOW/BNB',\n 'FLOW/BTC',\n 'FLOW/USDT',\n 'FLUX/BTC',\n 'FLUX/USDT',\n 'FOR/BTC',\n 'FOR/USDT',\n 'FORTH/BTC',\n 'FORTH/USDT',\n 'FRONT/BTC',\n 'FRONT/TRY',\n 'FRONT/TUSD',\n 'FRONT/USDT',\n 'FTM/BNB',\n 'FTM/BTC',\n 'FTM/ETH',\n 'FTM/EUR',\n 'FTM/FDUSD',\n 'FTM/TRY',\n 'FTM/USDT',\n 'FTT/USDT',\n 'FUN/BNB',\n 'FUN/ETH',\n 'FUN/USDT',\n 'FXS/BTC',\n 'FXS/USDT',\n 'GAL/BTC',\n 'GAL/TRY',\n 'GAL/USDT',\n 'GALA/BNB',\n 'GALA/BRL',\n 'GALA/BTC',\n 'GALA/ETH',\n 'GALA/EUR',\n 'GALA/FDUSD',\n 'GALA/TRY',\n 'GALA/USDT',\n 'GAS/BTC',\n 'GAS/FDUSD',\n 'GAS/TRY',\n 'GAS/USDT',\n 'GFT/USDT',\n 'GHST/USDT',\n 'GLM/BTC',\n 'GLM/USDT',\n 'GLMR/BTC',\n 'GLMR/USDT',\n 'GMT/BNB',\n 'GMT/BTC',\n 'GMT/ETH',\n 'GMT/EUR',\n 'GMT/TRY',\n 'GMT/USDT',\n 'GMX/BTC',\n 'GMX/USDT',\n 'GNO/USDT',\n 'GNS/BTC',\n 'GNS/USDT',\n 'GRT/BTC',\n 'GRT/ETH',\n 'GRT/EUR',\n 'GRT/TRY',\n 'GRT/USDT',\n 'GTC/BTC',\n 'GTC/USDT',\n 'HARD/BTC',\n 'HARD/USDT',\n 'HBAR/BNB',\n 'HBAR/BTC',\n 'HBAR/USDT',\n 'HFT/BTC',\n 'HFT/USDT',\n 'HIFI/ETH',\n 'HIFI/USDT',\n 'HIGH/BTC',\n 'HIGH/USDT',\n 'HIVE/BTC',\n 'HIVE/USDT',\n 'HOOK/BTC',\n 'HOOK/USDT',\n 'HOT/ETH',\n 'HOT/TRY',\n 'HOT/USDT',\n 'ICP/BNB',\n 'ICP/BTC',\n 'ICP/ETH',\n 'ICP/EUR',\n 'ICP/FDUSD',\n 'ICP/TRY',\n 'ICP/USDT',\n 'ICX/BTC',\n 'ICX/USDT',\n 'ID/BNB',\n 'ID/BTC',\n 'ID/TRY',\n 'ID/TUSD',\n 'ID/USDT',\n 'IDEX/BTC',\n 'IDEX/USDT',\n 'ILV/BTC',\n 'ILV/USDT',\n 'IMX/BTC',\n 'IMX/USDT',\n 'INJ/BNB',\n 'INJ/BTC',\n 'INJ/ETH',\n 'INJ/FDUSD',\n 'INJ/TRY',\n 'INJ/TUSD',\n 'INJ/USDC',\n 'INJ/USDT',\n 'IOST/BTC',\n 'IOST/ETH',\n 'IOST/USDT',\n 'IOTA/BTC',\n 'IOTA/ETH',\n 'IOTA/FDUSD',\n 'IOTA/TRY',\n 'IOTA/USDT',\n 'IOTX/BTC',\n 'IOTX/ETH',\n 'IOTX/USDT',\n 'IQ/USDT',\n 'IRIS/BTC',\n 'IRIS/USDT',\n 'JASMY/TRY',\n 'JASMY/USDT',\n 'JOE/BTC',\n 'JOE/TRY',\n 'JOE/USDT',\n 'JST/BTC',\n 'JST/USDT',\n 'JTO/FDUSD',\n 'JTO/TRY',\n 'JTO/USDT',\n 'JUV/TRY',\n 'JUV/USDT',\n 'KAVA/BTC',\n 'KAVA/ETH',\n 'KAVA/USDT',\n 'KDA/BTC',\n 'KDA/USDT',\n 'KEY/USDT',\n 'KLAY/BTC',\n 'KLAY/USDT',\n 'KMD/BTC',\n 'KMD/USDT',\n 'KNC/BTC',\n 'KNC/USDT',\n 'KP3R/USDT',\n 'KSM/BTC',\n 'KSM/USDT',\n 'LAZIO/BTC',\n 'LAZIO/EUR',\n 'LAZIO/TRY',\n 'LAZIO/USDT',\n 'LDO/BTC',\n 'LDO/FDUSD',\n 'LDO/TUSD',\n 'LDO/USDT',\n 'LEVER/TRY',\n 'LEVER/USDT',\n 'LINA/BTC',\n 'LINA/USDT',\n 'LINK/BNB',\n 'LINK/BRL',\n 'LINK/BTC',\n 'LINK/ETH',\n 'LINK/EUR',\n 'LINK/FDUSD',\n 'LINK/TRY',\n 'LINK/TUSD',\n 'LINK/USDT',\n 'LIT/BTC',\n 'LIT/USDT',\n 'LOKA/BTC',\n 'LOKA/USDT',\n 'LOOM/BTC',\n 'LOOM/TRY',\n 'LOOM/USDT',\n 'LPT/BNB',\n 'LPT/BTC',\n 'LPT/TRY',\n 'LPT/USDT',\n 'LQTY/BTC',\n 'LQTY/USDT',\n 'LRC/BTC',\n 'LRC/ETH',\n 'LRC/TRY',\n 'LRC/USDT',\n 'LSK/BTC',\n 'LSK/ETH',\n 'LSK/USDT',\n 'LTC/BNB',\n 'LTC/BRL',\n 'LTC/BTC',\n 'LTC/ETH',\n 'LTC/EUR',\n 'LTC/FDUSD',\n 'LTC/TRY',\n 'LTC/TUSD',\n 'LTC/UAH',\n 'LTC/USDT',\n 'LTO/BTC',\n 'LTO/USDT',\n 'LUNA/TRY',\n 'LUNA/USDT',\n 'LUNC/TRY',\n 'LUNC/USDT',\n 'MAGIC/BTC',\n 'MAGIC/TRY',\n 'MAGIC/USDT',\n 'MANA/BTC',\n 'MANA/ETH',\n 'MANA/TRY',\n 'MANA/USDT',\n 'MASK/BNB',\n 'MASK/USDT',\n 'MATIC/BNB',\n 'MATIC/BRL',\n 'MATIC/BTC',\n 'MATIC/ETH',\n 'MATIC/EUR',\n 'MATIC/FDUSD',\n 'MATIC/TRY',\n 'MATIC/TUSD',\n 'MATIC/USDC',\n 'MATIC/USDT',\n 'MAV/BTC',\n 'MAV/TRY',\n 'MAV/TUSD',\n 'MAV/USDT',\n 'MBL/USDT',\n 'MBOX/BNB',\n 'MBOX/BTC',\n 'MBOX/TRY',\n 'MBOX/USDT',\n 'MDT/BTC',\n 'MDT/USDT',\n 'MDX/BTC',\n 'MDX/USDT',\n 'MEME/BNB',\n 'MEME/ETH',\n 'MEME/FDUSD',\n 'MEME/TRY',\n 'MEME/TUSD',\n 'MEME/USDT',\n 'MINA/BTC',\n 'MINA/TRY',\n 'MINA/USDT',\n 'MKR/BTC',\n 'MKR/USDT',\n 'MLN/BTC',\n 'MLN/USDT',\n 'MOB/BTC',\n 'MOB/USDT',\n 'MOVR/BTC',\n 'MOVR/TRY',\n 'MOVR/USDT',\n 'MTL/BTC',\n 'MTL/TRY',\n 'MTL/USDT',\n 'MULTI/BTC',\n 'MULTI/USDT',\n 'NEAR/BNB',\n 'NEAR/BTC',\n 'NEAR/ETH',\n 'NEAR/EUR',\n 'NEAR/FDUSD',\n 'NEAR/TRY',\n 'NEAR/USDT',\n 'NEO/BTC',\n 'NEO/ETH',\n 'NEO/TRY',\n 'NEO/USDT',\n 'NEXO/BTC',\n 'NEXO/USDT',\n 'NFP/BNB',\n 'NFP/BTC',\n 'NFP/FDUSD',\n 'NFP/TRY',\n 'NFP/TUSD',\n 'NFP/USDT',\n 'NKN/BTC',\n 'NKN/USDT',\n 'NMR/BTC',\n 'NMR/USDT',\n 'NTRN/BNB',\n 'NTRN/BTC',\n 'NTRN/TRY',\n 'NTRN/USDT',\n 'NULS/BTC',\n 'NULS/USDT',\n 'OAX/BTC',\n 'OAX/USDT',\n 'OCEAN/BNB',\n 'OCEAN/BTC',\n 'OCEAN/TRY',\n 'OCEAN/USDT',\n 'OG/BTC',\n 'OG/TRY',\n 'OG/USDT',\n 'OGN/BTC',\n 'OGN/TRY',\n 'OGN/USDT',\n 'OM/BTC',\n 'OM/USDT',\n 'OMG/USDT',\n 'ONE/BNB',\n 'ONE/BTC',\n 'ONE/TRY',\n 'ONE/USDT',\n 'ONG/BTC',\n 'ONG/USDT',\n 'ONT/BTC',\n 'ONT/TRY',\n 'ONT/USDT',\n 'OOKI/USDT',\n 'OP/BNB',\n 'OP/BTC',\n 'OP/ETH',\n 'OP/EUR',\n 'OP/FDUSD',\n 'OP/TRY',\n 'OP/TUSD',\n 'OP/USDC',\n 'OP/USDT',\n 'ORDI/BTC',\n 'ORDI/FDUSD',\n 'ORDI/TRY',\n 'ORDI/TUSD',\n 'ORDI/USDC',\n 'ORDI/USDT',\n 'ORN/BTC',\n 'ORN/USDT',\n 'OSMO/BTC',\n 'OSMO/USDT',\n 'OXT/BTC',\n 'OXT/USDT',\n 'PAXG/BTC',\n 'PAXG/TRY',\n 'PAXG/USDT',\n 'PENDLE/BTC',\n 'PENDLE/TUSD',\n 'PENDLE/USDT',\n 'PEOPLE/BTC',\n 'PEOPLE/USDT',\n 'PEPE/TRY',\n 'PEPE/TUSD',\n 'PEPE/USDT',\n 'PERP/BTC',\n 'PERP/USDT',\n 'PHA/BTC',\n 'PHA/USDT',\n 'PHB/BTC',\n 'PHB/USDT',\n 'PIVX/BTC',\n 'PIVX/USDT',\n 'PLA/BTC',\n 'PLA/USDT',\n 'PNT/USDT',\n 'POLS/BNB',\n 'POLS/BTC',\n 'POLS/USDT',\n 'POLYX/BTC',\n 'POLYX/USDT',\n 'POND/BTC',\n 'POND/USDT',\n 'PORTO/BTC',\n 'PORTO/EUR',\n 'PORTO/TRY',\n 'PORTO/USDT',\n 'POWR/BTC',\n 'POWR/ETH',\n 'POWR/USDT',\n 'PROM/BTC',\n 'PROM/USDT',\n 'PROS/USDT',\n 'PSG/BTC',\n 'PSG/TRY',\n 'PSG/USDT',\n 'PUNDIX/ETH',\n 'PUNDIX/USDT',\n 'PYR/BTC',\n 'PYR/USDT',\n 'QI/BTC',\n 'QI/USDT',\n 'QKC/BTC',\n 'QKC/ETH',\n 'QKC/USDT',\n 'QNT/BTC',\n 'QNT/USDT',\n 'QTUM/BTC',\n 'QTUM/ETH',\n 'QTUM/USDT',\n 'QUICK/BTC',\n 'QUICK/TUSD',\n 'QUICK/USDT',\n 'RAD/BTC',\n 'RAD/TRY',\n 'RAD/USDT',\n 'RARE/BTC',\n 'RARE/TRY',\n 'RARE/USDT',\n 'RAY/BNB',\n 'RAY/USDT',\n 'RDNT/BTC',\n 'RDNT/TUSD',\n 'RDNT/USDT',\n 'REEF/TRY',\n 'REEF/USDT',\n 'REI/USDT',\n 'REN/BTC',\n 'REN/USDT',\n 'REQ/BTC',\n 'REQ/USDT',\n 'RIF/BTC',\n 'RIF/USDT',\n 'RLC/BTC',\n 'RLC/ETH',\n 'RLC/USDT',\n 'RNDR/BTC',\n 'RNDR/FDUSD',\n 'RNDR/TRY',\n 'RNDR/USDT',\n 'ROSE/BTC',\n 'ROSE/ETH',\n 'ROSE/TRY',\n 'ROSE/USDT',\n 'RPL/USDT',\n 'RSR/USDT',\n 'RUNE/BNB',\n 'RUNE/BTC',\n 'RUNE/ETH',\n 'RUNE/EUR',\n 'RUNE/FDUSD',\n 'RUNE/TUSD',\n 'RUNE/USDT',\n 'RVN/BTC',\n 'RVN/TRY',\n 'RVN/USDT',\n 'SAND/BNB',\n 'SAND/BTC',\n 'SAND/ETH',\n 'SAND/FDUSD',\n 'SAND/TRY',\n 'SAND/USDT',\n 'SANTOS/BTC',\n 'SANTOS/TRY',\n 'SANTOS/USDT',\n 'SC/ETH',\n 'SC/USDT',\n 'SCRT/BTC',\n 'SCRT/ETH',\n 'SCRT/USDT',\n 'SEI/BNB',\n 'SEI/BTC',\n 'SEI/FDUSD',\n 'SEI/TRY',\n 'SEI/TUSD',\n 'SEI/USDT',\n 'SFP/BTC',\n 'SFP/USDT',\n 'SHIB/BRL',\n 'SHIB/DOGE',\n 'SHIB/EUR',\n 'SHIB/FDUSD',\n 'SHIB/TRY',\n 'SHIB/TUSD',\n 'SHIB/USDT',\n 'SKL/BTC',\n 'SKL/USDT',\n 'SLP/ETH',\n 'SLP/TRY',\n 'SLP/USDT',\n 'SNT/BTC',\n 'SNT/ETH',\n 'SNT/USDT',\n 'SNX/BNB',\n 'SNX/BTC',\n 'SNX/ETH',\n 'SNX/USDT',\n 'SOL/BNB',\n 'SOL/BRL',\n 'SOL/BTC',\n 'SOL/ETH',\n 'SOL/EUR',\n 'SOL/FDUSD',\n 'SOL/TRY',\n 'SOL/TUSD',\n 'SOL/USDC',\n 'SOL/USDT',\n 'SPELL/TRY',\n 'SPELL/USDT',\n 'SSV/BTC',\n 'SSV/ETH',\n 'SSV/TUSD',\n 'SSV/USDT',\n 'STEEM/BTC',\n 'STEEM/ETH',\n 'STEEM/USDT',\n 'STG/BTC',\n 'STG/USDT',\n 'STMX/USDT',\n 'STORJ/BTC',\n 'STORJ/TRY',\n 'STORJ/USDT',\n 'STPT/BTC',\n 'STPT/USDT',\n 'STRAX/BTC',\n 'STRAX/TRY',\n 'STRAX/USDT',\n 'STX/BNB',\n 'STX/BTC',\n 'STX/TRY',\n 'STX/USDT',\n 'SUI/BNB',\n 'SUI/BTC',\n 'SUI/EUR',\n 'SUI/FDUSD',\n 'SUI/TRY',\n 'SUI/TUSD',\n 'SUI/USDT',\n 'SUN/USDT',\n 'SUPER/BTC',\n 'SUPER/FDUSD',\n 'SUPER/TRY',\n 'SUPER/USDT',\n 'SUSHI/BTC',\n 'SUSHI/USDT',\n 'SXP/BNB',\n 'SXP/BTC',\n 'SXP/TRY',\n 'SXP/USDT',\n 'SYN/BTC',\n 'SYN/USDT',\n 'SYS/BTC',\n 'SYS/USDT',\n 'T/USDT',\n 'TFUEL/BTC',\n 'TFUEL/USDT',\n 'THETA/BTC',\n 'THETA/ETH',\n 'THETA/USDT',\n 'TIA/BTC',\n 'TIA/TRY',\n 'TIA/TUSD',\n 'TIA/USDT',\n 'TKO/BTC',\n 'TKO/USDT',\n 'TLM/BTC',\n 'TLM/TRY',\n 'TLM/USDT',\n 'TRB/BTC',\n 'TRB/TRY',\n 'TRB/USDT',\n 'TROY/USDT',\n 'TRU/BTC',\n 'TRU/USDT',\n 'TRX/BNB',\n 'TRX/BTC',\n 'TRX/ETH',\n 'TRX/EUR',\n 'TRX/TRY',\n 'TRX/USDT',\n ...]"
     },
     "execution_count": 26,
     "metadata": {},
     "output_type": "execute_result"
    }
   ],
   "source": [
    "exchange.symbols"
   ],
   "metadata": {
    "collapsed": false,
    "ExecuteTime": {
     "end_time": "2024-01-25T19:13:14.657398Z",
     "start_time": "2024-01-25T19:13:14.516270Z"
    }
   },
   "execution_count": 26
  },
  {
   "cell_type": "code",
   "outputs": [],
   "source": [
    "exchange.fetchOrders('BTCUSDT')"
   ],
   "metadata": {
    "collapsed": false
   }
  },
  {
   "cell_type": "code",
   "outputs": [],
   "source": [
    "exchange.loadMarkets()"
   ],
   "metadata": {
    "collapsed": false
   }
  },
  {
   "cell_type": "code",
   "outputs": [],
   "source": [
    "exchange.markets['BTC/USDT']['precision']"
   ],
   "metadata": {
    "collapsed": false
   }
  },
  {
   "cell_type": "code",
   "outputs": [],
   "source": [
    "symbol = 'BTC/USDT'\n",
    "amount = 1.2345678  # amount in base currency BTC\n",
    "price = 87654.321  # price in quote currency USDT\n",
    "formatted_amount = exchange.amount_to_precision(symbol, amount)\n",
    "formatted_price = exchange.price_to_precision(symbol, price)\n",
    "print(formatted_amount, formatted_price)"
   ],
   "metadata": {
    "collapsed": false
   }
  },
  {
   "cell_type": "code",
   "outputs": [],
   "source": [
    "data = exchange.fetchTicker('BTC/USDT')"
   ],
   "metadata": {
    "collapsed": false
   }
  },
  {
   "cell_type": "code",
   "outputs": [],
   "source": [
    "exchange.rateLimit=100"
   ],
   "metadata": {
    "collapsed": false
   }
  },
  {
   "cell_type": "code",
   "outputs": [],
   "source": [
    "exchange.rateLimit"
   ],
   "metadata": {
    "collapsed": false
   }
  },
  {
   "cell_type": "code",
   "outputs": [],
   "source": [
    "data['ask']"
   ],
   "metadata": {
    "collapsed": false
   }
  },
  {
   "cell_type": "code",
   "outputs": [],
   "source": [
    "decimal_order_book = json.loads(json.dumps(exchange.fetch_order_book('BTC/USDT')), use_decimal=True)"
   ],
   "metadata": {
    "collapsed": false
   }
  },
  {
   "cell_type": "code",
   "outputs": [],
   "source": [
    "exchange.number = decimal.Decimal"
   ],
   "metadata": {
    "collapsed": false
   }
  },
  {
   "cell_type": "code",
   "outputs": [],
   "source": [
    "exchange.number"
   ],
   "metadata": {
    "collapsed": false
   }
  },
  {
   "cell_type": "code",
   "outputs": [],
   "source": [
    "type(data['ask'])"
   ],
   "metadata": {
    "collapsed": false
   }
  },
  {
   "cell_type": "code",
   "outputs": [
    {
     "data": {
      "text/plain": "{'publicAPI': True,\n 'privateAPI': True,\n 'CORS': None,\n 'spot': True,\n 'margin': True,\n 'swap': True,\n 'future': True,\n 'option': True,\n 'addMargin': True,\n 'cancelAllOrders': True,\n 'cancelOrder': True,\n 'cancelOrders': True,\n 'createDepositAddress': False,\n 'createLimitOrder': True,\n 'createMarketOrder': True,\n 'createOrder': True,\n 'createPostOnlyOrder': True,\n 'createReduceOnlyOrder': True,\n 'createStopOrder': True,\n 'createStopLimitOrder': True,\n 'createStopMarketOrder': False,\n 'editOrder': True,\n 'fetchAccounts': None,\n 'fetchBalance': True,\n 'fetchBidsAsks': True,\n 'fetchBorrowInterest': True,\n 'fetchBorrowRate': None,\n 'fetchBorrowRateHistory': True,\n 'fetchBorrowRatesPerSymbol': None,\n 'fetchBorrowRates': None,\n 'fetchCanceledOrders': 'emulated',\n 'fetchClosedOrder': False,\n 'fetchClosedOrders': 'emulated',\n 'fetchCurrencies': True,\n 'fetchDeposit': False,\n 'fetchDepositAddress': True,\n 'fetchDepositAddresses': False,\n 'fetchDepositAddressesByNetwork': False,\n 'fetchDeposits': True,\n 'fetchFundingFee': None,\n 'fetchFundingFees': None,\n 'fetchFundingHistory': True,\n 'fetchFundingRate': True,\n 'fetchFundingRateHistory': True,\n 'fetchFundingRates': True,\n 'fetchIndexOHLCV': True,\n 'fetchLastPrices': True,\n 'fetchL2OrderBook': True,\n 'fetchLedger': True,\n 'fetchLedgerEntry': None,\n 'fetchLeverageTiers': True,\n 'fetchMarketLeverageTiers': 'emulated',\n 'fetchMarkets': True,\n 'fetchMarkOHLCV': True,\n 'fetchMyTrades': True,\n 'fetchOHLCV': True,\n 'fetchOpenOrder': False,\n 'fetchOpenOrders': True,\n 'fetchOrder': True,\n 'fetchOrderBook': True,\n 'fetchOrderBooks': False,\n 'fetchOrders': True,\n 'fetchOrderTrades': True,\n 'fetchPermissions': None,\n 'fetchPosition': True,\n 'fetchPositions': True,\n 'fetchPositionsRisk': True,\n 'fetchPremiumIndexOHLCV': False,\n 'fetchStatus': True,\n 'fetchTicker': True,\n 'fetchTickers': True,\n 'fetchTime': True,\n 'fetchTrades': True,\n 'fetchTradingFee': True,\n 'fetchTradingFees': True,\n 'fetchTradingLimits': None,\n 'fetchTransactions': False,\n 'fetchTransfers': True,\n 'fetchWithdrawal': False,\n 'fetchWithdrawals': True,\n 'reduceMargin': True,\n 'setLeverage': True,\n 'setMargin': False,\n 'setMarginMode': True,\n 'setPositionMode': True,\n 'signIn': False,\n 'transfer': True,\n 'withdraw': True,\n 'watchOrderBook': True,\n 'watchOrders': True,\n 'watchMyTrades': True,\n 'watchTickers': True,\n 'watchTicker': True,\n 'watchTrades': True,\n 'watchTradesForSymbols': True,\n 'watchOrderBookForSymbols': True,\n 'watchOHLCVForSymbols': False,\n 'watchBalance': True,\n 'watchOHLCV': True,\n 'borrowCrossMargin': True,\n 'borrowIsolatedMargin': True,\n 'closeAllPositions': False,\n 'closePosition': False,\n 'createMarketBuyOrderWithCost': True,\n 'createMarketOrderWithCost': True,\n 'createMarketSellOrderWithCost': True,\n 'createOrders': True,\n 'createStopLossOrder': True,\n 'createTakeProfitOrder': True,\n 'createTrailingPercentOrder': True,\n 'createTriggerOrder': True,\n 'fetchBorrowRateHistories': False,\n 'fetchCrossBorrowRate': True,\n 'fetchCrossBorrowRates': False,\n 'fetchDepositsWithdrawals': False,\n 'fetchDepositWithdrawFee': 'emulated',\n 'fetchDepositWithdrawFees': True,\n 'fetchGreeks': True,\n 'fetchIsolatedBorrowRate': False,\n 'fetchIsolatedBorrowRates': False,\n 'fetchL3OrderBook': False,\n 'fetchLeverage': False,\n 'fetchLiquidations': False,\n 'fetchMyLiquidations': True,\n 'fetchMySettlementHistory': True,\n 'fetchOpenInterest': True,\n 'fetchOpenInterestHistory': True,\n 'fetchSettlementHistory': True,\n 'fetchTransactionFee': None,\n 'fetchTransactionFees': True,\n 'fetchUnderlyingAssets': False,\n 'fetchVolatilityHistory': False,\n 'fetchWithdrawAddresses': False,\n 'fetchWithdrawalWhitelist': False,\n 'repayCrossMargin': True,\n 'repayIsolatedMargin': True,\n 'ws': True,\n 'watchOrdersForSymbols': True,\n 'watchPositions': True,\n 'createOrderWs': True,\n 'editOrderWs': True,\n 'cancelOrderWs': True,\n 'cancelOrdersWs': False,\n 'cancelAllOrdersWs': True,\n 'fetchOrderWs': True,\n 'fetchOrdersWs': True,\n 'fetchBalanceWs': True,\n 'fetchMyTradesWs': True}"
     },
     "execution_count": 36,
     "metadata": {},
     "output_type": "execute_result"
    }
   ],
   "source": [
    "exchange.has"
   ],
   "metadata": {
    "collapsed": false,
    "ExecuteTime": {
     "end_time": "2024-01-25T20:15:20.300962Z",
     "start_time": "2024-01-25T20:15:20.296634Z"
    }
   },
   "execution_count": 36
  },
  {
   "cell_type": "code",
   "outputs": [],
   "source": [],
   "metadata": {
    "collapsed": false
   }
  }
 ],
 "metadata": {
  "kernelspec": {
   "display_name": "zeppelin",
   "language": "python",
   "name": "python3"
  },
  "language_info": {
   "codemirror_mode": {
    "name": "ipython",
    "version": 3
   },
   "file_extension": ".py",
   "mimetype": "text/x-python",
   "name": "python",
   "nbconvert_exporter": "python",
   "pygments_lexer": "ipython3",
   "version": "3.9.6"
  }
 },
 "nbformat": 4,
 "nbformat_minor": 2
}
