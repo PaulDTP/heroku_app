{
 "cells": [
  {
   "cell_type": "code",
   "execution_count": 9,
   "id": "initial_id",
   "metadata": {
    "collapsed": true,
    "ExecuteTime": {
     "end_time": "2024-02-21T19:12:50.846840Z",
     "start_time": "2024-02-21T19:12:50.842687Z"
    }
   },
   "outputs": [],
   "source": [
    "import redis\n",
    "from decimal import Decimal\n",
    "import json"
   ]
  },
  {
   "cell_type": "code",
   "outputs": [],
   "source": [
    "client = redis.Redis(host='localhost', port=6379)"
   ],
   "metadata": {
    "collapsed": false,
    "ExecuteTime": {
     "end_time": "2024-02-21T19:08:31.178761Z",
     "start_time": "2024-02-21T19:08:31.175283Z"
    }
   },
   "id": "701a4093af4e3f0d",
   "execution_count": 2
  },
  {
   "cell_type": "code",
   "outputs": [],
   "source": [
    "data = [{'info': {'e': 'trade',\n",
    "   'E': 1706219496443,\n",
    "   's': 'BTCUSDT',\n",
    "   't': 2460025,\n",
    "   'p': '39886.18000000',\n",
    "   'q': '0.00025000',\n",
    "   'b': 10417446,\n",
    "   'a': 10417502,\n",
    "   'T': 1706219496442,\n",
    "   'm': True,\n",
    "   'M': True},\n",
    "  'timestamp': 1706219496442,\n",
    "  'datetime': '2024-01-25T21:51:36.442Z',\n",
    "  'symbol': 'BTC/USDT',\n",
    "  'id': '2460025',\n",
    "  'order': None,\n",
    "  'type': None,\n",
    "  'side': 'sell',\n",
    "  'takerOrMaker': None,\n",
    "  'price': Decimal('39886.18000000'),\n",
    "  'amount': Decimal('0.00025000'),\n",
    "  'cost': Decimal('9.971545'),\n",
    "  'fee': None,\n",
    "  'fees': []},\n",
    " {'info': {'e': 'trade',\n",
    "   'E': 1706219516475,\n",
    "   's': 'BTCUSDT',\n",
    "   't': 2460026,\n",
    "   'p': '39886.00000000',\n",
    "   'q': '0.00100000',\n",
    "   'b': 10417607,\n",
    "   'a': 10417611,\n",
    "   'T': 1706219516474,\n",
    "   'm': True,\n",
    "   'M': True},\n",
    "  'timestamp': 1706219516474,\n",
    "  'datetime': '2024-01-25T21:51:56.474Z',\n",
    "  'symbol': 'BTC/USDT',\n",
    "  'id': '2460026',\n",
    "  'order': None,\n",
    "  'type': None,\n",
    "  'side': 'sell',\n",
    "  'takerOrMaker': None,\n",
    "  'price': Decimal('39886.00000000'),\n",
    "  'amount': Decimal('0.00100000'),\n",
    "  'cost': Decimal('39.886'),\n",
    "  'fee': None,\n",
    "  'fees': []},\n",
    " {'info': {'e': 'trade',\n",
    "   'E': 1706219516530,\n",
    "   's': 'BTCUSDT',\n",
    "   't': 2460027,\n",
    "   'p': '39886.00000000',\n",
    "   'q': '0.00100000',\n",
    "   'b': 10417607,\n",
    "   'a': 10417612,\n",
    "   'T': 1706219516530,\n",
    "   'm': True,\n",
    "   'M': True},\n",
    "  'timestamp': 1706219516530,\n",
    "  'datetime': '2024-01-25T21:51:56.530Z',\n",
    "  'symbol': 'BTC/USDT',\n",
    "  'id': '2460027',\n",
    "  'order': None,\n",
    "  'type': None,\n",
    "  'side': 'sell',\n",
    "  'takerOrMaker': None,\n",
    "  'price': Decimal('39886.00000000'),\n",
    "  'amount': Decimal('0.00100000'),\n",
    "  'cost': Decimal('39.886'),\n",
    "  'fee': None,\n",
    "  'fees': []},\n",
    " {'info': {'e': 'trade',\n",
    "   'E': 1706219520222,\n",
    "   's': 'BTCUSDT',\n",
    "   't': 2460028,\n",
    "   'p': '39886.01000000',\n",
    "   'q': '0.00100000',\n",
    "   'b': 10417628,\n",
    "   'a': 10417571,\n",
    "   'T': 1706219520221,\n",
    "   'm': False,\n",
    "   'M': True},\n",
    "  'timestamp': 1706219520221,\n",
    "  'datetime': '2024-01-25T21:52:00.221Z',\n",
    "  'symbol': 'BTC/USDT',\n",
    "  'id': '2460028',\n",
    "  'order': None,\n",
    "  'type': None,\n",
    "  'side': 'buy',\n",
    "  'takerOrMaker': None,\n",
    "  'price': Decimal('39886.01000000'),\n",
    "  'amount': Decimal('0.00100000'),\n",
    "  'cost': Decimal('39.88601'),\n",
    "  'fee': None,\n",
    "  'fees': []}]"
   ],
   "metadata": {
    "collapsed": false,
    "ExecuteTime": {
     "end_time": "2024-02-21T19:08:35.249407Z",
     "start_time": "2024-02-21T19:08:35.241456Z"
    }
   },
   "id": "7d93efde2c0c4cf3",
   "execution_count": 3
  },
  {
   "cell_type": "code",
   "outputs": [],
   "source": [
    "class DecimalEncoder(json.JSONEncoder):\n",
    "    def default(self, o):\n",
    "        if isinstance(o, Decimal):\n",
    "            return str(o)\n",
    "        return super(DecimalEncoder, self).default(o)"
   ],
   "metadata": {
    "collapsed": false,
    "ExecuteTime": {
     "end_time": "2024-02-21T19:08:37.748594Z",
     "start_time": "2024-02-21T19:08:37.741351Z"
    }
   },
   "id": "1102a8651bb026c3",
   "execution_count": 4
  },
  {
   "cell_type": "code",
   "outputs": [
    {
     "data": {
      "text/plain": "1"
     },
     "execution_count": 6,
     "metadata": {},
     "output_type": "execute_result"
    }
   ],
   "source": [
    "client.rpush('test', json.dumps(data, cls=DecimalEncoder))"
   ],
   "metadata": {
    "collapsed": false,
    "ExecuteTime": {
     "end_time": "2024-02-21T19:12:12.572096Z",
     "start_time": "2024-02-21T19:12:12.542906Z"
    }
   },
   "id": "af47121bcf557b71",
   "execution_count": 6
  },
  {
   "cell_type": "code",
   "outputs": [
    {
     "data": {
      "text/plain": "[b'test',\n b'_kombu.binding.celery',\n b'_kombu.binding.celeryev',\n b'_kombu.binding.celery.pidbox']"
     },
     "execution_count": 6,
     "metadata": {},
     "output_type": "execute_result"
    }
   ],
   "source": [
    "client.keys('*')"
   ],
   "metadata": {
    "collapsed": false,
    "ExecuteTime": {
     "end_time": "2024-02-02T21:22:33.112180Z",
     "start_time": "2024-02-02T21:22:33.109827Z"
    }
   },
   "id": "65add3861d04a95b",
   "execution_count": 6
  },
  {
   "cell_type": "code",
   "outputs": [],
   "source": [
    "from websocket_backend.celery_worker import process_data"
   ],
   "metadata": {
    "collapsed": false,
    "ExecuteTime": {
     "end_time": "2024-02-02T21:22:34.768348Z",
     "start_time": "2024-02-02T21:22:34.653964Z"
    }
   },
   "id": "8a16d934e7bc683",
   "execution_count": 7
  },
  {
   "cell_type": "code",
   "outputs": [
    {
     "name": "stdout",
     "output_type": "stream",
     "text": [
      "Task ID: db525958-373e-47e3-b288-de3ca22ba17f\n"
     ]
    }
   ],
   "source": [
    "result = process_data.delay(\"Your data to process\")\n",
    "print(f\"Task ID: {result.id}\")"
   ],
   "metadata": {
    "collapsed": false,
    "ExecuteTime": {
     "end_time": "2024-02-02T21:23:17.911306Z",
     "start_time": "2024-02-02T21:23:17.905468Z"
    }
   },
   "id": "9363ee0318dac390",
   "execution_count": 10
  },
  {
   "cell_type": "code",
   "outputs": [
    {
     "data": {
      "text/plain": "1"
     },
     "execution_count": 14,
     "metadata": {},
     "output_type": "execute_result"
    }
   ],
   "source": [
    "client.rpush('test', json.dumps(data, cls=DecimalEncoder))"
   ],
   "metadata": {
    "collapsed": false,
    "ExecuteTime": {
     "end_time": "2024-02-21T19:19:32.873913Z",
     "start_time": "2024-02-21T19:19:32.857148Z"
    }
   },
   "id": "d65c012c7d10b496",
   "execution_count": 14
  },
  {
   "cell_type": "code",
   "outputs": [
    {
     "data": {
      "text/plain": "b'[{\"info\": {\"e\": \"trade\", \"E\": 1706219496443, \"s\": \"BTCUSDT\", \"t\": 2460025, \"p\": \"39886.18000000\", \"q\": \"0.00025000\", \"b\": 10417446, \"a\": 10417502, \"T\": 1706219496442, \"m\": true, \"M\": true}, \"timestamp\": 1706219496442, \"datetime\": \"2024-01-25T21:51:36.442Z\", \"symbol\": \"BTC/USDT\", \"id\": \"2460025\", \"order\": null, \"type\": null, \"side\": \"sell\", \"takerOrMaker\": null, \"price\": \"39886.18000000\", \"amount\": \"0.00025000\", \"cost\": \"9.971545\", \"fee\": null, \"fees\": []}, {\"info\": {\"e\": \"trade\", \"E\": 1706219516475, \"s\": \"BTCUSDT\", \"t\": 2460026, \"p\": \"39886.00000000\", \"q\": \"0.00100000\", \"b\": 10417607, \"a\": 10417611, \"T\": 1706219516474, \"m\": true, \"M\": true}, \"timestamp\": 1706219516474, \"datetime\": \"2024-01-25T21:51:56.474Z\", \"symbol\": \"BTC/USDT\", \"id\": \"2460026\", \"order\": null, \"type\": null, \"side\": \"sell\", \"takerOrMaker\": null, \"price\": \"39886.00000000\", \"amount\": \"0.00100000\", \"cost\": \"39.886\", \"fee\": null, \"fees\": []}, {\"info\": {\"e\": \"trade\", \"E\": 1706219516530, \"s\": \"BTCUSDT\", \"t\": 2460027, \"p\": \"39886.00000000\", \"q\": \"0.00100000\", \"b\": 10417607, \"a\": 10417612, \"T\": 1706219516530, \"m\": true, \"M\": true}, \"timestamp\": 1706219516530, \"datetime\": \"2024-01-25T21:51:56.530Z\", \"symbol\": \"BTC/USDT\", \"id\": \"2460027\", \"order\": null, \"type\": null, \"side\": \"sell\", \"takerOrMaker\": null, \"price\": \"39886.00000000\", \"amount\": \"0.00100000\", \"cost\": \"39.886\", \"fee\": null, \"fees\": []}, {\"info\": {\"e\": \"trade\", \"E\": 1706219520222, \"s\": \"BTCUSDT\", \"t\": 2460028, \"p\": \"39886.01000000\", \"q\": \"0.00100000\", \"b\": 10417628, \"a\": 10417571, \"T\": 1706219520221, \"m\": false, \"M\": true}, \"timestamp\": 1706219520221, \"datetime\": \"2024-01-25T21:52:00.221Z\", \"symbol\": \"BTC/USDT\", \"id\": \"2460028\", \"order\": null, \"type\": null, \"side\": \"buy\", \"takerOrMaker\": null, \"price\": \"39886.01000000\", \"amount\": \"0.00100000\", \"cost\": \"39.88601\", \"fee\": null, \"fees\": []}]'"
     },
     "execution_count": 7,
     "metadata": {},
     "output_type": "execute_result"
    }
   ],
   "source": [
    "client.lpop('test')"
   ],
   "metadata": {
    "collapsed": false,
    "ExecuteTime": {
     "end_time": "2024-02-21T19:12:36.352956Z",
     "start_time": "2024-02-21T19:12:36.347560Z"
    }
   },
   "id": "49defaff245a0e22",
   "execution_count": 7
  },
  {
   "cell_type": "code",
   "outputs": [],
   "source": [],
   "metadata": {
    "collapsed": false
   },
   "id": "efe6a6215ec977c0"
  },
  {
   "cell_type": "code",
   "outputs": [
    {
     "data": {
      "text/plain": "{'used_memory': 1468416,\n 'used_memory_human': '1.40M',\n 'used_memory_rss': 4800512,\n 'used_memory_rss_human': '4.58M',\n 'used_memory_peak': 1500496,\n 'used_memory_peak_human': '1.43M',\n 'used_memory_peak_perc': '97.86%',\n 'used_memory_overhead': 1102896,\n 'used_memory_startup': 1098848,\n 'used_memory_dataset': 365520,\n 'used_memory_dataset_perc': '98.90%',\n 'allocator_allocated': 1451296,\n 'allocator_active': 4768768,\n 'allocator_resident': 4768768,\n 'total_system_memory': 17179869184,\n 'total_system_memory_human': '16.00G',\n 'used_memory_lua': 31744,\n 'used_memory_vm_eval': 31744,\n 'used_memory_lua_human': '31.00K',\n 'used_memory_scripts_eval': 0,\n 'number_of_cached_scripts': 0,\n 'number_of_functions': 0,\n 'number_of_libraries': 0,\n 'used_memory_vm_functions': 32768,\n 'used_memory_vm_total': 64512,\n 'used_memory_vm_total_human': '63.00K',\n 'used_memory_functions': 216,\n 'used_memory_scripts': 216,\n 'used_memory_scripts_human': '216B',\n 'maxmemory': 0,\n 'maxmemory_human': '0B',\n 'maxmemory_policy': 'noeviction',\n 'allocator_frag_ratio': 3.29,\n 'allocator_frag_bytes': 3317472,\n 'allocator_rss_ratio': 1.0,\n 'allocator_rss_bytes': 0,\n 'rss_overhead_ratio': 1.01,\n 'rss_overhead_bytes': 31744,\n 'mem_fragmentation_ratio': 3.31,\n 'mem_fragmentation_bytes': 3349216,\n 'mem_not_counted_for_evict': 0,\n 'mem_replication_backlog': 0,\n 'mem_total_replication_buffers': 0,\n 'mem_clients_slaves': 0,\n 'mem_clients_normal': 3648,\n 'mem_cluster_links': 0,\n 'mem_aof_buffer': 0,\n 'mem_allocator': 'libc',\n 'active_defrag_running': 0,\n 'lazyfree_pending_objects': 0,\n 'lazyfreed_objects': 0}"
     },
     "execution_count": 79,
     "metadata": {},
     "output_type": "execute_result"
    }
   ],
   "source": [
    "client.info('memory')"
   ],
   "metadata": {
    "collapsed": false,
    "ExecuteTime": {
     "end_time": "2024-02-21T20:14:25.631183Z",
     "start_time": "2024-02-21T20:14:25.628025Z"
    }
   },
   "id": "d77753791fe14aae",
   "execution_count": 79
  },
  {
   "cell_type": "code",
   "outputs": [],
   "source": [
    "process_me = json.loads(client.lpop('queue'))\n",
    "process_me "
   ],
   "metadata": {
    "collapsed": false,
    "ExecuteTime": {
     "end_time": "2024-02-21T20:14:41.892268Z",
     "start_time": "2024-02-21T20:14:41.885651Z"
    }
   },
   "id": "2c1991a6810e0afa",
   "execution_count": 81
  },
  {
   "cell_type": "code",
   "outputs": [
    {
     "data": {
      "text/plain": "228"
     },
     "execution_count": 223,
     "metadata": {},
     "output_type": "execute_result"
    }
   ],
   "source": [
    "client.llen('queue')"
   ],
   "metadata": {
    "collapsed": false,
    "ExecuteTime": {
     "end_time": "2024-02-22T05:46:35.064028Z",
     "start_time": "2024-02-22T05:46:35.058076Z"
    }
   },
   "id": "b5f3cd06f3c8f75a",
   "execution_count": 223
  },
  {
   "cell_type": "code",
   "outputs": [],
   "source": [
    "jj = {'data': '{\"e\":\"trade\",\"E\":1708580838879,\"s\":\"BTCUSDT\",\"t\":1168941,\"p\":\"51573.88000000\",\"q\":\"0.00010000\",\"b\":5630322,\"a\":5630360,\"T\":1708580838878,\"m\":true,\"M\":true}', 'isTrusted': True, 'origin': 'wss://testnet.binance.vision', 'timeStamp': 66877}"
   ],
   "metadata": {
    "collapsed": false,
    "ExecuteTime": {
     "end_time": "2024-02-22T05:48:30.412117Z",
     "start_time": "2024-02-22T05:48:30.405894Z"
    }
   },
   "id": "b2598bef6ff97ec9",
   "execution_count": 224
  },
  {
   "cell_type": "code",
   "outputs": [
    {
     "data": {
      "text/plain": "{'e': 'trade',\n 'E': 1708580838879,\n 's': 'BTCUSDT',\n 't': 1168941,\n 'p': '51573.88000000',\n 'q': '0.00010000',\n 'b': 5630322,\n 'a': 5630360,\n 'T': 1708580838878,\n 'm': True,\n 'M': True}"
     },
     "execution_count": 237,
     "metadata": {},
     "output_type": "execute_result"
    }
   ],
   "source": [
    "json.loads(jj['data'])"
   ],
   "metadata": {
    "collapsed": false,
    "ExecuteTime": {
     "end_time": "2024-02-22T05:57:00.784476Z",
     "start_time": "2024-02-22T05:57:00.777448Z"
    }
   },
   "id": "92c6e3dac5df2418",
   "execution_count": 237
  },
  {
   "cell_type": "code",
   "outputs": [
    {
     "data": {
      "text/plain": "'{\"e\":\"trade\",\"E\":1708580838879,\"s\":\"BTCUSDT\",\"t\":1168941,\"p\":\"51573.88000000\",\"q\":\"0.00010000\",\"b\":5630322,\"a\":5630360,\"T\":1708580838878,\"m\":true,\"M\":true}'"
     },
     "execution_count": 235,
     "metadata": {},
     "output_type": "execute_result"
    }
   ],
   "source": [
    "jj['data']"
   ],
   "metadata": {
    "collapsed": false,
    "ExecuteTime": {
     "end_time": "2024-02-22T05:55:29.307188Z",
     "start_time": "2024-02-22T05:55:29.269614Z"
    }
   },
   "id": "e4ee68b282552d38",
   "execution_count": 235
  },
  {
   "cell_type": "code",
   "outputs": [
    {
     "data": {
      "text/plain": "'{\"e\":\"trade\",\"E\":1708580838879,\"s\":\"BTCUSDT\",\"t\":1168941,\"p\":\"51573.88000000\",\"q\":\"0.00010000\",\"b\":5630322,\"a\":5630360,\"T\":1708580838878,\"m\":true,\"M\":true}'"
     },
     "execution_count": 226,
     "metadata": {},
     "output_type": "execute_result"
    }
   ],
   "source": [
    "jj['data']['s']"
   ],
   "metadata": {
    "collapsed": false,
    "ExecuteTime": {
     "end_time": "2024-02-22T05:48:54.486706Z",
     "start_time": "2024-02-22T05:48:54.467354Z"
    }
   },
   "id": "edd041df7d6b2a51",
   "execution_count": 226
  },
  {
   "cell_type": "code",
   "outputs": [],
   "source": [],
   "metadata": {
    "collapsed": false
   },
   "id": "f65ee9fe73402bc3"
  },
  {
   "cell_type": "code",
   "outputs": [
    {
     "data": {
      "text/plain": "[b'[{\"info\": {\"e\": \"trade\", \"E\": 1708578452031, \"s\": \"BTCUSDT\", \"t\": 1167255, \"p\": \"51506.05000000\", \"q\": \"0.00339000\", \"b\": 5619260, \"a\": 5619308, \"T\": 1708578452031, \"m\": true, \"M\": true}, \"timestamp\": 1708578452031, \"datetime\": \"2024-02-22T05:07:32.031Z\", \"symbol\": \"BTC/USDT\", \"id\": \"1167255\", \"order\": null, \"type\": null, \"side\": \"sell\", \"takerOrMaker\": null, \"price\": \"51506.05000000\", \"amount\": \"0.00339000\", \"cost\": \"174.6055095\", \"fee\": null, \"fees\": []}, {\"info\": {\"e\": \"trade\", \"E\": 1708578452031, \"s\": \"BTCUSDT\", \"t\": 1167256, \"p\": \"51506.01000000\", \"q\": \"0.00254000\", \"b\": 5619267, \"a\": 5619308, \"T\": 1708578452031, \"m\": true, \"M\": true}, \"timestamp\": 1708578452031, \"datetime\": \"2024-02-22T05:07:32.031Z\", \"symbol\": \"BTC/USDT\", \"id\": \"1167256\", \"order\": null, \"type\": null, \"side\": \"sell\", \"takerOrMaker\": null, \"price\": \"51506.01000000\", \"amount\": \"0.00254000\", \"cost\": \"130.8252654\", \"fee\": null, \"fees\": []}]',\n b'[{\"info\": {\"e\": \"trade\", \"E\": 1708578452045, \"s\": \"BTCUSDT\", \"t\": 1167257, \"p\": \"51506.01000000\", \"q\": \"0.00534000\", \"b\": 5619267, \"a\": 5619309, \"T\": 1708578452045, \"m\": true, \"M\": true}, \"timestamp\": 1708578452045, \"datetime\": \"2024-02-22T05:07:32.045Z\", \"symbol\": \"BTC/USDT\", \"id\": \"1167257\", \"order\": null, \"type\": null, \"side\": \"sell\", \"takerOrMaker\": null, \"price\": \"51506.01000000\", \"amount\": \"0.00534000\", \"cost\": \"275.0420934\", \"fee\": null, \"fees\": []}]',\n b'[{\"info\": {\"e\": \"trade\", \"E\": 1708578453503, \"s\": \"BTCUSDT\", \"t\": 1167258, \"p\": \"51506.01000000\", \"q\": \"0.00047000\", \"b\": 5619267, \"a\": 5619317, \"T\": 1708578453503, \"m\": true, \"M\": true}, \"timestamp\": 1708578453503, \"datetime\": \"2024-02-22T05:07:33.503Z\", \"symbol\": \"BTC/USDT\", \"id\": \"1167258\", \"order\": null, \"type\": null, \"side\": \"sell\", \"takerOrMaker\": null, \"price\": \"51506.01000000\", \"amount\": \"0.00047000\", \"cost\": \"24.2078247\", \"fee\": null, \"fees\": []}, {\"info\": {\"e\": \"trade\", \"E\": 1708578453503, \"s\": \"BTCUSDT\", \"t\": 1167259, \"p\": \"51504.14000000\", \"q\": \"0.00593000\", \"b\": 5619231, \"a\": 5619317, \"T\": 1708578453503, \"m\": true, \"M\": true}, \"timestamp\": 1708578453503, \"datetime\": \"2024-02-22T05:07:33.503Z\", \"symbol\": \"BTC/USDT\", \"id\": \"1167259\", \"order\": null, \"type\": null, \"side\": \"sell\", \"takerOrMaker\": null, \"price\": \"51504.14000000\", \"amount\": \"0.00593000\", \"cost\": \"305.4195502\", \"fee\": null, \"fees\": []}]',\n b'[{\"info\": {\"e\": \"trade\", \"E\": 1708578457201, \"s\": \"BTCUSDT\", \"t\": 1167260, \"p\": \"51502.52000000\", \"q\": \"0.00250000\", \"b\": 5619304, \"a\": 5619336, \"T\": 1708578457201, \"m\": true, \"M\": true}, \"timestamp\": 1708578457201, \"datetime\": \"2024-02-22T05:07:37.201Z\", \"symbol\": \"BTC/USDT\", \"id\": \"1167260\", \"order\": null, \"type\": null, \"side\": \"sell\", \"takerOrMaker\": null, \"price\": \"51502.52000000\", \"amount\": \"0.00250000\", \"cost\": \"128.7563\", \"fee\": null, \"fees\": []}]',\n b'[{\"info\": {\"e\": \"trade\", \"E\": 1708578461491, \"s\": \"BTCUSDT\", \"t\": 1167261, \"p\": \"51501.20000000\", \"q\": \"0.00525000\", \"b\": 5619312, \"a\": 5619352, \"T\": 1708578461490, \"m\": true, \"M\": true}, \"timestamp\": 1708578461490, \"datetime\": \"2024-02-22T05:07:41.490Z\", \"symbol\": \"BTC/USDT\", \"id\": \"1167261\", \"order\": null, \"type\": null, \"side\": \"sell\", \"takerOrMaker\": null, \"price\": \"51501.20000000\", \"amount\": \"0.00525000\", \"cost\": \"270.3813\", \"fee\": null, \"fees\": []}]',\n b'[{\"info\": {\"e\": \"trade\", \"E\": 1708578461522, \"s\": \"BTCUSDT\", \"t\": 1167262, \"p\": \"51501.20000000\", \"q\": \"0.00175000\", \"b\": 5619312, \"a\": 5619353, \"T\": 1708578461521, \"m\": true, \"M\": true}, \"timestamp\": 1708578461521, \"datetime\": \"2024-02-22T05:07:41.521Z\", \"symbol\": \"BTC/USDT\", \"id\": \"1167262\", \"order\": null, \"type\": null, \"side\": \"sell\", \"takerOrMaker\": null, \"price\": \"51501.20000000\", \"amount\": \"0.00175000\", \"cost\": \"90.1271\", \"fee\": null, \"fees\": []}, {\"info\": {\"e\": \"trade\", \"E\": 1708578461522, \"s\": \"BTCUSDT\", \"t\": 1167263, \"p\": \"51498.24000000\", \"q\": \"0.00583000\", \"b\": 5619224, \"a\": 5619353, \"T\": 1708578461521, \"m\": true, \"M\": true}, \"timestamp\": 1708578461521, \"datetime\": \"2024-02-22T05:07:41.521Z\", \"symbol\": \"BTC/USDT\", \"id\": \"1167263\", \"order\": null, \"type\": null, \"side\": \"sell\", \"takerOrMaker\": null, \"price\": \"51498.24000000\", \"amount\": \"0.00583000\", \"cost\": \"300.2347392\", \"fee\": null, \"fees\": []}, {\"info\": {\"e\": \"trade\", \"E\": 1708578461522, \"s\": \"BTCUSDT\", \"t\": 1167264, \"p\": \"51496.64000000\", \"q\": \"0.00010000\", \"b\": 5619237, \"a\": 5619353, \"T\": 1708578461521, \"m\": true, \"M\": true}, \"timestamp\": 1708578461521, \"datetime\": \"2024-02-22T05:07:41.521Z\", \"symbol\": \"BTC/USDT\", \"id\": \"1167264\", \"order\": null, \"type\": null, \"side\": \"sell\", \"takerOrMaker\": null, \"price\": \"51496.64000000\", \"amount\": \"0.00010000\", \"cost\": \"5.149664\", \"fee\": null, \"fees\": []}]',\n b'[{\"info\": {\"e\": \"trade\", \"E\": 1708578461546, \"s\": \"BTCUSDT\", \"t\": 1167265, \"p\": \"51496.64000000\", \"q\": \"0.00709000\", \"b\": 5619237, \"a\": 5619354, \"T\": 1708578461546, \"m\": true, \"M\": true}, \"timestamp\": 1708578461546, \"datetime\": \"2024-02-22T05:07:41.546Z\", \"symbol\": \"BTC/USDT\", \"id\": \"1167265\", \"order\": null, \"type\": null, \"side\": \"sell\", \"takerOrMaker\": null, \"price\": \"51496.64000000\", \"amount\": \"0.00709000\", \"cost\": \"365.1111776\", \"fee\": null, \"fees\": []}]',\n b'[{\"info\": {\"e\": \"trade\", \"E\": 1708578463799, \"s\": \"BTCUSDT\", \"t\": 1167266, \"p\": \"51496.64000000\", \"q\": \"0.00175000\", \"b\": 5619237, \"a\": 5619361, \"T\": 1708578463798, \"m\": true, \"M\": true}, \"timestamp\": 1708578463798, \"datetime\": \"2024-02-22T05:07:43.798Z\", \"symbol\": \"BTC/USDT\", \"id\": \"1167266\", \"order\": null, \"type\": null, \"side\": \"sell\", \"takerOrMaker\": null, \"price\": \"51496.64000000\", \"amount\": \"0.00175000\", \"cost\": \"90.11912\", \"fee\": null, \"fees\": []}]',\n b'[{\"info\": {\"e\": \"trade\", \"E\": 1708578463799, \"s\": \"BTCUSDT\", \"t\": 1167267, \"p\": \"51493.04000000\", \"q\": \"0.00602000\", \"b\": 5619225, \"a\": 5619361, \"T\": 1708578463798, \"m\": true, \"M\": true}, \"timestamp\": 1708578463798, \"datetime\": \"2024-02-22T05:07:43.798Z\", \"symbol\": \"BTC/USDT\", \"id\": \"1167267\", \"order\": null, \"type\": null, \"side\": \"sell\", \"takerOrMaker\": null, \"price\": \"51493.04000000\", \"amount\": \"0.00602000\", \"cost\": \"309.9881008\", \"fee\": null, \"fees\": []}]',\n b'[{\"info\": {\"e\": \"trade\", \"E\": 1708578465708, \"s\": \"BTCUSDT\", \"t\": 1167268, \"p\": \"51493.04000000\", \"q\": \"0.00214000\", \"b\": 5619225, \"a\": 5619369, \"T\": 1708578465708, \"m\": true, \"M\": true}, \"timestamp\": 1708578465708, \"datetime\": \"2024-02-22T05:07:45.708Z\", \"symbol\": \"BTC/USDT\", \"id\": \"1167268\", \"order\": null, \"type\": null, \"side\": \"sell\", \"takerOrMaker\": null, \"price\": \"51493.04000000\", \"amount\": \"0.00214000\", \"cost\": \"110.1951056\", \"fee\": null, \"fees\": []}, {\"info\": {\"e\": \"trade\", \"E\": 1708578465708, \"s\": \"BTCUSDT\", \"t\": 1167269, \"p\": \"51492.10000000\", \"q\": \"0.00573000\", \"b\": 5619238, \"a\": 5619369, \"T\": 1708578465708, \"m\": true, \"M\": true}, \"timestamp\": 1708578465708, \"datetime\": \"2024-02-22T05:07:45.708Z\", \"symbol\": \"BTC/USDT\", \"id\": \"1167269\", \"order\": null, \"type\": null, \"side\": \"sell\", \"takerOrMaker\": null, \"price\": \"51492.10000000\", \"amount\": \"0.00573000\", \"cost\": \"295.049733\", \"fee\": null, \"fees\": []}]',\n b'[{\"info\": {\"e\": \"trade\", \"E\": 1708578467147, \"s\": \"BTCUSDT\", \"t\": 1167270, \"p\": \"51492.10000000\", \"q\": \"0.00214000\", \"b\": 5619238, \"a\": 5619371, \"T\": 1708578467146, \"m\": true, \"M\": true}, \"timestamp\": 1708578467146, \"datetime\": \"2024-02-22T05:07:47.146Z\", \"symbol\": \"BTC/USDT\", \"id\": \"1167270\", \"order\": null, \"type\": null, \"side\": \"sell\", \"takerOrMaker\": null, \"price\": \"51492.10000000\", \"amount\": \"0.00214000\", \"cost\": \"110.193094\", \"fee\": null, \"fees\": []}]',\n b'[{\"info\": {\"e\": \"trade\", \"E\": 1708578469729, \"s\": \"BTCUSDT\", \"t\": 1167271, \"p\": \"51484.00000000\", \"q\": \"0.00300000\", \"b\": 5619377, \"a\": 5619383, \"T\": 1708578469729, \"m\": true, \"M\": true}, \"timestamp\": 1708578469729, \"datetime\": \"2024-02-22T05:07:49.729Z\", \"symbol\": \"BTC/USDT\", \"id\": \"1167271\", \"order\": null, \"type\": null, \"side\": \"sell\", \"takerOrMaker\": null, \"price\": \"51484.00000000\", \"amount\": \"0.00300000\", \"cost\": \"154.452\", \"fee\": null, \"fees\": []}]',\n b'[{\"info\": {\"e\": \"trade\", \"E\": 1708578483828, \"s\": \"BTCUSDT\", \"t\": 1167272, \"p\": \"51470.01000000\", \"q\": \"0.00545000\", \"b\": 5619405, \"a\": 5619437, \"T\": 1708578483828, \"m\": true, \"M\": true}, \"timestamp\": 1708578483828, \"datetime\": \"2024-02-22T05:08:03.828Z\", \"symbol\": \"BTC/USDT\", \"id\": \"1167272\", \"order\": null, \"type\": null, \"side\": \"sell\", \"takerOrMaker\": null, \"price\": \"51470.01000000\", \"amount\": \"0.00545000\", \"cost\": \"280.5115545\", \"fee\": null, \"fees\": []}, {\"info\": {\"e\": \"trade\", \"E\": 1708578483828, \"s\": \"BTCUSDT\", \"t\": 1167273, \"p\": \"51469.25000000\", \"q\": \"0.00009000\", \"b\": 5619406, \"a\": 5619437, \"T\": 1708578483828, \"m\": true, \"M\": true}, \"timestamp\": 1708578483828, \"datetime\": \"2024-02-22T05:08:03.828Z\", \"symbol\": \"BTC/USDT\", \"id\": \"1167273\", \"order\": null, \"type\": null, \"side\": \"sell\", \"takerOrMaker\": null, \"price\": \"51469.25000000\", \"amount\": \"0.00009000\", \"cost\": \"4.6322325\", \"fee\": null, \"fees\": []}]',\n b'[{\"info\": {\"e\": \"trade\", \"E\": 1708578485262, \"s\": \"BTCUSDT\", \"t\": 1167274, \"p\": \"51469.25000000\", \"q\": \"0.00798000\", \"b\": 5619406, \"a\": 5619442, \"T\": 1708578485262, \"m\": true, \"M\": true}, \"timestamp\": 1708578485262, \"datetime\": \"2024-02-22T05:08:05.262Z\", \"symbol\": \"BTC/USDT\", \"id\": \"1167274\", \"order\": null, \"type\": null, \"side\": \"sell\", \"takerOrMaker\": null, \"price\": \"51469.25000000\", \"amount\": \"0.00798000\", \"cost\": \"410.724615\", \"fee\": null, \"fees\": []}, {\"info\": {\"e\": \"trade\", \"E\": 1708578485262, \"s\": \"BTCUSDT\", \"t\": 1167275, \"p\": \"51468.81000000\", \"q\": \"0.00048000\", \"b\": 5619414, \"a\": 5619442, \"T\": 1708578485262, \"m\": true, \"M\": true}, \"timestamp\": 1708578485262, \"datetime\": \"2024-02-22T05:08:05.262Z\", \"symbol\": \"BTC/USDT\", \"id\": \"1167275\", \"order\": null, \"type\": null, \"side\": \"sell\", \"takerOrMaker\": null, \"price\": \"51468.81000000\", \"amount\": \"0.00048000\", \"cost\": \"24.7050288\", \"fee\": null, \"fees\": []}]',\n b'[{\"info\": {\"e\": \"trade\", \"E\": 1708578487002, \"s\": \"BTCUSDT\", \"t\": 1167276, \"p\": \"51468.81000000\", \"q\": \"0.00487000\", \"b\": 5619414, \"a\": 5619453, \"T\": 1708578487001, \"m\": true, \"M\": true}, \"timestamp\": 1708578487001, \"datetime\": \"2024-02-22T05:08:07.001Z\", \"symbol\": \"BTC/USDT\", \"id\": \"1167276\", \"order\": null, \"type\": null, \"side\": \"sell\", \"takerOrMaker\": null, \"price\": \"51468.81000000\", \"amount\": \"0.00487000\", \"cost\": \"250.6531047\", \"fee\": null, \"fees\": []}, {\"info\": {\"e\": \"trade\", \"E\": 1708578487002, \"s\": \"BTCUSDT\", \"t\": 1167277, \"p\": \"51462.49000000\", \"q\": \"0.00200000\", \"b\": 5618650, \"a\": 5619453, \"T\": 1708578487001, \"m\": true, \"M\": true}, \"timestamp\": 1708578487001, \"datetime\": \"2024-02-22T05:08:07.001Z\", \"symbol\": \"BTC/USDT\", \"id\": \"1167277\", \"order\": null, \"type\": null, \"side\": \"sell\", \"takerOrMaker\": null, \"price\": \"51462.49000000\", \"amount\": \"0.00200000\", \"cost\": \"102.92498\", \"fee\": null, \"fees\": []}, {\"info\": {\"e\": \"trade\", \"E\": 1708578487002, \"s\": \"BTCUSDT\", \"t\": 1167278, \"p\": \"51460.60000000\", \"q\": \"0.00169000\", \"b\": 5619417, \"a\": 5619453, \"T\": 1708578487001, \"m\": true, \"M\": true}, \"timestamp\": 1708578487001, \"datetime\": \"2024-02-22T05:08:07.001Z\", \"symbol\": \"BTC/USDT\", \"id\": \"1167278\", \"order\": null, \"type\": null, \"side\": \"sell\", \"takerOrMaker\": null, \"price\": \"51460.60000000\", \"amount\": \"0.00169000\", \"cost\": \"86.968414\", \"fee\": null, \"fees\": []}]',\n b'[{\"info\": {\"e\": \"trade\", \"E\": 1708578488029, \"s\": \"BTCUSDT\", \"t\": 1167279, \"p\": \"51460.60000000\", \"q\": \"0.00356000\", \"b\": 5619417, \"a\": 5619457, \"T\": 1708578488028, \"m\": true, \"M\": true}, \"timestamp\": 1708578488028, \"datetime\": \"2024-02-22T05:08:08.028Z\", \"symbol\": \"BTC/USDT\", \"id\": \"1167279\", \"order\": null, \"type\": null, \"side\": \"sell\", \"takerOrMaker\": null, \"price\": \"51460.60000000\", \"amount\": \"0.00356000\", \"cost\": \"183.199736\", \"fee\": null, \"fees\": []}, {\"info\": {\"e\": \"trade\", \"E\": 1708578488029, \"s\": \"BTCUSDT\", \"t\": 1167280, \"p\": \"51459.61000000\", \"q\": \"0.00490000\", \"b\": 5619418, \"a\": 5619457, \"T\": 1708578488028, \"m\": true, \"M\": true}, \"timestamp\": 1708578488028, \"datetime\": \"2024-02-22T05:08:08.028Z\", \"symbol\": \"BTC/USDT\", \"id\": \"1167280\", \"order\": null, \"type\": null, \"side\": \"sell\", \"takerOrMaker\": null, \"price\": \"51459.61000000\", \"amount\": \"0.00490000\", \"cost\": \"252.152089\", \"fee\": null, \"fees\": []}]',\n b'[{\"info\": {\"e\": \"trade\", \"E\": 1708578488038, \"s\": \"BTCUSDT\", \"t\": 1167281, \"p\": \"51459.61000000\", \"q\": \"0.00171000\", \"b\": 5619418, \"a\": 5619458, \"T\": 1708578488038, \"m\": true, \"M\": true}, \"timestamp\": 1708578488038, \"datetime\": \"2024-02-22T05:08:08.038Z\", \"symbol\": \"BTC/USDT\", \"id\": \"1167281\", \"order\": null, \"type\": null, \"side\": \"sell\", \"takerOrMaker\": null, \"price\": \"51459.61000000\", \"amount\": \"0.00171000\", \"cost\": \"87.9959331\", \"fee\": null, \"fees\": []}, {\"info\": {\"e\": \"trade\", \"E\": 1708578488038, \"s\": \"BTCUSDT\", \"t\": 1167282, \"p\": \"51459.51000000\", \"q\": \"0.00403000\", \"b\": 5619419, \"a\": 5619458, \"T\": 1708578488038, \"m\": true, \"M\": true}, \"timestamp\": 1708578488038, \"datetime\": \"2024-02-22T05:08:08.038Z\", \"symbol\": \"BTC/USDT\", \"id\": \"1167282\", \"order\": null, \"type\": null, \"side\": \"sell\", \"takerOrMaker\": null, \"price\": \"51459.51000000\", \"amount\": \"0.00403000\", \"cost\": \"207.3818253\", \"fee\": null, \"fees\": []}]',\n b'[{\"info\": {\"e\": \"trade\", \"E\": 1708578488046, \"s\": \"BTCUSDT\", \"t\": 1167283, \"p\": \"51459.51000000\", \"q\": \"0.00511000\", \"b\": 5619419, \"a\": 5619459, \"T\": 1708578488046, \"m\": true, \"M\": true}, \"timestamp\": 1708578488046, \"datetime\": \"2024-02-22T05:08:08.046Z\", \"symbol\": \"BTC/USDT\", \"id\": \"1167283\", \"order\": null, \"type\": null, \"side\": \"sell\", \"takerOrMaker\": null, \"price\": \"51459.51000000\", \"amount\": \"0.00511000\", \"cost\": \"262.9580961\", \"fee\": null, \"fees\": []}]',\n b'[{\"info\": {\"e\": \"trade\", \"E\": 1708578491464, \"s\": \"BTCUSDT\", \"t\": 1167284, \"p\": \"51457.68000000\", \"q\": \"0.00100000\", \"b\": 5619441, \"a\": 5619479, \"T\": 1708578491464, \"m\": true, \"M\": true}, \"timestamp\": 1708578491464, \"datetime\": \"2024-02-22T05:08:11.464Z\", \"symbol\": \"BTC/USDT\", \"id\": \"1167284\", \"order\": null, \"type\": null, \"side\": \"sell\", \"takerOrMaker\": null, \"price\": \"51457.68000000\", \"amount\": \"0.00100000\", \"cost\": \"51.45768\", \"fee\": null, \"fees\": []}]',\n b'[{\"info\": {\"e\": \"trade\", \"E\": 1708578492086, \"s\": \"BTCUSDT\", \"t\": 1167285, \"p\": \"51457.68000000\", \"q\": \"0.00100000\", \"b\": 5619441, \"a\": 5619492, \"T\": 1708578492085, \"m\": true, \"M\": true}, \"timestamp\": 1708578492085, \"datetime\": \"2024-02-22T05:08:12.085Z\", \"symbol\": \"BTC/USDT\", \"id\": \"1167285\", \"order\": null, \"type\": null, \"side\": \"sell\", \"takerOrMaker\": null, \"price\": \"51457.68000000\", \"amount\": \"0.00100000\", \"cost\": \"51.45768\", \"fee\": null, \"fees\": []}]',\n b'[{\"info\": {\"e\": \"trade\", \"E\": 1708578505752, \"s\": \"BTCUSDT\", \"t\": 1167286, \"p\": \"51457.68000000\", \"q\": \"0.00300000\", \"b\": 5619495, \"a\": 5619556, \"T\": 1708578505752, \"m\": true, \"M\": true}, \"timestamp\": 1708578505752, \"datetime\": \"2024-02-22T05:08:25.752Z\", \"symbol\": \"BTC/USDT\", \"id\": \"1167286\", \"order\": null, \"type\": null, \"side\": \"sell\", \"takerOrMaker\": null, \"price\": \"51457.68000000\", \"amount\": \"0.00300000\", \"cost\": \"154.37304\", \"fee\": null, \"fees\": []}, {\"info\": {\"e\": \"trade\", \"E\": 1708578505752, \"s\": \"BTCUSDT\", \"t\": 1167287, \"p\": \"51450.24000000\", \"q\": \"0.00411000\", \"b\": 5619534, \"a\": 5619556, \"T\": 1708578505752, \"m\": true, \"M\": true}, \"timestamp\": 1708578505752, \"datetime\": \"2024-02-22T05:08:25.752Z\", \"symbol\": \"BTC/USDT\", \"id\": \"1167287\", \"order\": null, \"type\": null, \"side\": \"sell\", \"takerOrMaker\": null, \"price\": \"51450.24000000\", \"amount\": \"0.00411000\", \"cost\": \"211.4604864\", \"fee\": null, \"fees\": []}]',\n b'[{\"info\": {\"e\": \"trade\", \"E\": 1708578507497, \"s\": \"BTCUSDT\", \"t\": 1167288, \"p\": \"51450.24000000\", \"q\": \"0.00027000\", \"b\": 5619534, \"a\": 5619557, \"T\": 1708578507496, \"m\": true, \"M\": true}, \"timestamp\": 1708578507496, \"datetime\": \"2024-02-22T05:08:27.496Z\", \"symbol\": \"BTC/USDT\", \"id\": \"1167288\", \"order\": null, \"type\": null, \"side\": \"sell\", \"takerOrMaker\": null, \"price\": \"51450.24000000\", \"amount\": \"0.00027000\", \"cost\": \"13.8915648\", \"fee\": null, \"fees\": []}]',\n b'[{\"info\": {\"e\": \"trade\", \"E\": 1708578509652, \"s\": \"BTCUSDT\", \"t\": 1167289, \"p\": \"51450.24000000\", \"q\": \"0.00155000\", \"b\": 5619534, \"a\": 5619570, \"T\": 1708578509651, \"m\": true, \"M\": true}, \"timestamp\": 1708578509651, \"datetime\": \"2024-02-22T05:08:29.651Z\", \"symbol\": \"BTC/USDT\", \"id\": \"1167289\", \"order\": null, \"type\": null, \"side\": \"sell\", \"takerOrMaker\": null, \"price\": \"51450.24000000\", \"amount\": \"0.00155000\", \"cost\": \"79.747872\", \"fee\": null, \"fees\": []}, {\"info\": {\"e\": \"trade\", \"E\": 1708578509652, \"s\": \"BTCUSDT\", \"t\": 1167290, \"p\": \"51439.04000000\", \"q\": \"0.00342000\", \"b\": 5619536, \"a\": 5619570, \"T\": 1708578509651, \"m\": true, \"M\": true}, \"timestamp\": 1708578509651, \"datetime\": \"2024-02-22T05:08:29.651Z\", \"symbol\": \"BTC/USDT\", \"id\": \"1167290\", \"order\": null, \"type\": null, \"side\": \"sell\", \"takerOrMaker\": null, \"price\": \"51439.04000000\", \"amount\": \"0.00342000\", \"cost\": \"175.9215168\", \"fee\": null, \"fees\": []}]',\n b'[{\"info\": {\"e\": \"trade\", \"E\": 1708578509672, \"s\": \"BTCUSDT\", \"t\": 1167291, \"p\": \"51439.04000000\", \"q\": \"0.00562000\", \"b\": 5619536, \"a\": 5619571, \"T\": 1708578509671, \"m\": true, \"M\": true}, \"timestamp\": 1708578509671, \"datetime\": \"2024-02-22T05:08:29.671Z\", \"symbol\": \"BTC/USDT\", \"id\": \"1167291\", \"order\": null, \"type\": null, \"side\": \"sell\", \"takerOrMaker\": null, \"price\": \"51439.04000000\", \"amount\": \"0.00562000\", \"cost\": \"289.0874048\", \"fee\": null, \"fees\": []}, {\"info\": {\"e\": \"trade\", \"E\": 1708578509672, \"s\": \"BTCUSDT\", \"t\": 1167292, \"p\": \"51437.21000000\", \"q\": \"0.00013000\", \"b\": 5618164, \"a\": 5619571, \"T\": 1708578509671, \"m\": true, \"M\": true}, \"timestamp\": 1708578509671, \"datetime\": \"2024-02-22T05:08:29.671Z\", \"symbol\": \"BTC/USDT\", \"id\": \"1167292\", \"order\": null, \"type\": null, \"side\": \"sell\", \"takerOrMaker\": null, \"price\": \"51437.21000000\", \"amount\": \"0.00013000\", \"cost\": \"6.6868373\", \"fee\": null, \"fees\": []}]',\n b'[{\"info\": {\"e\": \"trade\", \"E\": 1708578509680, \"s\": \"BTCUSDT\", \"t\": 1167293, \"p\": \"51437.21000000\", \"q\": \"0.00087000\", \"b\": 5618164, \"a\": 5619572, \"T\": 1708578509679, \"m\": true, \"M\": true}, \"timestamp\": 1708578509679, \"datetime\": \"2024-02-22T05:08:29.679Z\", \"symbol\": \"BTC/USDT\", \"id\": \"1167293\", \"order\": null, \"type\": null, \"side\": \"sell\", \"takerOrMaker\": null, \"price\": \"51437.21000000\", \"amount\": \"0.00087000\", \"cost\": \"44.7503727\", \"fee\": null, \"fees\": []}, {\"info\": {\"e\": \"trade\", \"E\": 1708578509680, \"s\": \"BTCUSDT\", \"t\": 1167294, \"p\": \"51435.54000000\", \"q\": \"0.00711000\", \"b\": 5619517, \"a\": 5619572, \"T\": 1708578509679, \"m\": true, \"M\": true}, \"timestamp\": 1708578509679, \"datetime\": \"2024-02-22T05:08:29.679Z\", \"symbol\": \"BTC/USDT\", \"id\": \"1167294\", \"order\": null, \"type\": null, \"side\": \"sell\", \"takerOrMaker\": null, \"price\": \"51435.54000000\", \"amount\": \"0.00711000\", \"cost\": \"365.7066894\", \"fee\": null, \"fees\": []}]',\n b'[{\"info\": {\"e\": \"trade\", \"E\": 1708578509689, \"s\": \"BTCUSDT\", \"t\": 1167295, \"p\": \"51435.54000000\", \"q\": \"0.00242000\", \"b\": 5619517, \"a\": 5619573, \"T\": 1708578509688, \"m\": true, \"M\": true}, \"timestamp\": 1708578509688, \"datetime\": \"2024-02-22T05:08:29.688Z\", \"symbol\": \"BTC/USDT\", \"id\": \"1167295\", \"order\": null, \"type\": null, \"side\": \"sell\", \"takerOrMaker\": null, \"price\": \"51435.54000000\", \"amount\": \"0.00242000\", \"cost\": \"124.4740068\", \"fee\": null, \"fees\": []}, {\"info\": {\"e\": \"trade\", \"E\": 1708578509689, \"s\": \"BTCUSDT\", \"t\": 1167296, \"p\": \"51420.18000000\", \"q\": \"0.00100000\", \"b\": 5615532, \"a\": 5619573, \"T\": 1708578509688, \"m\": true, \"M\": true}, \"timestamp\": 1708578509688, \"datetime\": \"2024-02-22T05:08:29.688Z\", \"symbol\": \"BTC/USDT\", \"id\": \"1167296\", \"order\": null, \"type\": null, \"side\": \"sell\", \"takerOrMaker\": null, \"price\": \"51420.18000000\", \"amount\": \"0.00100000\", \"cost\": \"51.42018\", \"fee\": null, \"fees\": []}, {\"info\": {\"e\": \"trade\", \"E\": 1708578509689, \"s\": \"BTCUSDT\", \"t\": 1167297, \"p\": \"51406.43000000\", \"q\": \"0.00194000\", \"b\": 5619538, \"a\": 5619573, \"T\": 1708578509688, \"m\": true, \"M\": true}, \"timestamp\": 1708578509688, \"datetime\": \"2024-02-22T05:08:29.688Z\", \"symbol\": \"BTC/USDT\", \"id\": \"1167297\", \"order\": null, \"type\": null, \"side\": \"sell\", \"takerOrMaker\": null, \"price\": \"51406.43000000\", \"amount\": \"0.00194000\", \"cost\": \"99.7284742\", \"fee\": null, \"fees\": []}]',\n b'[{\"info\": {\"e\": \"trade\", \"E\": 1708578509700, \"s\": \"BTCUSDT\", \"t\": 1167298, \"p\": \"51406.43000000\", \"q\": \"0.00526000\", \"b\": 5619538, \"a\": 5619574, \"T\": 1708578509700, \"m\": true, \"M\": true}, \"timestamp\": 1708578509700, \"datetime\": \"2024-02-22T05:08:29.700Z\", \"symbol\": \"BTC/USDT\", \"id\": \"1167298\", \"order\": null, \"type\": null, \"side\": \"sell\", \"takerOrMaker\": null, \"price\": \"51406.43000000\", \"amount\": \"0.00526000\", \"cost\": \"270.3978218\", \"fee\": null, \"fees\": []}]',\n b'[{\"info\": {\"e\": \"trade\", \"E\": 1708578509712, \"s\": \"BTCUSDT\", \"t\": 1167299, \"p\": \"51406.43000000\", \"q\": \"0.00127000\", \"b\": 5619538, \"a\": 5619575, \"T\": 1708578509712, \"m\": true, \"M\": true}, \"timestamp\": 1708578509712, \"datetime\": \"2024-02-22T05:08:29.712Z\", \"symbol\": \"BTC/USDT\", \"id\": \"1167299\", \"order\": null, \"type\": null, \"side\": \"sell\", \"takerOrMaker\": null, \"price\": \"51406.43000000\", \"amount\": \"0.00127000\", \"cost\": \"65.2861661\", \"fee\": null, \"fees\": []}]',\n b'[{\"info\": {\"e\": \"trade\", \"E\": 1708578510010, \"s\": \"BTCUSDT\", \"t\": 1167300, \"p\": \"51390.84000000\", \"q\": \"0.00808000\", \"b\": 5619590, \"a\": 5619575, \"T\": 1708578510010, \"m\": false, \"M\": true}, \"timestamp\": 1708578510010, \"datetime\": \"2024-02-22T05:08:30.010Z\", \"symbol\": \"BTC/USDT\", \"id\": \"1167300\", \"order\": null, \"type\": null, \"side\": \"buy\", \"takerOrMaker\": null, \"price\": \"51390.84000000\", \"amount\": \"0.00808000\", \"cost\": \"415.2379872\", \"fee\": null, \"fees\": []}, {\"info\": {\"e\": \"trade\", \"E\": 1708578510010, \"s\": \"BTCUSDT\", \"t\": 1167301, \"p\": \"51392.00000000\", \"q\": \"0.00652000\", \"b\": 5619590, \"a\": 5619576, \"T\": 1708578510010, \"m\": false, \"M\": true}, \"timestamp\": 1708578510010, \"datetime\": \"2024-02-22T05:08:30.010Z\", \"symbol\": \"BTC/USDT\", \"id\": \"1167301\", \"order\": null, \"type\": null, \"side\": \"buy\", \"takerOrMaker\": null, \"price\": \"51392.00000000\", \"amount\": \"0.00652000\", \"cost\": \"335.07584\", \"fee\": null, \"fees\": []}, {\"info\": {\"e\": \"trade\", \"E\": 1708578510010, \"s\": \"BTCUSDT\", \"t\": 1167302, \"p\": \"51392.17000000\", \"q\": \"0.00565000\", \"b\": 5619590, \"a\": 5619577, \"T\": 1708578510010, \"m\": false, \"M\": true}, \"timestamp\": 1708578510010, \"datetime\": \"2024-02-22T05:08:30.010Z\", \"symbol\": \"BTC/USDT\", \"id\": \"1167302\", \"order\": null, \"type\": null, \"side\": \"buy\", \"takerOrMaker\": null, \"price\": \"51392.17000000\", \"amount\": \"0.00565000\", \"cost\": \"290.3657605\", \"fee\": null, \"fees\": []}, {\"info\": {\"e\": \"trade\", \"E\": 1708578510010, \"s\": \"BTCUSDT\", \"t\": 1167303, \"p\": \"51392.29000000\", \"q\": \"0.00623000\", \"b\": 5619590, \"a\": 5619579, \"T\": 1708578510010, \"m\": false, \"M\": true}, \"timestamp\": 1708578510010, \"datetime\": \"2024-02-22T05:08:30.010Z\", \"symbol\": \"BTC/USDT\", \"id\": \"1167303\", \"order\": null, \"type\": null, \"side\": \"buy\", \"takerOrMaker\": null, \"price\": \"51392.29000000\", \"amount\": \"0.00623000\", \"cost\": \"320.1739667\", \"fee\": null, \"fees\": []}]',\n b'[{\"info\": {\"e\": \"trade\", \"E\": 1708578510010, \"s\": \"BTCUSDT\", \"t\": 1167304, \"p\": \"51392.55000000\", \"q\": \"0.00623000\", \"b\": 5619590, \"a\": 5619580, \"T\": 1708578510010, \"m\": false, \"M\": true}, \"timestamp\": 1708578510010, \"datetime\": \"2024-02-22T05:08:30.010Z\", \"symbol\": \"BTC/USDT\", \"id\": \"1167304\", \"order\": null, \"type\": null, \"side\": \"buy\", \"takerOrMaker\": null, \"price\": \"51392.55000000\", \"amount\": \"0.00623000\", \"cost\": \"320.1755865\", \"fee\": null, \"fees\": []}, {\"info\": {\"e\": \"trade\", \"E\": 1708578510010, \"s\": \"BTCUSDT\", \"t\": 1167305, \"p\": \"51392.60000000\", \"q\": \"0.00506000\", \"b\": 5619590, \"a\": 5619581, \"T\": 1708578510010, \"m\": false, \"M\": true}, \"timestamp\": 1708578510010, \"datetime\": \"2024-02-22T05:08:30.010Z\", \"symbol\": \"BTC/USDT\", \"id\": \"1167305\", \"order\": null, \"type\": null, \"side\": \"buy\", \"takerOrMaker\": null, \"price\": \"51392.60000000\", \"amount\": \"0.00506000\", \"cost\": \"260.046556\", \"fee\": null, \"fees\": []}, {\"info\": {\"e\": \"trade\", \"E\": 1708578510010, \"s\": \"BTCUSDT\", \"t\": 1167306, \"p\": \"51392.82000000\", \"q\": \"0.00769000\", \"b\": 5619590, \"a\": 5619582, \"T\": 1708578510010, \"m\": false, \"M\": true}, \"timestamp\": 1708578510010, \"datetime\": \"2024-02-22T05:08:30.010Z\", \"symbol\": \"BTC/USDT\", \"id\": \"1167306\", \"order\": null, \"type\": null, \"side\": \"buy\", \"takerOrMaker\": null, \"price\": \"51392.82000000\", \"amount\": \"0.00769000\", \"cost\": \"395.2107858\", \"fee\": null, \"fees\": []}, {\"info\": {\"e\": \"trade\", \"E\": 1708578510010, \"s\": \"BTCUSDT\", \"t\": 1167307, \"p\": \"51393.23000000\", \"q\": \"0.00545000\", \"b\": 5619590, \"a\": 5619583, \"T\": 1708578510010, \"m\": false, \"M\": true}, \"timestamp\": 1708578510010, \"datetime\": \"2024-02-22T05:08:30.010Z\", \"symbol\": \"BTC/USDT\", \"id\": \"1167307\", \"order\": null, \"type\": null, \"side\": \"buy\", \"takerOrMaker\": null, \"price\": \"51393.23000000\", \"amount\": \"0.00545000\", \"cost\": \"280.0931035\", \"fee\": null, \"fees\": []}, {\"info\": {\"e\": \"trade\", \"E\": 1708578510010, \"s\": \"BTCUSDT\", \"t\": 1167308, \"p\": \"51393.76000000\", \"q\": \"0.00662000\", \"b\": 5619590, \"a\": 5619584, \"T\": 1708578510010, \"m\": false, \"M\": true}, \"timestamp\": 1708578510010, \"datetime\": \"2024-02-22T05:08:30.010Z\", \"symbol\": \"BTC/USDT\", \"id\": \"1167308\", \"order\": null, \"type\": null, \"side\": \"buy\", \"takerOrMaker\": null, \"price\": \"51393.76000000\", \"amount\": \"0.00662000\", \"cost\": \"340.2266912\", \"fee\": null, \"fees\": []}]',\n b'[{\"info\": {\"e\": \"trade\", \"E\": 1708578510010, \"s\": \"BTCUSDT\", \"t\": 1167309, \"p\": \"51394.44000000\", \"q\": \"0.00876000\", \"b\": 5619590, \"a\": 5619585, \"T\": 1708578510010, \"m\": false, \"M\": true}, \"timestamp\": 1708578510010, \"datetime\": \"2024-02-22T05:08:30.010Z\", \"symbol\": \"BTC/USDT\", \"id\": \"1167309\", \"order\": null, \"type\": null, \"side\": \"buy\", \"takerOrMaker\": null, \"price\": \"51394.44000000\", \"amount\": \"0.00876000\", \"cost\": \"450.2152944\", \"fee\": null, \"fees\": []}, {\"info\": {\"e\": \"trade\", \"E\": 1708578510010, \"s\": \"BTCUSDT\", \"t\": 1167310, \"p\": \"51394.59000000\", \"q\": \"0.00555000\", \"b\": 5619590, \"a\": 5619586, \"T\": 1708578510010, \"m\": false, \"M\": true}, \"timestamp\": 1708578510010, \"datetime\": \"2024-02-22T05:08:30.010Z\", \"symbol\": \"BTC/USDT\", \"id\": \"1167310\", \"order\": null, \"type\": null, \"side\": \"buy\", \"takerOrMaker\": null, \"price\": \"51394.59000000\", \"amount\": \"0.00555000\", \"cost\": \"285.2399745\", \"fee\": null, \"fees\": []}, {\"info\": {\"e\": \"trade\", \"E\": 1708578510010, \"s\": \"BTCUSDT\", \"t\": 1167311, \"p\": \"51394.78000000\", \"q\": \"0.00964000\", \"b\": 5619590, \"a\": 5619587, \"T\": 1708578510010, \"m\": false, \"M\": true}, \"timestamp\": 1708578510010, \"datetime\": \"2024-02-22T05:08:30.010Z\", \"symbol\": \"BTC/USDT\", \"id\": \"1167311\", \"order\": null, \"type\": null, \"side\": \"buy\", \"takerOrMaker\": null, \"price\": \"51394.78000000\", \"amount\": \"0.00964000\", \"cost\": \"495.4456792\", \"fee\": null, \"fees\": []}]',\n b'[{\"info\": {\"e\": \"trade\", \"E\": 1708578510101, \"s\": \"BTCUSDT\", \"t\": 1167312, \"p\": \"51395.00000000\", \"q\": \"0.00711000\", \"b\": 5619592, \"a\": 5619589, \"T\": 1708578510100, \"m\": false, \"M\": true}, \"timestamp\": 1708578510100, \"datetime\": \"2024-02-22T05:08:30.100Z\", \"symbol\": \"BTC/USDT\", \"id\": \"1167312\", \"order\": null, \"type\": null, \"side\": \"buy\", \"takerOrMaker\": null, \"price\": \"51395.00000000\", \"amount\": \"0.00711000\", \"cost\": \"365.41845\", \"fee\": null, \"fees\": []}, {\"info\": {\"e\": \"trade\", \"E\": 1708578510101, \"s\": \"BTCUSDT\", \"t\": 1167313, \"p\": \"51395.26000000\", \"q\": \"0.00866000\", \"b\": 5619592, \"a\": 5619591, \"T\": 1708578510100, \"m\": false, \"M\": true}, \"timestamp\": 1708578510100, \"datetime\": \"2024-02-22T05:08:30.100Z\", \"symbol\": \"BTC/USDT\", \"id\": \"1167313\", \"order\": null, \"type\": null, \"side\": \"buy\", \"takerOrMaker\": null, \"price\": \"51395.26000000\", \"amount\": \"0.00866000\", \"cost\": \"445.0829516\", \"fee\": null, \"fees\": []}]',\n b'[{\"info\": {\"e\": \"trade\", \"E\": 1708578511060, \"s\": \"BTCUSDT\", \"t\": 1167314, \"p\": \"51388.60000000\", \"q\": \"0.00027000\", \"b\": 5619562, \"a\": 5619595, \"T\": 1708578511060, \"m\": true, \"M\": true}, \"timestamp\": 1708578511060, \"datetime\": \"2024-02-22T05:08:31.060Z\", \"symbol\": \"BTC/USDT\", \"id\": \"1167314\", \"order\": null, \"type\": null, \"side\": \"sell\", \"takerOrMaker\": null, \"price\": \"51388.60000000\", \"amount\": \"0.00027000\", \"cost\": \"13.874922\", \"fee\": null, \"fees\": []}]',\n b'[{\"info\": {\"e\": \"trade\", \"E\": 1708578511392, \"s\": \"BTCUSDT\", \"t\": 1167315, \"p\": \"51457.69000000\", \"q\": \"0.00027000\", \"b\": 5619597, \"a\": 5619527, \"T\": 1708578511392, \"m\": false, \"M\": true}, \"timestamp\": 1708578511392, \"datetime\": \"2024-02-22T05:08:31.392Z\", \"symbol\": \"BTC/USDT\", \"id\": \"1167315\", \"order\": null, \"type\": null, \"side\": \"buy\", \"takerOrMaker\": null, \"price\": \"51457.69000000\", \"amount\": \"0.00027000\", \"cost\": \"13.8935763\", \"fee\": null, \"fees\": []}]',\n b'[{\"info\": {\"e\": \"trade\", \"E\": 1708578513566, \"s\": \"BTCUSDT\", \"t\": 1167316, \"p\": \"51388.60000000\", \"q\": \"0.00300000\", \"b\": 5619588, \"a\": 5619607, \"T\": 1708578513566, \"m\": true, \"M\": true}, \"timestamp\": 1708578513566, \"datetime\": \"2024-02-22T05:08:33.566Z\", \"symbol\": \"BTC/USDT\", \"id\": \"1167316\", \"order\": null, \"type\": null, \"side\": \"sell\", \"takerOrMaker\": null, \"price\": \"51388.60000000\", \"amount\": \"0.00300000\", \"cost\": \"154.1658\", \"fee\": null, \"fees\": []}, {\"info\": {\"e\": \"trade\", \"E\": 1708578513566, \"s\": \"BTCUSDT\", \"t\": 1167317, \"p\": \"51381.04000000\", \"q\": \"0.00100000\", \"b\": 5614749, \"a\": 5619607, \"T\": 1708578513566, \"m\": true, \"M\": true}, \"timestamp\": 1708578513566, \"datetime\": \"2024-02-22T05:08:33.566Z\", \"symbol\": \"BTC/USDT\", \"id\": \"1167317\", \"order\": null, \"type\": null, \"side\": \"sell\", \"takerOrMaker\": null, \"price\": \"51381.04000000\", \"amount\": \"0.00100000\", \"cost\": \"51.38104\", \"fee\": null, \"fees\": []}, {\"info\": {\"e\": \"trade\", \"E\": 1708578513566, \"s\": \"BTCUSDT\", \"t\": 1167318, \"p\": \"51379.74000000\", \"q\": \"0.00100000\", \"b\": 5618397, \"a\": 5619607, \"T\": 1708578513566, \"m\": true, \"M\": true}, \"timestamp\": 1708578513566, \"datetime\": \"2024-02-22T05:08:33.566Z\", \"symbol\": \"BTC/USDT\", \"id\": \"1167318\", \"order\": null, \"type\": null, \"side\": \"sell\", \"takerOrMaker\": null, \"price\": \"51379.74000000\", \"amount\": \"0.00100000\", \"cost\": \"51.37974\", \"fee\": null, \"fees\": []}]',\n b'[{\"info\": {\"e\": \"trade\", \"E\": 1708578515805, \"s\": \"BTCUSDT\", \"t\": 1167319, \"p\": \"51377.54000000\", \"q\": \"0.00027000\", \"b\": 5619602, \"a\": 5619610, \"T\": 1708578515805, \"m\": true, \"M\": true}, \"timestamp\": 1708578515805, \"datetime\": \"2024-02-22T05:08:35.805Z\", \"symbol\": \"BTC/USDT\", \"id\": \"1167319\", \"order\": null, \"type\": null, \"side\": \"sell\", \"takerOrMaker\": null, \"price\": \"51377.54000000\", \"amount\": \"0.00027000\", \"cost\": \"13.8719358\", \"fee\": null, \"fees\": []}]',\n b'[{\"info\": {\"e\": \"trade\", \"E\": 1708578518348, \"s\": \"BTCUSDT\", \"t\": 1167320, \"p\": \"51372.75000000\", \"q\": \"0.00250000\", \"b\": 5619611, \"a\": 5619613, \"T\": 1708578518347, \"m\": true, \"M\": true}, \"timestamp\": 1708578518347, \"datetime\": \"2024-02-22T05:08:38.347Z\", \"symbol\": \"BTC/USDT\", \"id\": \"1167320\", \"order\": null, \"type\": null, \"side\": \"sell\", \"takerOrMaker\": null, \"price\": \"51372.75000000\", \"amount\": \"0.00250000\", \"cost\": \"128.431875\", \"fee\": null, \"fees\": []}]',\n b'[{\"info\": {\"e\": \"trade\", \"E\": 1708578518904, \"s\": \"BTCUSDT\", \"t\": 1167321, \"p\": \"51362.01000000\", \"q\": \"0.00027000\", \"b\": 5619619, \"a\": 5619617, \"T\": 1708578518903, \"m\": false, \"M\": true}, \"timestamp\": 1708578518903, \"datetime\": \"2024-02-22T05:08:38.903Z\", \"symbol\": \"BTC/USDT\", \"id\": \"1167321\", \"order\": null, \"type\": null, \"side\": \"buy\", \"takerOrMaker\": null, \"price\": \"51362.01000000\", \"amount\": \"0.00027000\", \"cost\": \"13.8677427\", \"fee\": null, \"fees\": []}]',\n b'[{\"info\": {\"e\": \"trade\", \"E\": 1708578519004, \"s\": \"BTCUSDT\", \"t\": 1167322, \"p\": \"51362.00000000\", \"q\": \"0.00027000\", \"b\": 5619614, \"a\": 5619620, \"T\": 1708578519003, \"m\": true, \"M\": true}, \"timestamp\": 1708578519003, \"datetime\": \"2024-02-22T05:08:39.003Z\", \"symbol\": \"BTC/USDT\", \"id\": \"1167322\", \"order\": null, \"type\": null, \"side\": \"sell\", \"takerOrMaker\": null, \"price\": \"51362.00000000\", \"amount\": \"0.00027000\", \"cost\": \"13.86774\", \"fee\": null, \"fees\": []}]',\n b'[{\"info\": {\"e\": \"trade\", \"E\": 1708578520029, \"s\": \"BTCUSDT\", \"t\": 1167323, \"p\": \"51362.01000000\", \"q\": \"0.00830000\", \"b\": 5619621, \"a\": 5619617, \"T\": 1708578520029, \"m\": false, \"M\": true}, \"timestamp\": 1708578520029, \"datetime\": \"2024-02-22T05:08:40.029Z\", \"symbol\": \"BTC/USDT\", \"id\": \"1167323\", \"order\": null, \"type\": null, \"side\": \"buy\", \"takerOrMaker\": null, \"price\": \"51362.01000000\", \"amount\": \"0.00830000\", \"cost\": \"426.304683\", \"fee\": null, \"fees\": []}, {\"info\": {\"e\": \"trade\", \"E\": 1708578520029, \"s\": \"BTCUSDT\", \"t\": 1167324, \"p\": \"51372.76000000\", \"q\": \"0.00643000\", \"b\": 5619621, \"a\": 5619612, \"T\": 1708578520029, \"m\": false, \"M\": true}, \"timestamp\": 1708578520029, \"datetime\": \"2024-02-22T05:08:40.029Z\", \"symbol\": \"BTC/USDT\", \"id\": \"1167324\", \"order\": null, \"type\": null, \"side\": \"buy\", \"takerOrMaker\": null, \"price\": \"51372.76000000\", \"amount\": \"0.00643000\", \"cost\": \"330.3268468\", \"fee\": null, \"fees\": []}, {\"info\": {\"e\": \"trade\", \"E\": 1708578520029, \"s\": \"BTCUSDT\", \"t\": 1167325, \"p\": \"51377.55000000\", \"q\": \"0.00084000\", \"b\": 5619621, \"a\": 5619607, \"T\": 1708578520029, \"m\": false, \"M\": true}, \"timestamp\": 1708578520029, \"datetime\": \"2024-02-22T05:08:40.029Z\", \"symbol\": \"BTC/USDT\", \"id\": \"1167325\", \"order\": null, \"type\": null, \"side\": \"buy\", \"takerOrMaker\": null, \"price\": \"51377.55000000\", \"amount\": \"0.00084000\", \"cost\": \"43.157142\", \"fee\": null, \"fees\": []}]',\n b'[{\"info\": {\"e\": \"trade\", \"E\": 1708578520826, \"s\": \"BTCUSDT\", \"t\": 1167326, \"p\": \"51362.00000000\", \"q\": \"0.00300000\", \"b\": 5619618, \"a\": 5619622, \"T\": 1708578520826, \"m\": true, \"M\": true}, \"timestamp\": 1708578520826, \"datetime\": \"2024-02-22T05:08:40.826Z\", \"symbol\": \"BTC/USDT\", \"id\": \"1167326\", \"order\": null, \"type\": null, \"side\": \"sell\", \"takerOrMaker\": null, \"price\": \"51362.00000000\", \"amount\": \"0.00300000\", \"cost\": \"154.086\", \"fee\": null, \"fees\": []}, {\"info\": {\"e\": \"trade\", \"E\": 1708578520826, \"s\": \"BTCUSDT\", \"t\": 1167327, \"p\": \"51360.65000000\", \"q\": \"0.00246000\", \"b\": 5619616, \"a\": 5619622, \"T\": 1708578520826, \"m\": true, \"M\": true}, \"timestamp\": 1708578520826, \"datetime\": \"2024-02-22T05:08:40.826Z\", \"symbol\": \"BTC/USDT\", \"id\": \"1167327\", \"order\": null, \"type\": null, \"side\": \"sell\", \"takerOrMaker\": null, \"price\": \"51360.65000000\", \"amount\": \"0.00246000\", \"cost\": \"126.347199\", \"fee\": null, \"fees\": []}]',\n b'[{\"info\": {\"e\": \"trade\", \"E\": 1708578520840, \"s\": \"BTCUSDT\", \"t\": 1167328, \"p\": \"51360.65000000\", \"q\": \"0.00699000\", \"b\": 5619616, \"a\": 5619623, \"T\": 1708578520840, \"m\": true, \"M\": true}, \"timestamp\": 1708578520840, \"datetime\": \"2024-02-22T05:08:40.840Z\", \"symbol\": \"BTC/USDT\", \"id\": \"1167328\", \"order\": null, \"type\": null, \"side\": \"sell\", \"takerOrMaker\": null, \"price\": \"51360.65000000\", \"amount\": \"0.00699000\", \"cost\": \"359.0109435\", \"fee\": null, \"fees\": []}, {\"info\": {\"e\": \"trade\", \"E\": 1708578520840, \"s\": \"BTCUSDT\", \"t\": 1167329, \"p\": \"51357.68000000\", \"q\": \"0.00217000\", \"b\": 5619539, \"a\": 5619623, \"T\": 1708578520840, \"m\": true, \"M\": true}, \"timestamp\": 1708578520840, \"datetime\": \"2024-02-22T05:08:40.840Z\", \"symbol\": \"BTC/USDT\", \"id\": \"1167329\", \"order\": null, \"type\": null, \"side\": \"sell\", \"takerOrMaker\": null, \"price\": \"51357.68000000\", \"amount\": \"0.00217000\", \"cost\": \"111.4461656\", \"fee\": null, \"fees\": []}]',\n b'[{\"info\": {\"e\": \"trade\", \"E\": 1708578520852, \"s\": \"BTCUSDT\", \"t\": 1167330, \"p\": \"51357.68000000\", \"q\": \"0.00516000\", \"b\": 5619539, \"a\": 5619624, \"T\": 1708578520851, \"m\": true, \"M\": true}, \"timestamp\": 1708578520851, \"datetime\": \"2024-02-22T05:08:40.851Z\", \"symbol\": \"BTC/USDT\", \"id\": \"1167330\", \"order\": null, \"type\": null, \"side\": \"sell\", \"takerOrMaker\": null, \"price\": \"51357.68000000\", \"amount\": \"0.00516000\", \"cost\": \"265.0056288\", \"fee\": null, \"fees\": []}]',\n b'[{\"info\": {\"e\": \"trade\", \"E\": 1708578520859, \"s\": \"BTCUSDT\", \"t\": 1167331, \"p\": \"51357.68000000\", \"q\": \"0.00153000\", \"b\": 5619539, \"a\": 5619625, \"T\": 1708578520859, \"m\": true, \"M\": true}, \"timestamp\": 1708578520859, \"datetime\": \"2024-02-22T05:08:40.859Z\", \"symbol\": \"BTC/USDT\", \"id\": \"1167331\", \"order\": null, \"type\": null, \"side\": \"sell\", \"takerOrMaker\": null, \"price\": \"51357.68000000\", \"amount\": \"0.00153000\", \"cost\": \"78.5772504\", \"fee\": null, \"fees\": []}]',\n b'[{\"info\": {\"e\": \"trade\", \"E\": 1708578520867, \"s\": \"BTCUSDT\", \"t\": 1167332, \"p\": \"51357.16000000\", \"q\": \"0.00772000\", \"b\": 5619626, \"a\": 5619625, \"T\": 1708578520867, \"m\": false, \"M\": true}, \"timestamp\": 1708578520867, \"datetime\": \"2024-02-22T05:08:40.867Z\", \"symbol\": \"BTC/USDT\", \"id\": \"1167332\", \"order\": null, \"type\": null, \"side\": \"buy\", \"takerOrMaker\": null, \"price\": \"51357.16000000\", \"amount\": \"0.00772000\", \"cost\": \"396.4772752\", \"fee\": null, \"fees\": []}]',\n b'[{\"info\": {\"e\": \"trade\", \"E\": 1708578522459, \"s\": \"BTCUSDT\", \"t\": 1167333, \"p\": \"51438.74000000\", \"q\": \"0.00027000\", \"b\": 5619629, \"a\": 5619609, \"T\": 1708578522459, \"m\": false, \"M\": true}, \"timestamp\": 1708578522459, \"datetime\": \"2024-02-22T05:08:42.459Z\", \"symbol\": \"BTC/USDT\", \"id\": \"1167333\", \"order\": null, \"type\": null, \"side\": \"buy\", \"takerOrMaker\": null, \"price\": \"51438.74000000\", \"amount\": \"0.00027000\", \"cost\": \"13.8884598\", \"fee\": null, \"fees\": []}]',\n b'[{\"info\": {\"e\": \"trade\", \"E\": 1708578523081, \"s\": \"BTCUSDT\", \"t\": 1167334, \"p\": \"51352.01000000\", \"q\": \"0.00555000\", \"b\": 5619633, \"a\": 5619632, \"T\": 1708578523081, \"m\": false, \"M\": true}, \"timestamp\": 1708578523081, \"datetime\": \"2024-02-22T05:08:43.081Z\", \"symbol\": \"BTC/USDT\", \"id\": \"1167334\", \"order\": null, \"type\": null, \"side\": \"buy\", \"takerOrMaker\": null, \"price\": \"51352.01000000\", \"amount\": \"0.00555000\", \"cost\": \"285.0036555\", \"fee\": null, \"fees\": []}]',\n b'[{\"info\": {\"e\": \"trade\", \"E\": 1708578524043, \"s\": \"BTCUSDT\", \"t\": 1167335, \"p\": \"51352.00000000\", \"q\": \"0.00027000\", \"b\": 5619630, \"a\": 5619634, \"T\": 1708578524043, \"m\": true, \"M\": true}, \"timestamp\": 1708578524043, \"datetime\": \"2024-02-22T05:08:44.043Z\", \"symbol\": \"BTC/USDT\", \"id\": \"1167335\", \"order\": null, \"type\": null, \"side\": \"sell\", \"takerOrMaker\": null, \"price\": \"51352.00000000\", \"amount\": \"0.00027000\", \"cost\": \"13.86504\", \"fee\": null, \"fees\": []}]',\n b'[{\"info\": {\"e\": \"trade\", \"E\": 1708578526987, \"s\": \"BTCUSDT\", \"t\": 1167336, \"p\": \"51363.98000000\", \"q\": \"0.00526000\", \"b\": 5619639, \"a\": 5619638, \"T\": 1708578526986, \"m\": false, \"M\": true}, \"timestamp\": 1708578526986, \"datetime\": \"2024-02-22T05:08:46.986Z\", \"symbol\": \"BTC/USDT\", \"id\": \"1167336\", \"order\": null, \"type\": null, \"side\": \"buy\", \"takerOrMaker\": null, \"price\": \"51363.98000000\", \"amount\": \"0.00526000\", \"cost\": \"270.1745348\", \"fee\": null, \"fees\": []}]',\n b'[{\"info\": {\"e\": \"trade\", \"E\": 1708578527708, \"s\": \"BTCUSDT\", \"t\": 1167337, \"p\": \"51374.08000000\", \"q\": \"0.00584000\", \"b\": 5619645, \"a\": 5619641, \"T\": 1708578527707, \"m\": false, \"M\": true}, \"timestamp\": 1708578527707, \"datetime\": \"2024-02-22T05:08:47.707Z\", \"symbol\": \"BTC/USDT\", \"id\": \"1167337\", \"order\": null, \"type\": null, \"side\": \"buy\", \"takerOrMaker\": null, \"price\": \"51374.08000000\", \"amount\": \"0.00584000\", \"cost\": \"300.0246272\", \"fee\": null, \"fees\": []}]',\n b'[{\"info\": {\"e\": \"trade\", \"E\": 1708578528508, \"s\": \"BTCUSDT\", \"t\": 1167338, \"p\": \"51378.97000000\", \"q\": \"0.00027000\", \"b\": 5619650, \"a\": 5619646, \"T\": 1708578528507, \"m\": false, \"M\": true}, \"timestamp\": 1708578528507, \"datetime\": \"2024-02-22T05:08:48.507Z\", \"symbol\": \"BTC/USDT\", \"id\": \"1167338\", \"order\": null, \"type\": null, \"side\": \"buy\", \"takerOrMaker\": null, \"price\": \"51378.97000000\", \"amount\": \"0.00027000\", \"cost\": \"13.8723219\", \"fee\": null, \"fees\": []}]',\n b'[{\"info\": {\"e\": \"trade\", \"E\": 1708578530013, \"s\": \"BTCUSDT\", \"t\": 1167339, \"p\": \"51378.97000000\", \"q\": \"0.00577000\", \"b\": 5619656, \"a\": 5619646, \"T\": 1708578530013, \"m\": false, \"M\": true}, \"timestamp\": 1708578530013, \"datetime\": \"2024-02-22T05:08:50.013Z\", \"symbol\": \"BTC/USDT\", \"id\": \"1167339\", \"order\": null, \"type\": null, \"side\": \"buy\", \"takerOrMaker\": null, \"price\": \"51378.97000000\", \"amount\": \"0.00577000\", \"cost\": \"296.4566569\", \"fee\": null, \"fees\": []}, {\"info\": {\"e\": \"trade\", \"E\": 1708578530013, \"s\": \"BTCUSDT\", \"t\": 1167340, \"p\": \"51379.00000000\", \"q\": \"0.00526000\", \"b\": 5619656, \"a\": 5619652, \"T\": 1708578530013, \"m\": false, \"M\": true}, \"timestamp\": 1708578530013, \"datetime\": \"2024-02-22T05:08:50.013Z\", \"symbol\": \"BTC/USDT\", \"id\": \"1167340\", \"order\": null, \"type\": null, \"side\": \"buy\", \"takerOrMaker\": null, \"price\": \"51379.00000000\", \"amount\": \"0.00526000\", \"cost\": \"270.25354\", \"fee\": null, \"fees\": []}, {\"info\": {\"e\": \"trade\", \"E\": 1708578530013, \"s\": \"BTCUSDT\", \"t\": 1167341, \"p\": \"51379.04000000\", \"q\": \"0.00847000\", \"b\": 5619656, \"a\": 5619647, \"T\": 1708578530013, \"m\": false, \"M\": true}, \"timestamp\": 1708578530013, \"datetime\": \"2024-02-22T05:08:50.013Z\", \"symbol\": \"BTC/USDT\", \"id\": \"1167341\", \"order\": null, \"type\": null, \"side\": \"buy\", \"takerOrMaker\": null, \"price\": \"51379.04000000\", \"amount\": \"0.00847000\", \"cost\": \"435.1804688\", \"fee\": null, \"fees\": []}, {\"info\": {\"e\": \"trade\", \"E\": 1708578530013, \"s\": \"BTCUSDT\", \"t\": 1167342, \"p\": \"51379.48000000\", \"q\": \"0.00516000\", \"b\": 5619656, \"a\": 5619653, \"T\": 1708578530013, \"m\": false, \"M\": true}, \"timestamp\": 1708578530013, \"datetime\": \"2024-02-22T05:08:50.013Z\", \"symbol\": \"BTC/USDT\", \"id\": \"1167342\", \"order\": null, \"type\": null, \"side\": \"buy\", \"takerOrMaker\": null, \"price\": \"51379.48000000\", \"amount\": \"0.00516000\", \"cost\": \"265.1181168\", \"fee\": null, \"fees\": []}]',\n b'[{\"info\": {\"e\": \"trade\", \"E\": 1708578530013, \"s\": \"BTCUSDT\", \"t\": 1167343, \"p\": \"51379.59000000\", \"q\": \"0.00672000\", \"b\": 5619656, \"a\": 5619654, \"T\": 1708578530013, \"m\": false, \"M\": true}, \"timestamp\": 1708578530013, \"datetime\": \"2024-02-22T05:08:50.013Z\", \"symbol\": \"BTC/USDT\", \"id\": \"1167343\", \"order\": null, \"type\": null, \"side\": \"buy\", \"takerOrMaker\": null, \"price\": \"51379.59000000\", \"amount\": \"0.00672000\", \"cost\": \"345.2708448\", \"fee\": null, \"fees\": []}, {\"info\": {\"e\": \"trade\", \"E\": 1708578530013, \"s\": \"BTCUSDT\", \"t\": 1167344, \"p\": \"51379.60000000\", \"q\": \"0.00915000\", \"b\": 5619656, \"a\": 5619655, \"T\": 1708578530013, \"m\": false, \"M\": true}, \"timestamp\": 1708578530013, \"datetime\": \"2024-02-22T05:08:50.013Z\", \"symbol\": \"BTC/USDT\", \"id\": \"1167344\", \"order\": null, \"type\": null, \"side\": \"buy\", \"takerOrMaker\": null, \"price\": \"51379.60000000\", \"amount\": \"0.00915000\", \"cost\": \"470.12334\", \"fee\": null, \"fees\": []}, {\"info\": {\"e\": \"trade\", \"E\": 1708578530013, \"s\": \"BTCUSDT\", \"t\": 1167345, \"p\": \"51380.08000000\", \"q\": \"0.00555000\", \"b\": 5619656, \"a\": 5619648, \"T\": 1708578530013, \"m\": false, \"M\": true}, \"timestamp\": 1708578530013, \"datetime\": \"2024-02-22T05:08:50.013Z\", \"symbol\": \"BTC/USDT\", \"id\": \"1167345\", \"order\": null, \"type\": null, \"side\": \"buy\", \"takerOrMaker\": null, \"price\": \"51380.08000000\", \"amount\": \"0.00555000\", \"cost\": \"285.159444\", \"fee\": null, \"fees\": []}]',\n b'[{\"info\": {\"e\": \"trade\", \"E\": 1708578532411, \"s\": \"BTCUSDT\", \"t\": 1167346, \"p\": \"51378.97000000\", \"q\": \"0.00497000\", \"b\": 5619669, \"a\": 5619662, \"T\": 1708578532411, \"m\": false, \"M\": true}, \"timestamp\": 1708578532411, \"datetime\": \"2024-02-22T05:08:52.411Z\", \"symbol\": \"BTC/USDT\", \"id\": \"1167346\", \"order\": null, \"type\": null, \"side\": \"buy\", \"takerOrMaker\": null, \"price\": \"51378.97000000\", \"amount\": \"0.00497000\", \"cost\": \"255.3534809\", \"fee\": null, \"fees\": []}, {\"info\": {\"e\": \"trade\", \"E\": 1708578532411, \"s\": \"BTCUSDT\", \"t\": 1167347, \"p\": \"51379.00000000\", \"q\": \"0.00516000\", \"b\": 5619669, \"a\": 5619667, \"T\": 1708578532411, \"m\": false, \"M\": true}, \"timestamp\": 1708578532411, \"datetime\": \"2024-02-22T05:08:52.411Z\", \"symbol\": \"BTC/USDT\", \"id\": \"1167347\", \"order\": null, \"type\": null, \"side\": \"buy\", \"takerOrMaker\": null, \"price\": \"51379.00000000\", \"amount\": \"0.00516000\", \"cost\": \"265.11564\", \"fee\": null, \"fees\": []}, {\"info\": {\"e\": \"trade\", \"E\": 1708578532411, \"s\": \"BTCUSDT\", \"t\": 1167348, \"p\": \"51379.48000000\", \"q\": \"0.00886000\", \"b\": 5619669, \"a\": 5619668, \"T\": 1708578532411, \"m\": false, \"M\": true}, \"timestamp\": 1708578532411, \"datetime\": \"2024-02-22T05:08:52.411Z\", \"symbol\": \"BTC/USDT\", \"id\": \"1167348\", \"order\": null, \"type\": null, \"side\": \"buy\", \"takerOrMaker\": null, \"price\": \"51379.48000000\", \"amount\": \"0.00886000\", \"cost\": \"455.2221928\", \"fee\": null, \"fees\": []}]',\n b'[{\"info\": {\"e\": \"trade\", \"E\": 1708578534729, \"s\": \"BTCUSDT\", \"t\": 1167349, \"p\": \"51374.07000000\", \"q\": \"0.00448000\", \"b\": 5619639, \"a\": 5619670, \"T\": 1708578534728, \"m\": true, \"M\": true}, \"timestamp\": 1708578534728, \"datetime\": \"2024-02-22T05:08:54.728Z\", \"symbol\": \"BTC/USDT\", \"id\": \"1167349\", \"order\": null, \"type\": null, \"side\": \"sell\", \"takerOrMaker\": null, \"price\": \"51374.07000000\", \"amount\": \"0.00448000\", \"cost\": \"230.1558336\", \"fee\": null, \"fees\": []}, {\"info\": {\"e\": \"trade\", \"E\": 1708578534729, \"s\": \"BTCUSDT\", \"t\": 1167350, \"p\": \"51374.07000000\", \"q\": \"0.00300000\", \"b\": 5619649, \"a\": 5619670, \"T\": 1708578534728, \"m\": true, \"M\": true}, \"timestamp\": 1708578534728, \"datetime\": \"2024-02-22T05:08:54.728Z\", \"symbol\": \"BTC/USDT\", \"id\": \"1167350\", \"order\": null, \"type\": null, \"side\": \"sell\", \"takerOrMaker\": null, \"price\": \"51374.07000000\", \"amount\": \"0.00300000\", \"cost\": \"154.12221\", \"fee\": null, \"fees\": []}, {\"info\": {\"e\": \"trade\", \"E\": 1708578534729, \"s\": \"BTCUSDT\", \"t\": 1167351, \"p\": \"51374.00000000\", \"q\": \"0.00158000\", \"b\": 5619640, \"a\": 5619670, \"T\": 1708578534728, \"m\": true, \"M\": true}, \"timestamp\": 1708578534728, \"datetime\": \"2024-02-22T05:08:54.728Z\", \"symbol\": \"BTC/USDT\", \"id\": \"1167351\", \"order\": null, \"type\": null, \"side\": \"sell\", \"takerOrMaker\": null, \"price\": \"51374.00000000\", \"amount\": \"0.00158000\", \"cost\": \"81.17092\", \"fee\": null, \"fees\": []}]',\n b'[{\"info\": {\"e\": \"trade\", \"E\": 1708578534756, \"s\": \"BTCUSDT\", \"t\": 1167352, \"p\": \"51374.00000000\", \"q\": \"0.00679000\", \"b\": 5619640, \"a\": 5619671, \"T\": 1708578534756, \"m\": true, \"M\": true}, \"timestamp\": 1708578534756, \"datetime\": \"2024-02-22T05:08:54.756Z\", \"symbol\": \"BTC/USDT\", \"id\": \"1167352\", \"order\": null, \"type\": null, \"side\": \"sell\", \"takerOrMaker\": null, \"price\": \"51374.00000000\", \"amount\": \"0.00679000\", \"cost\": \"348.82946\", \"fee\": null, \"fees\": []}]',\n b'[{\"info\": {\"e\": \"trade\", \"E\": 1708578540006, \"s\": \"BTCUSDT\", \"t\": 1167353, \"p\": \"51366.28000000\", \"q\": \"0.00847000\", \"b\": 5619694, \"a\": 5619675, \"T\": 1708578540005, \"m\": false, \"M\": true}, \"timestamp\": 1708578540005, \"datetime\": \"2024-02-22T05:09:00.005Z\", \"symbol\": \"BTC/USDT\", \"id\": \"1167353\", \"order\": null, \"type\": null, \"side\": \"buy\", \"takerOrMaker\": null, \"price\": \"51366.28000000\", \"amount\": \"0.00847000\", \"cost\": \"435.0723916\", \"fee\": null, \"fees\": []}, {\"info\": {\"e\": \"trade\", \"E\": 1708578540006, \"s\": \"BTCUSDT\", \"t\": 1167354, \"p\": \"51366.33000000\", \"q\": \"0.00487000\", \"b\": 5619694, \"a\": 5619693, \"T\": 1708578540005, \"m\": false, \"M\": true}, \"timestamp\": 1708578540005, \"datetime\": \"2024-02-22T05:09:00.005Z\", \"symbol\": \"BTC/USDT\", \"id\": \"1167354\", \"order\": null, \"type\": null, \"side\": \"buy\", \"takerOrMaker\": null, \"price\": \"51366.33000000\", \"amount\": \"0.00487000\", \"cost\": \"250.1540271\", \"fee\": null, \"fees\": []}, {\"info\": {\"e\": \"trade\", \"E\": 1708578540006, \"s\": \"BTCUSDT\", \"t\": 1167355, \"p\": \"51366.56000000\", \"q\": \"0.00633000\", \"b\": 5619694, \"a\": 5619685, \"T\": 1708578540005, \"m\": false, \"M\": true}, \"timestamp\": 1708578540005, \"datetime\": \"2024-02-22T05:09:00.005Z\", \"symbol\": \"BTC/USDT\", \"id\": \"1167355\", \"order\": null, \"type\": null, \"side\": \"buy\", \"takerOrMaker\": null, \"price\": \"51366.56000000\", \"amount\": \"0.00633000\", \"cost\": \"325.1503248\", \"fee\": null, \"fees\": []}, {\"info\": {\"e\": \"trade\", \"E\": 1708578540006, \"s\": \"BTCUSDT\", \"t\": 1167356, \"p\": \"51367.07000000\", \"q\": \"0.00731000\", \"b\": 5619694, \"a\": 5619680, \"T\": 1708578540005, \"m\": false, \"M\": true}, \"timestamp\": 1708578540005, \"datetime\": \"2024-02-22T05:09:00.005Z\", \"symbol\": \"BTC/USDT\", \"id\": \"1167356\", \"order\": null, \"type\": null, \"side\": \"buy\", \"takerOrMaker\": null, \"price\": \"51367.07000000\", \"amount\": \"0.00731000\", \"cost\": \"375.4932817\", \"fee\": null, \"fees\": []}]',\n b'[{\"info\": {\"e\": \"trade\", \"E\": 1708578540006, \"s\": \"BTCUSDT\", \"t\": 1167357, \"p\": \"51367.80000000\", \"q\": \"0.00760000\", \"b\": 5619694, \"a\": 5619677, \"T\": 1708578540005, \"m\": false, \"M\": true}, \"timestamp\": 1708578540005, \"datetime\": \"2024-02-22T05:09:00.005Z\", \"symbol\": \"BTC/USDT\", \"id\": \"1167357\", \"order\": null, \"type\": null, \"side\": \"buy\", \"takerOrMaker\": null, \"price\": \"51367.80000000\", \"amount\": \"0.00760000\", \"cost\": \"390.39528\", \"fee\": null, \"fees\": []}, {\"info\": {\"e\": \"trade\", \"E\": 1708578540006, \"s\": \"BTCUSDT\", \"t\": 1167358, \"p\": \"51368.00000000\", \"q\": \"0.00954000\", \"b\": 5619694, \"a\": 5619681, \"T\": 1708578540005, \"m\": false, \"M\": true}, \"timestamp\": 1708578540005, \"datetime\": \"2024-02-22T05:09:00.005Z\", \"symbol\": \"BTC/USDT\", \"id\": \"1167358\", \"order\": null, \"type\": null, \"side\": \"buy\", \"takerOrMaker\": null, \"price\": \"51368.00000000\", \"amount\": \"0.00954000\", \"cost\": \"490.05072\", \"fee\": null, \"fees\": []}, {\"info\": {\"e\": \"trade\", \"E\": 1708578540006, \"s\": \"BTCUSDT\", \"t\": 1167359, \"p\": \"51371.73000000\", \"q\": \"0.00097000\", \"b\": 5619694, \"a\": 5619682, \"T\": 1708578540005, \"m\": false, \"M\": true}, \"timestamp\": 1708578540005, \"datetime\": \"2024-02-22T05:09:00.005Z\", \"symbol\": \"BTC/USDT\", \"id\": \"1167359\", \"order\": null, \"type\": null, \"side\": \"buy\", \"takerOrMaker\": null, \"price\": \"51371.73000000\", \"amount\": \"0.00097000\", \"cost\": \"49.8305781\", \"fee\": null, \"fees\": []}]',\n b'[{\"info\": {\"e\": \"trade\", \"E\": 1708578540015, \"s\": \"BTCUSDT\", \"t\": 1167360, \"p\": \"51366.34000000\", \"q\": \"0.00954000\", \"b\": 5619696, \"a\": 5619695, \"T\": 1708578540014, \"m\": false, \"M\": true}, \"timestamp\": 1708578540014, \"datetime\": \"2024-02-22T05:09:00.014Z\", \"symbol\": \"BTC/USDT\", \"id\": \"1167360\", \"order\": null, \"type\": null, \"side\": \"buy\", \"takerOrMaker\": null, \"price\": \"51366.34000000\", \"amount\": \"0.00954000\", \"cost\": \"490.0348836\", \"fee\": null, \"fees\": []}, {\"info\": {\"e\": \"trade\", \"E\": 1708578540015, \"s\": \"BTCUSDT\", \"t\": 1167361, \"p\": \"51371.73000000\", \"q\": \"0.00487000\", \"b\": 5619696, \"a\": 5619682, \"T\": 1708578540014, \"m\": false, \"M\": true}, \"timestamp\": 1708578540014, \"datetime\": \"2024-02-22T05:09:00.014Z\", \"symbol\": \"BTC/USDT\", \"id\": \"1167361\", \"order\": null, \"type\": null, \"side\": \"buy\", \"takerOrMaker\": null, \"price\": \"51371.73000000\", \"amount\": \"0.00487000\", \"cost\": \"250.1803251\", \"fee\": null, \"fees\": []}]',\n b'[{\"info\": {\"e\": \"trade\", \"E\": 1708578540116, \"s\": \"BTCUSDT\", \"t\": 1167362, \"p\": \"51366.80000000\", \"q\": \"0.00964000\", \"b\": 5619701, \"a\": 5619697, \"T\": 1708578540116, \"m\": false, \"M\": true}, \"timestamp\": 1708578540116, \"datetime\": \"2024-02-22T05:09:00.116Z\", \"symbol\": \"BTC/USDT\", \"id\": \"1167362\", \"order\": null, \"type\": null, \"side\": \"buy\", \"takerOrMaker\": null, \"price\": \"51366.80000000\", \"amount\": \"0.00964000\", \"cost\": \"495.175952\", \"fee\": null, \"fees\": []}, {\"info\": {\"e\": \"trade\", \"E\": 1708578540116, \"s\": \"BTCUSDT\", \"t\": 1167363, \"p\": \"51367.80000000\", \"q\": \"0.00487000\", \"b\": 5619701, \"a\": 5619698, \"T\": 1708578540116, \"m\": false, \"M\": true}, \"timestamp\": 1708578540116, \"datetime\": \"2024-02-22T05:09:00.116Z\", \"symbol\": \"BTC/USDT\", \"id\": \"1167363\", \"order\": null, \"type\": null, \"side\": \"buy\", \"takerOrMaker\": null, \"price\": \"51367.80000000\", \"amount\": \"0.00487000\", \"cost\": \"250.161186\", \"fee\": null, \"fees\": []}, {\"info\": {\"e\": \"trade\", \"E\": 1708578540116, \"s\": \"BTCUSDT\", \"t\": 1167364, \"p\": \"51368.00000000\", \"q\": \"0.00604000\", \"b\": 5619701, \"a\": 5619699, \"T\": 1708578540116, \"m\": false, \"M\": true}, \"timestamp\": 1708578540116, \"datetime\": \"2024-02-22T05:09:00.116Z\", \"symbol\": \"BTC/USDT\", \"id\": \"1167364\", \"order\": null, \"type\": null, \"side\": \"buy\", \"takerOrMaker\": null, \"price\": \"51368.00000000\", \"amount\": \"0.00604000\", \"cost\": \"310.26272\", \"fee\": null, \"fees\": []}, {\"info\": {\"e\": \"trade\", \"E\": 1708578540116, \"s\": \"BTCUSDT\", \"t\": 1167365, \"p\": \"51368.08000000\", \"q\": \"0.00633000\", \"b\": 5619701, \"a\": 5619700, \"T\": 1708578540116, \"m\": false, \"M\": true}, \"timestamp\": 1708578540116, \"datetime\": \"2024-02-22T05:09:00.116Z\", \"symbol\": \"BTC/USDT\", \"id\": \"1167365\", \"order\": null, \"type\": null, \"side\": \"buy\", \"takerOrMaker\": null, \"price\": \"51368.08000000\", \"amount\": \"0.00633000\", \"cost\": \"325.1599464\", \"fee\": null, \"fees\": []}]',\n b'[{\"info\": {\"e\": \"trade\", \"E\": 1708578541310, \"s\": \"BTCUSDT\", \"t\": 1167366, \"p\": \"51366.28000000\", \"q\": \"0.00847000\", \"b\": 5619706, \"a\": 5619705, \"T\": 1708578541309, \"m\": false, \"M\": true}, \"timestamp\": 1708578541309, \"datetime\": \"2024-02-22T05:09:01.309Z\", \"symbol\": \"BTC/USDT\", \"id\": \"1167366\", \"order\": null, \"type\": null, \"side\": \"buy\", \"takerOrMaker\": null, \"price\": \"51366.28000000\", \"amount\": \"0.00847000\", \"cost\": \"435.0723916\", \"fee\": null, \"fees\": []}]',\n b'[{\"info\": {\"e\": \"trade\", \"E\": 1708578542824, \"s\": \"BTCUSDT\", \"t\": 1167367, \"p\": \"51366.28000000\", \"q\": \"0.00877000\", \"b\": 5619715, \"a\": 5619714, \"T\": 1708578542824, \"m\": false, \"M\": true}, \"timestamp\": 1708578542824, \"datetime\": \"2024-02-22T05:09:02.824Z\", \"symbol\": \"BTC/USDT\", \"id\": \"1167367\", \"order\": null, \"type\": null, \"side\": \"buy\", \"takerOrMaker\": null, \"price\": \"51366.28000000\", \"amount\": \"0.00877000\", \"cost\": \"450.4822756\", \"fee\": null, \"fees\": []}]',\n b'[{\"info\": {\"e\": \"trade\", \"E\": 1708578543829, \"s\": \"BTCUSDT\", \"t\": 1167368, \"p\": \"51366.28000000\", \"q\": \"0.00760000\", \"b\": 5619720, \"a\": 5619719, \"T\": 1708578543829, \"m\": false, \"M\": true}, \"timestamp\": 1708578543829, \"datetime\": \"2024-02-22T05:09:03.829Z\", \"symbol\": \"BTC/USDT\", \"id\": \"1167368\", \"order\": null, \"type\": null, \"side\": \"buy\", \"takerOrMaker\": null, \"price\": \"51366.28000000\", \"amount\": \"0.00760000\", \"cost\": \"390.383728\", \"fee\": null, \"fees\": []}]',\n b'[{\"info\": {\"e\": \"trade\", \"E\": 1708578547922, \"s\": \"BTCUSDT\", \"t\": 1167369, \"p\": \"51372.38000000\", \"q\": \"0.00672000\", \"b\": 5619738, \"a\": 5619728, \"T\": 1708578547922, \"m\": false, \"M\": true}, \"timestamp\": 1708578547922, \"datetime\": \"2024-02-22T05:09:07.922Z\", \"symbol\": \"BTC/USDT\", \"id\": \"1167369\", \"order\": null, \"type\": null, \"side\": \"buy\", \"takerOrMaker\": null, \"price\": \"51372.38000000\", \"amount\": \"0.00672000\", \"cost\": \"345.2223936\", \"fee\": null, \"fees\": []}]',\n b'[{\"info\": {\"e\": \"trade\", \"E\": 1708578547953, \"s\": \"BTCUSDT\", \"t\": 1167370, \"p\": \"51372.38000000\", \"q\": \"0.00049000\", \"b\": 5619739, \"a\": 5619728, \"T\": 1708578547952, \"m\": false, \"M\": true}, \"timestamp\": 1708578547952, \"datetime\": \"2024-02-22T05:09:07.952Z\", \"symbol\": \"BTC/USDT\", \"id\": \"1167370\", \"order\": null, \"type\": null, \"side\": \"buy\", \"takerOrMaker\": null, \"price\": \"51372.38000000\", \"amount\": \"0.00049000\", \"cost\": \"25.1724662\", \"fee\": null, \"fees\": []}, {\"info\": {\"e\": \"trade\", \"E\": 1708578547953, \"s\": \"BTCUSDT\", \"t\": 1167371, \"p\": \"51372.60000000\", \"q\": \"0.00623000\", \"b\": 5619739, \"a\": 5619733, \"T\": 1708578547952, \"m\": false, \"M\": true}, \"timestamp\": 1708578547952, \"datetime\": \"2024-02-22T05:09:07.952Z\", \"symbol\": \"BTC/USDT\", \"id\": \"1167371\", \"order\": null, \"type\": null, \"side\": \"buy\", \"takerOrMaker\": null, \"price\": \"51372.60000000\", \"amount\": \"0.00623000\", \"cost\": \"320.051298\", \"fee\": null, \"fees\": []}, {\"info\": {\"e\": \"trade\", \"E\": 1708578547953, \"s\": \"BTCUSDT\", \"t\": 1167372, \"p\": \"51372.64000000\", \"q\": \"0.00088000\", \"b\": 5619739, \"a\": 5619736, \"T\": 1708578547952, \"m\": false, \"M\": true}, \"timestamp\": 1708578547952, \"datetime\": \"2024-02-22T05:09:07.952Z\", \"symbol\": \"BTC/USDT\", \"id\": \"1167372\", \"order\": null, \"type\": null, \"side\": \"buy\", \"takerOrMaker\": null, \"price\": \"51372.64000000\", \"amount\": \"0.00088000\", \"cost\": \"45.2079232\", \"fee\": null, \"fees\": []}]',\n b'[{\"info\": {\"e\": \"trade\", \"E\": 1708578549219, \"s\": \"BTCUSDT\", \"t\": 1167373, \"p\": \"51372.38000000\", \"q\": \"0.00100000\", \"b\": 5619743, \"a\": 5619740, \"T\": 1708578549219, \"m\": false, \"M\": true}, \"timestamp\": 1708578549219, \"datetime\": \"2024-02-22T05:09:09.219Z\", \"symbol\": \"BTC/USDT\", \"id\": \"1167373\", \"order\": null, \"type\": null, \"side\": \"buy\", \"takerOrMaker\": null, \"price\": \"51372.38000000\", \"amount\": \"0.00100000\", \"cost\": \"51.37238\", \"fee\": null, \"fees\": []}]',\n b'[{\"info\": {\"e\": \"trade\", \"E\": 1708578550092, \"s\": \"BTCUSDT\", \"t\": 1167374, \"p\": \"51384.93000000\", \"q\": \"0.00944000\", \"b\": 5619748, \"a\": 5619744, \"T\": 1708578550092, \"m\": false, \"M\": true}, \"timestamp\": 1708578550092, \"datetime\": \"2024-02-22T05:09:10.092Z\", \"symbol\": \"BTC/USDT\", \"id\": \"1167374\", \"order\": null, \"type\": null, \"side\": \"buy\", \"takerOrMaker\": null, \"price\": \"51384.93000000\", \"amount\": \"0.00944000\", \"cost\": \"485.0737392\", \"fee\": null, \"fees\": []}, {\"info\": {\"e\": \"trade\", \"E\": 1708578550092, \"s\": \"BTCUSDT\", \"t\": 1167375, \"p\": \"51385.40000000\", \"q\": \"0.00526000\", \"b\": 5619748, \"a\": 5619745, \"T\": 1708578550092, \"m\": false, \"M\": true}, \"timestamp\": 1708578550092, \"datetime\": \"2024-02-22T05:09:10.092Z\", \"symbol\": \"BTC/USDT\", \"id\": \"1167375\", \"order\": null, \"type\": null, \"side\": \"buy\", \"takerOrMaker\": null, \"price\": \"51385.40000000\", \"amount\": \"0.00526000\", \"cost\": \"270.287204\", \"fee\": null, \"fees\": []}, {\"info\": {\"e\": \"trade\", \"E\": 1708578550092, \"s\": \"BTCUSDT\", \"t\": 1167376, \"p\": \"51386.00000000\", \"q\": \"0.00866000\", \"b\": 5619748, \"a\": 5619746, \"T\": 1708578550092, \"m\": false, \"M\": true}, \"timestamp\": 1708578550092, \"datetime\": \"2024-02-22T05:09:10.092Z\", \"symbol\": \"BTC/USDT\", \"id\": \"1167376\", \"order\": null, \"type\": null, \"side\": \"buy\", \"takerOrMaker\": null, \"price\": \"51386.00000000\", \"amount\": \"0.00866000\", \"cost\": \"445.00276\", \"fee\": null, \"fees\": []}]',\n b'[{\"info\": {\"e\": \"trade\", \"E\": 1708578551500, \"s\": \"BTCUSDT\", \"t\": 1167377, \"p\": \"51384.93000000\", \"q\": \"0.00876000\", \"b\": 5619754, \"a\": 5619752, \"T\": 1708578551499, \"m\": false, \"M\": true}, \"timestamp\": 1708578551499, \"datetime\": \"2024-02-22T05:09:11.499Z\", \"symbol\": \"BTC/USDT\", \"id\": \"1167377\", \"order\": null, \"type\": null, \"side\": \"buy\", \"takerOrMaker\": null, \"price\": \"51384.93000000\", \"amount\": \"0.00876000\", \"cost\": \"450.1319868\", \"fee\": null, \"fees\": []}]',\n b'[{\"info\": {\"e\": \"trade\", \"E\": 1708578551590, \"s\": \"BTCUSDT\", \"t\": 1167378, \"p\": \"51457.69000000\", \"q\": \"0.00027000\", \"b\": 5619756, \"a\": 5619527, \"T\": 1708578551589, \"m\": false, \"M\": true}, \"timestamp\": 1708578551589, \"datetime\": \"2024-02-22T05:09:11.589Z\", \"symbol\": \"BTC/USDT\", \"id\": \"1167378\", \"order\": null, \"type\": null, \"side\": \"buy\", \"takerOrMaker\": null, \"price\": \"51457.69000000\", \"amount\": \"0.00027000\", \"cost\": \"13.8935763\", \"fee\": null, \"fees\": []}]',\n b'[{\"info\": {\"e\": \"trade\", \"E\": 1708578552591, \"s\": \"BTCUSDT\", \"t\": 1167379, \"p\": \"51457.69000000\", \"q\": \"0.00100000\", \"b\": 5619758, \"a\": 5619527, \"T\": 1708578552590, \"m\": false, \"M\": true}, \"timestamp\": 1708578552590, \"datetime\": \"2024-02-22T05:09:12.590Z\", \"symbol\": \"BTC/USDT\", \"id\": \"1167379\", \"order\": null, \"type\": null, \"side\": \"buy\", \"takerOrMaker\": null, \"price\": \"51457.69000000\", \"amount\": \"0.00100000\", \"cost\": \"51.45769\", \"fee\": null, \"fees\": []}]',\n b'[{\"info\": {\"e\": \"trade\", \"E\": 1708578552883, \"s\": \"BTCUSDT\", \"t\": 1167380, \"p\": \"51385.40000000\", \"q\": \"0.00691000\", \"b\": 5619768, \"a\": 5619767, \"T\": 1708578552882, \"m\": false, \"M\": true}, \"timestamp\": 1708578552882, \"datetime\": \"2024-02-22T05:09:12.882Z\", \"symbol\": \"BTC/USDT\", \"id\": \"1167380\", \"order\": null, \"type\": null, \"side\": \"buy\", \"takerOrMaker\": null, \"price\": \"51385.40000000\", \"amount\": \"0.00691000\", \"cost\": \"355.073114\", \"fee\": null, \"fees\": []}]',\n b'[{\"info\": {\"e\": \"trade\", \"E\": 1708578553196, \"s\": \"BTCUSDT\", \"t\": 1167381, \"p\": \"51385.40000000\", \"q\": \"0.00100000\", \"b\": 5619770, \"a\": 5619769, \"T\": 1708578553196, \"m\": false, \"M\": true}, \"timestamp\": 1708578553196, \"datetime\": \"2024-02-22T05:09:13.196Z\", \"symbol\": \"BTC/USDT\", \"id\": \"1167381\", \"order\": null, \"type\": null, \"side\": \"buy\", \"takerOrMaker\": null, \"price\": \"51385.40000000\", \"amount\": \"0.00100000\", \"cost\": \"51.3854\", \"fee\": null, \"fees\": []}]',\n b'[{\"info\": {\"e\": \"trade\", \"E\": 1708578553628, \"s\": \"BTCUSDT\", \"t\": 1167382, \"p\": \"51385.40000000\", \"q\": \"0.00200000\", \"b\": 5619771, \"a\": 5619769, \"T\": 1708578553627, \"m\": false, \"M\": true}, \"timestamp\": 1708578553627, \"datetime\": \"2024-02-22T05:09:13.627Z\", \"symbol\": \"BTC/USDT\", \"id\": \"1167382\", \"order\": null, \"type\": null, \"side\": \"buy\", \"takerOrMaker\": null, \"price\": \"51385.40000000\", \"amount\": \"0.00200000\", \"cost\": \"102.7708\", \"fee\": null, \"fees\": []}]',\n b'[{\"info\": {\"e\": \"trade\", \"E\": 1708578554711, \"s\": \"BTCUSDT\", \"t\": 1167383, \"p\": \"51389.98000000\", \"q\": \"0.00027000\", \"b\": 5619771, \"a\": 5619775, \"T\": 1708578554710, \"m\": true, \"M\": true}, \"timestamp\": 1708578554710, \"datetime\": \"2024-02-22T05:09:14.710Z\", \"symbol\": \"BTC/USDT\", \"id\": \"1167383\", \"order\": null, \"type\": null, \"side\": \"sell\", \"takerOrMaker\": null, \"price\": \"51389.98000000\", \"amount\": \"0.00027000\", \"cost\": \"13.8752946\", \"fee\": null, \"fees\": []}]',\n b'[{\"info\": {\"e\": \"trade\", \"E\": 1708578558899, \"s\": \"BTCUSDT\", \"t\": 1167384, \"p\": \"51389.99000000\", \"q\": \"0.00506000\", \"b\": 5619787, \"a\": 5619772, \"T\": 1708578558899, \"m\": false, \"M\": true}, \"timestamp\": 1708578558899, \"datetime\": \"2024-02-22T05:09:18.899Z\", \"symbol\": \"BTC/USDT\", \"id\": \"1167384\", \"order\": null, \"type\": null, \"side\": \"buy\", \"takerOrMaker\": null, \"price\": \"51389.99000000\", \"amount\": \"0.00506000\", \"cost\": \"260.0333494\", \"fee\": null, \"fees\": []}]',\n b'[{\"info\": {\"e\": \"trade\", \"E\": 1708578560895, \"s\": \"BTCUSDT\", \"t\": 1167385, \"p\": \"51389.99000000\", \"q\": \"0.00300000\", \"b\": 5619789, \"a\": 5619774, \"T\": 1708578560894, \"m\": false, \"M\": true}, \"timestamp\": 1708578560894, \"datetime\": \"2024-02-22T05:09:20.894Z\", \"symbol\": \"BTC/USDT\", \"id\": \"1167385\", \"order\": null, \"type\": null, \"side\": \"buy\", \"takerOrMaker\": null, \"price\": \"51389.99000000\", \"amount\": \"0.00300000\", \"cost\": \"154.16997\", \"fee\": null, \"fees\": []}, {\"info\": {\"e\": \"trade\", \"E\": 1708578560895, \"s\": \"BTCUSDT\", \"t\": 1167386, \"p\": \"51399.99000000\", \"q\": \"0.00206000\", \"b\": 5619789, \"a\": 5619788, \"T\": 1708578560894, \"m\": false, \"M\": true}, \"timestamp\": 1708578560894, \"datetime\": \"2024-02-22T05:09:20.894Z\", \"symbol\": \"BTC/USDT\", \"id\": \"1167386\", \"order\": null, \"type\": null, \"side\": \"buy\", \"takerOrMaker\": null, \"price\": \"51399.99000000\", \"amount\": \"0.00206000\", \"cost\": \"105.8839794\", \"fee\": null, \"fees\": []}]',\n b'[{\"info\": {\"e\": \"trade\", \"E\": 1708578560904, \"s\": \"BTCUSDT\", \"t\": 1167387, \"p\": \"51399.99000000\", \"q\": \"0.00670000\", \"b\": 5619790, \"a\": 5619788, \"T\": 1708578560904, \"m\": false, \"M\": true}, \"timestamp\": 1708578560904, \"datetime\": \"2024-02-22T05:09:20.904Z\", \"symbol\": \"BTC/USDT\", \"id\": \"1167387\", \"order\": null, \"type\": null, \"side\": \"buy\", \"takerOrMaker\": null, \"price\": \"51399.99000000\", \"amount\": \"0.00670000\", \"cost\": \"344.379933\", \"fee\": null, \"fees\": []}]',\n b'[{\"info\": {\"e\": \"trade\", \"E\": 1708578562678, \"s\": \"BTCUSDT\", \"t\": 1167388, \"p\": \"51401.10000000\", \"q\": \"0.00516000\", \"b\": 5619799, \"a\": 5619794, \"T\": 1708578562677, \"m\": false, \"M\": true}, \"timestamp\": 1708578562677, \"datetime\": \"2024-02-22T05:09:22.677Z\", \"symbol\": \"BTC/USDT\", \"id\": \"1167388\", \"order\": null, \"type\": null, \"side\": \"buy\", \"takerOrMaker\": null, \"price\": \"51401.10000000\", \"amount\": \"0.00516000\", \"cost\": \"265.229676\", \"fee\": null, \"fees\": []}, {\"info\": {\"e\": \"trade\", \"E\": 1708578562678, \"s\": \"BTCUSDT\", \"t\": 1167389, \"p\": \"51402.75000000\", \"q\": \"0.00934000\", \"b\": 5619799, \"a\": 5619797, \"T\": 1708578562677, \"m\": false, \"M\": true}, \"timestamp\": 1708578562677, \"datetime\": \"2024-02-22T05:09:22.677Z\", \"symbol\": \"BTC/USDT\", \"id\": \"1167389\", \"order\": null, \"type\": null, \"side\": \"buy\", \"takerOrMaker\": null, \"price\": \"51402.75000000\", \"amount\": \"0.00934000\", \"cost\": \"480.101685\", \"fee\": null, \"fees\": []}]',\n b'[{\"info\": {\"e\": \"trade\", \"E\": 1708578562686, \"s\": \"BTCUSDT\", \"t\": 1167390, \"p\": \"51402.87000000\", \"q\": \"0.00925000\", \"b\": 5619800, \"a\": 5619798, \"T\": 1708578562685, \"m\": false, \"M\": true}, \"timestamp\": 1708578562685, \"datetime\": \"2024-02-22T05:09:22.685Z\", \"symbol\": \"BTC/USDT\", \"id\": \"1167390\", \"order\": null, \"type\": null, \"side\": \"buy\", \"takerOrMaker\": null, \"price\": \"51402.87000000\", \"amount\": \"0.00925000\", \"cost\": \"475.4765475\", \"fee\": null, \"fees\": []}]',\n b'[{\"info\": {\"e\": \"trade\", \"E\": 1708578570025, \"s\": \"BTCUSDT\", \"t\": 1167391, \"p\": \"51406.00000000\", \"q\": \"0.00565000\", \"b\": 5619815, \"a\": 5619803, \"T\": 1708578570025, \"m\": false, \"M\": true}, \"timestamp\": 1708578570025, \"datetime\": \"2024-02-22T05:09:30.025Z\", \"symbol\": \"BTC/USDT\", \"id\": \"1167391\", \"order\": null, \"type\": null, \"side\": \"buy\", \"takerOrMaker\": null, \"price\": \"51406.00000000\", \"amount\": \"0.00565000\", \"cost\": \"290.4439\", \"fee\": null, \"fees\": []}, {\"info\": {\"e\": \"trade\", \"E\": 1708578570025, \"s\": \"BTCUSDT\", \"t\": 1167392, \"p\": \"51406.56000000\", \"q\": \"0.00535000\", \"b\": 5619815, \"a\": 5619813, \"T\": 1708578570025, \"m\": false, \"M\": true}, \"timestamp\": 1708578570025, \"datetime\": \"2024-02-22T05:09:30.025Z\", \"symbol\": \"BTC/USDT\", \"id\": \"1167392\", \"order\": null, \"type\": null, \"side\": \"buy\", \"takerOrMaker\": null, \"price\": \"51406.56000000\", \"amount\": \"0.00535000\", \"cost\": \"275.025096\", \"fee\": null, \"fees\": []}, {\"info\": {\"e\": \"trade\", \"E\": 1708578570025, \"s\": \"BTCUSDT\", \"t\": 1167393, \"p\": \"51406.60000000\", \"q\": \"0.00740000\", \"b\": 5619815, \"a\": 5619804, \"T\": 1708578570025, \"m\": false, \"M\": true}, \"timestamp\": 1708578570025, \"datetime\": \"2024-02-22T05:09:30.025Z\", \"symbol\": \"BTC/USDT\", \"id\": \"1167393\", \"order\": null, \"type\": null, \"side\": \"buy\", \"takerOrMaker\": null, \"price\": \"51406.60000000\", \"amount\": \"0.00740000\", \"cost\": \"380.40884\", \"fee\": null, \"fees\": []}, {\"info\": {\"e\": \"trade\", \"E\": 1708578570025, \"s\": \"BTCUSDT\", \"t\": 1167394, \"p\": \"51406.88000000\", \"q\": \"0.00856000\", \"b\": 5619815, \"a\": 5619808, \"T\": 1708578570025, \"m\": false, \"M\": true}, \"timestamp\": 1708578570025, \"datetime\": \"2024-02-22T05:09:30.025Z\", \"symbol\": \"BTC/USDT\", \"id\": \"1167394\", \"order\": null, \"type\": null, \"side\": \"buy\", \"takerOrMaker\": null, \"price\": \"51406.88000000\", \"amount\": \"0.00856000\", \"cost\": \"440.0428928\", \"fee\": null, \"fees\": []}]',\n b'[{\"info\": {\"e\": \"trade\", \"E\": 1708578570025, \"s\": \"BTCUSDT\", \"t\": 1167395, \"p\": \"51407.80000000\", \"q\": \"0.00866000\", \"b\": 5619815, \"a\": 5619810, \"T\": 1708578570025, \"m\": false, \"M\": true}, \"timestamp\": 1708578570025, \"datetime\": \"2024-02-22T05:09:30.025Z\", \"symbol\": \"BTC/USDT\", \"id\": \"1167395\", \"order\": null, \"type\": null, \"side\": \"buy\", \"takerOrMaker\": null, \"price\": \"51407.80000000\", \"amount\": \"0.00866000\", \"cost\": \"445.191548\", \"fee\": null, \"fees\": []}]',\n b'[{\"info\": {\"e\": \"trade\", \"E\": 1708578570920, \"s\": \"BTCUSDT\", \"t\": 1167396, \"p\": \"51406.00000000\", \"q\": \"0.00594000\", \"b\": 5619822, \"a\": 5619820, \"T\": 1708578570920, \"m\": false, \"M\": true}, \"timestamp\": 1708578570920, \"datetime\": \"2024-02-22T05:09:30.920Z\", \"symbol\": \"BTC/USDT\", \"id\": \"1167396\", \"order\": null, \"type\": null, \"side\": \"buy\", \"takerOrMaker\": null, \"price\": \"51406.00000000\", \"amount\": \"0.00594000\", \"cost\": \"305.35164\", \"fee\": null, \"fees\": []}, {\"info\": {\"e\": \"trade\", \"E\": 1708578570920, \"s\": \"BTCUSDT\", \"t\": 1167397, \"p\": \"51407.59000000\", \"q\": \"0.00506000\", \"b\": 5619822, \"a\": 5619821, \"T\": 1708578570920, \"m\": false, \"M\": true}, \"timestamp\": 1708578570920, \"datetime\": \"2024-02-22T05:09:30.920Z\", \"symbol\": \"BTC/USDT\", \"id\": \"1167397\", \"order\": null, \"type\": null, \"side\": \"buy\", \"takerOrMaker\": null, \"price\": \"51407.59000000\", \"amount\": \"0.00506000\", \"cost\": \"260.1224054\", \"fee\": null, \"fees\": []}]',\n b'[{\"info\": {\"e\": \"trade\", \"E\": 1708578571459, \"s\": \"BTCUSDT\", \"t\": 1167398, \"p\": \"51407.68000000\", \"q\": \"0.00798000\", \"b\": 5619825, \"a\": 5619824, \"T\": 1708578571458, \"m\": false, \"M\": true}, \"timestamp\": 1708578571458, \"datetime\": \"2024-02-22T05:09:31.458Z\", \"symbol\": \"BTC/USDT\", \"id\": \"1167398\", \"order\": null, \"type\": null, \"side\": \"buy\", \"takerOrMaker\": null, \"price\": \"51407.68000000\", \"amount\": \"0.00798000\", \"cost\": \"410.2332864\", \"fee\": null, \"fees\": []}]',\n b'[{\"info\": {\"e\": \"trade\", \"E\": 1708578573201, \"s\": \"BTCUSDT\", \"t\": 1167399, \"p\": \"51409.92000000\", \"q\": \"0.00749000\", \"b\": 5619828, \"a\": 5619827, \"T\": 1708578573200, \"m\": false, \"M\": true}, \"timestamp\": 1708578573200, \"datetime\": \"2024-02-22T05:09:33.200Z\", \"symbol\": \"BTC/USDT\", \"id\": \"1167399\", \"order\": null, \"type\": null, \"side\": \"buy\", \"takerOrMaker\": null, \"price\": \"51409.92000000\", \"amount\": \"0.00749000\", \"cost\": \"385.0603008\", \"fee\": null, \"fees\": []}]',\n b'[{\"info\": {\"e\": \"trade\", \"E\": 1708578576214, \"s\": \"BTCUSDT\", \"t\": 1167400, \"p\": \"51411.10000000\", \"q\": \"0.00623000\", \"b\": 5619836, \"a\": 5619833, \"T\": 1708578576213, \"m\": false, \"M\": true}, \"timestamp\": 1708578576213, \"datetime\": \"2024-02-22T05:09:36.213Z\", \"symbol\": \"BTC/USDT\", \"id\": \"1167400\", \"order\": null, \"type\": null, \"side\": \"buy\", \"takerOrMaker\": null, \"price\": \"51411.10000000\", \"amount\": \"0.00623000\", \"cost\": \"320.291153\", \"fee\": null, \"fees\": []}, {\"info\": {\"e\": \"trade\", \"E\": 1708578576214, \"s\": \"BTCUSDT\", \"t\": 1167401, \"p\": \"51411.10000000\", \"q\": \"0.00253000\", \"b\": 5619836, \"a\": 5619835, \"T\": 1708578576213, \"m\": false, \"M\": true}, \"timestamp\": 1708578576213, \"datetime\": \"2024-02-22T05:09:36.213Z\", \"symbol\": \"BTC/USDT\", \"id\": \"1167401\", \"order\": null, \"type\": null, \"side\": \"buy\", \"takerOrMaker\": null, \"price\": \"51411.10000000\", \"amount\": \"0.00253000\", \"cost\": \"130.070083\", \"fee\": null, \"fees\": []}]',\n b'[{\"info\": {\"e\": \"trade\", \"E\": 1708578577769, \"s\": \"BTCUSDT\", \"t\": 1167402, \"p\": \"51411.10000000\", \"q\": \"0.00047000\", \"b\": 5619844, \"a\": 5619835, \"T\": 1708578577768, \"m\": false, \"M\": true}, \"timestamp\": 1708578577768, \"datetime\": \"2024-02-22T05:09:37.768Z\", \"symbol\": \"BTC/USDT\", \"id\": \"1167402\", \"order\": null, \"type\": null, \"side\": \"buy\", \"takerOrMaker\": null, \"price\": \"51411.10000000\", \"amount\": \"0.00047000\", \"cost\": \"24.163217\", \"fee\": null, \"fees\": []}, {\"info\": {\"e\": \"trade\", \"E\": 1708578577769, \"s\": \"BTCUSDT\", \"t\": 1167403, \"p\": \"51411.10000000\", \"q\": \"0.00100000\", \"b\": 5619844, \"a\": 5619843, \"T\": 1708578577768, \"m\": false, \"M\": true}, \"timestamp\": 1708578577768, \"datetime\": \"2024-02-22T05:09:37.768Z\", \"symbol\": \"BTC/USDT\", \"id\": \"1167403\", \"order\": null, \"type\": null, \"side\": \"buy\", \"takerOrMaker\": null, \"price\": \"51411.10000000\", \"amount\": \"0.00100000\", \"cost\": \"51.4111\", \"fee\": null, \"fees\": []}, {\"info\": {\"e\": \"trade\", \"E\": 1708578577769, \"s\": \"BTCUSDT\", \"t\": 1167404, \"p\": \"51414.33000000\", \"q\": \"0.00612000\", \"b\": 5619844, \"a\": 5619837, \"T\": 1708578577768, \"m\": false, \"M\": true}, \"timestamp\": 1708578577768, \"datetime\": \"2024-02-22T05:09:37.768Z\", \"symbol\": \"BTC/USDT\", \"id\": \"1167404\", \"order\": null, \"type\": null, \"side\": \"buy\", \"takerOrMaker\": null, \"price\": \"51414.33000000\", \"amount\": \"0.00612000\", \"cost\": \"314.6556996\", \"fee\": null, \"fees\": []}]',\n b'[{\"info\": {\"e\": \"trade\", \"E\": 1708578577785, \"s\": \"BTCUSDT\", \"t\": 1167405, \"p\": \"51414.33000000\", \"q\": \"0.00128000\", \"b\": 5619845, \"a\": 5619837, \"T\": 1708578577784, \"m\": false, \"M\": true}, \"timestamp\": 1708578577784, \"datetime\": \"2024-02-22T05:09:37.784Z\", \"symbol\": \"BTC/USDT\", \"id\": \"1167405\", \"order\": null, \"type\": null, \"side\": \"buy\", \"takerOrMaker\": null, \"price\": \"51414.33000000\", \"amount\": \"0.00128000\", \"cost\": \"65.8103424\", \"fee\": null, \"fees\": []}]',\n b'[{\"info\": {\"e\": \"trade\", \"E\": 1708578578764, \"s\": \"BTCUSDT\", \"t\": 1167406, \"p\": \"51414.40000000\", \"q\": \"0.00250000\", \"b\": 5619845, \"a\": 5619850, \"T\": 1708578578764, \"m\": true, \"M\": true}, \"timestamp\": 1708578578764, \"datetime\": \"2024-02-22T05:09:38.764Z\", \"symbol\": \"BTC/USDT\", \"id\": \"1167406\", \"order\": null, \"type\": null, \"side\": \"sell\", \"takerOrMaker\": null, \"price\": \"51414.40000000\", \"amount\": \"0.00250000\", \"cost\": \"128.536\", \"fee\": null, \"fees\": []}]',\n b'[{\"info\": {\"e\": \"trade\", \"E\": 1708578578929, \"s\": \"BTCUSDT\", \"t\": 1167407, \"p\": \"51414.52000000\", \"q\": \"0.00516000\", \"b\": 5619851, \"a\": 5619838, \"T\": 1708578578929, \"m\": false, \"M\": true}, \"timestamp\": 1708578578929, \"datetime\": \"2024-02-22T05:09:38.929Z\", \"symbol\": \"BTC/USDT\", \"id\": \"1167407\", \"order\": null, \"type\": null, \"side\": \"buy\", \"takerOrMaker\": null, \"price\": \"51414.52000000\", \"amount\": \"0.00516000\", \"cost\": \"265.2989232\", \"fee\": null, \"fees\": []}]',\n b'[{\"info\": {\"e\": \"trade\", \"E\": 1708578580329, \"s\": \"BTCUSDT\", \"t\": 1167408, \"p\": \"51414.52000000\", \"q\": \"0.00300000\", \"b\": 5619854, \"a\": 5619849, \"T\": 1708578580329, \"m\": false, \"M\": true}, \"timestamp\": 1708578580329, \"datetime\": \"2024-02-22T05:09:40.329Z\", \"symbol\": \"BTC/USDT\", \"id\": \"1167408\", \"order\": null, \"type\": null, \"side\": \"buy\", \"takerOrMaker\": null, \"price\": \"51414.52000000\", \"amount\": \"0.00300000\", \"cost\": \"154.24356\", \"fee\": null, \"fees\": []}, {\"info\": {\"e\": \"trade\", \"E\": 1708578580329, \"s\": \"BTCUSDT\", \"t\": 1167409, \"p\": \"51416.40000000\", \"q\": \"0.00342000\", \"b\": 5619854, \"a\": 5619852, \"T\": 1708578580329, \"m\": false, \"M\": true}, \"timestamp\": 1708578580329, \"datetime\": \"2024-02-22T05:09:40.329Z\", \"symbol\": \"BTC/USDT\", \"id\": \"1167409\", \"order\": null, \"type\": null, \"side\": \"buy\", \"takerOrMaker\": null, \"price\": \"51416.40000000\", \"amount\": \"0.00342000\", \"cost\": \"175.844088\", \"fee\": null, \"fees\": []}]',\n b'[{\"info\": {\"e\": \"trade\", \"E\": 1708578580350, \"s\": \"BTCUSDT\", \"t\": 1167410, \"p\": \"51416.40000000\", \"q\": \"0.00291000\", \"b\": 5619855, \"a\": 5619852, \"T\": 1708578580350, \"m\": false, \"M\": true}, \"timestamp\": 1708578580350, \"datetime\": \"2024-02-22T05:09:40.350Z\", \"symbol\": \"BTC/USDT\", \"id\": \"1167410\", \"order\": null, \"type\": null, \"side\": \"buy\", \"takerOrMaker\": null, \"price\": \"51416.40000000\", \"amount\": \"0.00291000\", \"cost\": \"149.621724\", \"fee\": null, \"fees\": []}]',\n b'[{\"info\": {\"e\": \"trade\", \"E\": 1708578581946, \"s\": \"BTCUSDT\", \"t\": 1167411, \"p\": \"51421.09000000\", \"q\": \"0.00623000\", \"b\": 5619860, \"a\": 5619856, \"T\": 1708578581946, \"m\": false, \"M\": true}, \"timestamp\": 1708578581946, \"datetime\": \"2024-02-22T05:09:41.946Z\", \"symbol\": \"BTC/USDT\", \"id\": \"1167411\", \"order\": null, \"type\": null, \"side\": \"buy\", \"takerOrMaker\": null, \"price\": \"51421.09000000\", \"amount\": \"0.00623000\", \"cost\": \"320.3533907\", \"fee\": null, \"fees\": []}, {\"info\": {\"e\": \"trade\", \"E\": 1708578581946, \"s\": \"BTCUSDT\", \"t\": 1167412, \"p\": \"51421.09000000\", \"q\": \"0.00243000\", \"b\": 5619860, \"a\": 5619858, \"T\": 1708578581946, \"m\": false, \"M\": true}, \"timestamp\": 1708578581946, \"datetime\": \"2024-02-22T05:09:41.946Z\", \"symbol\": \"BTC/USDT\", \"id\": \"1167412\", \"order\": null, \"type\": null, \"side\": \"buy\", \"takerOrMaker\": null, \"price\": \"51421.09000000\", \"amount\": \"0.00243000\", \"cost\": \"124.9532487\", \"fee\": null, \"fees\": []}]',\n b'[{\"info\": {\"e\": \"trade\", \"E\": 1708578583959, \"s\": \"BTCUSDT\", \"t\": 1167413, \"p\": \"51421.09000000\", \"q\": \"0.00057000\", \"b\": 5619872, \"a\": 5619858, \"T\": 1708578583959, \"m\": false, \"M\": true}, \"timestamp\": 1708578583959, \"datetime\": \"2024-02-22T05:09:43.959Z\", \"symbol\": \"BTC/USDT\", \"id\": \"1167413\", \"order\": null, \"type\": null, \"side\": \"buy\", \"takerOrMaker\": null, \"price\": \"51421.09000000\", \"amount\": \"0.00057000\", \"cost\": \"29.3100213\", \"fee\": null, \"fees\": []}]',\n b'[{\"info\": {\"e\": \"trade\", \"E\": 1708578588324, \"s\": \"BTCUSDT\", \"t\": 1167414, \"p\": \"51420.98000000\", \"q\": \"0.00662000\", \"b\": 5619855, \"a\": 5619885, \"T\": 1708578588323, \"m\": true, \"M\": true}, \"timestamp\": 1708578588323, \"datetime\": \"2024-02-22T05:09:48.323Z\", \"symbol\": \"BTC/USDT\", \"id\": \"1167414\", \"order\": null, \"type\": null, \"side\": \"sell\", \"takerOrMaker\": null, \"price\": \"51420.98000000\", \"amount\": \"0.00662000\", \"cost\": \"340.4068876\", \"fee\": null, \"fees\": []}]',\n b'[{\"info\": {\"e\": \"trade\", \"E\": 1708578589428, \"s\": \"BTCUSDT\", \"t\": 1167415, \"p\": \"51414.40000000\", \"q\": \"0.00313000\", \"b\": 5619845, \"a\": 5619887, \"T\": 1708578589428, \"m\": true, \"M\": true}, \"timestamp\": 1708578589428, \"datetime\": \"2024-02-22T05:09:49.428Z\", \"symbol\": \"BTC/USDT\", \"id\": \"1167415\", \"order\": null, \"type\": null, \"side\": \"sell\", \"takerOrMaker\": null, \"price\": \"51414.40000000\", \"amount\": \"0.00313000\", \"cost\": \"160.927072\", \"fee\": null, \"fees\": []}, {\"info\": {\"e\": \"trade\", \"E\": 1708578589429, \"s\": \"BTCUSDT\", \"t\": 1167416, \"p\": \"51414.32000000\", \"q\": \"0.00660000\", \"b\": 5619846, \"a\": 5619887, \"T\": 1708578589428, \"m\": true, \"M\": true}, \"timestamp\": 1708578589428, \"datetime\": \"2024-02-22T05:09:49.428Z\", \"symbol\": \"BTC/USDT\", \"id\": \"1167416\", \"order\": null, \"type\": null, \"side\": \"sell\", \"takerOrMaker\": null, \"price\": \"51414.32000000\", \"amount\": \"0.00660000\", \"cost\": \"339.334512\", \"fee\": null, \"fees\": []}]',\n b'[{\"info\": {\"e\": \"trade\", \"E\": 1708578590457, \"s\": \"BTCUSDT\", \"t\": 1167417, \"p\": \"51414.32000000\", \"q\": \"0.00255000\", \"b\": 5619846, \"a\": 5619891, \"T\": 1708578590457, \"m\": true, \"M\": true}, \"timestamp\": 1708578590457, \"datetime\": \"2024-02-22T05:09:50.457Z\", \"symbol\": \"BTC/USDT\", \"id\": \"1167417\", \"order\": null, \"type\": null, \"side\": \"sell\", \"takerOrMaker\": null, \"price\": \"51414.32000000\", \"amount\": \"0.00255000\", \"cost\": \"131.106516\", \"fee\": null, \"fees\": []}]',\n b'[{\"info\": {\"e\": \"trade\", \"E\": 1708578590679, \"s\": \"BTCUSDT\", \"t\": 1167418, \"p\": \"51412.01000000\", \"q\": \"0.00029000\", \"b\": 5619892, \"a\": 5619891, \"T\": 1708578590679, \"m\": false, \"M\": true}, \"timestamp\": 1708578590679, \"datetime\": \"2024-02-22T05:09:50.679Z\", \"symbol\": \"BTC/USDT\", \"id\": \"1167418\", \"order\": null, \"type\": null, \"side\": \"buy\", \"takerOrMaker\": null, \"price\": \"51412.01000000\", \"amount\": \"0.00029000\", \"cost\": \"14.9094829\", \"fee\": null, \"fees\": []}]',\n b'[{\"info\": {\"e\": \"trade\", \"E\": 1708578599766, \"s\": \"BTCUSDT\", \"t\": 1167419, \"p\": \"51412.01000000\", \"q\": \"0.00349000\", \"b\": 5619916, \"a\": 5619891, \"T\": 1708578599766, \"m\": false, \"M\": true}, \"timestamp\": 1708578599766, \"datetime\": \"2024-02-22T05:09:59.766Z\", \"symbol\": \"BTC/USDT\", \"id\": \"1167419\", \"order\": null, \"type\": null, \"side\": \"buy\", \"takerOrMaker\": null, \"price\": \"51412.01000000\", \"amount\": \"0.00349000\", \"cost\": \"179.4279149\", \"fee\": null, \"fees\": []}, {\"info\": {\"e\": \"trade\", \"E\": 1708578599766, \"s\": \"BTCUSDT\", \"t\": 1167420, \"p\": \"51412.42000000\", \"q\": \"0.00584000\", \"b\": 5619916, \"a\": 5619902, \"T\": 1708578599766, \"m\": false, \"M\": true}, \"timestamp\": 1708578599766, \"datetime\": \"2024-02-22T05:09:59.766Z\", \"symbol\": \"BTC/USDT\", \"id\": \"1167420\", \"order\": null, \"type\": null, \"side\": \"buy\", \"takerOrMaker\": null, \"price\": \"51412.42000000\", \"amount\": \"0.00584000\", \"cost\": \"300.2485328\", \"fee\": null, \"fees\": []}]',\n b'[{\"info\": {\"e\": \"trade\", \"E\": 1708578599793, \"s\": \"BTCUSDT\", \"t\": 1167421, \"p\": \"51412.42000000\", \"q\": \"0.00049000\", \"b\": 5619917, \"a\": 5619902, \"T\": 1708578599793, \"m\": false, \"M\": true}, \"timestamp\": 1708578599793, \"datetime\": \"2024-02-22T05:09:59.793Z\", \"symbol\": \"BTC/USDT\", \"id\": \"1167421\", \"order\": null, \"type\": null, \"side\": \"buy\", \"takerOrMaker\": null, \"price\": \"51412.42000000\", \"amount\": \"0.00049000\", \"cost\": \"25.1920858\", \"fee\": null, \"fees\": []}, {\"info\": {\"e\": \"trade\", \"E\": 1708578599793, \"s\": \"BTCUSDT\", \"t\": 1167422, \"p\": \"51412.44000000\", \"q\": \"0.00817000\", \"b\": 5619917, \"a\": 5619897, \"T\": 1708578599793, \"m\": false, \"M\": true}, \"timestamp\": 1708578599793, \"datetime\": \"2024-02-22T05:09:59.793Z\", \"symbol\": \"BTC/USDT\", \"id\": \"1167422\", \"order\": null, \"type\": null, \"side\": \"buy\", \"takerOrMaker\": null, \"price\": \"51412.44000000\", \"amount\": \"0.00817000\", \"cost\": \"420.0396348\", \"fee\": null, \"fees\": []}, {\"info\": {\"e\": \"trade\", \"E\": 1708578599793, \"s\": \"BTCUSDT\", \"t\": 1167423, \"p\": \"51412.72000000\", \"q\": \"0.00105000\", \"b\": 5619917, \"a\": 5619914, \"T\": 1708578599793, \"m\": false, \"M\": true}, \"timestamp\": 1708578599793, \"datetime\": \"2024-02-22T05:09:59.793Z\", \"symbol\": \"BTC/USDT\", \"id\": \"1167423\", \"order\": null, \"type\": null, \"side\": \"buy\", \"takerOrMaker\": null, \"price\": \"51412.72000000\", \"amount\": \"0.00105000\", \"cost\": \"53.983356\", \"fee\": null, \"fees\": []}]',\n b'[{\"info\": {\"e\": \"trade\", \"E\": 1708578600196, \"s\": \"BTCUSDT\", \"t\": 1167424, \"p\": \"51412.00000000\", \"q\": \"0.00194000\", \"b\": 5619886, \"a\": 5619920, \"T\": 1708578600195, \"m\": true, \"M\": true}, \"timestamp\": 1708578600195, \"datetime\": \"2024-02-22T05:10:00.195Z\", \"symbol\": \"BTC/USDT\", \"id\": \"1167424\", \"order\": null, \"type\": null, \"side\": \"sell\", \"takerOrMaker\": null, \"price\": \"51412.00000000\", \"amount\": \"0.00194000\", \"cost\": \"99.73928\", \"fee\": null, \"fees\": []}]']"
     },
     "execution_count": 211,
     "metadata": {},
     "output_type": "execute_result"
    }
   ],
   "source": [
    "client.lrange('queue', -100, -1)"
   ],
   "metadata": {
    "collapsed": false,
    "ExecuteTime": {
     "end_time": "2024-02-22T05:10:01.414811Z",
     "start_time": "2024-02-22T05:10:01.395901Z"
    }
   },
   "id": "8ba697053f1feff2",
   "execution_count": 211
  },
  {
   "cell_type": "code",
   "outputs": [],
   "source": [
    "from datetime import datetime"
   ],
   "metadata": {
    "collapsed": false,
    "ExecuteTime": {
     "end_time": "2024-02-22T05:09:39.975315Z",
     "start_time": "2024-02-22T05:09:39.950777Z"
    }
   },
   "id": "2943629b15cabc0",
   "execution_count": 209
  },
  {
   "cell_type": "code",
   "outputs": [
    {
     "data": {
      "text/plain": "'2024-02-21 21:09:59'"
     },
     "execution_count": 212,
     "metadata": {},
     "output_type": "execute_result"
    }
   ],
   "source": [
    "datetime.fromtimestamp(1708578599793 / 1000).strftime('%Y-%m-%d %H:%M:%S')"
   ],
   "metadata": {
    "collapsed": false,
    "ExecuteTime": {
     "end_time": "2024-02-22T05:10:20.638185Z",
     "start_time": "2024-02-22T05:10:20.597985Z"
    }
   },
   "id": "2e68d8bc48b12005",
   "execution_count": 212
  },
  {
   "cell_type": "code",
   "outputs": [
    {
     "data": {
      "text/plain": "True"
     },
     "execution_count": 213,
     "metadata": {},
     "output_type": "execute_result"
    }
   ],
   "source": [
    "client.flushall()"
   ],
   "metadata": {
    "collapsed": false,
    "ExecuteTime": {
     "end_time": "2024-02-22T05:15:20.344347Z",
     "start_time": "2024-02-22T05:15:20.327744Z"
    }
   },
   "id": "e8f0dde8005a9fb8",
   "execution_count": 213
  },
  {
   "cell_type": "code",
   "outputs": [
    {
     "ename": "NameError",
     "evalue": "name 'json' is not defined",
     "output_type": "error",
     "traceback": [
      "\u001B[0;31m---------------------------------------------------------------------------\u001B[0m",
      "\u001B[0;31mNameError\u001B[0m                                 Traceback (most recent call last)",
      "Cell \u001B[0;32mIn[4], line 1\u001B[0m\n\u001B[0;32m----> 1\u001B[0m \u001B[48;5;39mjson\u001B[49m\u001B[38;5;241m.\u001B[39mdumps(data, \u001B[38;5;28mcls\u001B[39m\u001B[38;5;241m=\u001B[39mDecimalEncoder)\n",
      "\u001B[0;31mNameError\u001B[0m: name 'json' is not defined"
     ]
    }
   ],
   "source": [
    "json.dumps(data, cls=DecimalEncoder)"
   ],
   "metadata": {
    "collapsed": false,
    "ExecuteTime": {
     "end_time": "2024-02-08T23:32:54.433119Z",
     "start_time": "2024-02-08T23:32:54.356909Z"
    }
   },
   "id": "5fa13f21b1897a95",
   "execution_count": 4
  },
  {
   "cell_type": "code",
   "outputs": [
    {
     "data": {
      "text/plain": "'trade'"
     },
     "execution_count": 31,
     "metadata": {},
     "output_type": "execute_result"
    }
   ],
   "source": [
    "process_me[0]['info']['e']"
   ],
   "metadata": {
    "collapsed": false,
    "ExecuteTime": {
     "end_time": "2024-02-21T19:49:24.227651Z",
     "start_time": "2024-02-21T19:49:24.214624Z"
    }
   },
   "id": "60af44fd3a3e24dd",
   "execution_count": 31
  },
  {
   "cell_type": "code",
   "outputs": [
    {
     "name": "stdout",
     "output_type": "stream",
     "text": [
      "info\n",
      "timestamp\n",
      "datetime\n",
      "symbol\n",
      "id\n",
      "order\n",
      "type\n",
      "side\n",
      "takerOrMaker\n",
      "price\n",
      "amount\n",
      "cost\n",
      "fee\n",
      "fees\n"
     ]
    }
   ],
   "source": [
    "for i in process_me[0]:\n",
    "    print(i)"
   ],
   "metadata": {
    "collapsed": false,
    "ExecuteTime": {
     "end_time": "2024-02-21T19:47:28.721381Z",
     "start_time": "2024-02-21T19:47:28.717101Z"
    }
   },
   "id": "254051044c89c92e",
   "execution_count": 27
  },
  {
   "cell_type": "code",
   "outputs": [],
   "source": [
    "from datetime import datetime"
   ],
   "metadata": {
    "collapsed": false,
    "ExecuteTime": {
     "end_time": "2024-02-21T20:37:57.390229Z",
     "start_time": "2024-02-21T20:37:57.382352Z"
    }
   },
   "id": "d392eb2b9dcf5eb2",
   "execution_count": 120
  },
  {
   "cell_type": "code",
   "outputs": [],
   "source": [
    "def time_conv(timestamp):\n",
    "    return datetime.fromtimestamp(timestamp / 1000).strftime('%Y-%m-%d %H:%M:%S')\n",
    "def data_processing(trades):\n",
    "    sec_data = {}\n",
    "    for data in trades:\n",
    "        symbol = data['symbol']  # Symbol (ex: BNBBTC)\n",
    "        event = data['info']['e']  # Event type (kline, aggtrade, etc)\n",
    "        timestamp = time_conv(data['timestamp'])  # Event time ex: 1672515782136\n",
    "        \n",
    "        sec_data[timestamp] = data['price']\n",
    "    return sec_data"
   ],
   "metadata": {
    "collapsed": false,
    "ExecuteTime": {
     "end_time": "2024-02-21T21:31:19.105162Z",
     "start_time": "2024-02-21T21:31:19.096807Z"
    }
   },
   "id": "9984ab01704c5acf",
   "execution_count": 152
  },
  {
   "cell_type": "code",
   "outputs": [],
   "source": [
    "woah = data_processing(process_me)"
   ],
   "metadata": {
    "collapsed": false,
    "ExecuteTime": {
     "end_time": "2024-02-21T21:31:19.607306Z",
     "start_time": "2024-02-21T21:31:19.603886Z"
    }
   },
   "id": "801ab3213f5e654",
   "execution_count": 153
  },
  {
   "cell_type": "code",
   "outputs": [
    {
     "data": {
      "text/plain": "{'2024-02-21 12:02:33': '51016.65000000'}"
     },
     "execution_count": 154,
     "metadata": {},
     "output_type": "execute_result"
    }
   ],
   "source": [
    "woah"
   ],
   "metadata": {
    "collapsed": false,
    "ExecuteTime": {
     "end_time": "2024-02-21T21:31:20.047657Z",
     "start_time": "2024-02-21T21:31:20.040305Z"
    }
   },
   "id": "ba9c826ec9a986d2",
   "execution_count": 154
  },
  {
   "cell_type": "code",
   "outputs": [
    {
     "data": {
      "text/plain": "{'info': {'e': 'trade',\n  'E': 1708545753034,\n  's': 'BTCUSDT',\n  't': 1138920,\n  'p': '51016.65000000',\n  'q': '0.00491000',\n  'b': 5478747,\n  'a': 5478801,\n  'T': 1708545753034,\n  'm': True,\n  'M': True},\n 'timestamp': 1708545753034,\n 'datetime': '2024-02-21T20:02:33.034Z',\n 'symbol': 'BTC/USDT',\n 'id': '1138920',\n 'order': None,\n 'type': None,\n 'side': 'sell',\n 'takerOrMaker': None,\n 'price': '51016.65000000',\n 'amount': '0.00491000',\n 'cost': '250.4917515',\n 'fee': None,\n 'fees': []}"
     },
     "execution_count": 143,
     "metadata": {},
     "output_type": "execute_result"
    }
   ],
   "source": [
    "process_me[]"
   ],
   "metadata": {
    "collapsed": false,
    "ExecuteTime": {
     "end_time": "2024-02-21T21:30:19.385795Z",
     "start_time": "2024-02-21T21:30:19.377823Z"
    }
   },
   "id": "a79d6774e377b9aa",
   "execution_count": 143
  },
  {
   "cell_type": "code",
   "outputs": [
    {
     "data": {
      "text/plain": "3"
     },
     "execution_count": 136,
     "metadata": {},
     "output_type": "execute_result"
    }
   ],
   "source": [
    "len(woah)"
   ],
   "metadata": {
    "collapsed": false,
    "ExecuteTime": {
     "end_time": "2024-02-21T21:28:07.817935Z",
     "start_time": "2024-02-21T21:28:07.800755Z"
    }
   },
   "id": "ee47cc4e7c94377d",
   "execution_count": 136
  },
  {
   "cell_type": "code",
   "outputs": [
    {
     "data": {
      "text/plain": "'39886.18000000'"
     },
     "execution_count": 68,
     "metadata": {},
     "output_type": "execute_result"
    }
   ],
   "source": [
    "woah['2024-01-25 13:51:36']"
   ],
   "metadata": {
    "collapsed": false,
    "ExecuteTime": {
     "end_time": "2024-02-21T20:04:48.288574Z",
     "start_time": "2024-02-21T20:04:48.285167Z"
    }
   },
   "id": "6ae3c499b0e6d579",
   "execution_count": 68
  },
  {
   "cell_type": "code",
   "outputs": [
    {
     "ename": "AttributeError",
     "evalue": "'list' object has no attribute 'apply'",
     "output_type": "error",
     "traceback": [
      "\u001B[0;31m---------------------------------------------------------------------------\u001B[0m",
      "\u001B[0;31mAttributeError\u001B[0m                            Traceback (most recent call last)",
      "Cell \u001B[0;32mIn[94], line 2\u001B[0m\n\u001B[1;32m      1\u001B[0m \u001B[38;5;28mformat\u001B[39m \u001B[38;5;241m=\u001B[39m \u001B[38;5;124m'\u001B[39m\u001B[38;5;124m%\u001B[39m\u001B[38;5;124mY-\u001B[39m\u001B[38;5;124m%\u001B[39m\u001B[38;5;124mm-\u001B[39m\u001B[38;5;132;01m%d\u001B[39;00m\u001B[38;5;124m \u001B[39m\u001B[38;5;124m%\u001B[39m\u001B[38;5;124mH:\u001B[39m\u001B[38;5;124m%\u001B[39m\u001B[38;5;124mM:\u001B[39m\u001B[38;5;124m%\u001B[39m\u001B[38;5;124mS\u001B[39m\u001B[38;5;124m'\u001B[39m\n\u001B[0;32m----> 2\u001B[0m \u001B[38;5;28;48;5;39mlist\u001B[39;49m\u001B[48;5;39m(\u001B[49m\u001B[48;5;39mwoah\u001B[49m\u001B[38;5;241;48;5;39m.\u001B[39;49m\u001B[48;5;39mkeys\u001B[49m\u001B[48;5;39m(\u001B[49m\u001B[48;5;39m)\u001B[49m\u001B[48;5;39m)\u001B[49m\u001B[38;5;241;48;5;39m.\u001B[39;49m\u001B[48;5;39mapply\u001B[49m(\u001B[38;5;28;01mlambda\u001B[39;00m x: datetime\u001B[38;5;241m.\u001B[39mstrptime(x, \u001B[38;5;28mformat\u001B[39m))\n",
      "\u001B[0;31mAttributeError\u001B[0m: 'list' object has no attribute 'apply'"
     ]
    }
   ],
   "source": [
    "list(woah.keys()).apply(lambda x: datetime.strptime(x, format))"
   ],
   "metadata": {
    "collapsed": false,
    "ExecuteTime": {
     "end_time": "2024-02-21T20:24:43.346832Z",
     "start_time": "2024-02-21T20:24:43.328449Z"
    }
   },
   "id": "35459a8a37623bab",
   "execution_count": 94
  },
  {
   "cell_type": "code",
   "outputs": [],
   "source": [
    "te = list(map(float, woah.values()))"
   ],
   "metadata": {
    "collapsed": false,
    "ExecuteTime": {
     "end_time": "2024-02-21T21:33:01.093197Z",
     "start_time": "2024-02-21T21:33:01.081591Z"
    }
   },
   "id": "43801627b1e7149e",
   "execution_count": 164
  },
  {
   "cell_type": "code",
   "outputs": [
    {
     "data": {
      "text/plain": "[51016.65]"
     },
     "execution_count": 166,
     "metadata": {},
     "output_type": "execute_result"
    }
   ],
   "source": [
    "te"
   ],
   "metadata": {
    "collapsed": false,
    "ExecuteTime": {
     "end_time": "2024-02-21T21:33:09.761382Z",
     "start_time": "2024-02-21T21:33:09.757440Z"
    }
   },
   "id": "def06c41e965303a",
   "execution_count": 166
  },
  {
   "cell_type": "code",
   "outputs": [],
   "source": [
    "more = []"
   ],
   "metadata": {
    "collapsed": false,
    "ExecuteTime": {
     "end_time": "2024-02-21T21:33:01.565823Z",
     "start_time": "2024-02-21T21:33:01.549003Z"
    }
   },
   "id": "876a095bd587c062",
   "execution_count": 165
  },
  {
   "cell_type": "code",
   "outputs": [],
   "source": [
    "for i in range(100):\n",
    "    more += te"
   ],
   "metadata": {
    "collapsed": false,
    "ExecuteTime": {
     "end_time": "2024-02-21T21:53:07.597896Z",
     "start_time": "2024-02-21T21:53:07.592048Z"
    }
   },
   "id": "84d5723f79b70091",
   "execution_count": 175
  },
  {
   "cell_type": "code",
   "outputs": [],
   "source": [
    "if len(more) > 100:\n",
    "    more = more[50:]"
   ],
   "metadata": {
    "collapsed": false,
    "ExecuteTime": {
     "end_time": "2024-02-21T21:53:15.700613Z",
     "start_time": "2024-02-21T21:53:15.670781Z"
    }
   },
   "id": "bb047d68019b6472",
   "execution_count": 178
  },
  {
   "cell_type": "code",
   "outputs": [
    {
     "data": {
      "text/plain": "52"
     },
     "execution_count": 179,
     "metadata": {},
     "output_type": "execute_result"
    }
   ],
   "source": [
    "len(more)"
   ],
   "metadata": {
    "collapsed": false,
    "ExecuteTime": {
     "end_time": "2024-02-21T21:53:15.985842Z",
     "start_time": "2024-02-21T21:53:15.969506Z"
    }
   },
   "id": "b0c6d5a0236506da",
   "execution_count": 179
  },
  {
   "cell_type": "code",
   "outputs": [],
   "source": [
    "import time"
   ],
   "metadata": {
    "collapsed": false,
    "ExecuteTime": {
     "end_time": "2024-02-21T20:35:27.825323Z",
     "start_time": "2024-02-21T20:35:27.820796Z"
    }
   },
   "id": "eb81839f348d5e56",
   "execution_count": 102
  },
  {
   "cell_type": "code",
   "outputs": [
    {
     "data": {
      "text/plain": "1708547806.697301"
     },
     "execution_count": 115,
     "metadata": {},
     "output_type": "execute_result"
    }
   ],
   "source": [
    "time.time()"
   ],
   "metadata": {
    "collapsed": false,
    "ExecuteTime": {
     "end_time": "2024-02-21T20:36:46.790338Z",
     "start_time": "2024-02-21T20:36:46.710207Z"
    }
   },
   "id": "6000649ea684a769",
   "execution_count": 115
  },
  {
   "cell_type": "code",
   "outputs": [
    {
     "data": {
      "text/plain": "time.struct_time(tm_year=1970, tm_mon=1, tm_mday=20, tm_hour=10, tm_min=35, tm_sec=47, tm_wday=1, tm_yday=20, tm_isdst=0)"
     },
     "execution_count": 117,
     "metadata": {},
     "output_type": "execute_result"
    }
   ],
   "source": [
    "time.localtime(time.time() / 1000)#.strftime('%Y-%m-%d %H:%M:%S')"
   ],
   "metadata": {
    "collapsed": false,
    "ExecuteTime": {
     "end_time": "2024-02-21T20:37:19.980023Z",
     "start_time": "2024-02-21T20:37:19.976578Z"
    }
   },
   "id": "6bbbbf36144ddfd3",
   "execution_count": 117
  },
  {
   "cell_type": "code",
   "outputs": [
    {
     "ename": "TypeError",
     "evalue": "'datetime.datetime' object cannot be interpreted as an integer",
     "output_type": "error",
     "traceback": [
      "\u001B[0;31m---------------------------------------------------------------------------\u001B[0m",
      "\u001B[0;31mTypeError\u001B[0m                                 Traceback (most recent call last)",
      "Cell \u001B[0;32mIn[126], line 1\u001B[0m\n\u001B[0;32m----> 1\u001B[0m \u001B[48;5;39mtime_conv\u001B[49m\u001B[48;5;39m(\u001B[49m\u001B[48;5;39mdatetime\u001B[49m\u001B[38;5;241;48;5;39m.\u001B[39;49m\u001B[48;5;39mnow\u001B[49m\u001B[48;5;39m(\u001B[49m\u001B[48;5;39m)\u001B[49m\u001B[48;5;39m)\u001B[49m\n",
      "Cell \u001B[0;32mIn[123], line 2\u001B[0m, in \u001B[0;36mtime_conv\u001B[0;34m(timestamp)\u001B[0m\n\u001B[1;32m      1\u001B[0m \u001B[38;5;28;01mdef\u001B[39;00m \u001B[38;5;21mtime_conv\u001B[39m(timestamp):\n\u001B[0;32m----> 2\u001B[0m     \u001B[38;5;28;01mreturn\u001B[39;00m \u001B[48;5;39mdatetime\u001B[49m\u001B[38;5;241;48;5;39m.\u001B[39;49m\u001B[48;5;39mfromtimestamp\u001B[49m\u001B[48;5;39m(\u001B[49m\u001B[48;5;39mtimestamp\u001B[49m\u001B[48;5;39m)\u001B[49m\u001B[38;5;241m.\u001B[39mstrftime(\u001B[38;5;124m'\u001B[39m\u001B[38;5;124m%\u001B[39m\u001B[38;5;124mY-\u001B[39m\u001B[38;5;124m%\u001B[39m\u001B[38;5;124mm-\u001B[39m\u001B[38;5;132;01m%d\u001B[39;00m\u001B[38;5;124m \u001B[39m\u001B[38;5;124m%\u001B[39m\u001B[38;5;124mH:\u001B[39m\u001B[38;5;124m%\u001B[39m\u001B[38;5;124mM:\u001B[39m\u001B[38;5;124m%\u001B[39m\u001B[38;5;124mS\u001B[39m\u001B[38;5;124m'\u001B[39m)\n",
      "\u001B[0;31mTypeError\u001B[0m: 'datetime.datetime' object cannot be interpreted as an integer"
     ]
    }
   ],
   "source": [
    "time_conv(datetime.now())"
   ],
   "metadata": {
    "collapsed": false,
    "ExecuteTime": {
     "end_time": "2024-02-21T20:38:17.996986Z",
     "start_time": "2024-02-21T20:38:17.985674Z"
    }
   },
   "id": "55874d6b24bff7ef",
   "execution_count": 126
  },
  {
   "cell_type": "code",
   "outputs": [
    {
     "data": {
      "text/plain": "'2024-02-21 12:38:52'"
     },
     "execution_count": 128,
     "metadata": {},
     "output_type": "execute_result"
    }
   ],
   "source": [],
   "metadata": {
    "collapsed": false,
    "ExecuteTime": {
     "end_time": "2024-02-21T20:38:52.468603Z",
     "start_time": "2024-02-21T20:38:52.446312Z"
    }
   },
   "id": "a0611721bf6d6249",
   "execution_count": 128
  },
  {
   "cell_type": "code",
   "outputs": [],
   "source": [],
   "metadata": {
    "collapsed": false
   },
   "id": "99a4236472c03997"
  }
 ],
 "metadata": {
  "kernelspec": {
   "display_name": "Python 3",
   "language": "python",
   "name": "python3"
  },
  "language_info": {
   "codemirror_mode": {
    "name": "ipython",
    "version": 2
   },
   "file_extension": ".py",
   "mimetype": "text/x-python",
   "name": "python",
   "nbconvert_exporter": "python",
   "pygments_lexer": "ipython2",
   "version": "2.7.6"
  }
 },
 "nbformat": 4,
 "nbformat_minor": 5
}
