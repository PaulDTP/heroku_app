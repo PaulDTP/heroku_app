{
 "cells": [
  {
   "cell_type": "code",
   "execution_count": 9,
   "id": "initial_id",
   "metadata": {
    "collapsed": true,
    "ExecuteTime": {
     "end_time": "2024-02-21T19:12:50.846840Z",
     "start_time": "2024-02-21T19:12:50.842687Z"
    }
   },
   "outputs": [],
   "source": [
    "import redis\n",
    "from decimal import Decimal\n",
    "import json"
   ]
  },
  {
   "cell_type": "code",
   "outputs": [],
   "source": [
    "client = redis.Redis(host='localhost', port=6379)"
   ],
   "metadata": {
    "collapsed": false,
    "ExecuteTime": {
     "end_time": "2024-02-21T19:08:31.178761Z",
     "start_time": "2024-02-21T19:08:31.175283Z"
    }
   },
   "id": "701a4093af4e3f0d",
   "execution_count": 2
  },
  {
   "cell_type": "code",
   "outputs": [],
   "source": [
    "data = [{'info': {'e': 'trade',\n",
    "   'E': 1706219496443,\n",
    "   's': 'BTCUSDT',\n",
    "   't': 2460025,\n",
    "   'p': '39886.18000000',\n",
    "   'q': '0.00025000',\n",
    "   'b': 10417446,\n",
    "   'a': 10417502,\n",
    "   'T': 1706219496442,\n",
    "   'm': True,\n",
    "   'M': True},\n",
    "  'timestamp': 1706219496442,\n",
    "  'datetime': '2024-01-25T21:51:36.442Z',\n",
    "  'symbol': 'BTC/USDT',\n",
    "  'id': '2460025',\n",
    "  'order': None,\n",
    "  'type': None,\n",
    "  'side': 'sell',\n",
    "  'takerOrMaker': None,\n",
    "  'price': Decimal('39886.18000000'),\n",
    "  'amount': Decimal('0.00025000'),\n",
    "  'cost': Decimal('9.971545'),\n",
    "  'fee': None,\n",
    "  'fees': []},\n",
    " {'info': {'e': 'trade',\n",
    "   'E': 1706219516475,\n",
    "   's': 'BTCUSDT',\n",
    "   't': 2460026,\n",
    "   'p': '39886.00000000',\n",
    "   'q': '0.00100000',\n",
    "   'b': 10417607,\n",
    "   'a': 10417611,\n",
    "   'T': 1706219516474,\n",
    "   'm': True,\n",
    "   'M': True},\n",
    "  'timestamp': 1706219516474,\n",
    "  'datetime': '2024-01-25T21:51:56.474Z',\n",
    "  'symbol': 'BTC/USDT',\n",
    "  'id': '2460026',\n",
    "  'order': None,\n",
    "  'type': None,\n",
    "  'side': 'sell',\n",
    "  'takerOrMaker': None,\n",
    "  'price': Decimal('39886.00000000'),\n",
    "  'amount': Decimal('0.00100000'),\n",
    "  'cost': Decimal('39.886'),\n",
    "  'fee': None,\n",
    "  'fees': []},\n",
    " {'info': {'e': 'trade',\n",
    "   'E': 1706219516530,\n",
    "   's': 'BTCUSDT',\n",
    "   't': 2460027,\n",
    "   'p': '39886.00000000',\n",
    "   'q': '0.00100000',\n",
    "   'b': 10417607,\n",
    "   'a': 10417612,\n",
    "   'T': 1706219516530,\n",
    "   'm': True,\n",
    "   'M': True},\n",
    "  'timestamp': 1706219516530,\n",
    "  'datetime': '2024-01-25T21:51:56.530Z',\n",
    "  'symbol': 'BTC/USDT',\n",
    "  'id': '2460027',\n",
    "  'order': None,\n",
    "  'type': None,\n",
    "  'side': 'sell',\n",
    "  'takerOrMaker': None,\n",
    "  'price': Decimal('39886.00000000'),\n",
    "  'amount': Decimal('0.00100000'),\n",
    "  'cost': Decimal('39.886'),\n",
    "  'fee': None,\n",
    "  'fees': []},\n",
    " {'info': {'e': 'trade',\n",
    "   'E': 1706219520222,\n",
    "   's': 'BTCUSDT',\n",
    "   't': 2460028,\n",
    "   'p': '39886.01000000',\n",
    "   'q': '0.00100000',\n",
    "   'b': 10417628,\n",
    "   'a': 10417571,\n",
    "   'T': 1706219520221,\n",
    "   'm': False,\n",
    "   'M': True},\n",
    "  'timestamp': 1706219520221,\n",
    "  'datetime': '2024-01-25T21:52:00.221Z',\n",
    "  'symbol': 'BTC/USDT',\n",
    "  'id': '2460028',\n",
    "  'order': None,\n",
    "  'type': None,\n",
    "  'side': 'buy',\n",
    "  'takerOrMaker': None,\n",
    "  'price': Decimal('39886.01000000'),\n",
    "  'amount': Decimal('0.00100000'),\n",
    "  'cost': Decimal('39.88601'),\n",
    "  'fee': None,\n",
    "  'fees': []}]"
   ],
   "metadata": {
    "collapsed": false,
    "ExecuteTime": {
     "end_time": "2024-02-21T19:08:35.249407Z",
     "start_time": "2024-02-21T19:08:35.241456Z"
    }
   },
   "id": "7d93efde2c0c4cf3",
   "execution_count": 3
  },
  {
   "cell_type": "code",
   "outputs": [],
   "source": [
    "class DecimalEncoder(json.JSONEncoder):\n",
    "    def default(self, o):\n",
    "        if isinstance(o, Decimal):\n",
    "            return str(o)\n",
    "        return super(DecimalEncoder, self).default(o)"
   ],
   "metadata": {
    "collapsed": false,
    "ExecuteTime": {
     "end_time": "2024-02-21T19:08:37.748594Z",
     "start_time": "2024-02-21T19:08:37.741351Z"
    }
   },
   "id": "1102a8651bb026c3",
   "execution_count": 4
  },
  {
   "cell_type": "code",
   "outputs": [
    {
     "data": {
      "text/plain": "1"
     },
     "execution_count": 6,
     "metadata": {},
     "output_type": "execute_result"
    }
   ],
   "source": [
    "client.rpush('test', json.dumps(data, cls=DecimalEncoder))"
   ],
   "metadata": {
    "collapsed": false,
    "ExecuteTime": {
     "end_time": "2024-02-21T19:12:12.572096Z",
     "start_time": "2024-02-21T19:12:12.542906Z"
    }
   },
   "id": "af47121bcf557b71",
   "execution_count": 6
  },
  {
   "cell_type": "code",
   "outputs": [
    {
     "data": {
      "text/plain": "[b'test',\n b'_kombu.binding.celery',\n b'_kombu.binding.celeryev',\n b'_kombu.binding.celery.pidbox']"
     },
     "execution_count": 6,
     "metadata": {},
     "output_type": "execute_result"
    }
   ],
   "source": [
    "client.keys('*')"
   ],
   "metadata": {
    "collapsed": false,
    "ExecuteTime": {
     "end_time": "2024-02-02T21:22:33.112180Z",
     "start_time": "2024-02-02T21:22:33.109827Z"
    }
   },
   "id": "65add3861d04a95b",
   "execution_count": 6
  },
  {
   "cell_type": "code",
   "outputs": [],
   "source": [
    "from websocket_backend.celery_worker import process_data"
   ],
   "metadata": {
    "collapsed": false,
    "ExecuteTime": {
     "end_time": "2024-02-02T21:22:34.768348Z",
     "start_time": "2024-02-02T21:22:34.653964Z"
    }
   },
   "id": "8a16d934e7bc683",
   "execution_count": 7
  },
  {
   "cell_type": "code",
   "outputs": [
    {
     "name": "stdout",
     "output_type": "stream",
     "text": [
      "Task ID: db525958-373e-47e3-b288-de3ca22ba17f\n"
     ]
    }
   ],
   "source": [
    "result = process_data.delay(\"Your data to process\")\n",
    "print(f\"Task ID: {result.id}\")"
   ],
   "metadata": {
    "collapsed": false,
    "ExecuteTime": {
     "end_time": "2024-02-02T21:23:17.911306Z",
     "start_time": "2024-02-02T21:23:17.905468Z"
    }
   },
   "id": "9363ee0318dac390",
   "execution_count": 10
  },
  {
   "cell_type": "code",
   "outputs": [
    {
     "data": {
      "text/plain": "1"
     },
     "execution_count": 14,
     "metadata": {},
     "output_type": "execute_result"
    }
   ],
   "source": [
    "client.rpush('test', json.dumps(data, cls=DecimalEncoder))"
   ],
   "metadata": {
    "collapsed": false,
    "ExecuteTime": {
     "end_time": "2024-02-21T19:19:32.873913Z",
     "start_time": "2024-02-21T19:19:32.857148Z"
    }
   },
   "id": "d65c012c7d10b496",
   "execution_count": 14
  },
  {
   "cell_type": "code",
   "outputs": [
    {
     "data": {
      "text/plain": "b'[{\"info\": {\"e\": \"trade\", \"E\": 1706219496443, \"s\": \"BTCUSDT\", \"t\": 2460025, \"p\": \"39886.18000000\", \"q\": \"0.00025000\", \"b\": 10417446, \"a\": 10417502, \"T\": 1706219496442, \"m\": true, \"M\": true}, \"timestamp\": 1706219496442, \"datetime\": \"2024-01-25T21:51:36.442Z\", \"symbol\": \"BTC/USDT\", \"id\": \"2460025\", \"order\": null, \"type\": null, \"side\": \"sell\", \"takerOrMaker\": null, \"price\": \"39886.18000000\", \"amount\": \"0.00025000\", \"cost\": \"9.971545\", \"fee\": null, \"fees\": []}, {\"info\": {\"e\": \"trade\", \"E\": 1706219516475, \"s\": \"BTCUSDT\", \"t\": 2460026, \"p\": \"39886.00000000\", \"q\": \"0.00100000\", \"b\": 10417607, \"a\": 10417611, \"T\": 1706219516474, \"m\": true, \"M\": true}, \"timestamp\": 1706219516474, \"datetime\": \"2024-01-25T21:51:56.474Z\", \"symbol\": \"BTC/USDT\", \"id\": \"2460026\", \"order\": null, \"type\": null, \"side\": \"sell\", \"takerOrMaker\": null, \"price\": \"39886.00000000\", \"amount\": \"0.00100000\", \"cost\": \"39.886\", \"fee\": null, \"fees\": []}, {\"info\": {\"e\": \"trade\", \"E\": 1706219516530, \"s\": \"BTCUSDT\", \"t\": 2460027, \"p\": \"39886.00000000\", \"q\": \"0.00100000\", \"b\": 10417607, \"a\": 10417612, \"T\": 1706219516530, \"m\": true, \"M\": true}, \"timestamp\": 1706219516530, \"datetime\": \"2024-01-25T21:51:56.530Z\", \"symbol\": \"BTC/USDT\", \"id\": \"2460027\", \"order\": null, \"type\": null, \"side\": \"sell\", \"takerOrMaker\": null, \"price\": \"39886.00000000\", \"amount\": \"0.00100000\", \"cost\": \"39.886\", \"fee\": null, \"fees\": []}, {\"info\": {\"e\": \"trade\", \"E\": 1706219520222, \"s\": \"BTCUSDT\", \"t\": 2460028, \"p\": \"39886.01000000\", \"q\": \"0.00100000\", \"b\": 10417628, \"a\": 10417571, \"T\": 1706219520221, \"m\": false, \"M\": true}, \"timestamp\": 1706219520221, \"datetime\": \"2024-01-25T21:52:00.221Z\", \"symbol\": \"BTC/USDT\", \"id\": \"2460028\", \"order\": null, \"type\": null, \"side\": \"buy\", \"takerOrMaker\": null, \"price\": \"39886.01000000\", \"amount\": \"0.00100000\", \"cost\": \"39.88601\", \"fee\": null, \"fees\": []}]'"
     },
     "execution_count": 7,
     "metadata": {},
     "output_type": "execute_result"
    }
   ],
   "source": [
    "client.lpop('test')"
   ],
   "metadata": {
    "collapsed": false,
    "ExecuteTime": {
     "end_time": "2024-02-21T19:12:36.352956Z",
     "start_time": "2024-02-21T19:12:36.347560Z"
    }
   },
   "id": "49defaff245a0e22",
   "execution_count": 7
  },
  {
   "cell_type": "code",
   "outputs": [
    {
     "data": {
      "text/plain": "{'used_memory': 1468416,\n 'used_memory_human': '1.40M',\n 'used_memory_rss': 4800512,\n 'used_memory_rss_human': '4.58M',\n 'used_memory_peak': 1500496,\n 'used_memory_peak_human': '1.43M',\n 'used_memory_peak_perc': '97.86%',\n 'used_memory_overhead': 1102896,\n 'used_memory_startup': 1098848,\n 'used_memory_dataset': 365520,\n 'used_memory_dataset_perc': '98.90%',\n 'allocator_allocated': 1451296,\n 'allocator_active': 4768768,\n 'allocator_resident': 4768768,\n 'total_system_memory': 17179869184,\n 'total_system_memory_human': '16.00G',\n 'used_memory_lua': 31744,\n 'used_memory_vm_eval': 31744,\n 'used_memory_lua_human': '31.00K',\n 'used_memory_scripts_eval': 0,\n 'number_of_cached_scripts': 0,\n 'number_of_functions': 0,\n 'number_of_libraries': 0,\n 'used_memory_vm_functions': 32768,\n 'used_memory_vm_total': 64512,\n 'used_memory_vm_total_human': '63.00K',\n 'used_memory_functions': 216,\n 'used_memory_scripts': 216,\n 'used_memory_scripts_human': '216B',\n 'maxmemory': 0,\n 'maxmemory_human': '0B',\n 'maxmemory_policy': 'noeviction',\n 'allocator_frag_ratio': 3.29,\n 'allocator_frag_bytes': 3317472,\n 'allocator_rss_ratio': 1.0,\n 'allocator_rss_bytes': 0,\n 'rss_overhead_ratio': 1.01,\n 'rss_overhead_bytes': 31744,\n 'mem_fragmentation_ratio': 3.31,\n 'mem_fragmentation_bytes': 3349216,\n 'mem_not_counted_for_evict': 0,\n 'mem_replication_backlog': 0,\n 'mem_total_replication_buffers': 0,\n 'mem_clients_slaves': 0,\n 'mem_clients_normal': 3648,\n 'mem_cluster_links': 0,\n 'mem_aof_buffer': 0,\n 'mem_allocator': 'libc',\n 'active_defrag_running': 0,\n 'lazyfree_pending_objects': 0,\n 'lazyfreed_objects': 0}"
     },
     "execution_count": 79,
     "metadata": {},
     "output_type": "execute_result"
    }
   ],
   "source": [
    "client.info('memory')"
   ],
   "metadata": {
    "collapsed": false,
    "ExecuteTime": {
     "end_time": "2024-02-21T20:14:25.631183Z",
     "start_time": "2024-02-21T20:14:25.628025Z"
    }
   },
   "id": "d77753791fe14aae",
   "execution_count": 79
  },
  {
   "cell_type": "code",
   "outputs": [],
   "source": [
    "process_me = json.loads(client.lpop('queue'))\n",
    "process_me "
   ],
   "metadata": {
    "collapsed": false,
    "ExecuteTime": {
     "end_time": "2024-02-21T20:14:41.892268Z",
     "start_time": "2024-02-21T20:14:41.885651Z"
    }
   },
   "id": "2c1991a6810e0afa",
   "execution_count": 81
  },
  {
   "cell_type": "code",
   "outputs": [
    {
     "data": {
      "text/plain": "958"
     },
     "execution_count": 135,
     "metadata": {},
     "output_type": "execute_result"
    }
   ],
   "source": [
    "client.llen('queue')"
   ],
   "metadata": {
    "collapsed": false,
    "ExecuteTime": {
     "end_time": "2024-02-21T21:21:51.053446Z",
     "start_time": "2024-02-21T21:21:51.037583Z"
    }
   },
   "id": "b5f3cd06f3c8f75a",
   "execution_count": 135
  },
  {
   "cell_type": "code",
   "outputs": [
    {
     "ename": "NameError",
     "evalue": "name 'json' is not defined",
     "output_type": "error",
     "traceback": [
      "\u001B[0;31m---------------------------------------------------------------------------\u001B[0m",
      "\u001B[0;31mNameError\u001B[0m                                 Traceback (most recent call last)",
      "Cell \u001B[0;32mIn[4], line 1\u001B[0m\n\u001B[0;32m----> 1\u001B[0m \u001B[48;5;39mjson\u001B[49m\u001B[38;5;241m.\u001B[39mdumps(data, \u001B[38;5;28mcls\u001B[39m\u001B[38;5;241m=\u001B[39mDecimalEncoder)\n",
      "\u001B[0;31mNameError\u001B[0m: name 'json' is not defined"
     ]
    }
   ],
   "source": [
    "json.dumps(data, cls=DecimalEncoder)"
   ],
   "metadata": {
    "collapsed": false,
    "ExecuteTime": {
     "end_time": "2024-02-08T23:32:54.433119Z",
     "start_time": "2024-02-08T23:32:54.356909Z"
    }
   },
   "id": "5fa13f21b1897a95",
   "execution_count": 4
  },
  {
   "cell_type": "code",
   "outputs": [
    {
     "data": {
      "text/plain": "'trade'"
     },
     "execution_count": 31,
     "metadata": {},
     "output_type": "execute_result"
    }
   ],
   "source": [
    "process_me[0]['info']['e']"
   ],
   "metadata": {
    "collapsed": false,
    "ExecuteTime": {
     "end_time": "2024-02-21T19:49:24.227651Z",
     "start_time": "2024-02-21T19:49:24.214624Z"
    }
   },
   "id": "60af44fd3a3e24dd",
   "execution_count": 31
  },
  {
   "cell_type": "code",
   "outputs": [
    {
     "name": "stdout",
     "output_type": "stream",
     "text": [
      "info\n",
      "timestamp\n",
      "datetime\n",
      "symbol\n",
      "id\n",
      "order\n",
      "type\n",
      "side\n",
      "takerOrMaker\n",
      "price\n",
      "amount\n",
      "cost\n",
      "fee\n",
      "fees\n"
     ]
    }
   ],
   "source": [
    "for i in process_me[0]:\n",
    "    print(i)"
   ],
   "metadata": {
    "collapsed": false,
    "ExecuteTime": {
     "end_time": "2024-02-21T19:47:28.721381Z",
     "start_time": "2024-02-21T19:47:28.717101Z"
    }
   },
   "id": "254051044c89c92e",
   "execution_count": 27
  },
  {
   "cell_type": "code",
   "outputs": [],
   "source": [
    "from datetime import datetime"
   ],
   "metadata": {
    "collapsed": false,
    "ExecuteTime": {
     "end_time": "2024-02-21T20:37:57.390229Z",
     "start_time": "2024-02-21T20:37:57.382352Z"
    }
   },
   "id": "d392eb2b9dcf5eb2",
   "execution_count": 120
  },
  {
   "cell_type": "code",
   "outputs": [],
   "source": [
    "def time_conv(timestamp):\n",
    "    return datetime.fromtimestamp(timestamp / 1000).strftime('%Y-%m-%d %H:%M:%S')\n",
    "def data_processing(trades):\n",
    "    sec_data = {}\n",
    "    for data in trades:\n",
    "        symbol = data['symbol']  # Symbol (ex: BNBBTC)\n",
    "        event = data['info']['e']  # Event type (kline, aggtrade, etc)\n",
    "        timestamp = time_conv(data['timestamp'])  # Event time ex: 1672515782136\n",
    "        \n",
    "        sec_data[timestamp] = data['price']\n",
    "    return sec_data"
   ],
   "metadata": {
    "collapsed": false,
    "ExecuteTime": {
     "end_time": "2024-02-21T21:31:19.105162Z",
     "start_time": "2024-02-21T21:31:19.096807Z"
    }
   },
   "id": "9984ab01704c5acf",
   "execution_count": 152
  },
  {
   "cell_type": "code",
   "outputs": [],
   "source": [
    "woah = data_processing(process_me)"
   ],
   "metadata": {
    "collapsed": false,
    "ExecuteTime": {
     "end_time": "2024-02-21T21:31:19.607306Z",
     "start_time": "2024-02-21T21:31:19.603886Z"
    }
   },
   "id": "801ab3213f5e654",
   "execution_count": 153
  },
  {
   "cell_type": "code",
   "outputs": [
    {
     "data": {
      "text/plain": "{'2024-02-21 12:02:33': '51016.65000000'}"
     },
     "execution_count": 154,
     "metadata": {},
     "output_type": "execute_result"
    }
   ],
   "source": [
    "woah"
   ],
   "metadata": {
    "collapsed": false,
    "ExecuteTime": {
     "end_time": "2024-02-21T21:31:20.047657Z",
     "start_time": "2024-02-21T21:31:20.040305Z"
    }
   },
   "id": "ba9c826ec9a986d2",
   "execution_count": 154
  },
  {
   "cell_type": "code",
   "outputs": [
    {
     "data": {
      "text/plain": "{'info': {'e': 'trade',\n  'E': 1708545753034,\n  's': 'BTCUSDT',\n  't': 1138920,\n  'p': '51016.65000000',\n  'q': '0.00491000',\n  'b': 5478747,\n  'a': 5478801,\n  'T': 1708545753034,\n  'm': True,\n  'M': True},\n 'timestamp': 1708545753034,\n 'datetime': '2024-02-21T20:02:33.034Z',\n 'symbol': 'BTC/USDT',\n 'id': '1138920',\n 'order': None,\n 'type': None,\n 'side': 'sell',\n 'takerOrMaker': None,\n 'price': '51016.65000000',\n 'amount': '0.00491000',\n 'cost': '250.4917515',\n 'fee': None,\n 'fees': []}"
     },
     "execution_count": 143,
     "metadata": {},
     "output_type": "execute_result"
    }
   ],
   "source": [
    "process_me[]"
   ],
   "metadata": {
    "collapsed": false,
    "ExecuteTime": {
     "end_time": "2024-02-21T21:30:19.385795Z",
     "start_time": "2024-02-21T21:30:19.377823Z"
    }
   },
   "id": "a79d6774e377b9aa",
   "execution_count": 143
  },
  {
   "cell_type": "code",
   "outputs": [
    {
     "data": {
      "text/plain": "3"
     },
     "execution_count": 136,
     "metadata": {},
     "output_type": "execute_result"
    }
   ],
   "source": [
    "len(woah)"
   ],
   "metadata": {
    "collapsed": false,
    "ExecuteTime": {
     "end_time": "2024-02-21T21:28:07.817935Z",
     "start_time": "2024-02-21T21:28:07.800755Z"
    }
   },
   "id": "ee47cc4e7c94377d",
   "execution_count": 136
  },
  {
   "cell_type": "code",
   "outputs": [
    {
     "data": {
      "text/plain": "'39886.18000000'"
     },
     "execution_count": 68,
     "metadata": {},
     "output_type": "execute_result"
    }
   ],
   "source": [
    "woah['2024-01-25 13:51:36']"
   ],
   "metadata": {
    "collapsed": false,
    "ExecuteTime": {
     "end_time": "2024-02-21T20:04:48.288574Z",
     "start_time": "2024-02-21T20:04:48.285167Z"
    }
   },
   "id": "6ae3c499b0e6d579",
   "execution_count": 68
  },
  {
   "cell_type": "code",
   "outputs": [
    {
     "ename": "AttributeError",
     "evalue": "'list' object has no attribute 'apply'",
     "output_type": "error",
     "traceback": [
      "\u001B[0;31m---------------------------------------------------------------------------\u001B[0m",
      "\u001B[0;31mAttributeError\u001B[0m                            Traceback (most recent call last)",
      "Cell \u001B[0;32mIn[94], line 2\u001B[0m\n\u001B[1;32m      1\u001B[0m \u001B[38;5;28mformat\u001B[39m \u001B[38;5;241m=\u001B[39m \u001B[38;5;124m'\u001B[39m\u001B[38;5;124m%\u001B[39m\u001B[38;5;124mY-\u001B[39m\u001B[38;5;124m%\u001B[39m\u001B[38;5;124mm-\u001B[39m\u001B[38;5;132;01m%d\u001B[39;00m\u001B[38;5;124m \u001B[39m\u001B[38;5;124m%\u001B[39m\u001B[38;5;124mH:\u001B[39m\u001B[38;5;124m%\u001B[39m\u001B[38;5;124mM:\u001B[39m\u001B[38;5;124m%\u001B[39m\u001B[38;5;124mS\u001B[39m\u001B[38;5;124m'\u001B[39m\n\u001B[0;32m----> 2\u001B[0m \u001B[38;5;28;48;5;39mlist\u001B[39;49m\u001B[48;5;39m(\u001B[49m\u001B[48;5;39mwoah\u001B[49m\u001B[38;5;241;48;5;39m.\u001B[39;49m\u001B[48;5;39mkeys\u001B[49m\u001B[48;5;39m(\u001B[49m\u001B[48;5;39m)\u001B[49m\u001B[48;5;39m)\u001B[49m\u001B[38;5;241;48;5;39m.\u001B[39;49m\u001B[48;5;39mapply\u001B[49m(\u001B[38;5;28;01mlambda\u001B[39;00m x: datetime\u001B[38;5;241m.\u001B[39mstrptime(x, \u001B[38;5;28mformat\u001B[39m))\n",
      "\u001B[0;31mAttributeError\u001B[0m: 'list' object has no attribute 'apply'"
     ]
    }
   ],
   "source": [
    "list(woah.keys()).apply(lambda x: datetime.strptime(x, format))"
   ],
   "metadata": {
    "collapsed": false,
    "ExecuteTime": {
     "end_time": "2024-02-21T20:24:43.346832Z",
     "start_time": "2024-02-21T20:24:43.328449Z"
    }
   },
   "id": "35459a8a37623bab",
   "execution_count": 94
  },
  {
   "cell_type": "code",
   "outputs": [],
   "source": [
    "te = list(map(float, woah.values()))"
   ],
   "metadata": {
    "collapsed": false,
    "ExecuteTime": {
     "end_time": "2024-02-21T21:33:01.093197Z",
     "start_time": "2024-02-21T21:33:01.081591Z"
    }
   },
   "id": "43801627b1e7149e",
   "execution_count": 164
  },
  {
   "cell_type": "code",
   "outputs": [
    {
     "data": {
      "text/plain": "[51016.65]"
     },
     "execution_count": 166,
     "metadata": {},
     "output_type": "execute_result"
    }
   ],
   "source": [
    "te"
   ],
   "metadata": {
    "collapsed": false,
    "ExecuteTime": {
     "end_time": "2024-02-21T21:33:09.761382Z",
     "start_time": "2024-02-21T21:33:09.757440Z"
    }
   },
   "id": "def06c41e965303a",
   "execution_count": 166
  },
  {
   "cell_type": "code",
   "outputs": [],
   "source": [
    "more = []"
   ],
   "metadata": {
    "collapsed": false,
    "ExecuteTime": {
     "end_time": "2024-02-21T21:33:01.565823Z",
     "start_time": "2024-02-21T21:33:01.549003Z"
    }
   },
   "id": "876a095bd587c062",
   "execution_count": 165
  },
  {
   "cell_type": "code",
   "outputs": [],
   "source": [
    "more += te"
   ],
   "metadata": {
    "collapsed": false,
    "ExecuteTime": {
     "end_time": "2024-02-21T21:33:21.287773Z",
     "start_time": "2024-02-21T21:33:21.283427Z"
    }
   },
   "id": "84d5723f79b70091",
   "execution_count": 169
  },
  {
   "cell_type": "code",
   "outputs": [
    {
     "data": {
      "text/plain": "[51016.65, 51016.65]"
     },
     "execution_count": 170,
     "metadata": {},
     "output_type": "execute_result"
    }
   ],
   "source": [
    "more"
   ],
   "metadata": {
    "collapsed": false,
    "ExecuteTime": {
     "end_time": "2024-02-21T21:33:21.527305Z",
     "start_time": "2024-02-21T21:33:21.519911Z"
    }
   },
   "id": "bb047d68019b6472",
   "execution_count": 170
  },
  {
   "cell_type": "code",
   "outputs": [],
   "source": [
    "import time"
   ],
   "metadata": {
    "collapsed": false,
    "ExecuteTime": {
     "end_time": "2024-02-21T20:35:27.825323Z",
     "start_time": "2024-02-21T20:35:27.820796Z"
    }
   },
   "id": "eb81839f348d5e56",
   "execution_count": 102
  },
  {
   "cell_type": "code",
   "outputs": [
    {
     "data": {
      "text/plain": "1708547806.697301"
     },
     "execution_count": 115,
     "metadata": {},
     "output_type": "execute_result"
    }
   ],
   "source": [
    "time.time()"
   ],
   "metadata": {
    "collapsed": false,
    "ExecuteTime": {
     "end_time": "2024-02-21T20:36:46.790338Z",
     "start_time": "2024-02-21T20:36:46.710207Z"
    }
   },
   "id": "6000649ea684a769",
   "execution_count": 115
  },
  {
   "cell_type": "code",
   "outputs": [
    {
     "data": {
      "text/plain": "time.struct_time(tm_year=1970, tm_mon=1, tm_mday=20, tm_hour=10, tm_min=35, tm_sec=47, tm_wday=1, tm_yday=20, tm_isdst=0)"
     },
     "execution_count": 117,
     "metadata": {},
     "output_type": "execute_result"
    }
   ],
   "source": [
    "time.localtime(time.time() / 1000)#.strftime('%Y-%m-%d %H:%M:%S')"
   ],
   "metadata": {
    "collapsed": false,
    "ExecuteTime": {
     "end_time": "2024-02-21T20:37:19.980023Z",
     "start_time": "2024-02-21T20:37:19.976578Z"
    }
   },
   "id": "6bbbbf36144ddfd3",
   "execution_count": 117
  },
  {
   "cell_type": "code",
   "outputs": [
    {
     "ename": "TypeError",
     "evalue": "'datetime.datetime' object cannot be interpreted as an integer",
     "output_type": "error",
     "traceback": [
      "\u001B[0;31m---------------------------------------------------------------------------\u001B[0m",
      "\u001B[0;31mTypeError\u001B[0m                                 Traceback (most recent call last)",
      "Cell \u001B[0;32mIn[126], line 1\u001B[0m\n\u001B[0;32m----> 1\u001B[0m \u001B[48;5;39mtime_conv\u001B[49m\u001B[48;5;39m(\u001B[49m\u001B[48;5;39mdatetime\u001B[49m\u001B[38;5;241;48;5;39m.\u001B[39;49m\u001B[48;5;39mnow\u001B[49m\u001B[48;5;39m(\u001B[49m\u001B[48;5;39m)\u001B[49m\u001B[48;5;39m)\u001B[49m\n",
      "Cell \u001B[0;32mIn[123], line 2\u001B[0m, in \u001B[0;36mtime_conv\u001B[0;34m(timestamp)\u001B[0m\n\u001B[1;32m      1\u001B[0m \u001B[38;5;28;01mdef\u001B[39;00m \u001B[38;5;21mtime_conv\u001B[39m(timestamp):\n\u001B[0;32m----> 2\u001B[0m     \u001B[38;5;28;01mreturn\u001B[39;00m \u001B[48;5;39mdatetime\u001B[49m\u001B[38;5;241;48;5;39m.\u001B[39;49m\u001B[48;5;39mfromtimestamp\u001B[49m\u001B[48;5;39m(\u001B[49m\u001B[48;5;39mtimestamp\u001B[49m\u001B[48;5;39m)\u001B[49m\u001B[38;5;241m.\u001B[39mstrftime(\u001B[38;5;124m'\u001B[39m\u001B[38;5;124m%\u001B[39m\u001B[38;5;124mY-\u001B[39m\u001B[38;5;124m%\u001B[39m\u001B[38;5;124mm-\u001B[39m\u001B[38;5;132;01m%d\u001B[39;00m\u001B[38;5;124m \u001B[39m\u001B[38;5;124m%\u001B[39m\u001B[38;5;124mH:\u001B[39m\u001B[38;5;124m%\u001B[39m\u001B[38;5;124mM:\u001B[39m\u001B[38;5;124m%\u001B[39m\u001B[38;5;124mS\u001B[39m\u001B[38;5;124m'\u001B[39m)\n",
      "\u001B[0;31mTypeError\u001B[0m: 'datetime.datetime' object cannot be interpreted as an integer"
     ]
    }
   ],
   "source": [
    "time_conv(datetime.now())"
   ],
   "metadata": {
    "collapsed": false,
    "ExecuteTime": {
     "end_time": "2024-02-21T20:38:17.996986Z",
     "start_time": "2024-02-21T20:38:17.985674Z"
    }
   },
   "id": "55874d6b24bff7ef",
   "execution_count": 126
  },
  {
   "cell_type": "code",
   "outputs": [
    {
     "data": {
      "text/plain": "'2024-02-21 12:38:52'"
     },
     "execution_count": 128,
     "metadata": {},
     "output_type": "execute_result"
    }
   ],
   "source": [],
   "metadata": {
    "collapsed": false,
    "ExecuteTime": {
     "end_time": "2024-02-21T20:38:52.468603Z",
     "start_time": "2024-02-21T20:38:52.446312Z"
    }
   },
   "id": "a0611721bf6d6249",
   "execution_count": 128
  },
  {
   "cell_type": "code",
   "outputs": [],
   "source": [],
   "metadata": {
    "collapsed": false
   },
   "id": "99a4236472c03997"
  }
 ],
 "metadata": {
  "kernelspec": {
   "display_name": "Python 3",
   "language": "python",
   "name": "python3"
  },
  "language_info": {
   "codemirror_mode": {
    "name": "ipython",
    "version": 2
   },
   "file_extension": ".py",
   "mimetype": "text/x-python",
   "name": "python",
   "nbconvert_exporter": "python",
   "pygments_lexer": "ipython2",
   "version": "2.7.6"
  }
 },
 "nbformat": 4,
 "nbformat_minor": 5
}
