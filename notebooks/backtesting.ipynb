{
 "cells": [
  {
   "cell_type": "code",
   "outputs": [],
   "source": [
    "import os\n",
    "import pandas as pd\n",
    "import numpy as np\n",
    "from datetime import datetime\n",
    "from backtesting import Backtest, Strategy\n",
    "\n",
    "path = '/Users/isaiahtp/Desktop/Zeppelin/z-algo/historical_testing/data/'\n",
    "\n",
    "\n",
    "def in_reg_hours(date):\n",
    "       return 9 * 60 + 30 <= date.hour * 60 + date.minute <= 16 * 60 + 1\n",
    "\n",
    "symbol = path + \"AAPL_2w_5sec.csv\"\n",
    "dia = pd.read_csv(symbol, parse_dates=[0], date_format='%Y-%m-%d %H:%M:%S%z')\n",
    "dia.columns = map(str.capitalize, dia.columns)  # capitlize columns\n",
    "dia['Date'] = dia['Date'].dt.tz_convert('America/New_York').dt.tz_localize(None)\n",
    "#dia['Date'] = pd.to_datetime(dia['Date'], format='%Y-%m-%d %H:%M:%S')\n",
    "dia = dia[dia[\"Date\"].map(lambda x: in_reg_hours(x))]\n",
    "dia.set_index('Date', inplace=True)\n",
    "dia['Pct Change 1m'] = dia['Close'].pct_change(freq=pd.DateOffset(minutes=1))\n",
    "dia['Pct Change 2m'] = dia['Close'].pct_change(freq=pd.DateOffset(minutes=2))"
   ],
   "metadata": {
    "collapsed": false,
    "ExecuteTime": {
     "end_time": "2024-02-21T17:11:05.492944Z",
     "start_time": "2024-02-21T17:11:04.430641Z"
    }
   },
   "execution_count": 3
  },
  {
   "cell_type": "code",
   "outputs": [],
   "source": [
    "for file in os.listdir(path):\n",
    "    print(file)"
   ],
   "metadata": {
    "collapsed": false
   },
   "execution_count": null
  },
  {
   "cell_type": "code",
   "outputs": [],
   "source": [
    "dia['Log Pct Change'] = np.log(dia.Open / dia.Open.shift())"
   ],
   "metadata": {
    "collapsed": false
   },
   "execution_count": null
  },
  {
   "cell_type": "code",
   "outputs": [],
   "source": [
    "dia['Pct Change'].dropna().sample(len(dia), replace= True, ignore_index=True)"
   ],
   "metadata": {
    "collapsed": false
   },
   "execution_count": null
  },
  {
   "cell_type": "markdown",
   "source": [
    "If the stock drops from between 0.5% and 0.9% in one minute, buy and sell at a 0.25% gain \n",
    "\n",
    "If the stock drops 2% in 2 minutes or less buy and place a sell order for 1.2% above \n",
    "\n",
    "If DOW drops 1.2% or more in the first 90 mins of the day, buy and sell for 0.6% gain \n",
    "\n",
    "If the Dow drops 175 points or more from its opening that day and then goes up more than 20 points and returns to within 15 points of that low, buy and sell for a 50 point gain "
   ],
   "metadata": {
    "collapsed": false
   }
  },
  {
   "cell_type": "code",
   "outputs": [],
   "source": [
    "dia = pd.read_csv('dia_30d_5sec.csv')"
   ],
   "metadata": {
    "collapsed": false
   },
   "execution_count": null
  },
  {
   "cell_type": "code",
   "outputs": [],
   "source": [
    "path = 'data/'\n",
    "symbol = path + \"DIA_30d_5sec.csv\"\n",
    "dia = pd.read_csv(symbol, parse_dates=[0], date_format='%Y-%m-%d %H:%M:%S%z')\n",
    "dia.columns = map(str.capitalize, dia.columns)\n",
    "dia['Date'] = dia['Date'].dt.tz_convert('America/New_York').dt.tz_localize(None)\n",
    "# dia['Date'] = pd.to_datetime(dia['Date'], format='%Y-%m-%d %H:%M:%S')\n",
    "dia.set_index('Date', inplace=True)\n",
    "dia['Pct Change 1m'] = dia['Close'].pct_change(periods=12)\n",
    "dia['Pct Change 2m'] = dia['Close'].pct_change(periods=24)"
   ],
   "metadata": {
    "collapsed": false
   },
   "execution_count": null
  },
  {
   "cell_type": "code",
   "outputs": [],
   "source": [
    "dia"
   ],
   "metadata": {
    "collapsed": false
   },
   "execution_count": null
  },
  {
   "cell_type": "code",
   "outputs": [],
   "source": [
    "from decimal import Decimal\n",
    "\n",
    "all_ticks = pd.read_csv(\"../historical_testing/all_tickers_data.csv\")\n",
    "index = ['Start', 'End', 'Duration', 'Exposure Time [%]', 'Equity Final [$]',\n",
    "       'Equity Peak [$]', 'Return [%]', 'Buy & Hold Return [%]',\n",
    "       'Return (Ann.) [%]', 'Volatility (Ann.) [%]', 'Sharpe Ratio',\n",
    "       'Sortino Ratio', 'Calmar Ratio', 'Max. Drawdown [%]',\n",
    "       'Avg. Drawdown [%]', 'Max. Drawdown Duration', 'Avg. Drawdown Duration',\n",
    "       '# Trades', 'Win Rate [%]', 'Best Trade [%]', 'Worst Trade [%]',\n",
    "       'Avg. Trade [%]', 'Max. Trade Duration', 'Avg. Trade Duration',\n",
    "       'Profit Factor', 'Expectancy [%]', 'SQN', '_strategy', '_equity_curve',\n",
    "       '_trades']\n",
    "decimals = ['Exposure Time [%]', 'Equity Final [$]',\n",
    "       'Equity Peak [$]', 'Return [%]', 'Buy & Hold Return [%]',\n",
    "       'Return (Ann.) [%]', 'Volatility (Ann.) [%]', 'Sharpe Ratio',\n",
    "       'Sortino Ratio', 'Calmar Ratio', 'Max. Drawdown [%]',\n",
    "       'Avg. Drawdown [%]', 'Best Trade [%]', 'Worst Trade [%]',\n",
    "       'Avg. Trade [%]', 'Profit Factor', 'Expectancy [%]', 'SQN']\n",
    "all_ticks.index = index\n",
    "all_ticks = all_ticks.transpose().sort_index().reset_index(drop=False, names=\"Symbol\")\n",
    "all_ticks[decimals] = all_ticks[decimals].applymap(Decimal)\n",
    "all_ticks.insert(all_ticks.columns.get_loc('Return (Ann.) [%]')+1, \"Return Diff. [%]\", all_ticks['Return [%]'] - all_ticks['Buy & Hold Return [%]'])\n",
    "all_ticks\n",
    "# should convert Start/End to datetime and set index to rangeindex\n",
    "# have symbol as a column"
   ],
   "metadata": {
    "collapsed": false
   },
   "execution_count": null
  },
  {
   "cell_type": "code",
   "outputs": [],
   "source": [
    "all_ticks.apply(lambda x: type(x[0]), axis=0)"
   ],
   "metadata": {
    "collapsed": false
   },
   "execution_count": null
  },
  {
   "cell_type": "code",
   "outputs": [],
   "source": [
    "all_ticks"
   ],
   "metadata": {
    "collapsed": false
   },
   "execution_count": null
  },
  {
   "cell_type": "code",
   "outputs": [],
   "source": [
    "type(all_ticks.iloc[0])"
   ],
   "metadata": {
    "collapsed": false
   },
   "execution_count": null
  },
  {
   "cell_type": "code",
   "outputs": [],
   "source": [
    "all_ticks.to_parquet(\"ticks_test.parquet\")"
   ],
   "metadata": {
    "collapsed": false
   },
   "execution_count": null
  },
  {
   "cell_type": "code",
   "outputs": [],
   "source": [
    "all_ticks.to_hdf(\"ticks_test.h5\", key='test')"
   ],
   "metadata": {
    "collapsed": false
   },
   "execution_count": null
  },
  {
   "cell_type": "code",
   "outputs": [],
   "source": [
    "%%timeit pd.read_parquet(\"ticks_test.parquet\")s"
   ],
   "metadata": {
    "collapsed": false
   },
   "execution_count": null
  },
  {
   "cell_type": "code",
   "outputs": [
    {
     "name": "stdout",
     "output_type": "stream",
     "text": [
      "Start                                                   2024-02-05 09:30:00\n",
      "End                                                     2024-02-16 14:29:55\n",
      "Duration                                                   11 days 04:59:55\n",
      "Exposure Time [%]                                                 81.959755\n",
      "Equity Final [$]                                                97967.07925\n",
      "Equity Peak [$]                                                100159.08396\n",
      "Return [%]                                                        -2.032921\n",
      "Buy & Hold Return [%]                                             -2.486556\n",
      "Return (Ann.) [%]                                                -42.739262\n",
      "Volatility (Ann.) [%]                                              3.215667\n",
      "Sharpe Ratio                                                            0.0\n",
      "Sortino Ratio                                                           0.0\n",
      "Calmar Ratio                                                            0.0\n",
      "Max. Drawdown [%]                                                 -3.094506\n",
      "Avg. Drawdown [%]                                                 -0.137124\n",
      "Max. Drawdown Duration                                      9 days 04:59:55\n",
      "Avg. Drawdown Duration                                      0 days 08:14:24\n",
      "# Trades                                                               1619\n",
      "Win Rate [%]                                                       0.670167\n",
      "Best Trade [%]                                                     0.164087\n",
      "Worst Trade [%]                                                   -4.266259\n",
      "Avg. Trade [%]                                                    -0.675574\n",
      "Max. Trade Duration                                         9 days 04:59:50\n",
      "Avg. Trade Duration                                         1 days 08:28:46\n",
      "Profit Factor                                                      0.090533\n",
      "Expectancy [%]                                                    -0.669078\n",
      "SQN                                                              -23.745174\n",
      "_strategy                                                          Zeppelin\n",
      "_equity_curve                                        Equity  DrawdownPct...\n",
      "_trades                         Size  EntryBar  ExitBar  EntryPrice  Exi...\n",
      "Name: AAPL, dtype: object\n",
      "                   Start                 End         Duration  \\\n",
      "AAPL 2024-02-05 09:30:00 2024-02-16 14:29:55 11 days 04:59:55   \n",
      "\n",
      "     Exposure Time [%] Equity Final [$] Equity Peak [$] Return [%]  \\\n",
      "AAPL         81.959755      97967.07925    100159.08396  -2.032921   \n",
      "\n",
      "     Buy & Hold Return [%] Return (Ann.) [%] Volatility (Ann.) [%]  ...  \\\n",
      "AAPL             -2.486556        -42.739262              3.215667  ...   \n",
      "\n",
      "     Worst Trade [%] Avg. Trade [%] Max. Trade Duration Avg. Trade Duration  \\\n",
      "AAPL       -4.266259      -0.675574     9 days 04:59:50     1 days 08:28:46   \n",
      "\n",
      "     Profit Factor Expectancy [%]        SQN _strategy  \\\n",
      "AAPL      0.090533      -0.669078 -23.745174  Zeppelin   \n",
      "\n",
      "                                          _equity_curve  \\\n",
      "AAPL                             Equity  DrawdownPct...   \n",
      "\n",
      "                                                _trades  \n",
      "AAPL        Size  EntryBar  ExitBar  EntryPrice  Exi...  \n",
      "\n",
      "[1 rows x 30 columns]\n"
     ]
    }
   ],
   "source": [
    "from historical_testing.main import Zeppelin\n",
    "bt = Backtest(dia, Zeppelin, cash=100000, commission=0.002, trade_on_close=False, hedging=True)\n",
    "msg = bt.run()\n",
    "ticker_col = pd.Series(msg, name='AAPL')\n",
    "print(ticker_col)"
   ],
   "metadata": {
    "collapsed": false,
    "ExecuteTime": {
     "end_time": "2024-02-21T17:11:49.951580Z",
     "start_time": "2024-02-21T17:11:15.015565Z"
    }
   },
   "execution_count": 4
  },
  {
   "cell_type": "code",
   "outputs": [],
   "source": [
    "aapl = pd.DataFrame(index=[\"AAPL\"], data=[ticker_col.values], columns=[ticker_col.index])"
   ],
   "metadata": {
    "collapsed": false,
    "ExecuteTime": {
     "end_time": "2024-02-21T17:13:47.313913Z",
     "start_time": "2024-02-21T17:13:47.307116Z"
    }
   },
   "execution_count": 8
  },
  {
   "cell_type": "code",
   "outputs": [
    {
     "name": "stdout",
     "output_type": "stream",
     "text": [
      "Stored 'aapl' (DataFrame)\n"
     ]
    }
   ],
   "source": [
    "%store aapl"
   ],
   "metadata": {
    "collapsed": false,
    "ExecuteTime": {
     "end_time": "2024-02-21T17:14:40.797743Z",
     "start_time": "2024-02-21T17:14:40.753372Z"
    }
   },
   "execution_count": 9
  },
  {
   "cell_type": "code",
   "outputs": [],
   "source": [
    "from sqlalchemy import types\n",
    "column_dtypes = {\n",
    "    'Symbol': types.VARCHAR(length=5),\n",
    "    'Start': types.Date,\n",
    "    'Ended': types.Date,\n",
    "    'Duration': types.Interval,\n",
    "    'Exposure Time [%]': types.Numeric(18, 2),\n",
    "    'Equity Final [$]': types.Numeric(18, 2),\n",
    "    'Equity Peak [$]': types.Numeric(18, 2),\n",
    "    'Return [%]': types.Numeric(18, 2),\n",
    "    'Buy & Hold Return [%]': types.Numeric(18, 6),\n",
    "    'Return (Ann.) [%]': types.Numeric(18, 6),\n",
    "    'Volatility (Ann.) [%]': types.Numeric(18, 6),\n",
    "    'Sharpe Ratio': types.Numeric(18, 6),\n",
    "    'Sortino Ratio': types.Numeric(18, 6),\n",
    "    'Calmar Ratio': types.Numeric(18, 6),\n",
    "    'Max. Drawdown [%]': types.Numeric(18, 6),\n",
    "    'Avg. Drawdown [%]': types.Numeric(18, 6),\n",
    "    'Max. Drawdown Duration': types.Interval,\n",
    "    'Avg. Drawdown Duration': types.Interval,\n",
    "    '# Trades': types.Integer,\n",
    "    'Win Rate [%]': types.VARCHAR(length=32),\n",
    "    #'Win Rate [%]': types.Numeric(18, 2),\n",
    "    'Best Trade [%]': types.Numeric(18, 6),\n",
    "    'Worst Trade [%]': types.Numeric(18, 6),\n",
    "    'Avg. Trade [%]': types.Numeric(18, 6),\n",
    "    'Max. Trade Duration': types.Interval,\n",
    "    'Avg. Trade Duration': types.Interval,\n",
    "    'Profit Factor': types.Numeric(18, 6),\n",
    "    'Expectancy [%]': types.Numeric(18, 6),\n",
    "    'SQN': types.Numeric(18, 6),\n",
    "    '_strategy': types.Text,\n",
    "    '_equity_curve': types.Text,\n",
    "    '_trades': types.Text\n",
    "}\n"
   ],
   "metadata": {
    "collapsed": false
   }
  },
  {
   "cell_type": "code",
   "outputs": [],
   "source": [
    "ticker_col = pd.Series(msg, name='AAPL')\n",
    "ticker_col"
   ],
   "metadata": {
    "collapsed": false
   },
   "execution_count": null
  },
  {
   "cell_type": "code",
   "outputs": [],
   "source": [
    "import pandas as pd\n",
    "test = pd.read_parquet(\"ticks_test.parquet\")\n",
    "test = test.applymap(lambda x: str(x) if isinstance(x, pd.Timedelta) else x)"
   ],
   "metadata": {
    "collapsed": false,
    "ExecuteTime": {
     "end_time": "2024-02-21T07:47:21.535324Z",
     "start_time": "2024-02-21T07:47:20.120661Z"
    }
   },
   "execution_count": 6
  },
  {
   "cell_type": "code",
   "outputs": [
    {
     "data": {
      "text/plain": "  Symbol                Start                  End          Duration  \\\n0    AMD  2024-01-05 08:30:15  2024-02-16 15:59:55  42 days 07:29:40   \n1   AMGN  2024-01-05 09:33:10  2024-02-16 15:59:55  42 days 06:26:45   \n2    JPM  2024-01-05 09:30:00  2024-02-16 15:59:55  42 days 06:29:55   \n3    LYG  2024-01-05 09:30:00  2024-02-16 15:59:55  42 days 06:29:55   \n4   ORCL  2024-01-05 09:30:00  2024-02-16 15:59:55  42 days 06:29:55   \n5    QQQ  2024-01-05 09:30:00  2024-02-16 15:59:55  42 days 06:29:55   \n6     UL  2024-01-05 09:30:00  2024-02-16 15:59:55  42 days 06:29:55   \n7      V  2024-01-05 09:30:00  2024-02-16 15:59:55  42 days 06:29:55   \n\n   Exposure Time [%]    Equity Final [$]     Equity Peak [$]  \\\n0  93.02754729505476  106842.07926000762  111176.62660000440   \n1  91.51569571151498   90345.93723999712  104251.33561999604   \n2  91.83019338295524  104399.53051000187  104643.94369000182   \n3  98.89743589743590   99730.96141199896  100002.88334000019   \n4  94.47951895095845  100913.55652500116  106390.34710500184   \n5  91.42450142450143  103198.97114500006  105014.98856000001   \n6  92.91880341880342  102660.20394499980  102969.45142500059   \n7  90.58333333333334  102858.98070500026  103770.01468500037   \n\n            Return [%] Buy & Hold Return [%]     Return (Ann.) [%]  ...  \\\n0   6.8420792600076235    28.481667652276760   68.6088990863983100  ...   \n1  -9.6540627600028820    -5.878055260361314  -57.3781327926072750  ...   \n2   4.3995305100018740     4.232403795773408   43.5713497328958250  ...   \n3  -0.2690385880010435    -9.915611814346006   -2.1844623472802915  ...   \n4   0.9135565250011569     8.355243938066023    7.9383821309094715  ...   \n5   3.1989711450000610     8.636088404480766   30.2786013800156120  ...   \n6   2.6602039449997970     4.257507198683670   24.6745561131754840  ...   \n7   2.8589807050002563     6.790644171779133   27.7477066564356000  ...   \n\n        Worst Trade [%]        Avg. Trade [%] Max. Trade Duration  \\\n0   -5.9667838389464880   0.28670301824820220    22 days 06:24:45   \n1  -13.9946815199569200  -1.09256499426969580    13 days 00:57:10   \n2   -0.7319583203987068   0.40760270012172306    18 days 23:57:55   \n3  -11.5876131554318850  -8.81974771795835900    38 days 06:29:50   \n4   -5.6908684117711665   0.06847020939917403    11 days 03:06:00   \n5   -1.9488466752735079   0.26286682357354874    13 days 23:40:40   \n6   -1.2515667474342740   0.89001238086989790    25 days 01:05:55   \n7   -1.0877575619087976   0.28038557036762500    16 days 06:27:05   \n\n  Avg. Trade Duration         Profit Factor        Expectancy [%]  \\\n0     1 days 03:25:01   2.86518202765893370   0.29078531013290670   \n1     3 days 17:52:00   0.32011523407682885  -0.98963549859416980   \n2     2 days 23:39:42  19.98399804209658400   0.40911149727636730   \n3    30 days 07:25:27   0.01060940958026909  -8.69282360464310000   \n4     1 days 12:01:03   1.24386799832500630   0.07781686174999197   \n5     2 days 10:48:27   2.98335616147673340   0.26455708771242800   \n6     7 days 20:02:11   7.01420791001093000   0.89896987453893180   \n7     3 days 09:41:01   4.56592798278148050   0.28107658454138280   \n\n                   SQN _strategy  \\\n0   34.049464241650160  Zeppelin   \n1  -12.541963686021680  Zeppelin   \n2   58.964404048954130  Zeppelin   \n3  -63.255726466366370  Zeppelin   \n4    4.812039337148872  Zeppelin   \n5   23.456120431152870  Zeppelin   \n6   51.221441301162190  Zeppelin   \n7   45.049109549512200  Zeppelin   \n\n                                       _equity_curve  \\\n0                             Equity  DrawdownPct...   \n1                             Equity  DrawdownPct...   \n2                             Equity  DrawdownPct...   \n3                              Equity  DrawdownPc...   \n4                              Equity  DrawdownPc...   \n5                              Equity  DrawdownPc...   \n6                              Equity  DrawdownPc...   \n7                              Equity  DrawdownPc...   \n\n                                             _trades  \n0         Size  EntryBar  ...            ExitTime...  \n1        Size  EntryBar  ...            ExitTime ...  \n2        Size  EntryBar  ...            ExitTime ...  \n3        Size  EntryBar  ...            ExitTime ...  \n4         Size  EntryBar  ...            ExitTime...  \n5        Size  EntryBar  ...            ExitTime ...  \n6        Size  EntryBar  ...            ExitTime ...  \n7        Size  EntryBar  ...            ExitTime ...  \n\n[8 rows x 32 columns]",
      "text/html": "<div>\n<style scoped>\n    .dataframe tbody tr th:only-of-type {\n        vertical-align: middle;\n    }\n\n    .dataframe tbody tr th {\n        vertical-align: top;\n    }\n\n    .dataframe thead th {\n        text-align: right;\n    }\n</style>\n<table border=\"1\" class=\"dataframe\">\n  <thead>\n    <tr style=\"text-align: right;\">\n      <th></th>\n      <th>Symbol</th>\n      <th>Start</th>\n      <th>End</th>\n      <th>Duration</th>\n      <th>Exposure Time [%]</th>\n      <th>Equity Final [$]</th>\n      <th>Equity Peak [$]</th>\n      <th>Return [%]</th>\n      <th>Buy &amp; Hold Return [%]</th>\n      <th>Return (Ann.) [%]</th>\n      <th>...</th>\n      <th>Worst Trade [%]</th>\n      <th>Avg. Trade [%]</th>\n      <th>Max. Trade Duration</th>\n      <th>Avg. Trade Duration</th>\n      <th>Profit Factor</th>\n      <th>Expectancy [%]</th>\n      <th>SQN</th>\n      <th>_strategy</th>\n      <th>_equity_curve</th>\n      <th>_trades</th>\n    </tr>\n  </thead>\n  <tbody>\n    <tr>\n      <th>0</th>\n      <td>AMD</td>\n      <td>2024-01-05 08:30:15</td>\n      <td>2024-02-16 15:59:55</td>\n      <td>42 days 07:29:40</td>\n      <td>93.02754729505476</td>\n      <td>106842.07926000762</td>\n      <td>111176.62660000440</td>\n      <td>6.8420792600076235</td>\n      <td>28.481667652276760</td>\n      <td>68.6088990863983100</td>\n      <td>...</td>\n      <td>-5.9667838389464880</td>\n      <td>0.28670301824820220</td>\n      <td>22 days 06:24:45</td>\n      <td>1 days 03:25:01</td>\n      <td>2.86518202765893370</td>\n      <td>0.29078531013290670</td>\n      <td>34.049464241650160</td>\n      <td>Zeppelin</td>\n      <td>Equity  DrawdownPct...</td>\n      <td>Size  EntryBar  ...            ExitTime...</td>\n    </tr>\n    <tr>\n      <th>1</th>\n      <td>AMGN</td>\n      <td>2024-01-05 09:33:10</td>\n      <td>2024-02-16 15:59:55</td>\n      <td>42 days 06:26:45</td>\n      <td>91.51569571151498</td>\n      <td>90345.93723999712</td>\n      <td>104251.33561999604</td>\n      <td>-9.6540627600028820</td>\n      <td>-5.878055260361314</td>\n      <td>-57.3781327926072750</td>\n      <td>...</td>\n      <td>-13.9946815199569200</td>\n      <td>-1.09256499426969580</td>\n      <td>13 days 00:57:10</td>\n      <td>3 days 17:52:00</td>\n      <td>0.32011523407682885</td>\n      <td>-0.98963549859416980</td>\n      <td>-12.541963686021680</td>\n      <td>Zeppelin</td>\n      <td>Equity  DrawdownPct...</td>\n      <td>Size  EntryBar  ...            ExitTime ...</td>\n    </tr>\n    <tr>\n      <th>2</th>\n      <td>JPM</td>\n      <td>2024-01-05 09:30:00</td>\n      <td>2024-02-16 15:59:55</td>\n      <td>42 days 06:29:55</td>\n      <td>91.83019338295524</td>\n      <td>104399.53051000187</td>\n      <td>104643.94369000182</td>\n      <td>4.3995305100018740</td>\n      <td>4.232403795773408</td>\n      <td>43.5713497328958250</td>\n      <td>...</td>\n      <td>-0.7319583203987068</td>\n      <td>0.40760270012172306</td>\n      <td>18 days 23:57:55</td>\n      <td>2 days 23:39:42</td>\n      <td>19.98399804209658400</td>\n      <td>0.40911149727636730</td>\n      <td>58.964404048954130</td>\n      <td>Zeppelin</td>\n      <td>Equity  DrawdownPct...</td>\n      <td>Size  EntryBar  ...            ExitTime ...</td>\n    </tr>\n    <tr>\n      <th>3</th>\n      <td>LYG</td>\n      <td>2024-01-05 09:30:00</td>\n      <td>2024-02-16 15:59:55</td>\n      <td>42 days 06:29:55</td>\n      <td>98.89743589743590</td>\n      <td>99730.96141199896</td>\n      <td>100002.88334000019</td>\n      <td>-0.2690385880010435</td>\n      <td>-9.915611814346006</td>\n      <td>-2.1844623472802915</td>\n      <td>...</td>\n      <td>-11.5876131554318850</td>\n      <td>-8.81974771795835900</td>\n      <td>38 days 06:29:50</td>\n      <td>30 days 07:25:27</td>\n      <td>0.01060940958026909</td>\n      <td>-8.69282360464310000</td>\n      <td>-63.255726466366370</td>\n      <td>Zeppelin</td>\n      <td>Equity  DrawdownPc...</td>\n      <td>Size  EntryBar  ...            ExitTime ...</td>\n    </tr>\n    <tr>\n      <th>4</th>\n      <td>ORCL</td>\n      <td>2024-01-05 09:30:00</td>\n      <td>2024-02-16 15:59:55</td>\n      <td>42 days 06:29:55</td>\n      <td>94.47951895095845</td>\n      <td>100913.55652500116</td>\n      <td>106390.34710500184</td>\n      <td>0.9135565250011569</td>\n      <td>8.355243938066023</td>\n      <td>7.9383821309094715</td>\n      <td>...</td>\n      <td>-5.6908684117711665</td>\n      <td>0.06847020939917403</td>\n      <td>11 days 03:06:00</td>\n      <td>1 days 12:01:03</td>\n      <td>1.24386799832500630</td>\n      <td>0.07781686174999197</td>\n      <td>4.812039337148872</td>\n      <td>Zeppelin</td>\n      <td>Equity  DrawdownPc...</td>\n      <td>Size  EntryBar  ...            ExitTime...</td>\n    </tr>\n    <tr>\n      <th>5</th>\n      <td>QQQ</td>\n      <td>2024-01-05 09:30:00</td>\n      <td>2024-02-16 15:59:55</td>\n      <td>42 days 06:29:55</td>\n      <td>91.42450142450143</td>\n      <td>103198.97114500006</td>\n      <td>105014.98856000001</td>\n      <td>3.1989711450000610</td>\n      <td>8.636088404480766</td>\n      <td>30.2786013800156120</td>\n      <td>...</td>\n      <td>-1.9488466752735079</td>\n      <td>0.26286682357354874</td>\n      <td>13 days 23:40:40</td>\n      <td>2 days 10:48:27</td>\n      <td>2.98335616147673340</td>\n      <td>0.26455708771242800</td>\n      <td>23.456120431152870</td>\n      <td>Zeppelin</td>\n      <td>Equity  DrawdownPc...</td>\n      <td>Size  EntryBar  ...            ExitTime ...</td>\n    </tr>\n    <tr>\n      <th>6</th>\n      <td>UL</td>\n      <td>2024-01-05 09:30:00</td>\n      <td>2024-02-16 15:59:55</td>\n      <td>42 days 06:29:55</td>\n      <td>92.91880341880342</td>\n      <td>102660.20394499980</td>\n      <td>102969.45142500059</td>\n      <td>2.6602039449997970</td>\n      <td>4.257507198683670</td>\n      <td>24.6745561131754840</td>\n      <td>...</td>\n      <td>-1.2515667474342740</td>\n      <td>0.89001238086989790</td>\n      <td>25 days 01:05:55</td>\n      <td>7 days 20:02:11</td>\n      <td>7.01420791001093000</td>\n      <td>0.89896987453893180</td>\n      <td>51.221441301162190</td>\n      <td>Zeppelin</td>\n      <td>Equity  DrawdownPc...</td>\n      <td>Size  EntryBar  ...            ExitTime ...</td>\n    </tr>\n    <tr>\n      <th>7</th>\n      <td>V</td>\n      <td>2024-01-05 09:30:00</td>\n      <td>2024-02-16 15:59:55</td>\n      <td>42 days 06:29:55</td>\n      <td>90.58333333333334</td>\n      <td>102858.98070500026</td>\n      <td>103770.01468500037</td>\n      <td>2.8589807050002563</td>\n      <td>6.790644171779133</td>\n      <td>27.7477066564356000</td>\n      <td>...</td>\n      <td>-1.0877575619087976</td>\n      <td>0.28038557036762500</td>\n      <td>16 days 06:27:05</td>\n      <td>3 days 09:41:01</td>\n      <td>4.56592798278148050</td>\n      <td>0.28107658454138280</td>\n      <td>45.049109549512200</td>\n      <td>Zeppelin</td>\n      <td>Equity  DrawdownPc...</td>\n      <td>Size  EntryBar  ...            ExitTime ...</td>\n    </tr>\n  </tbody>\n</table>\n<p>8 rows × 32 columns</p>\n</div>"
     },
     "execution_count": 7,
     "metadata": {},
     "output_type": "execute_result"
    }
   ],
   "source": [
    "test"
   ],
   "metadata": {
    "collapsed": false,
    "ExecuteTime": {
     "end_time": "2024-02-21T07:47:21.560711Z",
     "start_time": "2024-02-21T07:47:21.536300Z"
    }
   },
   "execution_count": 7
  },
  {
   "cell_type": "code",
   "outputs": [],
   "source": [
    "test = pd.DataFrame(index=[\"AAPL\"], data=[ticker_col.values], columns=[ticker_col.index])\n",
    "test.reset_index(inplace=True, drop=False, names='Symbol')\n",
    "test"
   ],
   "metadata": {
    "collapsed": false
   },
   "execution_count": null
  }
 ],
 "metadata": {
  "interpreter": {
   "hash": "e2f8a8d1048687517b1cba4cc106ef6f246fc7f13a2b583744d0ae8464119364"
  },
  "kernelspec": {
   "display_name": "Python 3.8.8 ('base')",
   "language": "python",
   "name": "python3"
  },
  "language_info": {
   "codemirror_mode": {
    "name": "ipython",
    "version": 3
   },
   "file_extension": ".py",
   "mimetype": "text/x-python",
   "name": "python",
   "nbconvert_exporter": "python",
   "pygments_lexer": "ipython3",
   "version": "3.8.8 (default, Apr 13 2021, 12:59:45) \n[Clang 10.0.0 ]"
  },
  "orig_nbformat": 4
 },
 "nbformat": 4,
 "nbformat_minor": 2
}
