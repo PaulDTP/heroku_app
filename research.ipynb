{
 "cells": [
  {
   "cell_type": "code",
   "execution_count": null,
   "metadata": {},
   "outputs": [],
   "source": [
    "import requests\n",
    "import pandas as pd\n",
    "import numpy as np\n",
    "import datetime\n",
    "\n",
    "import websocket\n",
    "import json\n",
    "\n",
    "from binance.client import Client\n",
    "import plotly.express as px\n",
    "import plotly.graph_objs as go\n",
    "import ccxt"
   ]
  },
  {
   "cell_type": "markdown",
   "metadata": {},
   "source": []
  },
  {
   "cell_type": "code",
   "execution_count": null,
   "metadata": {},
   "outputs": [],
   "source": [
    "# Binance Spot Test Network: https://testnet.binance.vision/\n",
    "# API Key: odwF9bVsSsxjZnckgbSu3NfUgGqqJ2sow4OelwjEttIBB08r3Z5umQL0A03lp2Gd\n",
    "# Secret key: Q3bcPKvbvlVpzv5BQe3lj7EkWdRhevEp24Oi7TENce6xO0FiXUNQKDa47QTyyKcK"
   ]
  },
  {
   "cell_type": "code",
   "execution_count": null,
   "metadata": {},
   "outputs": [],
   "source": [
    "exchange = ccxt.binance({\n",
    "    'apiKey': 'odwF9bVsSsxjZnckgbSu3NfUgGqqJ2sow4OelwjEttIBB08r3Z5umQL0A03lp2Gd',\n",
    "    'secret': 'Q3bcPKvbvlVpzv5BQe3lj7EkWdRhevEp24Oi7TENce6xO0FiXUNQKDa47QTyyKcK',\n",
    "})\n",
    "exchange.set_sandbox_mode(True)\n",
    "rate_limit = exchange.rateLimit\n",
    "exchange.load_markets();\n",
    "print(exchange.fetchBalance())\n",
    "\n",
    "# Get Bitcoin's OHLCV (Open, High, Low, Close, Volume) data\n",
    "ohlcv = exchange.fetch_ohlcv('BTC/USDT', timeframe='1h')\n",
    "\n",
    "# Convert the OHLCV data into a Pandas DataFrame\n",
    "df = pd.DataFrame(ohlcv, columns=['timestamp', 'open', 'high', 'low', 'close', 'volume'])\n",
    "df['timestamp'] = pd.to_datetime(df['timestamp'], unit='ms')\n",
    "df.set_index('timestamp', inplace=True)\n",
    "\n",
    "# Print the last few rows of the DataFrame\n",
    "print(df.tail())"
   ]
  },
  {
   "cell_type": "code",
   "execution_count": null,
   "metadata": {},
   "outputs": [],
   "source": [
    "exchange.fetch_ticker('BTC/USDT')['last']"
   ]
  },
  {
   "cell_type": "code",
   "execution_count": 11,
   "metadata": {
    "ExecuteTime": {
     "end_time": "2024-01-23T22:26:12.606139Z",
     "start_time": "2024-01-23T22:26:06.366960Z"
    }
   },
   "outputs": [
    {
     "name": "stderr",
     "output_type": "stream",
     "text": [
      "Websocket connected\n"
     ]
    },
    {
     "name": "stdout",
     "output_type": "stream",
     "text": [
      "Connection opened\n",
      "Current Bitcoin price: 39412.07000000\n",
      "Current Bitcoin price: 39412.31000000\n",
      "Current Bitcoin price: 39412.31000000\n",
      "Current Bitcoin price: 39412.31000000\n",
      "Current Bitcoin price: 39412.55000000\n",
      "Current Bitcoin price: 39415.91000000\n",
      "Current Bitcoin price: 39417.09000000\n"
     ]
    },
    {
     "name": "stderr",
     "output_type": "stream",
     "text": [
      "error from callback <function on_close at 0x11e7bd6c0>: on_close() takes 1 positional argument but 3 were given\n"
     ]
    },
    {
     "name": "stdout",
     "output_type": "stream",
     "text": [
      "Current Bitcoin price: 39420.14000000\n",
      "Current Bitcoin price: 39419.99000000\n",
      "Current Bitcoin price: 39419.74000000\n",
      "on_close() takes 1 positional argument but 3 were given\n"
     ]
    }
   ],
   "source": [
    "import json\n",
    "import websocket\n",
    "import time\n",
    "import pandas as pd\n",
    "\n",
    "base_url = 'wss://testnet.binance.vision/ws'\n",
    "bitcoin = '/btcusdt@trade'\n",
    "\n",
    "df = pd.DataFrame(columns={})\n",
    "num_messages = 0\n",
    "def on_message(ws, message):\n",
    "    global num_messages, df\n",
    "    \n",
    "    data = json.loads(message)\n",
    "    #pd.concat([data, df], ignore_index=True, join='outer')\n",
    "    price = data['p']\n",
    "    print(f\"Current Bitcoin price: {price}\")\n",
    "    \n",
    "    num_messages += 1\n",
    "\n",
    "    # Terminate the WebSocket connection after reaching the maximum number of messages\n",
    "    if num_messages >= 10:\n",
    "        if ws.sock and ws.sock.connected:\n",
    "            ws.close()\n",
    "        else:\n",
    "            print(\"WebSocket connection is already closed.\")\n",
    "\n",
    "def on_error(ws, error):\n",
    "    print(error)\n",
    "\n",
    "def on_close(ws, close_status_code, close_msg):\n",
    "    if ws.sock and ws.sock.connected:\n",
    "        print(close_status_code)\n",
    "        print(close_msg)\n",
    "        print(\"WebSocket connection closed.\")\n",
    "    else:\n",
    "        print(\"WebSocket connection is already closed.\")\n",
    "    \n",
    "def on_open(ws):\n",
    "    print(\"Connection opened\")\n",
    "\n",
    "if __name__ == \"__main__\":\n",
    "    ws = websocket.WebSocketApp(url=base_url + bitcoin, \n",
    "                                on_open=on_open, \n",
    "                                on_message=on_message,\n",
    "                                on_error=on_error, \n",
    "                                on_close=on_close)\n",
    "    ws.run_forever()"
   ]
  },
  {
   "cell_type": "code",
   "outputs": [],
   "source": [
    "ws.close()"
   ],
   "metadata": {
    "collapsed": false,
    "ExecuteTime": {
     "end_time": "2024-01-23T22:24:37.421266Z",
     "start_time": "2024-01-23T22:24:37.407778Z"
    }
   },
   "execution_count": 10
  },
  {
   "cell_type": "code",
   "execution_count": null,
   "metadata": {},
   "outputs": [],
   "source": [
    "%run 'init.ipynb'"
   ]
  },
  {
   "cell_type": "code",
   "execution_count": null,
   "metadata": {},
   "outputs": [],
   "source": [
    "def volatility():\n",
    "    return 0\n",
    "test = aapl_days[0]#.set_index('Hour')"
   ]
  },
  {
   "cell_type": "code",
   "execution_count": null,
   "metadata": {},
   "outputs": [],
   "source": [
    "new_test = aapl_days[0]\n",
    "new_test"
   ]
  },
  {
   "cell_type": "code",
   "execution_count": null,
   "metadata": {},
   "outputs": [],
   "source": [
    "new_test['Pct Change'] = ((new_test['Open'].loc[:] - new_test['Open'].loc[:].shift(1)) / new_test['Open'].loc[:].shift(1)) * 100"
   ]
  },
  {
   "cell_type": "code",
   "execution_count": null,
   "metadata": {},
   "outputs": [],
   "source": [
    "new_test['Pct Change'] = ((new_test['Open'].loc[:] - new_test['Open'].loc[:].shift(1)) / new_test['Open'].loc[:].shift(1)) * 100"
   ]
  },
  {
   "cell_type": "code",
   "execution_count": null,
   "metadata": {},
   "outputs": [],
   "source": [
    "new_test['Pct Change'].mean()"
   ]
  },
  {
   "cell_type": "code",
   "execution_count": null,
   "metadata": {},
   "outputs": [],
   "source": [
    "test[['Open', 'Hour']].apply(func=lambda x: (x.iloc[3::6] - x.iloc[::6]) / x.iloc[::6] * 100, axis=1)"
   ]
  },
  {
   "cell_type": "markdown",
   "metadata": {},
   "source": [
    "### Write a for loop that trades on each day in a stock array and calculates how much profit would be made using certain algorithms"
   ]
  },
  {
   "cell_type": "markdown",
   "metadata": {},
   "source": [
    "* How far you deviate from a day's average should justify trading\n",
    "* If you are deviating a lot up, short, if deviating down, buy\n",
    "* The change every 3 minutes averages to 0\n",
    "* Volume affects how quickly the Open price changes - low volume means prices stay stagnant\n",
    "* Maybe only trade when volume is high enough to create volatility"
   ]
  },
  {
   "cell_type": "code",
   "execution_count": null,
   "metadata": {},
   "outputs": [],
   "source": [
    "# Check one minute\n",
    "# 1 min average: should be done every 1 minute in real-time\n",
    "for tmp in aapl_days:\n",
    "    day = tmp.loc[:]\n",
    "    # percent change every 1 minute\n",
    "    day['Pct Change'] = (((day.loc[:, 'Open'] - day.loc[:, 'Open'].shift(1)) / day.loc[:,'Open'].shift(1)) * 100).fillna(0)\n",
    "    day['Average'] = day.loc[:,'Pct Change'].mean()\n",
    "\n",
    "    # Calculate mean for each day and plot\n",
    "    ax = day.plot('Hour', 'Pct Change')\n",
    "    day.plot('Hour', 'Average', ax=ax, figsize=(15,4))\n",
    "    ax.legend(['Pct Change', day['Average'][0]])"
   ]
  },
  {
   "cell_type": "code",
   "execution_count": null,
   "metadata": {},
   "outputs": [],
   "source": [
    "if last_3_min_pct_change > 0.008:\n",
    "    last_price = current_price\n",
    "    buy(x_amt) \n",
    "    when price == amt_other_direction\n",
    "if current_price == last_price:\n",
    "    sell(x_amt)"
   ]
  },
  {
   "cell_type": "code",
   "execution_count": null,
   "metadata": {},
   "outputs": [],
   "source": [
    "for tmp in aapl_days:\n",
    "    day = tmp.loc[:]\n",
    "    # percent change every 1 minute\n",
    "    period = 3\n",
    "    current = day.loc[:, 'Open']\n",
    "    previous = day.loc[:, 'Open'].shift(period)\n",
    "    day['Pct Change'] = (((current - previous) / previous) * 100).fillna(0)\n",
    "    day['Average'] = day.loc[:,'Pct Change'].mean()\n",
    "\n",
    "    # Calculate mean for each day and plot\n",
    "    ax = day.plot('Hour', 'Pct Change')\n",
    "    day.plot('Hour', 'Average', ax=ax, figsize=(15,4))\n",
    "    ax.legend(['Pct Change', day['Average'][0]])"
   ]
  },
  {
   "cell_type": "code",
   "execution_count": null,
   "metadata": {},
   "outputs": [],
   "source": [
    "#for i in np.arange(start=5, stop=len(day.index), step=5):\n",
    "#    print(day.iloc[i,:])"
   ]
  },
  {
   "cell_type": "code",
   "execution_count": null,
   "metadata": {},
   "outputs": [],
   "source": [
    "# Average Time to Repeat a Price\n",
    "# Make every minute a variable"
   ]
  },
  {
   "cell_type": "code",
   "execution_count": null,
   "metadata": {},
   "outputs": [],
   "source": [
    "collapse = np.where(test == 148.1)[0]\n",
    "collapse.size"
   ]
  },
  {
   "cell_type": "code",
   "execution_count": null,
   "metadata": {},
   "outputs": [],
   "source": [
    "test"
   ]
  },
  {
   "cell_type": "code",
   "execution_count": null,
   "metadata": {},
   "outputs": [],
   "source": [
    "collated = np.array([])\n",
    "for day in aapl_days:\n",
    "    avg_time = []\n",
    "    prices = np.array(day['Open'])\n",
    "    for i in range(len(prices)):\n",
    "        # get elems where the future price is within some percentage of the current price\n",
    "        elem = np.where(abs(prices[i+1:] - prices[i]) == 0)[0]    # np.where creates a nested array so collapse one level\n",
    "        if elem.size != 0:\n",
    "            # adding one because the array shifted in the above array splicing\n",
    "            avg_time.append(elem[0] + 1)\n",
    "    # plot average/median time-to-repeat-price for the day\n",
    "    pd.Series(data = avg_time).plot.hist(bins=20, figsize=(18,8))\n",
    "\n",
    "    plt.axvline(np.mean(avg_time), color='red', label='Mean')\n",
    "    plt.axvline(np.median(avg_time), color='green', label='Median')\n",
    "\n",
    "    plt.legend([np.mean(avg_time), np.median(avg_time)])\n",
    "    plt.title(\"Time to Repeat a Price\")\n",
    "    plt.xlabel(\"Seconds\")\n",
    "\n",
    "    plt.show()\n",
    "    # creating master list\n",
    "    collated = np.append(collated, avg_time)\n",
    "# plot average/median time-to-repeat-price for all days\n",
    "collated = np.ravel(collated) # .ravel flattens an array to 1D\n",
    "pd.Series(data=collated).plot.hist(bins=50, figsize=(20,10))\n",
    "\n",
    "plt.axvline(np.mean(collated),color='red', label='Mean')\n",
    "plt.axvline(np.median(collated), color='green', label='Median')\n",
    "\n",
    "plt.legend([np.mean(collated), np.median(collated)])\n",
    "plt.title(\"Time to Repeat a Price (Over All 9 Days)\")\n",
    "plt.xlabel(\"Seconds\")\n",
    "\n",
    "plt.show()"
   ]
  },
  {
   "cell_type": "code",
   "execution_count": null,
   "metadata": {},
   "outputs": [],
   "source": [
    "aapl_days\n",
    "# consistently predict the direction the price is going and sell at a profit\n",
    "# if price decreases within"
   ]
  },
  {
   "cell_type": "code",
   "execution_count": null,
   "metadata": {},
   "outputs": [],
   "source": [
    "day = []\n",
    "for tmp in aapl_days:\n",
    "    # percent change every 1 minute\n",
    "    day = tmp.loc[:]\n",
    "    period = 3\n",
    "    current = day['Open']\n",
    "    previous = day['Open'].shift(period)\n",
    "    day['Pct Change'] = (((current - previous) / previous) * 100)#.fillna(0)\n",
    "    day['Average'] = day['Pct Change'].mean()\n",
    "    day['Rolling Mean'] = day['Pct Change'].expanding().mean()\n",
    "    \n",
    "\n",
    "    # Calculate mean for each day and plot\n",
    "    ax = day.plot('Hour', ['Rolling Mean'], figsize=(15,4))\n",
    "    #day.plot('Hour', ['Average'], ax=ax, figsize=(15,4))\n",
    "    ax.axhline(0,color='red')\n",
    "    ax.legend(['Pct Change', day['Average'][0]])"
   ]
  },
  {
   "cell_type": "code",
   "execution_count": null,
   "metadata": {},
   "outputs": [],
   "source": [
    "# finds rows that are .001 percent away from a price\n",
    "percent =  0.001\n",
    "def close(df):\n",
    "    return df.query('(1-@percent) * @price <= Open <= (1+@percent)*@price')"
   ]
  }
 ],
 "metadata": {
  "interpreter": {
   "hash": "e2f8a8d1048687517b1cba4cc106ef6f246fc7f13a2b583744d0ae8464119364"
  },
  "kernelspec": {
   "display_name": "Python 3 (ipykernel)",
   "language": "python",
   "name": "python3"
  },
  "language_info": {
   "codemirror_mode": {
    "name": "ipython",
    "version": 3
   },
   "file_extension": ".py",
   "mimetype": "text/x-python",
   "name": "python",
   "nbconvert_exporter": "python",
   "pygments_lexer": "ipython3",
   "version": "3.8.10"
  }
 },
 "nbformat": 4,
 "nbformat_minor": 2
}
